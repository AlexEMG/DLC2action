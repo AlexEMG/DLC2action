{
 "cells": [
  {
   "cell_type": "markdown",
   "metadata": {},
   "source": [
    "# Intro to DLC2Action"
   ]
  },
  {
   "cell_type": "markdown",
   "metadata": {},
   "source": [
    "DLC2Action is a package for automatic behavior prediction. It offers implementation of SOTA models and keeps track of experiments."
   ]
  },
  {
   "cell_type": "markdown",
   "metadata": {},
   "source": [
    "To see how it works, we will experiment on a relatively small [publically available](https://github.com/ETHZ-INS/DLCAnalyzer/tree/master/data/OFT) dataset (Sturman, 2020). Run the code below to download the data."
   ]
  },
  {
   "cell_type": "code",
   "execution_count": 5,
   "metadata": {},
   "outputs": [
    {
     "name": "stdout",
     "output_type": "stream",
     "text": [
      "Requirement already satisfied: gdown in /home/liza/miniconda3/envs/DLC2Action/lib/python3.9/site-packages (4.5.3)\n",
      "Requirement already satisfied: six in /home/liza/miniconda3/envs/DLC2Action/lib/python3.9/site-packages (from gdown) (1.16.0)\n",
      "Requirement already satisfied: beautifulsoup4 in /home/liza/miniconda3/envs/DLC2Action/lib/python3.9/site-packages (from gdown) (4.11.1)\n",
      "Requirement already satisfied: tqdm in /home/liza/miniconda3/envs/DLC2Action/lib/python3.9/site-packages (from gdown) (4.64.1)\n",
      "Requirement already satisfied: requests[socks] in /home/liza/miniconda3/envs/DLC2Action/lib/python3.9/site-packages (from gdown) (2.28.1)\n",
      "Requirement already satisfied: filelock in /home/liza/miniconda3/envs/DLC2Action/lib/python3.9/site-packages (from gdown) (3.8.0)\n",
      "Requirement already satisfied: soupsieve>1.2 in /home/liza/miniconda3/envs/DLC2Action/lib/python3.9/site-packages (from beautifulsoup4->gdown) (2.3.2.post1)\n",
      "Requirement already satisfied: certifi>=2017.4.17 in /home/liza/miniconda3/envs/DLC2Action/lib/python3.9/site-packages (from requests[socks]->gdown) (2022.9.24)\n",
      "Requirement already satisfied: urllib3<1.27,>=1.21.1 in /home/liza/miniconda3/envs/DLC2Action/lib/python3.9/site-packages (from requests[socks]->gdown) (1.26.12)\n",
      "Requirement already satisfied: idna<4,>=2.5 in /home/liza/miniconda3/envs/DLC2Action/lib/python3.9/site-packages (from requests[socks]->gdown) (3.4)\n",
      "Requirement already satisfied: charset-normalizer<3,>=2 in /home/liza/miniconda3/envs/DLC2Action/lib/python3.9/site-packages (from requests[socks]->gdown) (2.1.1)\n",
      "Requirement already satisfied: PySocks!=1.5.7,>=1.5.6 in /home/liza/miniconda3/envs/DLC2Action/lib/python3.9/site-packages (from requests[socks]->gdown) (1.7.1)\n",
      "Downloading...\n",
      "From: https://drive.google.com/uc?id=1BhAAy_YYxWXYVSpCmYXIAOEV9waoMwcK\n",
      "To: /home/liza/DLC2Action_minimal/examples/OFT.zip\n",
      "100%|█████████████████████████████████████████| 475M/475M [00:04<00:00, 111MB/s]\n",
      "E: Could not open lock file /var/lib/dpkg/lock-frontend - open (13: Permission denied)\n",
      "E: Unable to acquire the dpkg frontend lock (/var/lib/dpkg/lock-frontend), are you root?\n",
      "Archive:  OFT.zip\n",
      "   creating: OFT/OFT/\n",
      "  inflating: OFT/__MACOSX/._OFT      \n",
      "  inflating: OFT/OFT/.DS_Store       \n",
      "  inflating: OFT/__MACOSX/OFT/._.DS_Store  \n",
      "   creating: OFT/OFT/Labels/\n",
      "   creating: OFT/OFT/Output_DLC/\n",
      "  inflating: OFT/OFT/Labels/23_02_A_190507135734.csv  \n",
      "  inflating: OFT/OFT/Labels/12_01_A_190507144429.csv  \n",
      "  inflating: OFT/OFT/Labels/53_04_A_190507135800.csv  \n",
      "  inflating: OFT/OFT/Labels/43_03_A_190507151557.csv  \n",
      "  inflating: OFT/OFT/Labels/57_04_A_190507150030.csv  \n",
      "  inflating: OFT/OFT/Labels/25_02_A_190507142904.csv  \n",
      "  inflating: OFT/OFT/Labels/AllLabDataOFT_final.csv  \n",
      "  inflating: OFT/OFT/Labels/49_04_A_190507125609.csv  \n",
      "  inflating: OFT/OFT/Labels/21_02_A_190507131119.csv  \n",
      "  inflating: OFT/OFT/Labels/40_03_A_190507142917.csv  \n",
      "  inflating: OFT/OFT/Labels/17_02_A_190507120259.csv  \n",
      "  inflating: OFT/OFT/Labels/3_01_A_190507121945.csv  \n",
      "  inflating: OFT/OFT/Labels/58_04_A_190507151611.csv  \n",
      "  inflating: OFT/OFT/Labels/48_04_A_190507123817.csv  \n",
      "  inflating: OFT/OFT/Labels/45_04_A_190507114741.csv  \n",
      "  inflating: OFT/OFT/Labels/37_03_A_190507134213.csv  \n",
      "  inflating: OFT/OFT/Labels/26_02_A_190507144444.csv  \n",
      "  inflating: OFT/OFT/Labels/13_01_A_190507145949.csv  \n",
      "  inflating: OFT/OFT/Labels/18_02_A_190507122004.csv  \n",
      "  inflating: OFT/OFT/Labels/15_01_A_190507153142.csv  \n",
      "  inflating: OFT/OFT/Labels/8_01_A_190507134142.csv  \n",
      "  inflating: OFT/OFT/Output_DLC/48_04_A_190507123817DeepCut_resnet50_Blockcourse1May9shuffle1_1030000.h5  \n",
      "  inflating: OFT/OFT/Output_DLC/6_01_A_190507131058DeepCut_resnet50_Blockcourse1May9shuffle1_1030000.h5  \n",
      "  inflating: OFT/OFT/Output_DLC/15_01_A_190507153142DeepCut_resnet50_Blockcourse1May9shuffle1_1030000.h5  \n",
      "  inflating: OFT/OFT/Output_DLC/5_01_A_190507125512DeepCut_resnet50_Blockcourse1May9shuffle1_1030000.h5  \n",
      "  inflating: OFT/OFT/Output_DLC/29_02_A_190507153158DeepCut_resnet50_Blockcourse1May9shuffle1_1030000.h5  \n",
      "  inflating: OFT/OFT/Output_DLC/9_01_A_190507135719DeepCut_resnet50_Blockcourse1May9shuffle1_1030000.h5  \n",
      "  inflating: OFT/OFT/Output_DLC/20_02_A_190507125529DeepCut_resnet50_Blockcourse1May9shuffle1_1030000.h5  \n",
      "  inflating: OFT/OFT/Output_DLC/56_04_A_190507144511DeepCut_resnet50_Blockcourse1May9shuffle1_1030000.h5  \n",
      "  inflating: OFT/OFT/Output_DLC/53_04_A_190507135800DeepCut_resnet50_Blockcourse1May9shuffle1_1030000.h5  \n",
      "  inflating: OFT/OFT/Output_DLC/38_03_A_190507135747DeepCut_resnet50_Blockcourse1May9shuffle1_1030000.h5  \n",
      "  inflating: OFT/OFT/Output_DLC/31_03_A_190507120320DeepCut_resnet50_Blockcourse1May9shuffle1_1030000.h5  \n",
      "  inflating: OFT/OFT/Output_DLC/58_04_A_190507151611DeepCut_resnet50_Blockcourse1May9shuffle1_1030000.h5  \n",
      "  inflating: OFT/OFT/Output_DLC/43_03_A_190507151557DeepCut_resnet50_Blockcourse1May9shuffle1_1030000.h5  \n",
      "  inflating: OFT/OFT/Output_DLC/7_01_A_190507132652DeepCut_resnet50_Blockcourse1May9shuffle1_1030000.h5  \n",
      "  inflating: OFT/OFT/Output_DLC/59_04_A_190507153228DeepCut_resnet50_Blockcourse1May9shuffle1_1030000.h5  \n",
      "  inflating: OFT/OFT/Output_DLC/44_03_A_190507153213DeepCut_resnet50_Blockcourse1May9shuffle1_1030000.h5  \n",
      "  inflating: OFT/OFT/Output_DLC/36_03_A_190507132711DeepCut_resnet50_Blockcourse1May9shuffle1_1030000.h5  \n",
      "  inflating: OFT/OFT/Output_DLC/3_01_A_190507121945DeepCut_resnet50_Blockcourse1May9shuffle1_1030000.h5  \n",
      "  inflating: OFT/OFT/Output_DLC/21_02_A_190507131119DeepCut_resnet50_Blockcourse1May9shuffle1_1030000.h5  \n",
      "  inflating: OFT/OFT/Output_DLC/14_01_A_190507151530DeepCut_resnet50_Blockcourse1May9shuffle1_1030000.h5  \n",
      "  inflating: OFT/OFT/Output_DLC/57_04_A_190507150030DeepCut_resnet50_Blockcourse1May9shuffle1_1030000.h5  \n",
      "  inflating: OFT/OFT/Output_DLC/32_03_A_190507122023DeepCut_resnet50_Blockcourse1May9shuffle1_1030000.h5  \n",
      "  inflating: OFT/OFT/Output_DLC/8_01_A_190507134142DeepCut_resnet50_Blockcourse1May9shuffle1_1030000.h5  \n",
      "  inflating: OFT/OFT/Output_DLC/42_03_A_190507150017DeepCut_resnet50_Blockcourse1May9shuffle1_1030000.h5  \n",
      "  inflating: OFT/OFT/Output_DLC/19_02_A_190507123740DeepCut_resnet50_Blockcourse1May9shuffle1_1030000.h5  \n",
      "  inflating: OFT/OFT/Output_DLC/16_02_A_190507114646DeepCut_resnet50_Blockcourse1May9shuffle1_1030000.h5  \n",
      "  inflating: OFT/OFT/Output_DLC/27_02_A_190507150003DeepCut_resnet50_Blockcourse1May9shuffle1_1030000.h5  \n",
      "  inflating: OFT/OFT/Output_DLC/10_01_A_190507141248DeepCut_resnet50_Blockcourse1May9shuffle1_1030000.h5  \n",
      "  inflating: OFT/OFT/Output_DLC/51_04_A_190507132728DeepCut_resnet50_Blockcourse1May9shuffle1_1030000.h5  \n",
      "  inflating: OFT/OFT/Output_DLC/11_01_A_190507142850DeepCut_resnet50_Blockcourse1May9shuffle1_1030000.h5  \n",
      "  inflating: OFT/OFT/Output_DLC/13_01_A_190507145949DeepCut_resnet50_Blockcourse1May9shuffle1_1030000.h5  \n",
      "  inflating: OFT/OFT/Output_DLC/18_02_A_190507122004DeepCut_resnet50_Blockcourse1May9shuffle1_1030000.h5  \n",
      "  inflating: OFT/OFT/Output_DLC/28_02_A_190507151545DeepCut_resnet50_Blockcourse1May9shuffle1_1030000.h5  \n",
      "  inflating: OFT/OFT/Output_DLC/37_03_A_190507134213DeepCut_resnet50_Blockcourse1May9shuffle1_1030000.h5  \n",
      "  inflating: OFT/OFT/Output_DLC/4_01_A_190507123718DeepCut_resnet50_Blockcourse1May9shuffle1_1030000.h5  \n",
      "  inflating: OFT/OFT/Output_DLC/26_02_A_190507144444DeepCut_resnet50_Blockcourse1May9shuffle1_1030000.h5  \n",
      "  inflating: OFT/OFT/Output_DLC/34_03_A_190507125548DeepCut_resnet50_Blockcourse1May9shuffle1_1030000.h5  \n",
      "  inflating: OFT/OFT/Output_DLC/54_04_A_190507141337DeepCut_resnet50_Blockcourse1May9shuffle1_1030000.h5  \n",
      "  inflating: OFT/OFT/Output_DLC/41_03_A_190507144457DeepCut_resnet50_Blockcourse1May9shuffle1_1030000.h5  \n",
      "  inflating: OFT/OFT/Output_DLC/35_03_A_190507131135DeepCut_resnet50_Blockcourse1May9shuffle1_1030000.h5  \n",
      "  inflating: OFT/OFT/Output_DLC/45_04_A_190507114741DeepCut_resnet50_Blockcourse1May9shuffle1_1030000.h5  \n",
      "  inflating: OFT/OFT/Output_DLC/50_04_A_190507131154DeepCut_resnet50_Blockcourse1May9shuffle1_1030000.h5  \n",
      "  inflating: OFT/OFT/Output_DLC/39_03_A_190507141319DeepCut_resnet50_Blockcourse1May9shuffle1_1030000.h5  \n",
      "  inflating: OFT/OFT/Output_DLC/2_01_A_190507120240DeepCut_resnet50_Blockcourse1May9shuffle1_1030000.h5  \n",
      "  inflating: OFT/OFT/Output_DLC/49_04_A_190507125609DeepCut_resnet50_Blockcourse1May9shuffle1_1030000.h5  \n",
      "  inflating: OFT/OFT/Output_DLC/47_04_A_190507122047DeepCut_resnet50_Blockcourse1May9shuffle1_1030000.h5  \n",
      "  inflating: OFT/OFT/Output_DLC/40_03_A_190507142917DeepCut_resnet50_Blockcourse1May9shuffle1_1030000.h5  \n",
      "  inflating: OFT/OFT/Output_DLC/25_02_A_190507142904DeepCut_resnet50_Blockcourse1May9shuffle1_1030000.h5  \n",
      "  inflating: OFT/OFT/Output_DLC/33_03_A_190507123759DeepCut_resnet50_Blockcourse1May9shuffle1_1030000.h5  \n",
      "  inflating: OFT/OFT/Output_DLC/52_04_A_190507134227DeepCut_resnet50_Blockcourse1May9shuffle1_1030000.h5  \n",
      "  inflating: OFT/OFT/Output_DLC/55_04_A_190507142930DeepCut_resnet50_Blockcourse1May9shuffle1_1030000.h5  \n",
      "  inflating: OFT/OFT/Output_DLC/12_01_A_190507144429DeepCut_resnet50_Blockcourse1May9shuffle1_1030000.h5  \n",
      "  inflating: OFT/OFT/Output_DLC/30_03_A_190507114720DeepCut_resnet50_Blockcourse1May9shuffle1_1030000.h5  \n",
      "  inflating: OFT/OFT/Output_DLC/46_04_A_190507120344DeepCut_resnet50_Blockcourse1May9shuffle1_1030000.h5  \n",
      "  inflating: OFT/OFT/Output_DLC/22_02_A_190507134157DeepCut_resnet50_Blockcourse1May9shuffle1_1030000.h5  \n",
      "  inflating: OFT/OFT/Output_DLC/1_01_A_190507114629DeepCut_resnet50_Blockcourse1May9shuffle1_1030000.h5  \n",
      "  inflating: OFT/OFT/Output_DLC/17_02_A_190507120259DeepCut_resnet50_Blockcourse1May9shuffle1_1030000.h5  \n",
      "  inflating: OFT/OFT/Output_DLC/24_02_A_190507141305DeepCut_resnet50_Blockcourse1May9shuffle1_1030000.h5  \n",
      "  inflating: OFT/OFT/Output_DLC/23_02_A_190507135734DeepCut_resnet50_Blockcourse1May9shuffle1_1030000.h5  \n"
     ]
    }
   ],
   "source": [
    "!pip install gdown\n",
    "!gdown https://drive.google.com/uc?id=1BhAAy_YYxWXYVSpCmYXIAOEV9waoMwcK\n",
    "!apt-get install unzip\n",
    "!unzip OFT.zip -d OFT"
   ]
  },
  {
   "cell_type": "markdown",
   "metadata": {},
   "source": [
    "... installation\n",
    "\n",
    "for now:\n",
    "```\n",
    "git clone https://github.com/AlexEMG/DLC2Action\n",
    "cd DLC2Action\n",
    "conda create --name DLC2Action python=3.9\n",
    "conda activate DLC2Action\n",
    "python -m pip install .\n",
    "```"
   ]
  },
  {
   "cell_type": "code",
   "execution_count": 6,
   "metadata": {},
   "outputs": [],
   "source": [
    "from dlc2action.project import Project\n",
    "import os\n",
    "\n",
    "# CURRENT_PATH = os.getcwd()\n",
    "# DATA_PATH = os.path.join(CURRENT_PATH, \"OFT\", \"OFT\", \"Output_DLC\")\n",
    "# LABELS_PATH = os.path.join(CURRENT_PATH, \"OFT\", \"OFT\", \"Labels\")\n",
    "# PROJECTS_PATH = os.path.join(CURRENT_PATH, \"DLC2Action\")\n",
    "\n",
    "DATA_PATH = \"/home/liza/OFT/Output_DLC\"\n",
    "LABELS_PATH = \"/home/liza/OFT/Labels\"\n",
    "PROJECTS_PATH = \"/home/liza/DLC2Action_tmp\""
   ]
  },
  {
   "cell_type": "markdown",
   "metadata": {},
   "source": [
    "High-level methods in DLC2Action are almost exclusively accessed through the `dlc2action.project.Project` class. A project instance should loosely correspond to a specific goal (e.g. generating automatic annotations for dataset A with input format X). You can use it to optimize hyperparameters, run experiments, analyze results and generate new data.\n",
    "\n",
    "**Best practices**\n",
    "- When you need to do something with a different data type or unrelated files, it's better to create a new project to keep the experiment history easy to understand.\n",
    "- Each project is associated with a folder on your computer that contains all settings, meta files and experiment outputs. Those folders are created in the folder at `projects_path`. It's generally a good idea to choose one and stick to it throughout projects."
   ]
  },
  {
   "cell_type": "markdown",
   "metadata": {},
   "source": [
    "### Creating a project\n",
    "\n",
    "Let's begin!\n",
    "\n",
    "We will create a project called `\"oft\"`, with `\"dlc_track\"` input and `\"csv\"` annotation format. \n",
    "\n",
    "You can run `Project.print_data_types()` and `Project.print_annotation_types()` to find out more about other options."
   ]
  },
  {
   "cell_type": "code",
   "execution_count": 7,
   "metadata": {},
   "outputs": [],
   "source": [
    "# Project.remove_project(\"oft\", projects_path=PROJECTS_PATH)\n",
    "project = Project(\n",
    "    \"oft\",\n",
    "    data_path=DATA_PATH,\n",
    "    annotation_path=LABELS_PATH,\n",
    "    projects_path=PROJECTS_PATH,\n",
    "    data_type=\"dlc_track\",\n",
    "    annotation_type=\"csv\",\n",
    ")"
   ]
  },
  {
   "cell_type": "markdown",
   "metadata": {},
   "source": [
    "Projects have a generalized `help` function."
   ]
  },
  {
   "cell_type": "code",
   "execution_count": 8,
   "metadata": {},
   "outputs": [
    {
     "name": "stdout",
     "output_type": "stream",
     "text": [
      "AVAILABLE HELP FUNCTIONS:\n",
      "- Try running `project.help(keyword)` with the following keywords:\n",
      "    - model: to get more information on available models,\n",
      "    - features: to get more information on available feature extraction modes,\n",
      "    - partition_method: to get more information on available train/test/val partitioning methods,\n",
      "    - metrics: to see a list of available metric functions.\n",
      "    - data: to see help for expected data structure\n",
      "- To start working with this project, first run `project.list_blanks()` to check which parameters need to be filled in.\n",
      "- After a model and metrics are set, run `project.list_basic_parameters()` to see a list of the most important parameters that you might want to modify\n",
      "- If you want to dig deeper, get the full dictionary with project._read_parameters() (it is a `ruamel.yaml.comments.CommentedMap` instance).\n",
      "\n",
      "\n"
     ]
    }
   ],
   "source": [
    "project.help()"
   ]
  },
  {
   "cell_type": "code",
   "execution_count": 9,
   "metadata": {},
   "outputs": [
    {
     "name": "stdout",
     "output_type": "stream",
     "text": [
      "DATA TYPES:\n",
      "dlc_tracklet:\n",
      "\n",
      "    DLC tracklet data\n",
      "\n",
      "    Assumes the following file structure:\n",
      "    ```\n",
      "    data_path\n",
      "    ├── video1DLC1000.pickle\n",
      "    ├── video2DLC400.pickle\n",
      "    ├── video1_features.pt\n",
      "    └── video2_features.pt\n",
      "    ```\n",
      "    Here `data_suffix` is `{'DLC1000.pickle', 'DLC400.pickle'}` and `feature_suffix` (optional) is `'_features.pt'`.\n",
      "\n",
      "    The feature files should to be dictionaries where keys are clip IDs (e.g. animal names) and values are\n",
      "    feature values (arrays of shape `(#frames, #features)`). If the arrays are shaped as `(#features, #frames)`,\n",
      "    set `transpose_features` to `True`.\n",
      "\n",
      "    The files can be saved with `numpy.save()` (with `.npy` extension), `torch.save()` (with `.pt` extension) or\n",
      "    with `pickle.dump()` (with `.pickle` or `.pkl` extension).\n",
      "    \n",
      "dlc_track:\n",
      "\n",
      "    DLC track data\n",
      "\n",
      "    Assumes the following file structure:\n",
      "    ```\n",
      "    data_path\n",
      "    ├── video1DLC1000.pickle\n",
      "    ├── video2DLC400.pickle\n",
      "    ├── video1_features.pt\n",
      "    └── video2_features.pt\n",
      "    ```\n",
      "    Here `data_suffix` is `{'DLC1000.pickle', 'DLC400.pickle'}` and `feature_suffix` (optional) is `'_features.pt'`.\n",
      "\n",
      "    The feature files should to be dictionaries where keys are clip IDs (e.g. animal names) and values are\n",
      "    feature values (arrays of shape `(#frames, #features)`). If the arrays are shaped as `(#features, #frames)`,\n",
      "    set `transpose_features` to `True`.\n",
      "\n",
      "    The files can be saved with `numpy.save()` (with `.npy` extension), `torch.save()` (with `.pt` extension) or\n",
      "    with `pickle.dump()` (with `.pickle` or `.pkl` extension).\n",
      "    \n",
      "pku-mmd:\n",
      "\n",
      "    PKU-MMD data\n",
      "\n",
      "    Assumes the following file structure:\n",
      "    ```\n",
      "    data_path\n",
      "    ├── 0073-R.txt\n",
      "    ...\n",
      "    └── 0274-L.txt\n",
      "    ```\n",
      "    \n",
      "calms21:\n",
      "\n",
      "    CalMS21 data\n",
      "\n",
      "    Use the `'random:test_from_name:{name}'` and `'val-from-name:{val_name}:test-from-name:{test_name}'`\n",
      "    partitioning methods with `'train'`, `'test'` and `'unlabeled'` names to separate into train, test and validation\n",
      "    subsets according to the original files. For example, with `'val-from-name:test:test-from-name:unlabeled'`\n",
      "    the data from the test file will go into validation and the unlabeled files will be the test.\n",
      "\n",
      "    Assumes the following file structure:\n",
      "    ```\n",
      "    data_path\n",
      "    ├── calms21_task1_train.npy\n",
      "    ├── calms21_task1_test.npy\n",
      "    ├── calms21_task1_test_features.npy\n",
      "    ├── calms21_task1_test_features.npy\n",
      "    ├── calms21_unlabeled_videos_part1.npy\n",
      "    ├── calms21_unlabeled_videos_part1.npy\n",
      "    ├── calms21_unlabeled_videos_part2.npy\n",
      "    └── calms21_unlabeled_videos_part3.npy\n",
      "    ```\n",
      "    \n",
      "np_3d:\n",
      "\n",
      "    3D data\n",
      "\n",
      "    Assumes the data files to be `numpy` arrays saved in `.npy` format with shape `(#frames, #keypoints, 3)`.\n",
      "\n",
      "    Assumes the following file structure:\n",
      "    ```\n",
      "    data_path\n",
      "    ├── video1_suffix1.npy\n",
      "    ├── video2_suffix2.npy\n",
      "    ├── video1_features.pt\n",
      "    └── video2_features.pt\n",
      "    ```\n",
      "    Here `data_suffix` is `{'_suffix1.npy', '_suffix1.npy'}` and `feature_suffix` (optional) is `'_features.pt'`.\n",
      "\n",
      "    The feature files should to be dictionaries where keys are clip IDs (e.g. animal names) and values are\n",
      "    feature values (arrays of shape `(#frames, #features)`). If the arrays are shaped as `(#features, #frames)`,\n",
      "    set `transpose_features` to `True`.\n",
      "\n",
      "    The files can be saved with `numpy.save()` (with `.npy` extension), `torch.save()` (with `.pt` extension) or\n",
      "    with `pickle.dump()` (with `.pickle` or `.pkl` extension).\n",
      "    \n",
      "features:\n",
      "\n",
      "    Non-pose feature files\n",
      "\n",
      "    The feature files should to be dictionaries where keys are clip IDs (e.g. animal names) and values are\n",
      "    feature values (arrays of shape `(#frames, #features)`). If the arrays are shaped as `(#features, #frames)`,\n",
      "    set `transpose_features` to `True`.\n",
      "\n",
      "    The files can be saved with `numpy.save()` (with `.npy` extension), `torch.save()` (with `.pt` extension) or\n",
      "    with `pickle.dump()` (with `.pickle` or `.pkl` extension).\n",
      "\n",
      "    Assumes the following file structure:\n",
      "    ```\n",
      "    data_path\n",
      "    ├── video1_features.pt\n",
      "    └── video2_features.pt\n",
      "    ```\n",
      "    Here `feature_suffix` (optional) is `'_features.pt'`.\n",
      "    \n",
      "simba:\n",
      "\n",
      "    SIMBA paper format data\n",
      "\n",
      "     Assumes the following file structure\n",
      "\n",
      "     ```\n",
      "     data_path\n",
      "     ├── Video1.csv\n",
      "     ...\n",
      "     └── Video9.csv\n",
      "     ```\n",
      "     Here `data_suffix` is `.csv`.\n",
      "    \n"
     ]
    }
   ],
   "source": [
    "Project.print_data_types()"
   ]
  },
  {
   "cell_type": "markdown",
   "metadata": {},
   "source": [
    "Let's start by checking if our files are organized correctly."
   ]
  },
  {
   "cell_type": "code",
   "execution_count": 10,
   "metadata": {},
   "outputs": [
    {
     "name": "stdout",
     "output_type": "stream",
     "text": [
      "DATA:\n",
      "Video data: dlc_track\n",
      "\n",
      "    DLC track data\n",
      "\n",
      "    Assumes the following file structure:\n",
      "    ```\n",
      "    data_path\n",
      "    ├── video1DLC1000.pickle\n",
      "    ├── video2DLC400.pickle\n",
      "    ├── video1_features.pt\n",
      "    └── video2_features.pt\n",
      "    ```\n",
      "    Here `data_suffix` is `{'DLC1000.pickle', 'DLC400.pickle'}` and `feature_suffix` (optional) is `'_features.pt'`.\n",
      "\n",
      "    The feature files should to be dictionaries where keys are clip IDs (e.g. animal names) and values are\n",
      "    feature values (arrays of shape `(#frames, #features)`). If the arrays are shaped as `(#features, #frames)`,\n",
      "    set `transpose_features` to `True`.\n",
      "\n",
      "    The files can be saved with `numpy.save()` (with `.npy` extension), `torch.save()` (with `.pt` extension) or\n",
      "    with `pickle.dump()` (with `.pickle` or `.pkl` extension).\n",
      "    \n",
      "Annotation data: csv\n",
      "\n",
      "    CSV type annotation data\n",
      "\n",
      "    Assumes that files are saved as .csv tables with at least the following columns:\n",
      "    - from / start : start of action,\n",
      "    - to / end : end of action,\n",
      "    - class / behavior / behaviour / label / type : action label.\n",
      "\n",
      "    If the times are set in seconds instead of frames, don't forget to set the `fps` parameter to your frame rate.\n",
      "\n",
      "    Assumes the following file structure:\n",
      "    ```\n",
      "    annotation_path\n",
      "    ├── video1_annotation.csv\n",
      "    └── video2_labels.csv\n",
      "    ```\n",
      "    Here `annotation_suffix` is `{'_annotation.csv', '_labels.csv'}`.\n",
      "    \n",
      "Annotation path and data path don't have to be separate, you can keep everything in one folder.\n",
      "\n",
      "\n"
     ]
    }
   ],
   "source": [
    "project.help(\"data\")"
   ]
  },
  {
   "cell_type": "markdown",
   "metadata": {},
   "source": [
    "## Setting parameters"
   ]
  },
  {
   "cell_type": "markdown",
   "metadata": {},
   "source": [
    "After the data structure is sorted out, it's time to configure the parameter settings. \n",
    "\n",
    "Every project keeps fixed settings written in configuration files in the project folder. When you want to change something, you have two options: modifying the configuration files so that this new value becomes the default (with `project.set_main_parameters` or `project.update_parameters`) or passing a `parameters_update` argument to your function so that the settings only change for this run.\n",
    "\n",
    "We will start with setting the defaults.\n",
    "\n",
    "As we saw in the help message, the first step is checking which essential parameters are missing with `project.list_blanks()`"
   ]
  },
  {
   "cell_type": "code",
   "execution_count": 11,
   "metadata": {},
   "outputs": [
    {
     "name": "stdout",
     "output_type": "stream",
     "text": [
      "Before running experiments, please update all the blanks.\n",
      "To do that, you can run this.\n",
      "--------------------------------------------------------\n",
      "project.update_parameters(\n",
      "    {\n",
      "        \"data\": {\n",
      "            \"data_suffix\": ..., # set; the data files should have the format of {video_id}{data_suffix}, e.g. video1_suffix.pickle, where video1 is the video is and _suffix.pickle is the suffix\n",
      "            \"canvas_shape\": ..., # list; the size of the canvas where the pose was defined\n",
      "            \"annotation_suffix\": ..., # str | set, optional the suffix or the set of suffices such that the annotation files are named {video_id}{annotation_suffix}, e.g, video1_suffix.pickle where video1 is the video id and _suffix.pickle is the suffix\n",
      "        },\n",
      "        \"general\": {\n",
      "            \"exclusive\": ..., # bool; if true, single-label classification is used; otherwise multi-label\n",
      "        },\n",
      "    }\n",
      ")\n",
      "--------------------------------------------------------\n",
      "Replace ... with relevant values.\n"
     ]
    }
   ],
   "source": [
    "project.list_blanks()"
   ]
  },
  {
   "cell_type": "markdown",
   "metadata": {},
   "source": [
    "We can copy this code, fill in the information and run it."
   ]
  },
  {
   "cell_type": "code",
   "execution_count": 12,
   "metadata": {},
   "outputs": [],
   "source": [
    "project.update_parameters(\n",
    "    {\n",
    "        \"data\": {\n",
    "            \"data_suffix\": \"DeepCut_resnet50_Blockcourse1May9shuffle1_1030000.csv\", # set; the data files should have the format of {video_id}{data_suffix}, e.g. video1_suffix.pickle, where video1 is the video is and _suffix.pickle is the suffix\n",
    "            \"canvas_shape\": [928, 576], # list; the size of the canvas where the pose was defined\n",
    "            \"annotation_suffix\": \".csv\", # str | set, optional the suffix or the set of suffices such that the annotation files are named {video_id}{annotation_suffix}, e.g, video1_suffix.pickle where video1 is the video id and _suffix.pickle is the suffix\n",
    "        },\n",
    "        \"general\": {\n",
    "            \"exclusive\": True, # bool; if true, single-label classification is used; otherwise multi-label\n",
    "        },\n",
    "    }\n",
    ")"
   ]
  },
  {
   "cell_type": "markdown",
   "metadata": {},
   "source": [
    "Now we're all set and can start training models. However, we can take an extra step and check out what other parameters are available."
   ]
  },
  {
   "cell_type": "markdown",
   "metadata": {},
   "source": [
    "Note that this function is only showing us the parameters for the metric functions and the model that are selected as default at the moment. If you want to see what parameters there are for other models and metrics, try setting them first with `project.set_main_parameters()` or with `project.update_parameters()`."
   ]
  },
  {
   "cell_type": "code",
   "execution_count": 13,
   "metadata": {},
   "outputs": [
    {
     "name": "stdout",
     "output_type": "stream",
     "text": [
      "BASIC PARAMETERS:\n",
      "Here is a list of current parameters.\n",
      "You can copy this code, change the parameters you want to set and run it to update the project config.\n",
      "--------------------------------------------------------\n",
      "project.update_parameters(\n",
      "    {\n",
      "        \"general\": {\n",
      "            \"model_name\": \"c2f_tcn\", # str; model name (run project.help(\"model\") for more info)\n",
      "            \"metric_functions\": {'f1', 'precision', 'recall'}, # set; set of metric names (run project.help(\"metrics\") for more info)\n",
      "            \"ignored_clips\": None, # list; a list of string clip ids (agent names) to be ignored\n",
      "            \"len_segment\": 512, # int; the length of segments (in frames) to cut the videos into\n",
      "            \"overlap\": 0.75, # int; the overlap (in frames) between neighboring segments\n",
      "            \"interactive\": False, # bool; if true, annotations are assigned and features are computed for pairs of clips (animals)\n",
      "        },\n",
      "        \"data\": {\n",
      "            \"data_suffix\": \"DeepCut_resnet50_Blockcourse1May9shuffle1_1030000.csv\", # set; the data files should have the format of {video_id}{data_suffix}, e.g. video1_suffix.pickle, where video1 is the video is and _suffix.pickle is the suffix\n",
      "            \"feature_suffix\": None, # str; the feature files should be stored in the data folder and named {video_id}{feature_suffix}\n",
      "            \"annotation_suffix\": \".csv\", # str | set, optional the suffix or the set of suffices such that the annotation files are named {video_id}{annotation_suffix}, e.g, video1_suffix.pickle where video1 is the video id and _suffix.pickle is the suffix\n",
      "            \"canvas_shape\": [928, 576], # list; the size of the canvas where the pose was defined\n",
      "            \"ignored_bodyparts\": None, # set; the set of string names of bodyparts to ignore\n",
      "            \"likelihood_threshold\": 0, # float; coordinates with lower likelihood values will be ignored\n",
      "            \"behaviors\": None, # set; the behaviors to predict (if null, if will be inferred from the data; !!PLEASE SET IT MANUALLY if different files can have different behavior sets!!)\n",
      "            \"filter_annotated\": True, # bool; discard long unannotated intervals during training\n",
      "            \"filter_background\": True, # bool; only label frames as background if a behavior is annotated somewhere close\n",
      "            \"visibility_min_score\": 0, # float; the minimum visibility score for visibility filtering\n",
      "            \"visibility_min_frac\": 0, # float; the minimum fraction of visible frames for visibility filtering\n",
      "        },\n",
      "        \"training\": {\n",
      "            \"lr\": 0.001, # float; learning rate\n",
      "            \"device\": \"auto\", # str; device\n",
      "            \"num_epochs\": 50, # int; number of epochs\n",
      "            \"to_ram\": False, # bool; transfer the dataset to RAM for training (preferred if the dataset fits in working memory)\n",
      "            \"batch_size\": 64, # int; batch size\n",
      "            \"normalize\": True, # bool; if true, normalization statistics will be computed on the training set and applied to all data\n",
      "            \"temporal_subsampling_size\": 0.85, # float; this fraction of frames in each segment is randomly sampled at training time\n",
      "            \"parallel\": False, # bool; if true, the model will be trained on all gpus visible in the system (use os.environ[“CUDA_VISIBLE_DEVICES”] =“{indices}” to exclude gpus in this mode)\n",
      "\n",
      "#losses\n",
      "            \"val_frac\": 0.2, # float; fraction of dataset to use as validation\n",
      "            \"test_frac\": 0, # float; fraction of dataset to use as test\n",
      "            \"partition_method\": \"random\", # str; the train/test/val partitioning method (for more info run project.help(\"partition_method\"))\n",
      "        },\n",
      "        \"losses\": {\n",
      "            \"ms_tcn\": {\n",
      "                \"focal\": True, # bool; if True, focal loss will be used\n",
      "                \"gamma\": 2, # float; the gamma parameter of focal loss\n",
      "                \"alpha\": 0.001, # float; the weight of consistency loss\n",
      "            },\n",
      "        },\n",
      "        \"metrics\": {\n",
      "            \"f1\": {\n",
      "                \"average\": \"macro\", # ['macro', 'micro', 'none']; averaging method for classes\n",
      "                \"ignored_classes\": None, # set; a set of class ids to ignore in calculation\n",
      "                \"threshold_value\": 0.5, # float; the probability threshold for positive samples\n",
      "            },\n",
      "            \"recall\": {\n",
      "                \"average\": \"macro\", # ['macro', 'micro', 'none']; averaging method for classes\n",
      "                \"ignored_classes\": None, # set; a set of class ids to ignore in calculation\n",
      "                \"threshold_value\": 0.5, # float; the probability threshold for positive samples\n",
      "            },\n",
      "            \"precision\": {\n",
      "                \"average\": \"macro\", # ['macro', 'micro', 'none']; averaging method for classes\n",
      "                \"ignored_classes\": None, # set; a set of class ids to ignore in calculation\n",
      "                \"threshold_value\": 0.5, # float; the probability threshold for positive samples\n",
      "            },\n",
      "        },\n",
      "        \"model\": {\n",
      "            \"num_f_maps\": 128, # int; number of maps\n",
      "            \"feature_dim\": None, # int; if not null, intermediate features are generated with this dimension and then passed to a 2-layer MLP for classification (useful for SSL)\n",
      "        },\n",
      "        \"features\": {\n",
      "            \"keys\": None, # set; a list of names of the features to extract (a subset of available keys; run project.help(\"features\") for more info)\n",
      "            \"averaging_window\": 1, # int; if >1, features are averaged with a moving window of this size (in frames)\n",
      "            \"distance_pairs\": None, # list; a list of bodypart name tuples (e.g. `[(\"tail\", \"nose\")]`) to compute distances for when `\"intra_distance\"` is in `keys` (by default all distances are computed)\n",
      "            \"angle_pairs\": None, # list; a list of bodypart name tuples (e.g. `[(\"ear1\", \"nose\", \"ear2\")]`) for the angle between `\"ear1\"--\"nose\"` and `\"nose\"--\"ear2\"` lines) to compute angle cosines for when `\"angles\"` is in `keys` (by default no angles are computed)\n",
      "            \"zone_vertices\": None, # dict; a dictionary of bodypart name tuples of any length >= 3 that define zones for `\"zone_bools\"`and `\"zone_distances\"` features; keys should be zone names and values should be tuples that define the polygons (e.g. `{\"main_area\": (\"x_min\", \"x_max\", \"y_max\", \"y_min\"))}`)\n",
      "            \"zone_bools\": None, # list; a list of zone and bodypart name tuples to compute binary identifiers for (1 if an animal is within the polygon or 0 if it's outside) (e.g. `[(\"main_area\", \"nose\")]`); the zones should be defined in the `zone_vertices` parameter; this is only computed if `\"zone_bools\"` is in `keys`\n",
      "            \"zone_distances\": None, # list; a list of zone and bodypart name tuples to compute distances for (distance from the bodypart to the closest of the boundaries) (e.g. `[(\"main_area\", \"nose\")]`); the zones should be defined in the `zone_vertices` parameter; this is only computed if `\"zone_distances\"` is in `keys`\n",
      "            \"area_vertices\": None, # list; a list of bodypart name tuples of any length >= 3 (e.g. `[(\"ear1\", \"nose\", \"ear2\", \"spine1\")]`) that define polygons to compute areas for when `\"areas\"` is in `keys` (by default no areas are computed)\n",
      "        },\n",
      "        \"augmentations\": {\n",
      "            \"augmentations\": {'add_noise'}, # set; a set of augmentations that can be applied to your data without losing information (choose any number from 'rotate', 'real_lens', 'add_noise', 'shift', 'zoom', 'mirror', 'switch', e.g. {'add_noise'. 'mirror'})\n",
      "            \"rotation_limits\": [-1.57, 1.57], # list; list of rotation angle limits in radians ([low, high])\n",
      "            \"mirror_dim\": {0}, # set; set of dimensions that can be mirrored (0 for x, 1 for y, 2 for z)\n",
      "            \"noise_std\": 0.003, # float; standard deviation of noise\n",
      "            \"zoom_limits\": [0.5, 1.5], # list; list of float zoom limits ([low, high])\n",
      "            \"masking_probability\": 0.1, # float; the probability of masking a joint\n",
      "        },\n",
      "    },\n",
      ")\n",
      "--------------------------------------------------------\n",
      "\n",
      "\n"
     ]
    }
   ],
   "source": [
    "project.list_basic_parameters()"
   ]
  },
  {
   "cell_type": "markdown",
   "metadata": {},
   "source": [
    "We can copy this into a code cell to make it easier to read."
   ]
  },
  {
   "cell_type": "code",
   "execution_count": 14,
   "metadata": {},
   "outputs": [],
   "source": [
    "project.update_parameters(\n",
    "    {\n",
    "        \"general\": {\n",
    "            \"model_name\": \"c2f_tcn\", # str; model name (run project.help(\"model\") for more info)\n",
    "            \"metric_functions\": {'precision', 'recall', 'f1'}, # set; set of metric names (run project.help(\"metrics\") for more info)\n",
    "            \"ignored_clips\": None, # list; a list of string clip ids (agent names) to be ignored\n",
    "            \"len_segment\": 512, # int; the length of segments (in frames) to cut the videos into\n",
    "            \"overlap\": 0.75, # int; the overlap (in frames) between neighboring segments\n",
    "            \"interactive\": False, # bool; if true, annotations are assigned and features are computed for pairs of clips (animals)\n",
    "        },\n",
    "        \"data\": {\n",
    "            \"data_suffix\": \"DeepCut_resnet50_Blockcourse1May9shuffle1_1030000.csv\", # set; the data files should have the format of {video_id}{data_suffix}, e.g. video1_suffix.pickle, where video1 is the video is and _suffix.pickle is the suffix\n",
    "            \"feature_suffix\": None, # str; the feature files should be stored in the data folder and named {video_id}{feature_suffix}\n",
    "            \"annotation_suffix\": \".csv\", # str | set, optional the suffix or the set of suffices such that the annotation files are named {video_id}{annotation_suffix}, e.g, video1_suffix.pickle where video1 is the video id and _suffix.pickle is the suffix\n",
    "            \"canvas_shape\": [928, 576], # list; the size of the canvas where the pose was defined\n",
    "            \"ignored_bodyparts\": None, # set; the set of string names of bodyparts to ignore\n",
    "            \"likelihood_threshold\": 0, # float; coordinates with lower likelihood values will be ignored\n",
    "            \"behaviors\": None, # set; the behaviors to predict (if null, if will be inferred from the data; !!PLEASE SET IT MANUALLY if different files can have different behavior sets!!)\n",
    "            \"filter_annotated\": True, # bool; discard long unannotated intervals during training\n",
    "            \"filter_background\": True, # bool; only label frames as background if a behavior is annotated somewhere close\n",
    "            \"visibility_min_score\": 0, # float; the minimum visibility score for visibility filtering\n",
    "            \"visibility_min_frac\": 0, # float; the minimum fraction of visible frames for visibility filtering\n",
    "        },\n",
    "        \"training\": {\n",
    "            \"lr\": 0.001, # float; learning rate\n",
    "            \"device\": \"auto\", # str; device\n",
    "            \"num_epochs\": 50, # int; number of epochs\n",
    "            \"to_ram\": False, # bool; transfer the dataset to RAM for training (preferred if the dataset fits in working memory)\n",
    "            \"batch_size\": 64, # int; batch size\n",
    "            \"normalize\": True, # bool; if true, normalization statistics will be computed on the training set and applied to all data\n",
    "            \"temporal_subsampling_size\": 0.85, # float; this fraction of frames in each segment is randomly sampled at training time\n",
    "            \"parallel\": False, # bool; if true, the model will be trained on all gpus visible in the system (use os.environ[“CUDA_VISIBLE_DEVICES”] =“{indices}” to exclude gpus in this mode)\n",
    "            \"val_frac\": 0.2, # float; fraction of dataset to use as validation\n",
    "            \"test_frac\": 0, # float; fraction of dataset to use as test\n",
    "            \"partition_method\": \"random\", # str; the train/test/val partitioning method (for more info run project.help(\"partition_method\"))\n",
    "        },\n",
    "        \"losses\": {\n",
    "            \"ms_tcn\": {\n",
    "                \"focal\": True, # bool; if True, focal loss will be used\n",
    "                \"gamma\": 2, # float; the gamma parameter of focal loss\n",
    "                \"alpha\": 0.001, # float; the weight of consistency loss\n",
    "            },\n",
    "        },\n",
    "        \"metrics\": {\n",
    "            \"f1\": {\n",
    "                \"average\": \"macro\", # ['macro', 'micro', 'none']; averaging method for classes\n",
    "                \"ignored_classes\": None, # set; a set of class ids to ignore in calculation\n",
    "                \"threshold_value\": 0.5, # float; the probability threshold for positive samples\n",
    "            },\n",
    "            \"recall\": {\n",
    "                \"average\": \"macro\", # ['macro', 'micro', 'none']; averaging method for classes\n",
    "                \"ignored_classes\": None, # set; a set of class ids to ignore in calculation\n",
    "                \"threshold_value\": 0.5, # float; the probability threshold for positive samples\n",
    "            },\n",
    "            \"precision\": {\n",
    "                \"average\": \"macro\", # ['macro', 'micro', 'none']; averaging method for classes\n",
    "                \"ignored_classes\": None, # set; a set of class ids to ignore in calculation\n",
    "                \"threshold_value\": 0.5, # float; the probability threshold for positive samples\n",
    "            },\n",
    "        },\n",
    "        \"model\": {\n",
    "            \"num_f_maps\": 128, # int; number of maps\n",
    "            \"feature_dim\": None, # int; if not null, intermediate features are generated with this dimension and then passed to a 2-layer MLP for classification (useful for SSL)\n",
    "        },\n",
    "        \"features\": {\n",
    "            \"keys\": None, # set; a list of names of the features to extract (a subset of available keys; run project.help(\"features\") for more info)\n",
    "            \"averaging_window\": 1, # int; if >1, features are averaged with a moving window of this size (in frames)\n",
    "            \"distance_pairs\": None, # list; a list of bodypart name tuples (e.g. `[(\"tail\", \"nose\")]`) to compute distances for when `\"intra_distance\"` is in `keys` (by default all distances are computed)\n",
    "            \"angle_pairs\": None, # list; a list of bodypart name tuples (e.g. `[(\"ear1\", \"nose\", \"ear2\")]`) for the angle between `\"ear1\"--\"nose\"` and `\"nose\"--\"ear2\"` lines) to compute angle cosines for when `\"angles\"` is in `keys` (by default no angles are computed)\n",
    "            \"zone_vertices\": None, # dict; a dictionary of bodypart name tuples of any length >= 3 that define zones for `\"zone_bools\"`and `\"zone_distances\"` features; keys should be zone names and values should be tuples that define the polygons (e.g. `{\"main_area\": (\"x_min\", \"x_max\", \"y_max\", \"y_min\"))}`)\n",
    "            \"zone_bools\": None, # list; a list of zone and bodypart name tuples to compute binary identifiers for (1 if an animal is within the polygon or 0 if it's outside) (e.g. `[(\"main_area\", \"nose\")]`); the zones should be defined in the `zone_vertices` parameter; this is only computed if `\"zone_bools\"` is in `keys`\n",
    "            \"zone_distances\": None, # list; a list of zone and bodypart name tuples to compute distances for (distance from the bodypart to the closest of the boundaries) (e.g. `[(\"main_area\", \"nose\")]`); the zones should be defined in the `zone_vertices` parameter; this is only computed if `\"zone_distances\"` is in `keys`\n",
    "            \"area_vertices\": None, # list; a list of bodypart name tuples of any length >= 3 (e.g. `[(\"ear1\", \"nose\", \"ear2\", \"spine1\")]`) that define polygons to compute areas for when `\"areas\"` is in `keys` (by default no areas are computed)\n",
    "        },\n",
    "        \"augmentations\": {\n",
    "            \"augmentations\": {'add_noise'}, # set; a set of augmentations that can be applied to your data without losing information (choose any number from 'rotate', 'real_lens', 'add_noise', 'shift', 'zoom', 'mirror', 'switch', e.g. {'add_noise'. 'mirror'})\n",
    "            \"rotation_limits\": [-1.57, 1.57], # list; list of rotation angle limits in radians ([low, high])\n",
    "            \"mirror_dim\": {0}, # set; set of dimensions that can be mirrored (0 for x, 1 for y, 2 for z)\n",
    "            \"noise_std\": 0.003, # float; standard deviation of noise\n",
    "            \"zoom_limits\": [0.5, 1.5], # list; list of float zoom limits ([low, high])\n",
    "            \"masking_probability\": 0.1, # float; the probability of masking a joint\n",
    "        },\n",
    "    },\n",
    ")"
   ]
  },
  {
   "cell_type": "markdown",
   "metadata": {},
   "source": [
    "Let's see what the options are for metrics and models."
   ]
  },
  {
   "cell_type": "code",
   "execution_count": 15,
   "metadata": {},
   "outputs": [
    {
     "name": "stdout",
     "output_type": "stream",
     "text": [
      "MODELS:\n",
      "asformer:\n",
      "\n",
      "    An implementation of ASFormer\n",
      "    \n",
      "mlp:\n",
      "\n",
      "    A Multi-Layer Perceptron\n",
      "    \n",
      "c2f_tcn:\n",
      "\n",
      "    An implementation of C2F-TCN\n",
      "\n",
      "    Requires the `\"general/len_segment\"` parameter to be at least 512\n",
      "    \n",
      "edtcn:\n",
      "\n",
      "    An implementation of EDTCN (Endoder-Decoder TCN)\n",
      "    \n",
      "transformer:\n",
      "\n",
      "    A modification of Transformer-Encoder with additional max-pooling and upsampling\n",
      "\n",
      "    Set `num_pool` to 0 to get a standart transformer-encoder.\n",
      "    \n",
      "\n",
      "\n",
      "METRICS:\n",
      "accuracy:\n",
      "\n",
      "    Accuracy\n",
      "    \n",
      "precision:\n",
      "\n",
      "    Precision\n",
      "    \n",
      "f1:\n",
      "\n",
      "    F1 score\n",
      "    \n",
      "recall:\n",
      "\n",
      "    Recall\n",
      "    \n",
      "count:\n",
      "\n",
      "    Fraction of samples labeled by the model as a class\n",
      "    \n",
      "segmental_precision:\n",
      "\n",
      "    Segmental precision (not advised for training)\n",
      "    \n",
      "segmental_recall:\n",
      "\n",
      "    Segmental recall (not advised for training)\n",
      "    \n",
      "segmental_f1:\n",
      "\n",
      "    Segmental F1 score (not advised for training)\n",
      "    \n",
      "edit_distance:\n",
      "\n",
      "    Edit distance (not advised for training)\n",
      "\n",
      "    Normalized by the length of the sequences\n",
      "    \n",
      "f_beta:\n",
      "\n",
      "    F-beta score\n",
      "    \n",
      "segmental_f_beta:\n",
      "\n",
      "    Segmental F-beta score (not advised for training)\n",
      "    \n",
      "semisegmental_precision:\n",
      "\n",
      "    Semi-segmental precision (not advised for training)\n",
      "\n",
      "    A metric in-between segmental and frame-wise precision.\n",
      "\n",
      "    This metric follows the following algorithm:\n",
      "    1) smooth over too-short intervals, both in ground truth and in prediction (first remove\n",
      "        groups of zeros shorter than `smooth_interval` and then do the same with groups of ones),\n",
      "    2) add `delta` frames to each predicted interval at both ends and count the number of ground truth\n",
      "        positive frames at the resulting intervals (intersection),\n",
      "    3) calculate the threshold for each interval as\n",
      "        `t = sigmoid(4 * (a * x + b)) * (iou_threshold_long - iou_threshold_short))`, where\n",
      "        `a = 2 / (long_length - short_length)`, `b = 1 - a * long_length`, `x` is the length of the interval\n",
      "        before `delta` was added,\n",
      "    4) for each interval, if intersection is higher than `t * x`, the interval is labeled as true positive (`TP`),\n",
      "        and otherwise as false positive (`FP`),\n",
      "    5) the final metric value is computed as `TP / (TP + FP)`.\n",
      "    \n",
      "semisegmental_recall:\n",
      "\n",
      "    Semi-segmental recall (not advised for training)\n",
      "\n",
      "    A metric in-between segmental and frame-wise recall.\n",
      "\n",
      "    This metric follows the following algorithm:\n",
      "    1) smooth over too-short intervals, both in ground truth and in prediction (first remove\n",
      "        groups of zeros shorter than `smooth_interval` and then do the same with groups of ones),\n",
      "    2) add `delta` frames to each ground truth interval at both ends and count the number of predicted\n",
      "        positive frames at the resulting intervals (intersection),\n",
      "    3) calculate the threshold for each interval as\n",
      "        `t = sigmoid(4 * (a * x + b)) * (iou_threshold_long - iou_threshold_short))`, where\n",
      "        `a = 2 / (long_length - short_length)`, `b = 1 - a * long_length`, `x` is the length of the interval\n",
      "        before `delta` was added,\n",
      "    4) for each interval, if intersection is higher than `t * x`, the interval is labeled as true positive (`TP`),\n",
      "        and otherwise as false negative (`FN`),\n",
      "    5) the final metric value is computed as `TP / (TP + FN)`.\n",
      "    \n",
      "semisegmental_f1:\n",
      "\n",
      "    The F1 score for semi-segmental recall and precision (not advised for training)\n",
      "    \n",
      "pr-auc:\n",
      "\n",
      "    Area under precision-recall curve (not advised for training)\n",
      "    \n",
      "semisegmental_pr-auc:\n",
      "\n",
      "    The area under the precision-recall curve for semi-segmental metrics (not advised for training)\n",
      "    \n",
      "mAP:\n",
      "\n",
      "    Mean average precision (segmental) (not advised for training)\n",
      "    \n",
      "\n",
      "\n"
     ]
    }
   ],
   "source": [
    "project.help(\"model\")\n",
    "project.help(\"metrics\")"
   ]
  },
  {
   "cell_type": "markdown",
   "metadata": {},
   "source": [
    "Which models and metrics do you want to try out?\n",
    "\n",
    "You can choose any metrics but the code will run much faster if you avoid those marked \"not advisable for training\". We can compute those later with a trained model."
   ]
  },
  {
   "cell_type": "code",
   "execution_count": 16,
   "metadata": {},
   "outputs": [],
   "source": [
    "MODEL_NAME1 = \"c2f_tcn\"\n",
    "MODEL_NAME2 = \"transformer\"\n",
    "METRICS = [\"f1\", \"precision\"]"
   ]
  },
  {
   "cell_type": "markdown",
   "metadata": {},
   "source": [
    "We will configure the metrics in the default parameters, as well as a smaller number of epochs. The model will be updated in each experiment independently, since we want to try out more than one."
   ]
  },
  {
   "cell_type": "code",
   "execution_count": 17,
   "metadata": {},
   "outputs": [],
   "source": [
    "project.update_parameters(\n",
    "    {\n",
    "        \"general\": {\"metric_functions\": METRICS},\n",
    "        \"training\": {\"num_epochs\": 15}\n",
    "    }\n",
    ")"
   ]
  },
  {
   "cell_type": "markdown",
   "metadata": {},
   "source": [
    "All done! Now we're ready to run experiments. "
   ]
  },
  {
   "cell_type": "markdown",
   "metadata": {},
   "source": [
    "## Hyperparameter search"
   ]
  },
  {
   "cell_type": "markdown",
   "metadata": {},
   "source": [
    "There are many hyperparameters in model training, like the number of layers in a model or loss coefficients. The default settings for those parameters should generate reasonable results on most datasets but in order to get the most out of our data we can run a hyperparameter search.\n",
    "\n",
    "Searches in `DLC2Action` use the `optuna` auto-ML package to sample the hyperpameter space efficiently and save time on trials that go badly from the beginning. \n",
    "\n",
    "There are two methods for running a search: `project.run_hyperparameter_search()` and `project.run_default_hyperparameter_search()`. As you might have guessed from the names, the second method will just load the default set of parameters for a given model while the first allows you to optimize whatever you want. For the vast majority of cases `project.run_default_hyperparameter_search()` should be enough, so that is what we will use in thi tutorial."
   ]
  },
  {
   "cell_type": "code",
   "execution_count": 18,
   "metadata": {},
   "outputs": [
    {
     "name": "stderr",
     "output_type": "stream",
     "text": [
      "\u001b[32m[I 2022-11-17 02:05:31,423]\u001b[0m A new study created in memory with name: no-name-80513dce-d4cb-4027-a282-3d6ecfda34d1\u001b[0m\n"
     ]
    },
    {
     "name": "stdout",
     "output_type": "stream",
     "text": [
      "SEARCH c2f_tcn_search\n",
      "Computing input features...\n"
     ]
    },
    {
     "name": "stderr",
     "output_type": "stream",
     "text": [
      "100%|██████████| 20/20 [00:11<00:00,  1.69it/s]\n"
     ]
    },
    {
     "name": "stdout",
     "output_type": "stream",
     "text": [
      "Computing annotation arrays...\n"
     ]
    },
    {
     "name": "stderr",
     "output_type": "stream",
     "text": [
      "100%|██████████| 20/20 [00:00<00:00, 382.78it/s]\n"
     ]
    },
    {
     "name": "stdout",
     "output_type": "stream",
     "text": [
      "Filtering 93.33% of samples\n",
      "Number of samples:\n",
      "    validation:\n",
      "      {-100: 4036, 3: 27, 1: 33, 2: 0, 4: 0, 0: 0}\n",
      "    training:\n",
      "      {-100: 16094, 1: 175, 3: 70, 4: 45, 2: 0, 0: 0}\n",
      "    test:\n",
      "      {1: 0, 2: 0, 3: 0, 4: 0, 0: 0}\n",
      "Computing normalization statistics...\n"
     ]
    },
    {
     "name": "stderr",
     "output_type": "stream",
     "text": [
      "100%|██████████| 16/16 [00:00<00:00, 373.24it/s]\n",
      "100%|██████████| 16/16 [00:00<00:00, 332.60it/s]"
     ]
    },
    {
     "name": "stdout",
     "output_type": "stream",
     "text": [
      "Initializing class weights:\n",
      "    160000000.0, 0.091, 160000000.0, 0.229, 0.356\n",
      "Behavior indices:\n",
      "    0: other\n",
      "    1: Grooming\n",
      "    2: StartEnd\n",
      "    3: Supported\n",
      "    4: Unsupported\n"
     ]
    },
    {
     "name": "stderr",
     "output_type": "stream",
     "text": [
      "\n"
     ]
    },
    {
     "name": "stdout",
     "output_type": "stream",
     "text": [
      "[epoch 1]: loss 1.6609, f1 0.131\n",
      "validation: loss 1.5846, f1 0.124\n",
      "[epoch 2]: loss 1.5614, f1 0.180\n",
      "validation: loss 1.5838, f1 0.124\n",
      "[epoch 3]: loss 1.4667, f1 0.205\n",
      "validation: loss 1.5836, f1 0.124\n",
      "[epoch 4]: loss 1.3847, f1 0.250\n",
      "validation: loss 1.5841, f1 0.126\n",
      "[epoch 5]: loss 1.2507, f1 0.316\n",
      "validation: loss 1.5839, f1 0.203\n",
      "[epoch 6]: loss 1.1333, f1 0.319\n",
      "validation: loss 1.5829, f1 0.098\n",
      "[epoch 7]: loss 0.9896, f1 0.355\n",
      "validation: loss 1.5779, f1 0.160\n",
      "[epoch 8]: loss 0.8769, f1 0.391\n",
      "validation: loss 1.5676, f1 0.221\n",
      "[epoch 9]: loss 0.7491, f1 0.442\n",
      "validation: loss 1.5570, f1 0.217\n"
     ]
    },
    {
     "name": "stderr",
     "output_type": "stream",
     "text": [
      "\u001b[32m[I 2022-11-17 02:05:48,937]\u001b[0m Trial 0 finished with value: 0.21382138629754385 and parameters: {'losses/ms_tcn/alpha': 0.0004073904199604741, 'losses/ms_tcn/focal': False, 'training/temporal_subsampling_size': 0.8324508457055846, 'model/num_f_maps': 55, 'general/len_segment': 1024}. Best is trial 0 with value: 0.21382138629754385.\u001b[0m\n"
     ]
    },
    {
     "name": "stdout",
     "output_type": "stream",
     "text": [
      "[epoch 10]: loss 0.6536, f1 0.425\n",
      "validation: loss 1.5498, f1 0.201\n",
      "Computing input features...\n"
     ]
    },
    {
     "name": "stderr",
     "output_type": "stream",
     "text": [
      "100%|██████████| 20/20 [00:08<00:00,  2.23it/s]\n"
     ]
    },
    {
     "name": "stdout",
     "output_type": "stream",
     "text": [
      "Computing annotation arrays...\n"
     ]
    },
    {
     "name": "stderr",
     "output_type": "stream",
     "text": [
      "100%|██████████| 20/20 [00:00<00:00, 308.74it/s]\n"
     ]
    },
    {
     "name": "stdout",
     "output_type": "stream",
     "text": [
      "Filtering 95.17% of samples\n",
      "Number of samples:\n",
      "    validation:\n",
      "      {-100: 2500, 3: 27, 1: 33, 2: 0, 4: 0, 0: 0}\n",
      "    training:\n",
      "      {-100: 11998, 1: 175, 3: 70, 4: 45, 2: 0, 0: 0}\n",
      "    test:\n",
      "      {1: 0, 2: 0, 3: 0, 4: 0, 0: 0}\n",
      "Computing normalization statistics...\n"
     ]
    },
    {
     "name": "stderr",
     "output_type": "stream",
     "text": [
      "100%|██████████| 24/24 [00:00<00:00, 405.61it/s]\n",
      "100%|██████████| 24/24 [00:00<00:00, 471.90it/s]\n"
     ]
    },
    {
     "name": "stdout",
     "output_type": "stream",
     "text": [
      "Initializing class weights:\n",
      "    240000000.0, 0.137, 240000000.0, 0.343, 0.533\n",
      "Behavior indices:\n",
      "    0: other\n",
      "    1: Grooming\n",
      "    2: StartEnd\n",
      "    3: Supported\n",
      "    4: Unsupported\n",
      "[epoch 1]: loss 1.6227, f1 0.133\n",
      "validation: loss 1.6144, f1 0.000\n",
      "[epoch 2]: loss 1.4795, f1 0.252\n",
      "validation: loss 1.6169, f1 0.000\n",
      "[epoch 3]: loss 1.2537, f1 0.357\n",
      "validation: loss 1.6193, f1 0.000\n",
      "[epoch 4]: loss 0.9855, f1 0.409\n",
      "validation: loss 1.6224, f1 0.000\n",
      "[epoch 5]: loss 0.7393, f1 0.491\n",
      "validation: loss 1.6220, f1 0.119\n",
      "[epoch 6]: loss 0.6109, f1 0.511\n",
      "validation: loss 1.6291, f1 0.000\n",
      "[epoch 7]: loss 0.4179, f1 0.522\n",
      "validation: loss 1.6418, f1 0.000\n",
      "[epoch 8]: loss 0.3545, f1 0.551\n",
      "validation: loss 1.6603, f1 0.000\n",
      "[epoch 9]: loss 0.2797, f1 0.535\n",
      "validation: loss 1.6837, f1 0.000\n",
      "[epoch 10]: loss 0.1977, f1 0.570\n",
      "validation: loss 1.7040, f1 0.000\n"
     ]
    },
    {
     "name": "stderr",
     "output_type": "stream",
     "text": [
      "\u001b[32m[I 2022-11-17 02:06:00,385]\u001b[0m Trial 1 finished with value: 0.03971630831559499 and parameters: {'losses/ms_tcn/alpha': 0.0002996848694821987, 'losses/ms_tcn/focal': False, 'training/temporal_subsampling_size': 0.8992204012740979, 'model/num_f_maps': 105, 'general/len_segment': 512}. Best is trial 0 with value: 0.21382138629754385.\u001b[0m\n"
     ]
    },
    {
     "name": "stdout",
     "output_type": "stream",
     "text": [
      "Number of samples:\n",
      "    validation:\n",
      "      {-100: 2500, 3: 27, 1: 33, 2: 0, 4: 0, 0: 0}\n",
      "    training:\n",
      "      {-100: 11998, 1: 175, 3: 70, 4: 45, 2: 0, 0: 0}\n",
      "    test:\n",
      "      {1: 0, 2: 0, 3: 0, 4: 0, 0: 0}\n",
      "Computing normalization statistics...\n"
     ]
    },
    {
     "name": "stderr",
     "output_type": "stream",
     "text": [
      "100%|██████████| 24/24 [00:00<00:00, 335.87it/s]\n",
      "100%|██████████| 24/24 [00:00<00:00, 555.75it/s]\n"
     ]
    },
    {
     "name": "stdout",
     "output_type": "stream",
     "text": [
      "Initializing class weights:\n",
      "    240000000.0, 0.137, 240000000.0, 0.343, 0.533\n",
      "Behavior indices:\n",
      "    0: other\n",
      "    1: Grooming\n",
      "    2: StartEnd\n",
      "    3: Supported\n",
      "    4: Unsupported\n",
      "[epoch 1]: loss 0.2746, f1 0.048\n",
      "validation: loss 0.2474, f1 0.000\n",
      "[epoch 2]: loss 0.2491, f1 0.073\n",
      "validation: loss 0.2461, f1 0.000\n",
      "[epoch 3]: loss 0.2319, f1 0.083\n",
      "validation: loss 0.2451, f1 0.000\n",
      "[epoch 4]: loss 0.2173, f1 0.155\n",
      "validation: loss 0.2444, f1 0.000\n",
      "[epoch 5]: loss 0.1963, f1 0.212\n",
      "validation: loss 0.2434, f1 0.000\n",
      "[epoch 6]: loss 0.1706, f1 0.289\n",
      "validation: loss 0.2425, f1 0.000\n",
      "[epoch 7]: loss 0.1478, f1 0.347\n",
      "validation: loss 0.2415, f1 0.000\n",
      "[epoch 8]: loss 0.1262, f1 0.388\n",
      "validation: loss 0.2404, f1 0.000\n",
      "[epoch 9]: loss 0.1112, f1 0.435\n",
      "validation: loss 0.2389, f1 0.000\n",
      "[epoch 10]: loss 0.0943, f1 0.466\n",
      "validation: loss 0.2373, f1 0.000\n"
     ]
    },
    {
     "name": "stderr",
     "output_type": "stream",
     "text": [
      "\u001b[32m[I 2022-11-17 02:06:02,416]\u001b[0m Trial 2 finished with value: 0.0 and parameters: {'losses/ms_tcn/alpha': 0.0006109278231204091, 'losses/ms_tcn/focal': True, 'training/temporal_subsampling_size': 0.9712610632452269, 'model/num_f_maps': 33, 'general/len_segment': 512}. Best is trial 0 with value: 0.21382138629754385.\u001b[0m\n"
     ]
    },
    {
     "name": "stdout",
     "output_type": "stream",
     "text": [
      "Number of samples:\n",
      "    validation:\n",
      "      {-100: 4036, 3: 27, 1: 33, 2: 0, 4: 0, 0: 0}\n",
      "    training:\n",
      "      {-100: 16094, 1: 175, 3: 70, 4: 45, 2: 0, 0: 0}\n",
      "    test:\n",
      "      {1: 0, 2: 0, 3: 0, 4: 0, 0: 0}\n",
      "Computing normalization statistics...\n"
     ]
    },
    {
     "name": "stderr",
     "output_type": "stream",
     "text": [
      "100%|██████████| 16/16 [00:00<00:00, 277.44it/s]\n",
      "100%|██████████| 16/16 [00:00<00:00, 414.12it/s]"
     ]
    },
    {
     "name": "stdout",
     "output_type": "stream",
     "text": [
      "Initializing class weights:\n",
      "    160000000.0, 0.091, 160000000.0, 0.229, 0.356\n",
      "Behavior indices:\n",
      "    0: other\n",
      "    1: Grooming\n",
      "    2: StartEnd\n",
      "    3: Supported\n",
      "    4: Unsupported\n"
     ]
    },
    {
     "name": "stderr",
     "output_type": "stream",
     "text": [
      "\n"
     ]
    },
    {
     "name": "stdout",
     "output_type": "stream",
     "text": [
      "[epoch 1]: loss 0.1747, f1 0.089\n",
      "validation: loss 0.1585, f1 0.000\n",
      "[epoch 2]: loss 0.1629, f1 0.280\n",
      "validation: loss 0.1579, f1 0.000\n",
      "[epoch 3]: loss 0.1350, f1 0.401\n",
      "validation: loss 0.1570, f1 0.000\n",
      "[epoch 4]: loss 0.1059, f1 0.408\n",
      "validation: loss 0.1560, f1 0.000\n",
      "[epoch 5]: loss 0.0799, f1 0.435\n",
      "validation: loss 0.1553, f1 0.080\n",
      "[epoch 6]: loss 0.0589, f1 0.437\n",
      "validation: loss 0.1551, f1 0.064\n",
      "[epoch 7]: loss 0.0424, f1 0.507\n",
      "validation: loss 0.1556, f1 0.050\n",
      "[epoch 8]: loss 0.0270, f1 0.520\n",
      "validation: loss 0.1561, f1 0.050\n",
      "[epoch 9]: loss 0.0205, f1 0.562\n",
      "validation: loss 0.1572, f1 0.050\n"
     ]
    },
    {
     "name": "stderr",
     "output_type": "stream",
     "text": [
      "\u001b[32m[I 2022-11-17 02:06:04,874]\u001b[0m Trial 3 finished with value: 0.06454544514417648 and parameters: {'losses/ms_tcn/alpha': 1.6333702155587746e-05, 'losses/ms_tcn/focal': True, 'training/temporal_subsampling_size': 0.8071009524543757, 'model/num_f_maps': 74, 'general/len_segment': 1024}. Best is trial 0 with value: 0.21382138629754385.\u001b[0m\n"
     ]
    },
    {
     "name": "stdout",
     "output_type": "stream",
     "text": [
      "[epoch 10]: loss 0.0222, f1 0.561\n",
      "validation: loss 0.1589, f1 0.050\n",
      "Initializing class weights:\n",
      "    160000000.0, 0.091, 160000000.0, 0.229, 0.356\n",
      "Behavior indices:\n",
      "    0: other\n",
      "    1: Grooming\n",
      "    2: StartEnd\n",
      "    3: Supported\n",
      "    4: Unsupported\n",
      "[epoch 1]: loss 1.6774, f1 0.102\n",
      "validation: loss 1.6514, f1 0.000\n",
      "[epoch 2]: loss 1.5799, f1 0.264\n",
      "validation: loss 1.6452, f1 0.000\n",
      "[epoch 3]: loss 1.4717, f1 0.346\n",
      "validation: loss 1.6373, f1 0.000\n",
      "[epoch 4]: loss 1.3551, f1 0.437\n",
      "validation: loss 1.6285, f1 0.000\n",
      "[epoch 5]: loss 1.2286, f1 0.434\n",
      "validation: loss 1.6200, f1 0.028\n",
      "[epoch 6]: loss 1.0882, f1 0.451\n",
      "validation: loss 1.6116, f1 0.089\n",
      "[epoch 7]: loss 0.9281, f1 0.455\n",
      "validation: loss 1.6035, f1 0.102\n",
      "[epoch 8]: loss 0.7864, f1 0.512\n",
      "validation: loss 1.5968, f1 0.145\n",
      "[epoch 9]: loss 0.6014, f1 0.556\n",
      "validation: loss 1.5879, f1 0.132\n",
      "[epoch 10]: loss 0.5238, f1 0.552\n",
      "validation: loss 1.5790, f1 0.175\n"
     ]
    },
    {
     "name": "stderr",
     "output_type": "stream",
     "text": [
      "\u001b[32m[I 2022-11-17 02:06:06,779]\u001b[0m Trial 4 finished with value: 0.15070205430189768 and parameters: {'losses/ms_tcn/alpha': 0.0005439086139427061, 'losses/ms_tcn/focal': False, 'training/temporal_subsampling_size': 0.8420471314526801, 'model/num_f_maps': 55, 'general/len_segment': 1024}. Best is trial 0 with value: 0.21382138629754385.\u001b[0m\n"
     ]
    },
    {
     "name": "stdout",
     "output_type": "stream",
     "text": [
      "best parameters: {'losses/ms_tcn/alpha': 0.0004073904199604741, 'losses/ms_tcn/focal': False, 'training/temporal_subsampling_size': 0.8324508457055846, 'model/num_f_maps': 55, 'general/len_segment': 1024}\n",
      "\n",
      "\n",
      "SEARCH transformer_search\n"
     ]
    },
    {
     "name": "stderr",
     "output_type": "stream",
     "text": [
      "\u001b[32m[I 2022-11-17 02:06:09,483]\u001b[0m A new study created in memory with name: no-name-5a7b33ac-816e-4ead-840c-f30cc75a3f22\u001b[0m\n"
     ]
    },
    {
     "name": "stdout",
     "output_type": "stream",
     "text": [
      "Computing input features...\n"
     ]
    },
    {
     "name": "stderr",
     "output_type": "stream",
     "text": [
      "100%|██████████| 20/20 [00:08<00:00,  2.33it/s]\n"
     ]
    },
    {
     "name": "stdout",
     "output_type": "stream",
     "text": [
      "Computing annotation arrays...\n"
     ]
    },
    {
     "name": "stderr",
     "output_type": "stream",
     "text": [
      "100%|██████████| 20/20 [00:00<00:00, 618.98it/s]\n"
     ]
    },
    {
     "name": "stdout",
     "output_type": "stream",
     "text": [
      "Filtering 98.29% of samples\n",
      "Number of samples:\n",
      "    validation:\n",
      "      {-100: 708, 3: 27, 1: 33, 2: 0, 4: 0, 0: 0}\n",
      "    training:\n",
      "      {-100: 4190, 1: 175, 3: 70, 4: 45, 2: 0, 0: 0}\n",
      "    test:\n",
      "      {1: 0, 2: 0, 3: 0, 4: 0, 0: 0}\n",
      "Computing normalization statistics...\n"
     ]
    },
    {
     "name": "stderr",
     "output_type": "stream",
     "text": [
      "100%|██████████| 35/35 [00:00<00:00, 440.57it/s]\n",
      "100%|██████████| 35/35 [00:00<00:00, 758.43it/s]"
     ]
    },
    {
     "name": "stdout",
     "output_type": "stream",
     "text": [
      "Initializing class weights:\n",
      "    350000000.0, 0.2, 350000000.0, 0.5, 0.778\n",
      "Behavior indices:\n",
      "    0: other\n",
      "    1: Grooming\n",
      "    2: StartEnd\n",
      "    3: Supported\n",
      "    4: Unsupported\n"
     ]
    },
    {
     "name": "stderr",
     "output_type": "stream",
     "text": [
      "\n"
     ]
    },
    {
     "name": "stdout",
     "output_type": "stream",
     "text": [
      "[epoch 1]: loss 0.0501, f1 0.157\n",
      "validation: loss 0.2701, f1 0.122\n",
      "[epoch 2]: loss 0.0333, f1 0.348\n",
      "validation: loss 0.2695, f1 0.148\n",
      "[epoch 3]: loss 0.0238, f1 0.421\n",
      "validation: loss 0.2692, f1 0.137\n",
      "[epoch 4]: loss 0.0171, f1 0.479\n",
      "validation: loss 0.2689, f1 0.097\n",
      "[epoch 5]: loss 0.0130, f1 0.481\n",
      "validation: loss 0.2684, f1 0.103\n",
      "[epoch 6]: loss 0.0101, f1 0.510\n",
      "validation: loss 0.2679, f1 0.120\n",
      "[epoch 7]: loss 0.0066, f1 0.580\n",
      "validation: loss 0.2668, f1 0.127\n",
      "[epoch 8]: loss 0.0045, f1 0.591\n",
      "validation: loss 0.2658, f1 0.178\n",
      "[epoch 9]: loss 0.0031, f1 0.597\n",
      "validation: loss 0.2650, f1 0.172\n"
     ]
    },
    {
     "name": "stderr",
     "output_type": "stream",
     "text": [
      "\u001b[32m[I 2022-11-17 02:06:24,105]\u001b[0m Trial 0 finished with value: 0.17541193465391794 and parameters: {'losses/ms_tcn/alpha': 0.005872445259593748, 'losses/ms_tcn/focal': False, 'training/temporal_subsampling_size': 0.7666260209734416, 'model/N': 7, 'model/heads': 4, 'model/num_pool': 2, 'model/add_batchnorm': True, 'general/len_segment': 128}. Best is trial 0 with value: 0.17541193465391794.\u001b[0m\n"
     ]
    },
    {
     "name": "stdout",
     "output_type": "stream",
     "text": [
      "[epoch 10]: loss 0.0026, f1 0.586\n",
      "validation: loss 0.2640, f1 0.176\n",
      "Initializing class weights:\n",
      "    350000000.0, 0.2, 350000000.0, 0.5, 0.778\n",
      "Behavior indices:\n",
      "    0: other\n",
      "    1: Grooming\n",
      "    2: StartEnd\n",
      "    3: Supported\n",
      "    4: Unsupported\n",
      "[epoch 1]: loss 0.0457, f1 0.146\n",
      "validation: loss 0.1595, f1 0.233\n",
      "[epoch 2]: loss 0.0434, f1 0.260\n",
      "validation: loss 0.1271, f1 0.300\n",
      "[epoch 3]: loss 0.0407, f1 0.255\n",
      "validation: loss 0.1224, f1 0.359\n",
      "[epoch 4]: loss 0.0359, f1 0.228\n",
      "validation: loss 0.1161, f1 0.346\n",
      "[epoch 5]: loss 0.0325, f1 0.225\n",
      "validation: loss 0.1057, f1 0.293\n",
      "[epoch 6]: loss 0.0297, f1 0.169\n",
      "validation: loss 0.1246, f1 0.189\n",
      "[epoch 7]: loss 0.0272, f1 0.268\n",
      "validation: loss 0.2005, f1 0.184\n",
      "[epoch 8]: loss 0.0247, f1 0.269\n",
      "validation: loss 0.2969, f1 0.194\n",
      "[epoch 9]: loss 0.0220, f1 0.324\n",
      "validation: loss 0.3587, f1 0.132\n"
     ]
    },
    {
     "name": "stderr",
     "output_type": "stream",
     "text": [
      "\u001b[32m[I 2022-11-17 02:06:26,186]\u001b[0m Trial 1 finished with value: 0.33484355608622235 and parameters: {'losses/ms_tcn/alpha': 7.319650302741545e-05, 'losses/ms_tcn/focal': False, 'training/temporal_subsampling_size': 0.7626898923000842, 'model/N': 7, 'model/heads': 2, 'model/num_pool': 3, 'model/add_batchnorm': False, 'general/len_segment': 128}. Best is trial 1 with value: 0.33484355608622235.\u001b[0m\n"
     ]
    },
    {
     "name": "stdout",
     "output_type": "stream",
     "text": [
      "[epoch 10]: loss 0.0184, f1 0.384\n",
      "validation: loss 0.2836, f1 0.177\n",
      "Initializing class weights:\n",
      "    350000000.0, 0.2, 350000000.0, 0.5, 0.778\n"
     ]
    },
    {
     "name": "stderr",
     "output_type": "stream",
     "text": [
      "\u001b[32m[I 2022-11-17 02:06:26,725]\u001b[0m Trial 2 pruned. \u001b[0m\n"
     ]
    },
    {
     "name": "stdout",
     "output_type": "stream",
     "text": [
      "Behavior indices:\n",
      "    0: other\n",
      "    1: Grooming\n",
      "    2: StartEnd\n",
      "    3: Supported\n",
      "    4: Unsupported\n",
      "Computing input features...\n"
     ]
    },
    {
     "name": "stderr",
     "output_type": "stream",
     "text": [
      "100%|██████████| 20/20 [00:08<00:00,  2.22it/s]\n"
     ]
    },
    {
     "name": "stdout",
     "output_type": "stream",
     "text": [
      "Computing annotation arrays...\n"
     ]
    },
    {
     "name": "stderr",
     "output_type": "stream",
     "text": [
      "100%|██████████| 20/20 [00:00<00:00, 311.45it/s]\n"
     ]
    },
    {
     "name": "stdout",
     "output_type": "stream",
     "text": [
      "Filtering 98.91% of samples\n",
      "Number of samples:\n",
      "    validation:\n",
      "      {3: 27, -100: 452, 1: 33, 2: 0, 4: 0, 0: 0}\n",
      "    training:\n",
      "      {-100: 2526, 1: 175, 3: 70, 4: 45, 2: 0, 0: 0}\n",
      "    test:\n",
      "      {1: 0, 2: 0, 3: 0, 4: 0, 0: 0}\n",
      "Computing normalization statistics...\n"
     ]
    },
    {
     "name": "stderr",
     "output_type": "stream",
     "text": [
      "100%|██████████| 44/44 [00:00<00:00, 446.26it/s]\n",
      "100%|██████████| 44/44 [00:00<00:00, 800.69it/s]\n"
     ]
    },
    {
     "name": "stdout",
     "output_type": "stream",
     "text": [
      "Initializing class weights:\n",
      "    440000000.0, 0.251, 440000000.0, 0.629, 0.978\n"
     ]
    },
    {
     "name": "stderr",
     "output_type": "stream",
     "text": [
      "\u001b[32m[I 2022-11-17 02:06:36,704]\u001b[0m Trial 3 pruned. \u001b[0m\n"
     ]
    },
    {
     "name": "stdout",
     "output_type": "stream",
     "text": [
      "Behavior indices:\n",
      "    0: other\n",
      "    1: Grooming\n",
      "    2: StartEnd\n",
      "    3: Supported\n",
      "    4: Unsupported\n",
      "Number of samples:\n",
      "    validation:\n",
      "      {-100: 708, 3: 27, 1: 33, 2: 0, 4: 0, 0: 0}\n",
      "    training:\n",
      "      {-100: 4190, 1: 175, 3: 70, 4: 45, 2: 0, 0: 0}\n",
      "    test:\n",
      "      {1: 0, 2: 0, 3: 0, 4: 0, 0: 0}\n",
      "Computing normalization statistics...\n"
     ]
    },
    {
     "name": "stderr",
     "output_type": "stream",
     "text": [
      "100%|██████████| 35/35 [00:00<00:00, 117.49it/s]\n",
      "100%|██████████| 35/35 [00:00<00:00, 642.68it/s]\n"
     ]
    },
    {
     "name": "stdout",
     "output_type": "stream",
     "text": [
      "Initializing class weights:\n",
      "    350000000.0, 0.2, 350000000.0, 0.5, 0.778\n"
     ]
    },
    {
     "name": "stderr",
     "output_type": "stream",
     "text": [
      "\u001b[32m[I 2022-11-17 02:06:37,725]\u001b[0m Trial 4 pruned. \u001b[0m\n",
      "\u001b[33m[W 2022-11-17 02:06:37,727]\u001b[0m Param general/len_segment unique value length is less than 2.\u001b[0m\n",
      "\u001b[33m[W 2022-11-17 02:06:37,728]\u001b[0m Param losses/ms_tcn/focal unique value length is less than 2.\u001b[0m\n",
      "\u001b[33m[W 2022-11-17 02:06:37,729]\u001b[0m Param model/N unique value length is less than 2.\u001b[0m\n",
      "\u001b[33m[W 2022-11-17 02:06:37,730]\u001b[0m Param general/len_segment unique value length is less than 2.\u001b[0m\n",
      "\u001b[33m[W 2022-11-17 02:06:37,731]\u001b[0m Param general/len_segment unique value length is less than 2.\u001b[0m\n",
      "\u001b[33m[W 2022-11-17 02:06:37,733]\u001b[0m Param general/len_segment unique value length is less than 2.\u001b[0m\n",
      "\u001b[33m[W 2022-11-17 02:06:37,734]\u001b[0m Param general/len_segment unique value length is less than 2.\u001b[0m\n",
      "\u001b[33m[W 2022-11-17 02:06:37,735]\u001b[0m Param general/len_segment unique value length is less than 2.\u001b[0m\n"
     ]
    },
    {
     "name": "stdout",
     "output_type": "stream",
     "text": [
      "Behavior indices:\n",
      "    0: other\n",
      "    1: Grooming\n",
      "    2: StartEnd\n",
      "    3: Supported\n",
      "    4: Unsupported\n"
     ]
    },
    {
     "name": "stderr",
     "output_type": "stream",
     "text": [
      "\u001b[33m[W 2022-11-17 02:06:37,737]\u001b[0m Param losses/ms_tcn/focal unique value length is less than 2.\u001b[0m\n",
      "\u001b[33m[W 2022-11-17 02:06:37,739]\u001b[0m Param model/N unique value length is less than 2.\u001b[0m\n",
      "\u001b[33m[W 2022-11-17 02:06:37,740]\u001b[0m Param general/len_segment unique value length is less than 2.\u001b[0m\n",
      "\u001b[33m[W 2022-11-17 02:06:37,742]\u001b[0m Param losses/ms_tcn/focal unique value length is less than 2.\u001b[0m\n",
      "\u001b[33m[W 2022-11-17 02:06:37,743]\u001b[0m Param model/N unique value length is less than 2.\u001b[0m\n",
      "\u001b[33m[W 2022-11-17 02:06:37,743]\u001b[0m Param losses/ms_tcn/focal unique value length is less than 2.\u001b[0m\n",
      "\u001b[33m[W 2022-11-17 02:06:37,744]\u001b[0m Param losses/ms_tcn/focal unique value length is less than 2.\u001b[0m\n",
      "\u001b[33m[W 2022-11-17 02:06:37,745]\u001b[0m Param losses/ms_tcn/focal unique value length is less than 2.\u001b[0m\n",
      "\u001b[33m[W 2022-11-17 02:06:37,746]\u001b[0m Param losses/ms_tcn/focal unique value length is less than 2.\u001b[0m\n",
      "\u001b[33m[W 2022-11-17 02:06:37,747]\u001b[0m Param general/len_segment unique value length is less than 2.\u001b[0m\n",
      "\u001b[33m[W 2022-11-17 02:06:37,748]\u001b[0m Param model/N unique value length is less than 2.\u001b[0m\n",
      "\u001b[33m[W 2022-11-17 02:06:37,749]\u001b[0m Param losses/ms_tcn/focal unique value length is less than 2.\u001b[0m\n",
      "\u001b[33m[W 2022-11-17 02:06:37,750]\u001b[0m Param model/N unique value length is less than 2.\u001b[0m\n",
      "\u001b[33m[W 2022-11-17 02:06:37,751]\u001b[0m Param model/N unique value length is less than 2.\u001b[0m\n",
      "\u001b[33m[W 2022-11-17 02:06:37,752]\u001b[0m Param model/N unique value length is less than 2.\u001b[0m\n",
      "\u001b[33m[W 2022-11-17 02:06:37,753]\u001b[0m Param model/N unique value length is less than 2.\u001b[0m\n",
      "\u001b[33m[W 2022-11-17 02:06:37,754]\u001b[0m Param general/len_segment unique value length is less than 2.\u001b[0m\n",
      "\u001b[33m[W 2022-11-17 02:06:37,755]\u001b[0m Param losses/ms_tcn/focal unique value length is less than 2.\u001b[0m\n",
      "\u001b[33m[W 2022-11-17 02:06:37,756]\u001b[0m Param model/N unique value length is less than 2.\u001b[0m\n",
      "\u001b[33m[W 2022-11-17 02:06:37,757]\u001b[0m Param general/len_segment unique value length is less than 2.\u001b[0m\n",
      "\u001b[33m[W 2022-11-17 02:06:37,758]\u001b[0m Param losses/ms_tcn/focal unique value length is less than 2.\u001b[0m\n",
      "\u001b[33m[W 2022-11-17 02:06:37,759]\u001b[0m Param model/N unique value length is less than 2.\u001b[0m\n",
      "\u001b[33m[W 2022-11-17 02:06:37,760]\u001b[0m Param general/len_segment unique value length is less than 2.\u001b[0m\n",
      "\u001b[33m[W 2022-11-17 02:06:37,761]\u001b[0m Param losses/ms_tcn/focal unique value length is less than 2.\u001b[0m\n",
      "\u001b[33m[W 2022-11-17 02:06:37,762]\u001b[0m Param model/N unique value length is less than 2.\u001b[0m\n",
      "\u001b[33m[W 2022-11-17 02:06:37,764]\u001b[0m Param general/len_segment unique value length is less than 2.\u001b[0m\n",
      "\u001b[33m[W 2022-11-17 02:06:37,765]\u001b[0m Param losses/ms_tcn/focal unique value length is less than 2.\u001b[0m\n",
      "\u001b[33m[W 2022-11-17 02:06:37,770]\u001b[0m Param model/N unique value length is less than 2.\u001b[0m\n"
     ]
    },
    {
     "name": "stdout",
     "output_type": "stream",
     "text": [
      "best parameters: {'losses/ms_tcn/alpha': 7.319650302741545e-05, 'losses/ms_tcn/focal': False, 'training/temporal_subsampling_size': 0.7626898923000842, 'model/N': 7, 'model/heads': 2, 'model/num_pool': 3, 'model/add_batchnorm': False, 'general/len_segment': 128}\n",
      "\n",
      "\n"
     ]
    }
   ],
   "source": [
    "for model in [MODEL_NAME1, MODEL_NAME2]:\n",
    "    project.run_default_hyperparameter_search(\n",
    "        f\"{model}_search\",\n",
    "        model_name=model,\n",
    "        metric=METRICS[0],\n",
    "        num_epochs=5,\n",
    "        n_trials=10,\n",
    "        prune=True,\n",
    "        best_n=3 # we will compare trials based on the average of three best epochs to account for noise\n",
    "    )\n"
   ]
  },
  {
   "cell_type": "markdown",
   "metadata": {},
   "source": [
    "Those searches will optimize the hyperparameters to maximize the first metric in our list. Note how some trials stop before reaching 10 epochs. That is happening because we have set `prune=True` to interrupt experiments when they are unlikely to beat the best score.\n",
    "\n",
    "Generally, it is better to set both the number of trials and the number of epochs much higher (30-50 and around 150, respectively, is usually a good choice). We are setting them low here to save time but keep in mind that it does mean that the parameters those searches find are probably not actually optimal."
   ]
  },
  {
   "cell_type": "markdown",
   "metadata": {},
   "source": [
    "The searches have created a bunch of datasets that we are not going to use again so it's a good idea to clean up the memory at this point."
   ]
  },
  {
   "cell_type": "code",
   "execution_count": 19,
   "metadata": {},
   "outputs": [
    {
     "name": "stdout",
     "output_type": "stream",
     "text": [
      "Removing datasets...\n"
     ]
    },
    {
     "name": "stderr",
     "output_type": "stream",
     "text": [
      "100%|██████████| 4/4 [00:00<00:00, 160.79it/s]"
     ]
    },
    {
     "name": "stdout",
     "output_type": "stream",
     "text": [
      "\n",
      "\n"
     ]
    },
    {
     "name": "stderr",
     "output_type": "stream",
     "text": [
      "\n"
     ]
    }
   ],
   "source": [
    "project.remove_saved_features()"
   ]
  },
  {
   "cell_type": "markdown",
   "metadata": {},
   "source": [
    "`DLC2Action` needs pre-computed features to run an experiment. It keeps track of features that are stored on your system and does not re-compute them if they have already been created in other experiments with the same data parameters. They can take up a lot of space, however, so it's good practice to remove them sometimes. \n",
    "\n",
    "Do not be afraid to run `project.remove_saved_features()`, you never lose any information when you do. The features will just be computed again if you need them. In addition, if you are running low on space, it might be more convenient to pass `remove_saved_features=True` to project methods to remove the features as soon as they are not needed anymore.\n",
    "\n",
    "Another function that helps clean up the memory is `project.remove_extra_checkpoints()`. DLC2Action saves a model checkpoint every 5 epochs by default (you can change this interval at `\"training/model_save_interval\"`). Running this method will remove all the checkpoints except for the last one in each episode."
   ]
  },
  {
   "cell_type": "markdown",
   "metadata": {},
   "source": [
    "When the searches are done, we can check out the results."
   ]
  },
  {
   "cell_type": "code",
   "execution_count": 20,
   "metadata": {},
   "outputs": [
    {
     "name": "stdout",
     "output_type": "stream",
     "text": [
      "SEARCH RESULTS c2f_tcn_search\n",
      "losses/ms_tcn/alpha: 0.0004073904199604741\n",
      "losses/ms_tcn/focal: False\n",
      "training/temporal_subsampling_size: 0.8324508457055846\n",
      "model/num_f_maps: 55\n",
      "general/len_segment: 1024\n",
      "\n",
      "\n",
      "SEARCH RESULTS transformer_search\n",
      "losses/ms_tcn/alpha: 7.319650302741545e-05\n",
      "losses/ms_tcn/focal: False\n",
      "training/temporal_subsampling_size: 0.7626898923000842\n",
      "model/N: 7\n",
      "model/heads: 2\n",
      "model/num_pool: 3\n",
      "model/add_batchnorm: False\n",
      "general/len_segment: 128\n",
      "\n",
      "\n"
     ]
    }
   ],
   "source": [
    "for model in [MODEL_NAME1, MODEL_NAME2]:\n",
    "    _ = project.list_best_parameters(f\"{model}_search\")"
   ]
  },
  {
   "cell_type": "markdown",
   "metadata": {},
   "source": [
    "The searches can be used to update the default parameters with `project.update_parameters(load_search=search_name)` but in this case it's more convenient to load them in the relevant episodes."
   ]
  },
  {
   "cell_type": "markdown",
   "metadata": {},
   "source": [
    "## Training models"
   ]
  },
  {
   "cell_type": "markdown",
   "metadata": {},
   "source": [
    "Now we can train models with the best hyperparameters."
   ]
  },
  {
   "cell_type": "code",
   "execution_count": 21,
   "metadata": {},
   "outputs": [
    {
     "name": "stdout",
     "output_type": "stream",
     "text": [
      "TRAINING c2f_tcn_best::0\n",
      "Computing input features...\n"
     ]
    },
    {
     "name": "stderr",
     "output_type": "stream",
     "text": [
      "100%|██████████| 20/20 [00:10<00:00,  1.87it/s]\n"
     ]
    },
    {
     "name": "stdout",
     "output_type": "stream",
     "text": [
      "Computing annotation arrays...\n"
     ]
    },
    {
     "name": "stderr",
     "output_type": "stream",
     "text": [
      "100%|██████████| 20/20 [00:00<00:00, 563.74it/s]\n"
     ]
    },
    {
     "name": "stdout",
     "output_type": "stream",
     "text": [
      "Filtering 96.00% of samples\n",
      "Number of samples:\n",
      "    validation:\n",
      "      {-100: 8059, 3: 66, 1: 67, 2: 0, 4: 0, 0: 0}\n",
      "    training:\n",
      "      {-100: 40364, 1: 342, 3: 154, 4: 100, 2: 0, 0: 0}\n",
      "    test:\n",
      "      {1: 0, 2: 0, 3: 0, 4: 0, 0: 0}\n",
      "Computing normalization statistics...\n"
     ]
    },
    {
     "name": "stderr",
     "output_type": "stream",
     "text": [
      "100%|██████████| 40/40 [00:00<00:00, 480.22it/s]\n",
      "100%|██████████| 40/40 [00:00<00:00, 476.27it/s]"
     ]
    },
    {
     "name": "stdout",
     "output_type": "stream",
     "text": [
      "Initializing class weights:\n",
      "    400000000.0, 0.117, 400000000.0, 0.26, 0.4\n",
      "Behavior indices:\n",
      "    0: other\n",
      "    1: Grooming\n",
      "    2: StartEnd\n",
      "    3: Supported\n",
      "    4: Unsupported\n"
     ]
    },
    {
     "name": "stderr",
     "output_type": "stream",
     "text": [
      "\n"
     ]
    },
    {
     "name": "stdout",
     "output_type": "stream",
     "text": [
      "[epoch 1]: loss 1.6129, f1 0.167, precision 0.217\n",
      "validation: loss 1.5889, f1 0.000, precision 0.000\n",
      "[epoch 2]: loss 1.4992, f1 0.294, precision 0.325\n",
      "validation: loss 1.5856, f1 0.000, precision 0.000\n",
      "[epoch 3]: loss 1.3780, f1 0.408, precision 0.419\n",
      "validation: loss 1.5822, f1 0.000, precision 0.000\n",
      "[epoch 4]: loss 1.2555, f1 0.433, precision 0.441\n",
      "validation: loss 1.5784, f1 0.000, precision 0.000\n",
      "[epoch 5]: loss 1.1041, f1 0.463, precision 0.462\n",
      "validation: loss 1.5733, f1 0.061, precision 0.253\n",
      "[epoch 6]: loss 0.9307, f1 0.486, precision 0.492\n",
      "validation: loss 1.5659, f1 0.117, precision 0.153\n",
      "[epoch 7]: loss 0.7666, f1 0.485, precision 0.484\n",
      "validation: loss 1.5587, f1 0.161, precision 0.185\n",
      "[epoch 8]: loss 0.6027, f1 0.507, precision 0.504\n",
      "validation: loss 1.5552, f1 0.155, precision 0.167\n",
      "[epoch 9]: loss 0.4483, f1 0.528, precision 0.517\n",
      "validation: loss 1.5520, f1 0.155, precision 0.167\n",
      "[epoch 10]: loss 0.4009, f1 0.556, precision 0.555\n",
      "validation: loss 1.5477, f1 0.163, precision 0.190\n",
      "[epoch 11]: loss 0.3508, f1 0.551, precision 0.545\n",
      "validation: loss 1.5549, f1 0.163, precision 0.190\n",
      "[epoch 12]: loss 0.2695, f1 0.563, precision 0.551\n",
      "validation: loss 1.5623, f1 0.154, precision 0.164\n",
      "[epoch 13]: loss 0.1986, f1 0.598, precision 0.598\n",
      "validation: loss 1.5681, f1 0.149, precision 0.155\n",
      "[epoch 14]: loss 0.1685, f1 0.581, precision 0.575\n",
      "validation: loss 1.5709, f1 0.149, precision 0.158\n",
      "[epoch 15]: loss 0.1354, f1 0.594, precision 0.595\n",
      "validation: loss 1.5877, f1 0.154, precision 0.167\n",
      "\n",
      "\n",
      "TRAINING c2f_tcn_best::1\n",
      "Number of samples:\n",
      "    validation:\n",
      "      {-100: 8059, 3: 66, 1: 67, 2: 0, 4: 0, 0: 0}\n",
      "    training:\n",
      "      {-100: 40364, 1: 342, 3: 154, 4: 100, 2: 0, 0: 0}\n",
      "    test:\n",
      "      {1: 0, 2: 0, 3: 0, 4: 0, 0: 0}\n",
      "Computing normalization statistics...\n"
     ]
    },
    {
     "name": "stderr",
     "output_type": "stream",
     "text": [
      "100%|██████████| 40/40 [00:00<00:00, 355.88it/s]\n",
      "100%|██████████| 40/40 [00:00<00:00, 561.73it/s]\n"
     ]
    },
    {
     "name": "stdout",
     "output_type": "stream",
     "text": [
      "Initializing class weights:\n",
      "    400000000.0, 0.117, 400000000.0, 0.26, 0.4\n",
      "Behavior indices:\n",
      "    0: other\n",
      "    1: Grooming\n",
      "    2: StartEnd\n",
      "    3: Supported\n",
      "    4: Unsupported\n",
      "[epoch 1]: loss 1.6298, f1 0.146, precision 0.226\n",
      "validation: loss 1.5457, f1 0.133, precision 0.099\n",
      "[epoch 2]: loss 1.4936, f1 0.244, precision 0.318\n",
      "validation: loss 1.5406, f1 0.133, precision 0.099\n",
      "[epoch 3]: loss 1.3321, f1 0.356, precision 0.389\n",
      "validation: loss 1.5397, f1 0.133, precision 0.099\n",
      "[epoch 4]: loss 1.1729, f1 0.387, precision 0.407\n",
      "validation: loss 1.5414, f1 0.133, precision 0.099\n",
      "[epoch 5]: loss 0.9802, f1 0.446, precision 0.444\n",
      "validation: loss 1.5436, f1 0.133, precision 0.099\n",
      "[epoch 6]: loss 0.7897, f1 0.512, precision 0.499\n",
      "validation: loss 1.5465, f1 0.133, precision 0.099\n",
      "[epoch 7]: loss 0.6243, f1 0.538, precision 0.525\n",
      "validation: loss 1.5487, f1 0.164, precision 0.303\n",
      "[epoch 8]: loss 0.5104, f1 0.542, precision 0.532\n",
      "validation: loss 1.5489, f1 0.272, precision 0.326\n",
      "[epoch 9]: loss 0.4819, f1 0.539, precision 0.528\n",
      "validation: loss 1.5513, f1 0.164, precision 0.170\n",
      "[epoch 10]: loss 0.3885, f1 0.554, precision 0.546\n",
      "validation: loss 1.5550, f1 0.172, precision 0.173\n",
      "[epoch 11]: loss 0.3352, f1 0.555, precision 0.546\n",
      "validation: loss 1.5584, f1 0.177, precision 0.177\n",
      "[epoch 12]: loss 0.2661, f1 0.569, precision 0.558\n",
      "validation: loss 1.5625, f1 0.156, precision 0.156\n",
      "[epoch 13]: loss 0.2028, f1 0.583, precision 0.576\n",
      "validation: loss 1.5689, f1 0.137, precision 0.137\n",
      "[epoch 14]: loss 0.1530, f1 0.581, precision 0.573\n",
      "validation: loss 1.5829, f1 0.140, precision 0.140\n",
      "[epoch 15]: loss 0.1431, f1 0.579, precision 0.573\n",
      "validation: loss 1.5977, f1 0.142, precision 0.142\n",
      "\n",
      "\n",
      "TRAINING c2f_tcn_best::2\n",
      "Initializing class weights:\n",
      "    400000000.0, 0.117, 400000000.0, 0.26, 0.4\n",
      "Behavior indices:\n",
      "    0: other\n",
      "    1: Grooming\n",
      "    2: StartEnd\n",
      "    3: Supported\n",
      "    4: Unsupported\n",
      "[epoch 1]: loss 1.6566, f1 0.086, precision 0.184\n",
      "validation: loss 1.6231, f1 0.000, precision 0.000\n",
      "[epoch 2]: loss 1.5325, f1 0.245, precision 0.341\n",
      "validation: loss 1.6220, f1 0.000, precision 0.000\n",
      "[epoch 3]: loss 1.3950, f1 0.351, precision 0.394\n",
      "validation: loss 1.6190, f1 0.000, precision 0.000\n",
      "[epoch 4]: loss 1.2562, f1 0.371, precision 0.392\n",
      "validation: loss 1.6163, f1 0.000, precision 0.000\n",
      "[epoch 5]: loss 1.1001, f1 0.442, precision 0.437\n",
      "validation: loss 1.6139, f1 0.000, precision 0.000\n",
      "[epoch 6]: loss 0.9557, f1 0.460, precision 0.453\n",
      "validation: loss 1.6119, f1 0.000, precision 0.000\n",
      "[epoch 7]: loss 0.7810, f1 0.517, precision 0.503\n",
      "validation: loss 1.6108, f1 0.000, precision 0.000\n",
      "[epoch 8]: loss 0.6174, f1 0.551, precision 0.539\n",
      "validation: loss 1.6102, f1 0.012, precision 0.200\n",
      "[epoch 9]: loss 0.4776, f1 0.581, precision 0.575\n",
      "validation: loss 1.6090, f1 0.036, precision 0.117\n",
      "[epoch 10]: loss 0.3656, f1 0.583, precision 0.581\n",
      "validation: loss 1.6101, f1 0.033, precision 0.074\n",
      "[epoch 11]: loss 0.2838, f1 0.567, precision 0.555\n",
      "validation: loss 1.6068, f1 0.033, precision 0.074\n",
      "[epoch 12]: loss 0.2159, f1 0.594, precision 0.593\n",
      "validation: loss 1.6047, f1 0.129, precision 0.254\n",
      "[epoch 13]: loss 0.1830, f1 0.594, precision 0.595\n",
      "validation: loss 1.6040, f1 0.129, precision 0.170\n",
      "[epoch 14]: loss 0.1293, f1 0.590, precision 0.587\n",
      "validation: loss 1.5952, f1 0.148, precision 0.190\n",
      "[epoch 15]: loss 0.1057, f1 0.594, precision 0.594\n",
      "validation: loss 1.5977, f1 0.158, precision 0.191\n",
      "\n",
      "\n",
      "TRAINING transformer_best::0\n",
      "Computing input features...\n"
     ]
    },
    {
     "name": "stderr",
     "output_type": "stream",
     "text": [
      "100%|██████████| 20/20 [00:09<00:00,  2.21it/s]\n"
     ]
    },
    {
     "name": "stdout",
     "output_type": "stream",
     "text": [
      "Computing annotation arrays...\n"
     ]
    },
    {
     "name": "stderr",
     "output_type": "stream",
     "text": [
      "100%|██████████| 20/20 [00:00<00:00, 303.26it/s]\n"
     ]
    },
    {
     "name": "stdout",
     "output_type": "stream",
     "text": [
      "Filtering 98.21% of samples\n",
      "Number of samples:\n",
      "    validation:\n",
      "      {-100: 3216, 3: 108, 1: 132, 2: 0, 4: 0, 0: 0}\n",
      "    training:\n",
      "      {-100: 17307, 1: 670, 3: 275, 4: 180, 2: 0, 0: 0}\n",
      "    test:\n",
      "      {1: 0, 2: 0, 3: 0, 4: 0, 0: 0}\n",
      "Computing normalization statistics...\n"
     ]
    },
    {
     "name": "stderr",
     "output_type": "stream",
     "text": [
      "100%|██████████| 144/144 [00:00<00:00, 677.15it/s]\n",
      "100%|██████████| 144/144 [00:00<00:00, 644.60it/s]\n",
      "/home/liza/DLC2Action_minimal/dlc2action/project/meta.py:665: FutureWarning:\n",
      "\n",
      "Behavior when concatenating bool-dtype and numeric-dtype arrays is deprecated; in a future version these will cast to object dtype (instead of coercing bools to numeric values). To retain the old behavior, explicitly cast bool-dtype arrays to numeric dtype.\n",
      "\n"
     ]
    },
    {
     "name": "stdout",
     "output_type": "stream",
     "text": [
      "Initializing class weights:\n",
      "    1440000000.0, 0.215, 1440000000.0, 0.524, 0.8\n",
      "Behavior indices:\n",
      "    0: other\n",
      "    1: Grooming\n",
      "    2: StartEnd\n",
      "    3: Supported\n",
      "    4: Unsupported\n",
      "[epoch 1]: loss 0.0483, f1 0.133, precision 0.237\n",
      "validation: loss 0.0496, f1 0.145, precision 0.210\n",
      "[epoch 2]: loss 0.0395, f1 0.263, precision 0.277\n",
      "validation: loss 0.0523, f1 0.170, precision 0.177\n",
      "[epoch 3]: loss 0.0321, f1 0.239, precision 0.244\n",
      "validation: loss 0.0581, f1 0.190, precision 0.210\n",
      "[epoch 4]: loss 0.0281, f1 0.217, precision 0.280\n",
      "validation: loss 0.0348, f1 0.114, precision 0.098\n",
      "[epoch 5]: loss 0.0315, f1 0.234, precision 0.291\n",
      "validation: loss 0.0358, f1 0.253, precision 0.303\n",
      "[epoch 6]: loss 0.0355, f1 0.185, precision 0.274\n",
      "validation: loss 0.0389, f1 0.173, precision 0.175\n",
      "[epoch 7]: loss 0.0442, f1 0.193, precision 0.273\n",
      "validation: loss 0.0579, f1 0.141, precision 0.110\n",
      "[epoch 8]: loss 0.0306, f1 0.180, precision 0.355\n",
      "validation: loss 0.0700, f1 0.092, precision 0.130\n",
      "[epoch 9]: loss 0.0250, f1 0.293, precision 0.295\n",
      "validation: loss 0.0631, f1 0.133, precision 0.239\n",
      "[epoch 10]: loss 0.0261, f1 0.247, precision 0.300\n",
      "validation: loss 0.0611, f1 0.109, precision 0.210\n",
      "[epoch 11]: loss 0.0277, f1 0.211, precision 0.256\n",
      "validation: loss 0.0617, f1 0.127, precision 0.252\n",
      "[epoch 12]: loss 0.0256, f1 0.227, precision 0.274\n",
      "validation: loss 0.0496, f1 0.124, precision 0.207\n",
      "[epoch 13]: loss 0.0228, f1 0.281, precision 0.313\n",
      "validation: loss 0.0434, f1 0.101, precision 0.143\n",
      "[epoch 14]: loss 0.0211, f1 0.375, precision 0.375\n",
      "validation: loss 0.0460, f1 0.113, precision 0.163\n",
      "[epoch 15]: loss 0.0169, f1 0.430, precision 0.422\n",
      "validation: loss 0.0529, f1 0.195, precision 0.220\n",
      "\n",
      "\n",
      "TRAINING transformer_best::1\n",
      "Number of samples:\n",
      "    validation:\n",
      "      {-100: 3216, 3: 108, 1: 132, 2: 0, 4: 0, 0: 0}\n",
      "    training:\n",
      "      {-100: 17307, 1: 670, 3: 275, 4: 180, 2: 0, 0: 0}\n",
      "    test:\n",
      "      {1: 0, 2: 0, 3: 0, 4: 0, 0: 0}\n",
      "Computing normalization statistics...\n"
     ]
    },
    {
     "name": "stderr",
     "output_type": "stream",
     "text": [
      "100%|██████████| 144/144 [00:00<00:00, 771.54it/s]\n",
      "100%|██████████| 144/144 [00:00<00:00, 855.36it/s]\n"
     ]
    },
    {
     "name": "stdout",
     "output_type": "stream",
     "text": [
      "Initializing class weights:\n",
      "    1440000000.0, 0.215, 1440000000.0, 0.524, 0.8\n",
      "Behavior indices:\n",
      "    0: other\n",
      "    1: Grooming\n",
      "    2: StartEnd\n",
      "    3: Supported\n",
      "    4: Unsupported\n",
      "[epoch 1]: loss 0.0459, f1 0.184, precision 0.326\n",
      "validation: loss 0.0725, f1 0.142, precision 0.110\n",
      "[epoch 2]: loss 0.0359, f1 0.231, precision 0.364\n",
      "validation: loss 0.1640, f1 0.142, precision 0.154\n",
      "[epoch 3]: loss 0.0391, f1 0.267, precision 0.295\n",
      "validation: loss 0.1820, f1 0.108, precision 0.252\n",
      "[epoch 4]: loss 0.0279, f1 0.187, precision 0.249\n",
      "validation: loss 0.0974, f1 0.170, precision 0.332\n",
      "[epoch 5]: loss 0.0348, f1 0.274, precision 0.385\n",
      "validation: loss 0.0905, f1 0.142, precision 0.110\n",
      "[epoch 6]: loss 0.0276, f1 0.278, precision 0.341\n",
      "validation: loss 0.0851, f1 0.145, precision 0.114\n",
      "[epoch 7]: loss 0.0263, f1 0.352, precision 0.348\n",
      "validation: loss 0.0667, f1 0.147, precision 0.317\n",
      "[epoch 8]: loss 0.0246, f1 0.328, precision 0.352\n",
      "validation: loss 0.0691, f1 0.139, precision 0.226\n",
      "[epoch 9]: loss 0.0222, f1 0.369, precision 0.373\n",
      "validation: loss 0.0754, f1 0.174, precision 0.183\n",
      "[epoch 10]: loss 0.0231, f1 0.392, precision 0.415\n",
      "validation: loss 0.0741, f1 0.216, precision 0.322\n",
      "[epoch 11]: loss 0.0204, f1 0.410, precision 0.407\n",
      "validation: loss 0.0774, f1 0.136, precision 0.324\n",
      "[epoch 12]: loss 0.0254, f1 0.327, precision 0.361\n",
      "validation: loss 0.0690, f1 0.147, precision 0.269\n",
      "[epoch 13]: loss 0.0157, f1 0.403, precision 0.407\n",
      "validation: loss 0.0676, f1 0.234, precision 0.250\n",
      "[epoch 14]: loss 0.0154, f1 0.437, precision 0.430\n",
      "validation: loss 0.0659, f1 0.231, precision 0.241\n",
      "[epoch 15]: loss 0.0155, f1 0.420, precision 0.412\n",
      "validation: loss 0.0788, f1 0.174, precision 0.185\n",
      "\n",
      "\n",
      "TRAINING transformer_best::2\n",
      "Initializing class weights:\n",
      "    1440000000.0, 0.215, 1440000000.0, 0.524, 0.8\n",
      "Behavior indices:\n",
      "    0: other\n",
      "    1: Grooming\n",
      "    2: StartEnd\n",
      "    3: Supported\n",
      "    4: Unsupported\n",
      "[epoch 1]: loss 0.0476, f1 0.090, precision 0.200\n",
      "validation: loss 0.0540, f1 0.143, precision 0.111\n",
      "[epoch 2]: loss 0.0368, f1 0.225, precision 0.300\n",
      "validation: loss 0.0783, f1 0.155, precision 0.173\n",
      "[epoch 3]: loss 0.0327, f1 0.309, precision 0.309\n",
      "validation: loss 0.0637, f1 0.178, precision 0.193\n",
      "[epoch 4]: loss 0.0363, f1 0.249, precision 0.267\n",
      "validation: loss 0.0636, f1 0.161, precision 0.176\n",
      "[epoch 5]: loss 0.0293, f1 0.303, precision 0.326\n",
      "validation: loss 0.1053, f1 0.084, precision 0.307\n",
      "[epoch 6]: loss 0.0309, f1 0.221, precision 0.271\n",
      "validation: loss 0.0855, f1 0.065, precision 0.286\n",
      "[epoch 7]: loss 0.0251, f1 0.242, precision 0.334\n",
      "validation: loss 0.0635, f1 0.197, precision 0.325\n",
      "[epoch 8]: loss 0.0255, f1 0.353, precision 0.353\n",
      "validation: loss 0.0713, f1 0.142, precision 0.110\n",
      "[epoch 9]: loss 0.0279, f1 0.303, precision 0.274\n",
      "validation: loss 0.0781, f1 0.141, precision 0.110\n",
      "[epoch 10]: loss 0.0240, f1 0.348, precision 0.365\n",
      "validation: loss 0.0907, f1 0.091, precision 0.154\n",
      "[epoch 11]: loss 0.0231, f1 0.314, precision 0.359\n",
      "validation: loss 0.1218, f1 0.019, precision 0.036\n",
      "[epoch 12]: loss 0.0265, f1 0.309, precision 0.370\n",
      "validation: loss 0.1215, f1 0.014, precision 0.027\n",
      "[epoch 13]: loss 0.0224, f1 0.320, precision 0.374\n",
      "validation: loss 0.0954, f1 0.071, precision 0.119\n",
      "[epoch 14]: loss 0.0182, f1 0.404, precision 0.413\n",
      "validation: loss 0.0823, f1 0.198, precision 0.320\n",
      "[epoch 15]: loss 0.0261, f1 0.392, precision 0.430\n",
      "validation: loss 0.0817, f1 0.114, precision 0.148\n",
      "\n",
      "\n"
     ]
    }
   ],
   "source": [
    "for model in [MODEL_NAME1, MODEL_NAME2]:\n",
    "    project.run_episode(\n",
    "        f\"{model}_best\",\n",
    "        load_search=f\"{model}_search\", # loading the search\n",
    "        force=True, # when force=True, if an episode with this name already exists it will be overwritten -> use with caution!\n",
    "        parameters_update={\n",
    "            \"general\": {\"model_name\": model} # note that you do need to set the model explicitly, it is not loaded with the search\n",
    "        },\n",
    "        n_seeds=3 # we will repeat the experiment 3 times (same parameters, different random seed) to get an estimation for how stable our results are\n",
    ")"
   ]
  },
  {
   "cell_type": "markdown",
   "metadata": {},
   "source": [
    "## Evaluation"
   ]
  },
  {
   "cell_type": "markdown",
   "metadata": {},
   "source": [
    "Now that we've trained our best models, we can analyze the results. Note that most statistics are aggregated over the 3 runs (random seeds) automatically. "
   ]
  },
  {
   "cell_type": "code",
   "execution_count": 22,
   "metadata": {},
   "outputs": [],
   "source": [
    "best_episodes = [f\"{model}_best\" for model in [MODEL_NAME1, MODEL_NAME2]]"
   ]
  },
  {
   "cell_type": "code",
   "execution_count": 23,
   "metadata": {},
   "outputs": [
    {
     "data": {
      "image/png": "[encoded data removed]",
      "text/plain": [
       "<Figure size 640x480 with 1 Axes>"
      ]
     },
     "metadata": {},
     "output_type": "display_data"
    }
   ],
   "source": [
    "project.plot_episodes(\n",
    "    best_episodes,\n",
    "    metrics=METRICS, \n",
    "    episode_labels=[\"model_1\", \"model_2\"], \n",
    "    add_hlines=[(0.42, \"a line\")], # we'll add a random horizontal line here but you can use this parameter to mark important thresholds\n",
    "    title=\"Best model training curves\"\n",
    ")"
   ]
  },
  {
   "cell_type": "markdown",
   "metadata": {},
   "source": [
    "The bold lines here are the means over the three runs of each episode and the transparent lines are the individual runs."
   ]
  },
  {
   "cell_type": "markdown",
   "metadata": {},
   "source": [
    "We can also check out more metrics now."
   ]
  },
  {
   "cell_type": "code",
   "execution_count": 24,
   "metadata": {},
   "outputs": [
    {
     "name": "stdout",
     "output_type": "stream",
     "text": [
      "EVALUATION c2f_tcn_best\n",
      "episode c2f_tcn_best::0\n",
      "Number of samples:\n",
      "    validation:\n",
      "      {-100: 8059, 3: 66, 1: 67, 2: 0, 4: 0, 0: 0}\n",
      "    training:\n",
      "      {-100: 40364, 1: 342, 3: 154, 4: 100, 2: 0, 0: 0}\n",
      "    test:\n",
      "      {1: 0, 2: 0, 3: 0, 4: 0, 0: 0}\n",
      "Setting loaded normalization statistics...\n",
      "Initializing class weights:\n",
      "    400000000.0, 0.117, 400000000.0, 0.26, 0.4\n",
      "Behavior indices:\n",
      "    0: other\n",
      "    1: Grooming\n",
      "    2: StartEnd\n",
      "    3: Supported\n",
      "    4: Unsupported\n"
     ]
    },
    {
     "name": "stderr",
     "output_type": "stream",
     "text": [
      "100%|██████████| 1/1 [00:00<00:00, 27.36it/s]\n"
     ]
    },
    {
     "name": "stdout",
     "output_type": "stream",
     "text": [
      "f1_0 0.000, f1_1 0.439, f1_2 0.000, f1_3 0.330, f1_4 0.000, mAP 0.000, segmental_f1 0.000\n",
      "\n",
      "\n",
      "AGGREGATED:\n",
      "f1_0 0.000, f1_1 0.439, f1_2 0.000, f1_3 0.330, f1_4 0.000, mAP 0.000, segmental_f1 0.000\n",
      "Inference time: 0:00:00\n",
      "\n",
      "\n",
      "EVALUATION transformer_best\n",
      "episode transformer_best::0\n",
      "Number of samples:\n",
      "    validation:\n",
      "      {-100: 3216, 3: 108, 1: 132, 2: 0, 4: 0, 0: 0}\n",
      "    training:\n",
      "      {-100: 17307, 1: 670, 3: 275, 4: 180, 2: 0, 0: 0}\n",
      "    test:\n",
      "      {1: 0, 2: 0, 3: 0, 4: 0, 0: 0}\n",
      "Setting loaded normalization statistics...\n",
      "Initializing class weights:\n",
      "    1440000000.0, 0.215, 1440000000.0, 0.524, 0.8\n",
      "Behavior indices:\n",
      "    0: other\n",
      "    1: Grooming\n",
      "    2: StartEnd\n",
      "    3: Supported\n",
      "    4: Unsupported\n"
     ]
    },
    {
     "name": "stderr",
     "output_type": "stream",
     "text": [
      "100%|██████████| 1/1 [00:00<00:00, 20.86it/s]\n"
     ]
    },
    {
     "name": "stdout",
     "output_type": "stream",
     "text": [
      "f1_0 0.000, f1_1 0.587, f1_2 0.000, f1_3 0.389, f1_4 0.000, mAP 0.000, segmental_f1 0.000\n",
      "\n",
      "\n",
      "AGGREGATED:\n",
      "f1_0 0.000, f1_1 0.587, f1_2 0.000, f1_3 0.389, f1_4 0.000, mAP 0.000, segmental_f1 0.000\n",
      "Inference time: 0:00:00\n",
      "\n",
      "\n"
     ]
    }
   ],
   "source": [
    "for episode in best_episodes:\n",
    "    project.evaluate(\n",
    "        [episode],\n",
    "        parameters_update={\n",
    "            \"general\": {\"metric_functions\": [\"segmental_f1\", \"mAP\", \"f1\"]},\n",
    "            \"metrics\": {\n",
    "                \"f1\": {\"average\": \"none\"}\n",
    "            }\n",
    "        }\n",
    "    )"
   ]
  },
  {
   "cell_type": "markdown",
   "metadata": {},
   "source": [
    "There are several ways to summarize the results."
   ]
  },
  {
   "cell_type": "code",
   "execution_count": 25,
   "metadata": {},
   "outputs": [
    {
     "name": "stdout",
     "output_type": "stream",
     "text": [
      "RESULTS:\n",
      "         c2f_tcn_best f1  c2f_tcn_best precision  transformer_best f1  \\\n",
      "average          0.15128                  0.1667             0.161027   \n",
      "\n",
      "         transformer_best precision  \n",
      "average                    0.184331  \n",
      "\n",
      "\n"
     ]
    },
    {
     "data": {
      "text/html": [
       "<div>\n",
       "<style scoped>\n",
       "    .dataframe tbody tr th:only-of-type {\n",
       "        vertical-align: middle;\n",
       "    }\n",
       "\n",
       "    .dataframe tbody tr th {\n",
       "        vertical-align: top;\n",
       "    }\n",
       "\n",
       "    .dataframe thead th {\n",
       "        text-align: right;\n",
       "    }\n",
       "</style>\n",
       "<table border=\"1\" class=\"dataframe\">\n",
       "  <thead>\n",
       "    <tr style=\"text-align: right;\">\n",
       "      <th></th>\n",
       "      <th>c2f_tcn_best f1</th>\n",
       "      <th>c2f_tcn_best precision</th>\n",
       "      <th>transformer_best f1</th>\n",
       "      <th>transformer_best precision</th>\n",
       "    </tr>\n",
       "  </thead>\n",
       "  <tbody>\n",
       "    <tr>\n",
       "      <th>average</th>\n",
       "      <td>0.15128</td>\n",
       "      <td>0.1667</td>\n",
       "      <td>0.161027</td>\n",
       "      <td>0.184331</td>\n",
       "    </tr>\n",
       "  </tbody>\n",
       "</table>\n",
       "</div>"
      ],
      "text/plain": [
       "         c2f_tcn_best f1  c2f_tcn_best precision  transformer_best f1  \\\n",
       "average          0.15128                  0.1667             0.161027   \n",
       "\n",
       "         transformer_best precision  \n",
       "average                    0.184331  "
      ]
     },
     "execution_count": 25,
     "metadata": {},
     "output_type": "execute_result"
    }
   ],
   "source": [
    "project.get_results_table(best_episodes)"
   ]
  },
  {
   "cell_type": "markdown",
   "metadata": {},
   "source": [
    "The `get_summary` method will only show the metrics computed during training while `get_results_table` also pulls up the results of evaluation."
   ]
  },
  {
   "cell_type": "code",
   "execution_count": 26,
   "metadata": {},
   "outputs": [
    {
     "name": "stdout",
     "output_type": "stream",
     "text": [
      "SUMMARY ['c2f_tcn_best']\n",
      "loss: mean 1.594, std 0.005\n",
      "f1: mean 0.151, std 0.007\n",
      "precision: mean 0.167, std 0.020\n",
      "\n",
      "\n",
      "SUMMARY ['transformer_best']\n",
      "loss: mean 0.071, std 0.013\n",
      "f1: mean 0.161, std 0.034\n",
      "precision: mean 0.184, std 0.029\n",
      "\n",
      "\n"
     ]
    }
   ],
   "source": [
    "for episode in best_episodes:\n",
    "    _ = project.get_summary([episode])"
   ]
  },
  {
   "cell_type": "markdown",
   "metadata": {},
   "source": [
    "## Using trained models"
   ]
  },
  {
   "cell_type": "markdown",
   "metadata": {},
   "source": [
    "After your models are trained, there's a few ways you can use them.\n",
    "\n",
    "If you're still not quite happy with the results, you can train the model for a few more epochs with `project.continue_episode()`."
   ]
  },
  {
   "cell_type": "code",
   "execution_count": 27,
   "metadata": {},
   "outputs": [
    {
     "name": "stdout",
     "output_type": "stream",
     "text": [
      "TRAINING c2f_tcn_best::0\n",
      "Computing input features...\n"
     ]
    },
    {
     "name": "stderr",
     "output_type": "stream",
     "text": [
      "  0%|          | 0/20 [00:00<?, ?it/s]"
     ]
    }
   ],
   "source": [
    "project.continue_episode(f\"{MODEL_NAME1}_best\", num_epochs=20, n_seeds=3)"
   ]
  },
  {
   "cell_type": "markdown",
   "metadata": {},
   "source": [
    "You can also train another episode with different parameters that loads the weights of your model as an initialization. Note that it will use all three runs as starting points for its own three runs."
   ]
  },
  {
   "cell_type": "code",
   "execution_count": null,
   "metadata": {},
   "outputs": [
    {
     "name": "stdout",
     "output_type": "stream",
     "text": [
      "TRAINING c2f_tcn_best_lr1e-5::0\n"
     ]
    },
    {
     "name": "stderr",
     "output_type": "stream",
     "text": [
      "/home/liza/DLC2Action_minimal/dlc2action/project/project.py:3692: UserWarning: The partitioning parameters in the loaded experiment ({'partition_method': 'file'}) are not equal to the current partitioning parameters ({'val_frac': 0.2, 'test_frac': 0, 'partition_method': 'random', 'only_load_annotated': True, 'len_segment': 1024, 'overlap': 0.75}). The current parameters are replaced.\n",
      "  warnings.warn(\n"
     ]
    },
    {
     "name": "stdout",
     "output_type": "stream",
     "text": [
      "Number of samples:\n",
      "    validation:\n",
      "      {0: 10660, 1: 5414, 2: 1340, 3: 1816, 4: 500, 5: 2594, 6: 0, 7: 0}\n",
      "    training:\n",
      "      {0: 27747, 1: 16566, 2: 87393, 3: 10991, 4: 23594, 5: 45042, 6: 92, 7: 61104}\n",
      "    test:\n",
      "      {0: 0, 1: 0, 2: 0, 3: 0, 4: 0, 5: 0, 6: 0, 7: 0}\n",
      "Computing normalization statistics...\n"
     ]
    },
    {
     "name": "stderr",
     "output_type": "stream",
     "text": [
      "100%|██████████| 415/415 [00:01<00:00, 257.30it/s]\n",
      "100%|██████████| 415/415 [00:01<00:00, 258.09it/s]\n"
     ]
    },
    {
     "name": "stdout",
     "output_type": "stream",
     "text": [
      "Initializing class weights:\n",
      "     0: 0.001, 0.001, 0.002, 0.001, 0.001, 0.001, 0.001, 0.001 1: 0.015, 0.025, 0.005, 0.038, 0.018, 0.009, 4.511, 0.007\n",
      "Behavior indices:\n",
      "    0: anogenital\n",
      "    1: approach\n",
      "    2: attack\n",
      "    3: avoidance\n",
      "    4: boxing\n",
      "    5: lateralthreat\n",
      "    6: pursuit\n",
      "    7: submission\n",
      "[epoch 1]: loss 0.0001, f1 0.595, precision 0.479\n",
      "validation: loss 0.0006, f1 0.076, precision 0.044\n",
      "[epoch 2]: loss 0.0001, f1 0.603, precision 0.485\n",
      "validation: loss 0.0006, f1 0.076, precision 0.044\n",
      "[epoch 3]: loss 0.0001, f1 0.608, precision 0.492\n",
      "validation: loss 0.0005, f1 0.077, precision 0.044\n",
      "[epoch 4]: loss 0.0001, f1 0.608, precision 0.490\n",
      "validation: loss 0.0005, f1 0.077, precision 0.044\n",
      "[epoch 5]: loss 0.0001, f1 0.618, precision 0.502\n",
      "validation: loss 0.0005, f1 0.077, precision 0.044\n",
      "\n",
      "\n",
      "TRAINING c2f_tcn_best_lr1e-5::1\n"
     ]
    },
    {
     "name": "stderr",
     "output_type": "stream",
     "text": [
      "/home/liza/DLC2Action_minimal/dlc2action/project/project.py:3692: UserWarning: The partitioning parameters in the loaded experiment ({'partition_method': 'file'}) are not equal to the current partitioning parameters ({'val_frac': 0.2, 'test_frac': 0, 'partition_method': 'random', 'only_load_annotated': True, 'len_segment': 1024, 'overlap': 0.75}). The current parameters are replaced.\n",
      "  warnings.warn(\n"
     ]
    },
    {
     "name": "stdout",
     "output_type": "stream",
     "text": [
      "Initializing class weights:\n",
      "     0: 0.001, 0.001, 0.002, 0.001, 0.001, 0.001, 0.001, 0.001 1: 0.015, 0.025, 0.005, 0.038, 0.018, 0.009, 4.511, 0.007\n",
      "Behavior indices:\n",
      "    0: anogenital\n",
      "    1: approach\n",
      "    2: attack\n",
      "    3: avoidance\n",
      "    4: boxing\n",
      "    5: lateralthreat\n",
      "    6: pursuit\n",
      "    7: submission\n",
      "[epoch 1]: loss 0.0000, f1 0.752, precision 0.643\n",
      "validation: loss 0.0007, f1 0.093, precision 0.062\n",
      "[epoch 2]: loss 0.0000, f1 0.771, precision 0.662\n",
      "validation: loss 0.0007, f1 0.093, precision 0.062\n",
      "[epoch 3]: loss 0.0000, f1 0.776, precision 0.669\n",
      "validation: loss 0.0007, f1 0.094, precision 0.063\n",
      "[epoch 4]: loss 0.0000, f1 0.781, precision 0.677\n",
      "validation: loss 0.0007, f1 0.097, precision 0.065\n",
      "[epoch 5]: loss 0.0000, f1 0.779, precision 0.675\n",
      "validation: loss 0.0007, f1 0.098, precision 0.066\n",
      "\n",
      "\n",
      "TRAINING c2f_tcn_best_lr1e-5::2\n"
     ]
    },
    {
     "name": "stderr",
     "output_type": "stream",
     "text": [
      "/home/liza/DLC2Action_minimal/dlc2action/project/project.py:3692: UserWarning: The partitioning parameters in the loaded experiment ({'partition_method': 'file'}) are not equal to the current partitioning parameters ({'val_frac': 0.2, 'test_frac': 0, 'partition_method': 'random', 'only_load_annotated': True, 'len_segment': 1024, 'overlap': 0.75}). The current parameters are replaced.\n",
      "  warnings.warn(\n"
     ]
    },
    {
     "name": "stdout",
     "output_type": "stream",
     "text": [
      "Initializing class weights:\n",
      "     0: 0.001, 0.001, 0.002, 0.001, 0.001, 0.001, 0.001, 0.001 1: 0.015, 0.025, 0.005, 0.038, 0.018, 0.009, 4.511, 0.007\n",
      "Behavior indices:\n",
      "    0: anogenital\n",
      "    1: approach\n",
      "    2: attack\n",
      "    3: avoidance\n",
      "    4: boxing\n",
      "    5: lateralthreat\n",
      "    6: pursuit\n",
      "    7: submission\n",
      "[epoch 1]: loss 0.0001, f1 0.680, precision 0.569\n",
      "validation: loss 0.0007, f1 0.116, precision 0.077\n",
      "[epoch 2]: loss 0.0001, f1 0.696, precision 0.588\n",
      "validation: loss 0.0006, f1 0.116, precision 0.077\n",
      "[epoch 3]: loss 0.0000, f1 0.706, precision 0.599\n",
      "validation: loss 0.0006, f1 0.117, precision 0.081\n",
      "[epoch 4]: loss 0.0000, f1 0.711, precision 0.606\n",
      "validation: loss 0.0006, f1 0.119, precision 0.084\n",
      "[epoch 5]: loss 0.0000, f1 0.717, precision 0.611\n",
      "validation: loss 0.0006, f1 0.118, precision 0.084\n",
      "\n",
      "\n"
     ]
    }
   ],
   "source": [
    "project.run_episode(\n",
    "    f\"{MODEL_NAME1}_best_lr1e-5\",\n",
    "    load_episode=f\"{MODEL_NAME1}_best\",\n",
    "    load_search=f\"{MODEL_NAME1}_search\",\n",
    "    parameters_update={\n",
    "        \"general\": {\"model_name\": MODEL_NAME1},\n",
    "        \"training\": {\"lr\": 1e-5, \"num_epochs\": 5}\n",
    "    },\n",
    "    force=True,\n",
    ")"
   ]
  },
  {
   "cell_type": "markdown",
   "metadata": {},
   "source": [
    "You can also plot such episodes together as one line."
   ]
  },
  {
   "cell_type": "code",
   "execution_count": null,
   "metadata": {},
   "outputs": [
    {
     "data": {
      "image/png": "[encoded data removed]",
      "text/plain": [
       "<Figure size 640x480 with 1 Axes>"
      ]
     },
     "metadata": {},
     "output_type": "display_data"
    }
   ],
   "source": [
    "project.plot_episodes(\n",
    "    [[f\"{MODEL_NAME1}_best\", f\"{MODEL_NAME1}_best_lr1e-5\"], f\"{MODEL_NAME2}_best\"], \n",
    "    episode_labels=[\"combined_model1\", \"model2\"],\n",
    "    metrics=METRICS\n",
    ")"
   ]
  },
  {
   "cell_type": "markdown",
   "metadata": {},
   "source": [
    "All the episodes you have run are stored in the project memory and you can pull up the history with all the parameters."
   ]
  },
  {
   "cell_type": "code",
   "execution_count": null,
   "metadata": {},
   "outputs": [
    {
     "name": "stdout",
     "output_type": "stream",
     "text": [
      "TRAINING EPISODES\n",
      "                         general          meta                        results\n",
      "                      model_name training_time                 time        f1\n",
      "c2f_tcn_best::0          c2f_tcn       0:01:34  2022-11-16 23:42:05  0.077177\n",
      "c2f_tcn_best::1          c2f_tcn       0:01:26  2022-11-16 23:42:27  0.095438\n",
      "c2f_tcn_best::2          c2f_tcn       0:01:26  2022-11-16 23:42:49  0.109345\n",
      "transformer_best::0  transformer       0:07:41  2022-11-16 22:47:39  0.073708\n",
      "transformer_best::1  transformer       0:07:32  2022-11-16 22:55:50  0.100461\n",
      "transformer_best::2  transformer       0:07:31  2022-11-16 23:03:24  0.089784\n",
      "\n",
      "\n"
     ]
    }
   ],
   "source": [
    "_ = project.list_episodes(\n",
    "    display_parameters=[\"general/model_name\", \"meta/training_time\", \"meta/time\", f\"results/{METRICS[0]}\"], # choose the parameters to display\n",
    "    value_filter=\"training/lr::>1e-5\" # filter the entries by any parameter or result\n",
    ")"
   ]
  },
  {
   "cell_type": "markdown",
   "metadata": {},
   "source": [
    "The same goes for hyperparameter searches and predictions. This function also returns a `pandas` table you can process yourself."
   ]
  },
  {
   "cell_type": "code",
   "execution_count": null,
   "metadata": {},
   "outputs": [
    {
     "data": {
      "text/html": [
       "<div>\n",
       "<style scoped>\n",
       "    .dataframe tbody tr th:only-of-type {\n",
       "        vertical-align: middle;\n",
       "    }\n",
       "\n",
       "    .dataframe tbody tr th {\n",
       "        vertical-align: top;\n",
       "    }\n",
       "\n",
       "    .dataframe thead tr th {\n",
       "        text-align: left;\n",
       "    }\n",
       "</style>\n",
       "<table border=\"1\" class=\"dataframe\">\n",
       "  <thead>\n",
       "    <tr>\n",
       "      <th></th>\n",
       "      <th colspan=\"2\" halign=\"left\">meta</th>\n",
       "      <th colspan=\"2\" halign=\"left\">results</th>\n",
       "      <th colspan=\"6\" halign=\"left\">data</th>\n",
       "      <th>...</th>\n",
       "      <th colspan=\"2\" halign=\"left\">f1</th>\n",
       "      <th colspan=\"4\" halign=\"left\">precision</th>\n",
       "      <th colspan=\"4\" halign=\"left\">model</th>\n",
       "    </tr>\n",
       "    <tr>\n",
       "      <th></th>\n",
       "      <th>time</th>\n",
       "      <th>objective</th>\n",
       "      <th>best_params</th>\n",
       "      <th>best_value</th>\n",
       "      <th>data_prefix</th>\n",
       "      <th>feature_suffix</th>\n",
       "      <th>canvas_shape</th>\n",
       "      <th>ignored_bodyparts</th>\n",
       "      <th>likelihood_threshold</th>\n",
       "      <th>centered</th>\n",
       "      <th>...</th>\n",
       "      <th>tag_average</th>\n",
       "      <th>threshold_value</th>\n",
       "      <th>average</th>\n",
       "      <th>ignored_classes</th>\n",
       "      <th>tag_average</th>\n",
       "      <th>threshold_value</th>\n",
       "      <th>input_dim</th>\n",
       "      <th>N</th>\n",
       "      <th>heads</th>\n",
       "      <th>num_pool</th>\n",
       "    </tr>\n",
       "  </thead>\n",
       "  <tbody>\n",
       "    <tr>\n",
       "      <th>c2f_tcn_search</th>\n",
       "      <td>2022-11-16 22:36:42</td>\n",
       "      <td>f1</td>\n",
       "      <td>{'losses/ms_tcn/alpha': 0.00012063720101101104...</td>\n",
       "      <td>0.092646</td>\n",
       "      <td>None</td>\n",
       "      <td>None</td>\n",
       "      <td>[1290, 730]</td>\n",
       "      <td>None</td>\n",
       "      <td>0</td>\n",
       "      <td>False</td>\n",
       "      <td>...</td>\n",
       "      <td>micro</td>\n",
       "      <td>0.5</td>\n",
       "      <td>macro</td>\n",
       "      <td>None</td>\n",
       "      <td>micro</td>\n",
       "      <td>0.5</td>\n",
       "      <td>NaN</td>\n",
       "      <td>NaN</td>\n",
       "      <td>NaN</td>\n",
       "      <td>NaN</td>\n",
       "    </tr>\n",
       "    <tr>\n",
       "      <th>transformer_search</th>\n",
       "      <td>2022-11-16 22:41:33</td>\n",
       "      <td>f1</td>\n",
       "      <td>{'losses/ms_tcn/alpha': 1.0610250513468929e-05...</td>\n",
       "      <td>0.113672</td>\n",
       "      <td>None</td>\n",
       "      <td>None</td>\n",
       "      <td>[1290, 730]</td>\n",
       "      <td>None</td>\n",
       "      <td>0</td>\n",
       "      <td>False</td>\n",
       "      <td>...</td>\n",
       "      <td>micro</td>\n",
       "      <td>0.5</td>\n",
       "      <td>macro</td>\n",
       "      <td>None</td>\n",
       "      <td>micro</td>\n",
       "      <td>0.5</td>\n",
       "      <td>dataset_features</td>\n",
       "      <td>10.0</td>\n",
       "      <td>4.0</td>\n",
       "      <td>3.0</td>\n",
       "    </tr>\n",
       "  </tbody>\n",
       "</table>\n",
       "<p>2 rows × 109 columns</p>\n",
       "</div>"
      ],
      "text/plain": [
       "                                   meta            \\\n",
       "                                   time objective   \n",
       "c2f_tcn_search      2022-11-16 22:36:42        f1   \n",
       "transformer_search  2022-11-16 22:41:33        f1   \n",
       "\n",
       "                                                              results  \\\n",
       "                                                          best_params   \n",
       "c2f_tcn_search      {'losses/ms_tcn/alpha': 0.00012063720101101104...   \n",
       "transformer_search  {'losses/ms_tcn/alpha': 1.0610250513468929e-05...   \n",
       "\n",
       "                                     data                              \\\n",
       "                   best_value data_prefix feature_suffix canvas_shape   \n",
       "c2f_tcn_search       0.092646        None           None  [1290, 730]   \n",
       "transformer_search   0.113672        None           None  [1290, 730]   \n",
       "\n",
       "                                                                    ...  \\\n",
       "                   ignored_bodyparts likelihood_threshold centered  ...   \n",
       "c2f_tcn_search                  None                    0    False  ...   \n",
       "transformer_search              None                    0    False  ...   \n",
       "\n",
       "                            f1                 precision                  \\\n",
       "                   tag_average threshold_value   average ignored_classes   \n",
       "c2f_tcn_search           micro             0.5     macro            None   \n",
       "transformer_search       micro             0.5     macro            None   \n",
       "\n",
       "                                                           model              \\\n",
       "                   tag_average threshold_value         input_dim     N heads   \n",
       "c2f_tcn_search           micro             0.5               NaN   NaN   NaN   \n",
       "transformer_search       micro             0.5  dataset_features  10.0   4.0   \n",
       "\n",
       "                             \n",
       "                   num_pool  \n",
       "c2f_tcn_search          NaN  \n",
       "transformer_search      3.0  \n",
       "\n",
       "[2 rows x 109 columns]"
      ]
     },
     "execution_count": 10,
     "metadata": {},
     "output_type": "execute_result"
    }
   ],
   "source": [
    "searches = project.list_searches(print_results=False)\n",
    "searches.head()"
   ]
  },
  {
   "cell_type": "markdown",
   "metadata": {},
   "source": [
    "When you find that you are happy with the results, you can use the model to generate predictions for new data. \n",
    "\n",
    "Predictions here are probabilities of each behavior being seen in each frame while suggestions are suggested intervals generated from those probabilities."
   ]
  },
  {
   "cell_type": "markdown",
   "metadata": {},
   "source": [
    "Let's generate a prediction with one of our models and look at one of the resulting files. Note that you can use multiple models and average over their predictions."
   ]
  },
  {
   "cell_type": "code",
   "execution_count": null,
   "metadata": {},
   "outputs": [
    {
     "name": "stdout",
     "output_type": "stream",
     "text": [
      "PREDICTION c2f_tcn_best_prediction\n",
      "episode c2f_tcn_best_lr1e-5::0\n",
      "Number of samples:\n",
      "    validation:\n",
      "      {0: 0, 1: 0, 2: 0, 3: 0, 4: 0, 5: 0, 6: 0, 7: 0}\n",
      "    training:\n",
      "      {0: 38407, 1: 21980, 2: 88733, 3: 12807, 4: 24094, 5: 47636, 6: 92, 7: 61104}\n",
      "    test:\n",
      "      {0: 0, 1: 0, 2: 0, 3: 0, 4: 0, 5: 0, 6: 0, 7: 0}\n",
      "Setting loaded normalization statistics...\n",
      "Initializing class weights:\n",
      "     0: 0.001, 0.001, 0.001, 0.001, 0.001, 0.001, 0.001, 0.001 1: 0.014, 0.025, 0.006, 0.042, 0.022, 0.011, 5.859, 0.009\n",
      "Behavior indices:\n",
      "    0: anogenital\n",
      "    1: approach\n",
      "    2: attack\n",
      "    3: avoidance\n",
      "    4: boxing\n",
      "    5: lateralthreat\n",
      "    6: pursuit\n",
      "    7: submission\n"
     ]
    },
    {
     "name": "stderr",
     "output_type": "stream",
     "text": [
      "100%|██████████| 9/9 [00:10<00:00,  1.18s/it]"
     ]
    },
    {
     "name": "stdout",
     "output_type": "stream",
     "text": [
      "\n",
      "\n",
      "\n",
      "\n"
     ]
    },
    {
     "name": "stderr",
     "output_type": "stream",
     "text": [
      "\n"
     ]
    }
   ],
   "source": [
    "project.run_prediction(\n",
    "    f\"{MODEL_NAME1}_best_prediction\",\n",
    "    episode_names=[f\"{MODEL_NAME1}_best_lr1e-5\"],\n",
    "    force=True\n",
    ")"
   ]
  },
  {
   "cell_type": "code",
   "execution_count": null,
   "metadata": {},
   "outputs": [
    {
     "name": "stdout",
     "output_type": "stream",
     "text": [
      "1+2: torch.Size([8, 18611])\n",
      "The mean probability of attack between frames 50 and 70 is 0.7315972447395325\n"
     ]
    }
   ],
   "source": [
    "import pickle\n",
    "import os\n",
    "\n",
    "\n",
    "# picking a random file from the prediction folder\n",
    "prediction_folder = project.prediction_path(f\"{MODEL_NAME1}_best_prediction\")\n",
    "prediction_file = os.listdir(prediction_folder)[0]\n",
    "prediction_file = os.path.join(prediction_folder, prediction_file)\n",
    "\n",
    "with open(prediction_file, \"rb\") as f: # open the file\n",
    "    prediction = pickle.load(f)\n",
    "\n",
    "for key, value in prediction.items(): # explore the contents\n",
    "    if key not in [\"max_frames\", \"min_frames\", \"video_tag\", \"behaviors\"]:\n",
    "        print(f'{key}: {value.shape}')\n",
    "    \n",
    "behaviors_order = prediction[\"behaviors\"]\n",
    "\n",
    "start = 50\n",
    "end = 70\n",
    "action = \"attack\"\n",
    "\n",
    "index = behaviors_order.index(action)\n",
    "\n",
    "print(f'The mean probability of {action} between frames {start} and {end} is {prediction[\"1+2\"][index, start: end].mean()}')"
   ]
  },
  {
   "cell_type": "code",
   "execution_count": null,
   "metadata": {},
   "outputs": [
    {
     "name": "stdout",
     "output_type": "stream",
     "text": [
      "Removing datasets...\n"
     ]
    },
    {
     "name": "stderr",
     "output_type": "stream",
     "text": [
      "100%|██████████| 7/7 [00:01<00:00,  4.47it/s]"
     ]
    },
    {
     "name": "stdout",
     "output_type": "stream",
     "text": [
      "\n",
      "\n"
     ]
    },
    {
     "name": "stderr",
     "output_type": "stream",
     "text": [
      "\n"
     ]
    }
   ],
   "source": [
    "project.remove_saved_features()\n",
    "project.remove_extra_checkpoints()"
   ]
  },
  {
   "cell_type": "markdown",
   "metadata": {},
   "source": [
    "## Working with custom data"
   ]
  },
  {
   "cell_type": "markdown",
   "metadata": {},
   "source": [
    "If you want to work with your own data, first check `Project.print_data_types()` and `Project.print_annotation_types()` to check if we already have the format that you need.\n",
    "\n",
    "If we don't, you can choose either of them to transform your data to but the easiest is probably `DeepLabCut` track or tracklet for the pose estimation data and our custom `\"dlc\"` format for annotation."
   ]
  },
  {
   "cell_type": "markdown",
   "metadata": {},
   "source": [
    "Let's talk about the latter in more detail.\n",
    "\n",
    "It assumes every annotation file to be a pickled nested dictionary where first-level keys are individual names, second-level keys are behavior names and values are lists of intervals. Here is an example.\n",
    "```\n",
    "{\n",
    "    \"ind0\": {\n",
    "        \"running\": [[20, 30], [40, 50]]\n",
    "    },\n",
    "    \"ind1\": {\n",
    "        \"eating\": [[10, 56]]\n",
    "    }\n",
    "}\n",
    "```\n",
    "\n",
    "Here `\"ind0\"` is running in frames 20 to 30 and 40 to 50 while `\"ind1\"` is eating in frames 10 to 56.\n",
    "\n",
    "In case your dataset contains interactive actions, connect the individual names with a plus (e.g. `\"ind0+ind1\"`). At the moment, we can only support two scenarios: either all actions are interactive or all are individual. In case they are interactive, update the parameters with `project.update_parameters({\"general\": {\"interactive\": True}})` before running experiments."
   ]
  },
  {
   "cell_type": "markdown",
   "metadata": {},
   "source": [
    "As an exercise, let's generate a file in this format from one of the CSV files we've been working with."
   ]
  },
  {
   "cell_type": "code",
   "execution_count": null,
   "metadata": {},
   "outputs": [],
   "source": [
    "import os\n",
    "import pandas as pd\n",
    "import numpy as np\n",
    "import pickle\n",
    "\n",
    "filename = [x for x in os.listdir(DATA_PATH) if x.endswith(\".csv\")][0] # load a random .csv file\n",
    "filepath = os.path.join(DATA_PATH, filename)\n",
    "\n",
    "data = pd.read_csv(filepath)"
   ]
  },
  {
   "cell_type": "code",
   "execution_count": null,
   "metadata": {},
   "outputs": [
    {
     "data": {
      "text/html": [
       "<div>\n",
       "<style scoped>\n",
       "    .dataframe tbody tr th:only-of-type {\n",
       "        vertical-align: middle;\n",
       "    }\n",
       "\n",
       "    .dataframe tbody tr th {\n",
       "        vertical-align: top;\n",
       "    }\n",
       "\n",
       "    .dataframe thead th {\n",
       "        text-align: right;\n",
       "    }\n",
       "</style>\n",
       "<table border=\"1\" class=\"dataframe\">\n",
       "  <thead>\n",
       "    <tr style=\"text-align: right;\">\n",
       "      <th></th>\n",
       "      <th>scorer</th>\n",
       "      <th>Ear_left_1_x</th>\n",
       "      <th>Ear_left_1_y</th>\n",
       "      <th>Ear_left_1_p</th>\n",
       "      <th>Ear_right_1_x</th>\n",
       "      <th>Ear_right_1_y</th>\n",
       "      <th>Ear_right_1_p</th>\n",
       "      <th>Nose_1_x</th>\n",
       "      <th>Nose_1_y</th>\n",
       "      <th>Nose_1_p</th>\n",
       "      <th>...</th>\n",
       "      <th>Low_prob_detections_0.5</th>\n",
       "      <th>Low_prob_detections_0.75</th>\n",
       "      <th>attack_prediction</th>\n",
       "      <th>lateralthreat_prediction</th>\n",
       "      <th>pursuit_prediction</th>\n",
       "      <th>anogenital_prediction</th>\n",
       "      <th>submission_prediction</th>\n",
       "      <th>boxing_prediction</th>\n",
       "      <th>approach_prediction</th>\n",
       "      <th>avoidance_prediction</th>\n",
       "    </tr>\n",
       "  </thead>\n",
       "  <tbody>\n",
       "    <tr>\n",
       "      <th>0</th>\n",
       "      <td>0</td>\n",
       "      <td>570</td>\n",
       "      <td>529</td>\n",
       "      <td>0.999855</td>\n",
       "      <td>538</td>\n",
       "      <td>547</td>\n",
       "      <td>0.999982</td>\n",
       "      <td>572</td>\n",
       "      <td>547</td>\n",
       "      <td>0.951415</td>\n",
       "      <td>...</td>\n",
       "      <td>8</td>\n",
       "      <td>8</td>\n",
       "      <td>0</td>\n",
       "      <td>0</td>\n",
       "      <td>0</td>\n",
       "      <td>0</td>\n",
       "      <td>0</td>\n",
       "      <td>0</td>\n",
       "      <td>0</td>\n",
       "      <td>0</td>\n",
       "    </tr>\n",
       "    <tr>\n",
       "      <th>1</th>\n",
       "      <td>1</td>\n",
       "      <td>570</td>\n",
       "      <td>528</td>\n",
       "      <td>0.999820</td>\n",
       "      <td>538</td>\n",
       "      <td>547</td>\n",
       "      <td>0.999986</td>\n",
       "      <td>572</td>\n",
       "      <td>547</td>\n",
       "      <td>0.974408</td>\n",
       "      <td>...</td>\n",
       "      <td>8</td>\n",
       "      <td>8</td>\n",
       "      <td>0</td>\n",
       "      <td>0</td>\n",
       "      <td>0</td>\n",
       "      <td>0</td>\n",
       "      <td>0</td>\n",
       "      <td>0</td>\n",
       "      <td>0</td>\n",
       "      <td>0</td>\n",
       "    </tr>\n",
       "    <tr>\n",
       "      <th>2</th>\n",
       "      <td>2</td>\n",
       "      <td>570</td>\n",
       "      <td>527</td>\n",
       "      <td>0.999680</td>\n",
       "      <td>538</td>\n",
       "      <td>547</td>\n",
       "      <td>0.999987</td>\n",
       "      <td>571</td>\n",
       "      <td>548</td>\n",
       "      <td>0.986395</td>\n",
       "      <td>...</td>\n",
       "      <td>8</td>\n",
       "      <td>8</td>\n",
       "      <td>0</td>\n",
       "      <td>0</td>\n",
       "      <td>0</td>\n",
       "      <td>0</td>\n",
       "      <td>0</td>\n",
       "      <td>0</td>\n",
       "      <td>0</td>\n",
       "      <td>0</td>\n",
       "    </tr>\n",
       "    <tr>\n",
       "      <th>3</th>\n",
       "      <td>3</td>\n",
       "      <td>569</td>\n",
       "      <td>526</td>\n",
       "      <td>0.999499</td>\n",
       "      <td>538</td>\n",
       "      <td>547</td>\n",
       "      <td>0.999991</td>\n",
       "      <td>574</td>\n",
       "      <td>548</td>\n",
       "      <td>0.998246</td>\n",
       "      <td>...</td>\n",
       "      <td>8</td>\n",
       "      <td>8</td>\n",
       "      <td>0</td>\n",
       "      <td>0</td>\n",
       "      <td>0</td>\n",
       "      <td>0</td>\n",
       "      <td>0</td>\n",
       "      <td>0</td>\n",
       "      <td>0</td>\n",
       "      <td>0</td>\n",
       "    </tr>\n",
       "    <tr>\n",
       "      <th>4</th>\n",
       "      <td>4</td>\n",
       "      <td>567</td>\n",
       "      <td>518</td>\n",
       "      <td>0.999974</td>\n",
       "      <td>538</td>\n",
       "      <td>545</td>\n",
       "      <td>0.999979</td>\n",
       "      <td>586</td>\n",
       "      <td>545</td>\n",
       "      <td>0.999956</td>\n",
       "      <td>...</td>\n",
       "      <td>8</td>\n",
       "      <td>8</td>\n",
       "      <td>0</td>\n",
       "      <td>0</td>\n",
       "      <td>0</td>\n",
       "      <td>0</td>\n",
       "      <td>0</td>\n",
       "      <td>0</td>\n",
       "      <td>0</td>\n",
       "      <td>0</td>\n",
       "    </tr>\n",
       "  </tbody>\n",
       "</table>\n",
       "<p>5 rows × 549 columns</p>\n",
       "</div>"
      ],
      "text/plain": [
       "   scorer  Ear_left_1_x  Ear_left_1_y  Ear_left_1_p  Ear_right_1_x  \\\n",
       "0       0           570           529      0.999855            538   \n",
       "1       1           570           528      0.999820            538   \n",
       "2       2           570           527      0.999680            538   \n",
       "3       3           569           526      0.999499            538   \n",
       "4       4           567           518      0.999974            538   \n",
       "\n",
       "   Ear_right_1_y  Ear_right_1_p  Nose_1_x  Nose_1_y  Nose_1_p  ...  \\\n",
       "0            547       0.999982       572       547  0.951415  ...   \n",
       "1            547       0.999986       572       547  0.974408  ...   \n",
       "2            547       0.999987       571       548  0.986395  ...   \n",
       "3            547       0.999991       574       548  0.998246  ...   \n",
       "4            545       0.999979       586       545  0.999956  ...   \n",
       "\n",
       "   Low_prob_detections_0.5  Low_prob_detections_0.75  attack_prediction  \\\n",
       "0                        8                         8                  0   \n",
       "1                        8                         8                  0   \n",
       "2                        8                         8                  0   \n",
       "3                        8                         8                  0   \n",
       "4                        8                         8                  0   \n",
       "\n",
       "   lateralthreat_prediction  pursuit_prediction  anogenital_prediction  \\\n",
       "0                         0                   0                      0   \n",
       "1                         0                   0                      0   \n",
       "2                         0                   0                      0   \n",
       "3                         0                   0                      0   \n",
       "4                         0                   0                      0   \n",
       "\n",
       "   submission_prediction  boxing_prediction  approach_prediction  \\\n",
       "0                      0                  0                    0   \n",
       "1                      0                  0                    0   \n",
       "2                      0                  0                    0   \n",
       "3                      0                  0                    0   \n",
       "4                      0                  0                    0   \n",
       "\n",
       "   avoidance_prediction  \n",
       "0                     0  \n",
       "1                     0  \n",
       "2                     0  \n",
       "3                     0  \n",
       "4                     0  \n",
       "\n",
       "[5 rows x 549 columns]"
      ]
     },
     "execution_count": 17,
     "metadata": {},
     "output_type": "execute_result"
    }
   ],
   "source": [
    "data.head()"
   ]
  },
  {
   "cell_type": "markdown",
   "metadata": {},
   "source": [
    "Behaviors here are interactive, the animal names are `\"1\"` and `\"2\"` and the annotations are encoded as binary arrays in the last columns. Let's use this to generate our dictionary."
   ]
  },
  {
   "cell_type": "code",
   "execution_count": null,
   "metadata": {},
   "outputs": [],
   "source": [
    "for filename in [x for x in os.listdir(DATA_PATH) if x.endswith(\".csv\")]:\n",
    "    filepath = os.path.join(DATA_PATH, filename)\n",
    "    data = pd.read_csv(filepath)\n",
    "    dlc_dict = {\"1+2\": {}}\n",
    "    behavior_columns = [column for column in data.columns if column.endswith(\"prediction\")] # get relevant columns\n",
    "    for column in behavior_columns:\n",
    "        behavior = column.split(\"_\")[0] # get the name of the behavior\n",
    "        diff = np.diff(np.pad(data[column].values, (1, 1))) # find the starts and ends of positive intervals\n",
    "        start_indices = np.where(diff == 1)[0]\n",
    "        end_indices = np.where(diff == -1)[0]\n",
    "        dlc_dict[\"1+2\"][behavior] = []\n",
    "        for start, end in zip(start_indices, end_indices):\n",
    "            dlc_dict[\"1+2\"][behavior].append([start, end]) # add intervals to the dictionary\n",
    "    new_name = filepath.split(\".\")[0] + \"_dlc.pickle\" # the filenames need to start with the video name\n",
    "    with open(new_name, \"wb\") as f: # save the annotation file\n",
    "        pickle.dump(dlc_dict, f)"
   ]
  },
  {
   "cell_type": "markdown",
   "metadata": {},
   "source": [
    "Let's check that we did everything right. We will create a new project with the new data type and run a small experiment."
   ]
  },
  {
   "cell_type": "code",
   "execution_count": null,
   "metadata": {},
   "outputs": [],
   "source": [
    "project = Project(\n",
    "    \"rat_simba_dlc\",\n",
    "    data_path=DATA_PATH,\n",
    "    annotation_path=DATA_PATH,\n",
    "    data_type=\"simba\",\n",
    "    annotation_type=\"dlc\",\n",
    "    projects_path=PROJECTS_PATH\n",
    ")"
   ]
  },
  {
   "cell_type": "code",
   "execution_count": null,
   "metadata": {},
   "outputs": [],
   "source": [
    "project.update_parameters(\n",
    "    {\n",
    "        \"data\": {\n",
    "            \"canvas_shape\": [1290, 730], # list; [x, y] size of the canvas where the coordinates are defined\n",
    "            \"data_suffix\": \".csv\", # str; the data suffix (the data files should be named {video_id}{data_suffix}, e.g. video1_suffix.pickle, where video1 is the video is and _suffix.pickle is the suffix\n",
    "            \"annotation_suffix\": \"_dlc.pickle\", # str | set, optional the suffix or the set of suffices such that the annotation files are named {video_id}{annotation_suffix}, e.g, video1_suffix.pickle where video1 is the video id and _suffix.pickle is the suffix\n",
    "        },\n",
    "        \"general\": {\n",
    "            \"exclusive\": False, # bool; if true, single-label classification is used; otherwise multi-label\n",
    "            \"interactive\": True,\n",
    "            \"model_name\": \"c2f_tcn\",\n",
    "            \"len_segment\": 512\n",
    "        },\n",
    "        \"augmentations\": {\n",
    "            \"augmentations\": {\"add_noise\", \"mirror\", \"rotate\"}, # set; a set of augmentations that can be applied to your data without losing information (choose any number from 'rotate', 'real_lens', 'add_noise', 'shift', 'zoom', 'mirror', 'switch', e.g. {'add_noise'. 'mirror'})\n",
    "        },\n",
    "        \"training\": {\"num_epochs\": 5},\n",
    "    }\n",
    ")"
   ]
  },
  {
   "cell_type": "code",
   "execution_count": null,
   "metadata": {},
   "outputs": [
    {
     "name": "stdout",
     "output_type": "stream",
     "text": [
      "Removing datasets...\n",
      "\n",
      "\n",
      "TRAINING test\n",
      "Computing input features...\n"
     ]
    },
    {
     "name": "stderr",
     "output_type": "stream",
     "text": [
      "100%|██████████| 12/12 [00:26<00:00,  2.21s/it]\n"
     ]
    },
    {
     "name": "stdout",
     "output_type": "stream",
     "text": [
      "Computing annotation arrays...\n"
     ]
    },
    {
     "name": "stderr",
     "output_type": "stream",
     "text": [
      "100%|██████████| 12/12 [00:00<00:00, 3215.46it/s]\n"
     ]
    },
    {
     "name": "stdout",
     "output_type": "stream",
     "text": [
      "Number of samples:\n",
      "    validation:\n",
      "      {0: 0, 1: 3217, 2: 21916, 3: 2216, 4: 3440, 5: 4773, 6: 0, 7: 18124}\n",
      "    training:\n",
      "      {0: 39896, 1: 19287, 2: 67706, 3: 10938, 4: 21034, 5: 44116, 6: 92, 7: 43455}\n",
      "    test:\n",
      "      {0: 0, 1: 0, 2: 0, 3: 0, 4: 0, 5: 0, 6: 0, 7: 0}\n",
      "Computing normalization statistics...\n"
     ]
    },
    {
     "name": "stderr",
     "output_type": "stream",
     "text": [
      "100%|██████████| 971/971 [00:03<00:00, 312.80it/s]\n",
      "100%|██████████| 971/971 [00:02<00:00, 364.87it/s]\n"
     ]
    },
    {
     "name": "stdout",
     "output_type": "stream",
     "text": [
      "Initializing class weights:\n",
      "     0: 0.002, 0.002, 0.002, 0.002, 0.002, 0.002, 0.002, 0.002 1: 0.024, 0.05, 0.014, 0.089, 0.046, 0.022, 10.554, 0.022\n",
      "Behavior indices:\n",
      "    0: anogenital\n",
      "    1: approach\n",
      "    2: attack\n",
      "    3: avoidance\n",
      "    4: boxing\n",
      "    5: lateralthreat\n",
      "    6: pursuit\n",
      "    7: submission\n",
      "[epoch 1]: loss 0.0005, f1 0.252, precision 0.161, recall 0.867\n",
      "validation: loss 0.0008, f1 0.331, precision 0.270, recall 0.496\n",
      "[epoch 2]: loss 0.0004, f1 0.330, precision 0.227, recall 0.915\n",
      "validation: loss 0.0009, f1 0.351, precision 0.281, recall 0.545\n",
      "[epoch 3]: loss 0.0003, f1 0.380, precision 0.274, recall 0.921\n",
      "validation: loss 0.0005, f1 0.419, precision 0.331, recall 0.628\n",
      "[epoch 4]: loss 0.0003, f1 0.440, precision 0.331, recall 0.924\n",
      "validation: loss 0.0005, f1 0.401, precision 0.314, recall 0.630\n",
      "[epoch 5]: loss 0.0003, f1 0.441, precision 0.331, recall 0.943\n",
      "validation: loss 0.0006, f1 0.434, precision 0.353, recall 0.611\n",
      "\n",
      "\n"
     ]
    },
    {
     "data": {
      "text/plain": [
       "<dlc2action.task.task_dispatcher.TaskDispatcher at 0x7f163e29f340>"
      ]
     },
     "execution_count": 4,
     "metadata": {},
     "output_type": "execute_result"
    }
   ],
   "source": [
    "project.remove_saved_features()\n",
    "project.run_episode(\"test\", force=True)"
   ]
  },
  {
   "cell_type": "markdown",
   "metadata": {},
   "source": [
    "## Annotation"
   ]
  },
  {
   "cell_type": "markdown",
   "metadata": {},
   "source": [
    "You can also use `DLC2Action` to generate new annotation files. Install our interface following those instructions and try running it with any video you like."
   ]
  },
  {
   "cell_type": "markdown",
   "metadata": {},
   "source": [
    "... Installation\n",
    "\n",
    "for now:\n",
    "```\n",
    "git clone https://github.com/amathislab/dlc2action_annotation\n",
    "cd dlc2action_annotation\n",
    "conda env create -f AnnotationGUI.yaml\n",
    "```"
   ]
  },
  {
   "cell_type": "markdown",
   "metadata": {},
   "source": [
    "To start, go to the `dlc2action_annotation` folder and run `python annotator.py`."
   ]
  }
 ],
 "metadata": {
  "kernelspec": {
   "display_name": "Python 3.9.13 ('DLC2Action')",
   "language": "python",
   "name": "python3"
  },
  "language_info": {
   "codemirror_mode": {
    "name": "ipython",
    "version": 3
   },
   "file_extension": ".py",
   "mimetype": "text/x-python",
   "name": "python",
   "nbconvert_exporter": "python",
   "pygments_lexer": "ipython3",
   "version": "3.9.13"
  },
  "orig_nbformat": 4,
  "vscode": {
   "interpreter": {
    "hash": "3f5f7675fb80040f0ca1448b5f0ffd03eab1e03daeb908de054f4ee2164beb96"
   }
  }
 },
 "nbformat": 4,
 "nbformat_minor": 2
}
