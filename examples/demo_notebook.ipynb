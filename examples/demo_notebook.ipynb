{
 "cells": [
  {
   "cell_type": "markdown",
   "metadata": {},
   "source": [
    "# Intro to DLC2Action"
   ]
  },
  {
   "cell_type": "markdown",
   "metadata": {},
   "source": [
    "DLC2Action is a package for automatic behavior prediction. It offers implementation of SOTA models and keeps track of experiments."
   ]
  },
  {
   "cell_type": "markdown",
   "metadata": {},
   "source": [
    "To see how it works, we will experiment on a small rat dataset from the SIMBA paper. Run the code below to download the dataset."
   ]
  },
  {
   "cell_type": "code",
   "execution_count": 1,
   "metadata": {},
   "outputs": [
    {
     "name": "stdout",
     "output_type": "stream",
     "text": [
      "Collecting gdown\n",
      "  Downloading gdown-4.5.3.tar.gz (14 kB)\n",
      "  Installing build dependencies ... \u001b[?25ldone\n",
      "\u001b[?25h  Getting requirements to build wheel ... \u001b[?25ldone\n",
      "\u001b[?25h  Preparing metadata (pyproject.toml) ... \u001b[?25ldone\n",
      "\u001b[?25hRequirement already satisfied: tqdm in /home/liza/miniconda3/envs/DLC2Action/lib/python3.9/site-packages (from gdown) (4.64.1)\n",
      "Requirement already satisfied: six in /home/liza/miniconda3/envs/DLC2Action/lib/python3.9/site-packages (from gdown) (1.16.0)\n",
      "Collecting filelock\n",
      "  Downloading filelock-3.8.0-py3-none-any.whl (10 kB)\n",
      "Requirement already satisfied: requests[socks] in /home/liza/miniconda3/envs/DLC2Action/lib/python3.9/site-packages (from gdown) (2.28.1)\n",
      "Collecting beautifulsoup4\n",
      "  Using cached beautifulsoup4-4.11.1-py3-none-any.whl (128 kB)\n",
      "Collecting soupsieve>1.2\n",
      "  Using cached soupsieve-2.3.2.post1-py3-none-any.whl (37 kB)\n",
      "Requirement already satisfied: charset-normalizer<3,>=2 in /home/liza/miniconda3/envs/DLC2Action/lib/python3.9/site-packages (from requests[socks]->gdown) (2.1.1)\n",
      "Requirement already satisfied: urllib3<1.27,>=1.21.1 in /home/liza/miniconda3/envs/DLC2Action/lib/python3.9/site-packages (from requests[socks]->gdown) (1.26.12)\n",
      "Requirement already satisfied: certifi>=2017.4.17 in /home/liza/miniconda3/envs/DLC2Action/lib/python3.9/site-packages (from requests[socks]->gdown) (2022.9.24)\n",
      "Requirement already satisfied: idna<4,>=2.5 in /home/liza/miniconda3/envs/DLC2Action/lib/python3.9/site-packages (from requests[socks]->gdown) (3.4)\n",
      "Collecting PySocks!=1.5.7,>=1.5.6\n",
      "  Downloading PySocks-1.7.1-py3-none-any.whl (16 kB)\n",
      "Building wheels for collected packages: gdown\n",
      "  Building wheel for gdown (pyproject.toml) ... \u001b[?25ldone\n",
      "\u001b[?25h  Created wheel for gdown: filename=gdown-4.5.3-py3-none-any.whl size=14820 sha256=73da5e7a6aeef30fbb03dc4ec545968dfad7d4ce120e5208d3c89386514a84b0\n",
      "  Stored in directory: /home/liza/.cache/pip/wheels/ed/8a/de/15273923b1f5adacc09306cc48dcedc6b082892569afb2dfc7\n",
      "Successfully built gdown\n",
      "Installing collected packages: soupsieve, PySocks, filelock, beautifulsoup4, gdown\n",
      "Successfully installed PySocks-1.7.1 beautifulsoup4-4.11.1 filelock-3.8.0 gdown-4.5.3 soupsieve-2.3.2.post1\n",
      "Downloading...\n",
      "From: https://drive.google.com/uc?id=1zxV5ZFq8cRj7HLGpaTx_bYuAU-2wAOng\n",
      "To: /home/liza/DLC2Action-1/examples/Rat_RI_homecage_annotations.zip\n",
      "100%|█████████████████████████████████████████| 238M/238M [00:02<00:00, 110MB/s]\n",
      "E: Could not open lock file /var/lib/dpkg/lock-frontend - open (13: Permission denied)\n",
      "E: Unable to acquire the dpkg frontend lock (/var/lib/dpkg/lock-frontend), are you root?\n",
      "Archive:  Rat_RI_homecage_annotations.zip\n",
      "  inflating: Video1.csv              \n",
      "  inflating: Video10.csv             \n",
      "  inflating: Video11.csv             \n",
      "  inflating: Video12.csv             \n",
      "  inflating: Video2.csv              \n",
      "  inflating: Video3.csv              \n",
      "  inflating: Video4.csv              \n",
      "  inflating: Video5.csv              \n",
      "  inflating: Video6.csv              \n",
      "  inflating: Video7.csv              \n",
      "  inflating: Video8.csv              \n",
      "  inflating: Video9.csv              \n"
     ]
    }
   ],
   "source": [
    "!pip install gdown\n",
    "!gdown https://drive.google.com/uc?id=1zxV5ZFq8cRj7HLGpaTx_bYuAU-2wAOng\n",
    "!apt-get install unzip\n",
    "!unzip Rat_RI_homecage_annotations.zip -d rat_simba_data"
   ]
  },
  {
   "cell_type": "markdown",
   "metadata": {},
   "source": [
    "... installation\n",
    "\n",
    "for now:\n",
    "```\n",
    "git clone https://github.com/AlexEMG/DLC2Action\n",
    "cd DLC2Action\n",
    "conda create --name DLC2Action python=3.9\n",
    "conda activate DLC2Action\n",
    "python -m pip install .\n",
    "```"
   ]
  },
  {
   "cell_type": "code",
   "execution_count": 16,
   "metadata": {},
   "outputs": [],
   "source": [
    "from dlc2action.project import Project\n",
    "import os\n",
    "\n",
    "CURRENT_PATH = os.getcwd()\n",
    "DATA_PATH = os.path.join(CURRENT_PATH, \"rat_simba_data\")\n",
    "PROJECTS_PATH = os.path.join(CURRENT_PATH, \"DLC2Action\")"
   ]
  },
  {
   "cell_type": "markdown",
   "metadata": {},
   "source": [
    "High-level methods in DLC2Action are almost exclusively accessed through the `dlc2action.project.Project` class. A project instance should loosely correspond to a specific goal (e.g. generating automatic annotations for dataset A with input format X). You can use it to optimize hyperparameters, run experiments, analyze results and generate new data.\n",
    "\n",
    "**Best practices**\n",
    "- When you need to do something with a different data type or unrelated files, it's better to create a new project to keep the experiment history easy to understand.\n",
    "- Each project is associated with a folder on your computer that contains all settings, meta files and experiment outputs. Those folders are created in the folder at `projects_path`. It's generally a good idea to choose one and stick to it throughout projects."
   ]
  },
  {
   "cell_type": "markdown",
   "metadata": {},
   "source": [
    "### Creating a project\n",
    "\n",
    "Let's begin!\n",
    "\n",
    "We will create a project called `\"rat_simba\"`, with input and annotation data in `\"simba\"` format. \n",
    "\n",
    "You can run `Project.print_data_types()` and `Project.print_annotation_types()` to find out more about other options."
   ]
  },
  {
   "cell_type": "code",
   "execution_count": 3,
   "metadata": {},
   "outputs": [],
   "source": [
    "# Project.remove_project(\"rat_simba\", projects_path=PROJECTS_PATH)\n",
    "project = Project(\n",
    "    \"rat_simba\",\n",
    "    data_path=DATA_PATH,\n",
    "    annotation_path=DATA_PATH,\n",
    "    projects_path=PROJECTS_PATH,\n",
    "    data_type=\"simba\",\n",
    "    annotation_type=\"simba\",\n",
    ")"
   ]
  },
  {
   "cell_type": "markdown",
   "metadata": {},
   "source": [
    "Projects have a generalized `help` function."
   ]
  },
  {
   "cell_type": "code",
   "execution_count": 3,
   "metadata": {},
   "outputs": [
    {
     "name": "stdout",
     "output_type": "stream",
     "text": [
      "AVAILABLE HELP FUNCTIONS:\n",
      "- Try running `project.help(keyword)` with the following keywords:\n",
      "    - model: to get more information on available models,\n",
      "    - features: to get more information on available feature extraction modes,\n",
      "    - partition_method: to get more information on available train/test/val partitioning methods,\n",
      "    - metrics: to see a list of available metric functions.\n",
      "    - data: to see help for expected data structure\n",
      "- To start working with this project, first run `project.list_blanks()` to check which parameters need to be filled in.\n",
      "- After a model and metrics are set, run `project.list_basic_parameters()` to see a list of the most important parameters that you might want to modify\n",
      "- If you want to dig deeper, get the full dictionary with project._read_parameters() (it is a `ruamel.yaml.comments.CommentedMap` instance).\n",
      "\n",
      "\n"
     ]
    }
   ],
   "source": [
    "project.help()"
   ]
  },
  {
   "cell_type": "markdown",
   "metadata": {},
   "source": [
    "Let's start by checking if our files are organized correctly."
   ]
  },
  {
   "cell_type": "code",
   "execution_count": 4,
   "metadata": {},
   "outputs": [
    {
     "name": "stdout",
     "output_type": "stream",
     "text": [
      "DATA:\n",
      "Video data: simba\n",
      "\n",
      "   SIMBA paper format data\n",
      "\n",
      "    Assumes the following file structure\n",
      "\n",
      "    ```\n",
      "    data_path\n",
      "    ├── Video1.csv\n",
      "    ...\n",
      "    └── Video9.csv\n",
      "    ```\n",
      "    Here `data_suffix` is `.csv`.\n",
      "    \n",
      "Annotation data: simba\n",
      "\n",
      "    SIMBA paper format data\n",
      "\n",
      "    Assumes the following file structure:\n",
      "    ```\n",
      "    annotation_path\n",
      "    ├── Video1.csv\n",
      "    ...\n",
      "    └── Video9.csv\n",
      "    \n",
      "Annotation path and data path don't have to be separate, you can keep everything in one folder.\n",
      "\n",
      "\n"
     ]
    }
   ],
   "source": [
    "project.help(\"data\")"
   ]
  },
  {
   "cell_type": "markdown",
   "metadata": {},
   "source": [
    "## Setting parameters"
   ]
  },
  {
   "cell_type": "markdown",
   "metadata": {},
   "source": [
    "After the data structure is sorted out, it's time to configure the parameter settings. \n",
    "\n",
    "Every project keeps fixed settings written in configuration files in the project folder. When you want to change something, you have two options: modifying the configuration files so that this new value becomes the default (with `project.set_main_parameters` or `project.update_parameters`) or passing a `parameters_update` argument to your function so that the settings only change for this run.\n",
    "\n",
    "We will start with setting the defaults.\n",
    "\n",
    "As we saw in the help message, the first step is checking which essential parameters are missing with `project.list_blanks()`"
   ]
  },
  {
   "cell_type": "code",
   "execution_count": 5,
   "metadata": {},
   "outputs": [
    {
     "name": "stdout",
     "output_type": "stream",
     "text": [
      "Before running experiments, please update all the blanks.\n",
      "To do that, you can run this.\n",
      "--------------------------------------------------------\n",
      "project.update_parameters(\n",
      "    {\n",
      "        \"data\": {\n",
      "            \"canvas_shape\": ..., # list; [x, y] size of the canvas where the coordinates are defined\n",
      "            \"data_suffix\": ..., # str; the data suffix (the data files should be named {video_id}{data_suffix}, e.g. video1_suffix.pickle, where video1 is the video is and _suffix.pickle is the suffix\n",
      "            \"annotation_suffix\": ..., # str | set, optional the suffix or the set of suffices such that the annotation files are named {video_id}{annotation_suffix}, e.g, video1_suffix.pickle where video1 is the video id and _suffix.pickle is the suffix\n",
      "        }\n",
      "        \"general\": {\n",
      "            \"exclusive\": ..., # bool; if true, single-label classification is used; otherwise multi-label\n",
      "        }\n",
      "    }\n",
      ")\n",
      "--------------------------------------------------------\n",
      "Replace ... with relevant values.\n"
     ]
    }
   ],
   "source": [
    "project.list_blanks()"
   ]
  },
  {
   "cell_type": "markdown",
   "metadata": {},
   "source": [
    "We can copy this code, fill in the information and run it."
   ]
  },
  {
   "cell_type": "code",
   "execution_count": 6,
   "metadata": {},
   "outputs": [],
   "source": [
    "project.update_parameters(\n",
    "    {\n",
    "        \"data\": {\n",
    "            \"canvas_shape\": [1290, 730], # list; [x, y] size of the canvas where the coordinates are defined\n",
    "            \"data_suffix\": \".csv\", # str; the data suffix (the data files should be named {video_id}{data_suffix})\n",
    "            \"annotation_suffix\": \".csv\", # str | set, optional the suffix or the set of suffices such that the annotation files are named {video_id}{annotation_suffix}, e.g, video1_suffix.pickle where video1 is the video id and _suffix.pickle is the suffix\n",
    "        },\n",
    "        \"general\": {\n",
    "            \"exclusive\": False, # bool; if true, single-label classification is used; otherwise multi-label\n",
    "        }\n",
    "    }\n",
    ")"
   ]
  },
  {
   "cell_type": "markdown",
   "metadata": {},
   "source": [
    "Now we're all set and can start training models. However, we can take an extra step and check out what other parameters are available."
   ]
  },
  {
   "cell_type": "markdown",
   "metadata": {},
   "source": [
    "Note that this function is only showing us the parameters for the metric functions and the model that are selected as default at the moment. If you want to see what parameters there are for other models and metrics, try setting them first with `project.set_main_parameters()` or with `project.update_parameters()`."
   ]
  },
  {
   "cell_type": "code",
   "execution_count": 7,
   "metadata": {},
   "outputs": [
    {
     "name": "stdout",
     "output_type": "stream",
     "text": [
      "BASIC PARAMETERS:\n",
      "Here is a list of current parameters.\n",
      "You can copy this code, change the parameters you want to set and run it to update the project config.\n",
      "--------------------------------------------------------\n",
      "project.update_parameters(\n",
      "    {\n",
      "        \"general\": {\n",
      "            \"model_name\": \"ms_tcn3\", # str; model name (run project.help(\"model\") for more info)\n",
      "            \"metric_functions\": {'f1', 'precision', 'recall'}, # set; set of metric names (run project.help(\"metrics\") for more info)\n",
      "            \"ignored_clips\": None, # list; a list of string clip ids (agent names) to be ignored\n",
      "            \"len_segment\": 128, # int; the length of segments (in frames) to cut the videos into\n",
      "            \"overlap\": 0.75, # int; the overlap (in frames) between neighboring segments\n",
      "            \"interactive\": False, # bool; if true, annotations are assigned and features are computed for pairs of clips (animals)\n",
      "        },\n",
      "        \"data\": {\n",
      "            \"data_suffix\": \".csv\", # str; the data suffix (the data files should be named {video_id}{data_suffix}, e.g. video1_suffix.pickle, where video1 is the video is and _suffix.pickle is the suffix\n",
      "            \"feature_suffix\": None, # str; suffix of files with additional features saved as a dictionary (files should be named {video_id}{feature_suffix} and places at data path)\n",
      "            \"annotation_suffix\": \".csv\", # str | set, optional the suffix or the set of suffices such that the annotation files are named {video_id}{annotation_suffix}, e.g, video1_suffix.pickle where video1 is the video id and _suffix.pickle is the suffix\n",
      "            \"canvas_shape\": [1290, 730], # list; [x, y] size of the canvas where the coordinates are defined\n",
      "            \"ignored_bodyparts\": None, # list; a list of nodypart names to ignore\n",
      "            \"likelihood_threshold\": 0, # float; minimum likelihood to load (bodyparts with lower likelihood will be treated as unknown)\n",
      "            \"behaviors\": None, # list; the list of behaviors to put in the annotation (if null, if will be inferred from the data; !!PLEASE SET IT MANUALLY if different files can have different behavior sets!!)\n",
      "            \"filter_annotated\": False, # bool; if true, the samples that do not have any labels will be filtered\n",
      "            \"filter_background\": False, # bool, if true, only the unlabeled frames that are close to annotated frames will be labeled as background\n",
      "            \"visibility_min_score\": 0, # float, the minimum visibility score for visibility filtering (from 0 ro 1)\n",
      "            \"visibility_min_frac\": 0, # float, the minimum fraction of visible frames for visibility filtering\n",
      "        },\n",
      "        \"training\": {\n",
      "            \"lr\": 0.001, # float; learning rate\n",
      "            \"device\": \"auto\", # str; device\n",
      "            \"num_epochs\": 50, # int; number of epochs\n",
      "            \"to_ram\": False, # bool; transfer the dataset to RAM for training (preferred if the dataset fits in working memory)\n",
      "            \"batch_size\": 64, # int; batch size\n",
      "            \"normalize\": True, # bool; if true, normalization statistics will be computed on the training set and applied to all data\n",
      "            \"temporal_subsampling_size\": 0.85, # float; this fraction of frames in each segment is randomly sampled at training time\n",
      "            \"parallel\": False, # bool; if true, the model will be trained on all gpus visible in the system (use os.environ[“CUDA_VISIBLE_DEVICES”] =“{indices}” to exclude gpus in this mode)\n",
      "\n",
      "#losses\n",
      "            \"val_frac\": 0.2, # float; fraction of dataset to use as validation\n",
      "            \"test_frac\": 0, # float; fraction of dataset to use as test\n",
      "            \"partition_method\": \"random\", # str; the train/test/val partitioning method (for more info run project.help(\"partition_method\"))\n",
      "        },\n",
      "        \"losses\": {\n",
      "            \"ms_tcn\": {\n",
      "                \"focal\": True, # bool; if True, focal loss will be used\n",
      "                \"gamma\": 2, # float; the gamma parameter of focal loss\n",
      "                \"alpha\": 0.001, # float; the weight of consistency loss\n",
      "            },\n",
      "        },\n",
      "        \"metrics\": {\n",
      "            \"f1\": {\n",
      "                \"average\": \"macro\", # ['macro', 'micro', 'none']; averaging method for classes\n",
      "                \"ignored_classes\": None, # set; a set of class ids to ignore in calculation\n",
      "                \"threshold_value\": 0.5, # float; the probability threshold for positive samples\n",
      "            },\n",
      "            \"recall\": {\n",
      "                \"average\": \"macro\", # ['macro', 'micro', 'none']; averaging method for classes\n",
      "                \"ignored_classes\": None, # set; a set of class ids to ignore in calculation\n",
      "                \"threshold_value\": 0.5, # float; the probability threshold for positive samples\n",
      "            },\n",
      "            \"precision\": {\n",
      "                \"average\": \"macro\", # ['macro', 'micro', 'none']; averaging method for classes\n",
      "                \"ignored_classes\": None, # set; a set of class ids to ignore in calculation\n",
      "                \"threshold_value\": 0.5, # float; the probability threshold for positive samples\n",
      "            },\n",
      "        },\n",
      "        \"model\": {\n",
      "            \"num_layers_PG\": 15, # int; number of layers in prediction generation stage\n",
      "            \"num_layers_R\": 12, # int; number of layers in refinement stages\n",
      "            \"num_R\": 3, # int; number of refinement stages\n",
      "            \"num_f_maps\": 128, # int; number of feature maps\n",
      "            \"shared_weights\": False, # bool; if true, weights are shared across refinement stages\n",
      "        },\n",
      "        \"features\": {\n",
      "            \"keys\": None, # set; a list of names of the features to extract (a subset of available keys; run project.help(\"features\") for more info)\n",
      "            \"averaging_window\": 1, # int; if >1, features are averaged with a moving window of this size (in frames)\n",
      "            \"distance_pairs\": None, # list; a list of bodypart name tuples (e.g. `[(\"tail\", \"nose\")]`) to compute distances for when `\"intra_distance\"` is in `keys` (by default all distances are computed)\n",
      "            \"angle_pairs\": None, # list; a list of bodypart name tuples (e.g. `[(\"ear1\", \"nose\", \"ear2\")]`) for the angle between `\"ear1\"--\"nose\"` and `\"nose\"--\"ear2\"` lines) to compute angle cosines for when `\"angles\"` is in `keys` (by default no angles are computed)\n",
      "            \"zone_vertices\": None, # dict; a dictionary of bodypart name tuples of any length >= 3 that define zones for `\"zone_bools\"`and `\"zone_distances\"` features; keys should be zone names and values should be tuples that define the polygons (e.g. `{\"main_area\": (\"x_min\", \"x_max\", \"y_max\", \"y_min\"))}`)\n",
      "            \"zone_bools\": None, # list; a list of zone and bodypart name tuples to compute binary identifiers for (1 if an animal is within the polygon or 0 if it's outside) (e.g. `[(\"main_area\", \"nose\")]`); the zones should be defined in the `zone_vertices` parameter; this is only computed if `\"zone_bools\"` is in `keys`\n",
      "            \"zone_distances\": None, # list; a list of zone and bodypart name tuples to compute distances for (distance from the bodypart to the closest of the boundaries) (e.g. `[(\"main_area\", \"nose\")]`); the zones should be defined in the `zone_vertices` parameter; this is only computed if `\"zone_distances\"` is in `keys`\n",
      "            \"area_vertices\": None, # list; a list of bodypart name tuples of any length >= 3 (e.g. `[(\"ear1\", \"nose\", \"ear2\", \"spine1\")]`) that define polygons to compute areas for when `\"areas\"` is in `keys` (by default no areas are computed)\n",
      "        },\n",
      "        \"augmentations\": {\n",
      "            \"augmentations\": {'mirror', 'add_noise'}, # set; a set of augmentations (from 'rotate', 'real_lens', 'add_noise', 'shift', 'zoom', 'mirror', 'switch')\n",
      "            \"rotation_limits\": [-1.57, 1.57], # list; list of rotation angle limits in radians ([low, high])\n",
      "            \"mirror_dim\": {0}, # set; set of dimensions that can be mirrored (0 for x, 1 for y, 2 for z)\n",
      "            \"noise_std\": 0.003, # float; standard deviation of noise\n",
      "            \"zoom_limits\": [0.5, 1.5], # list; list of float zoom limits ([low, high])\n",
      "            \"masking_probability\": 0.1, # float; the probability of masking a joint\n",
      "        },\n",
      "    },\n",
      ")\n",
      "--------------------------------------------------------\n",
      "\n",
      "\n"
     ]
    }
   ],
   "source": [
    "project.list_basic_parameters()"
   ]
  },
  {
   "cell_type": "markdown",
   "metadata": {},
   "source": [
    "We can copy this into a code cell to make it easier to read."
   ]
  },
  {
   "cell_type": "code",
   "execution_count": 8,
   "metadata": {},
   "outputs": [],
   "source": [
    "project.update_parameters(\n",
    "    {\n",
    "        \"general\": {\n",
    "            \"model_name\": \"transformer\", # str; model name (run project.help(\"model\") for more info)\n",
    "            \"metric_functions\": ['f1', 'precision'], \n",
    "            \"ignored_clips\": None, # list; a list of string clip ids (agent names) to be ignored\n",
    "            \"len_segment\": 128, # int; the length of segments (in frames) to cut the videos into\n",
    "            \"overlap\": 30, # int; the overlap (in frames) between neighboring segments\n",
    "            \"interactive\": False, # bool; if true, annotations are assigned and features are computed for pairs of clips (animals)\n",
    "        },\n",
    "        \"data\": {\n",
    "            \"data_suffix\": \".csv\", # str; the data suffix (the data files should be named {video_id}{data_suffix}, e.g. video1_suffix.pickle, where video1 is the video is and _suffix.pickle is the suffix\n",
    "            \"feature_suffix\": None, # str; suffix of files with additional features saved as a dictionary (files should be named {video_id}{feature_suffix} and places at data path)\n",
    "            \"annotation_suffix\": \".csv\", # str | set, optional the suffix or the set of suffices such that the annotation files are named {video_id}{annotation_suffix}, e.g, video1_suffix.pickle where video1 is the video id and _suffix.pickle is the suffix\n",
    "            \"canvas_shape\": [1290, 730], # list; [x, y] size of the canvas where the coordinates are defined\n",
    "            \"ignored_bodyparts\": None, # list; a list of nodypart names to ignore\n",
    "            \"likelihood_threshold\": 0, # float; minimum likelihood to load (bodyparts with lower likelihood will be treated as unknown)\n",
    "            \"behaviors\": None, # list; the list of behaviors to put in the annotation (if null, if will be inferred from the data; !!PLEASE SET IT MANUALLY if different files can have different behavior sets!!)\n",
    "            \"filter_annotated\": False, # bool; if true, the samples that do not have any labels will be filtered\n",
    "            \"filter_background\": False, # bool, if true, only the unlabeled frames that are close to annotated frames will be labeled as background\n",
    "            \"visibility_min_score\": 0, # float, the minimum visibility score for visibility filtering (from 0 ro 1)\n",
    "            \"visibility_min_frac\": 0, # float, the minimum fraction of visible frames for visibility filtering\n",
    "        },\n",
    "        \"training\": {\n",
    "            \"lr\": 0.001, # float; learning rate\n",
    "            \"device\": \"auto\", # str; device\n",
    "            \"num_epochs\": 10, # int; number of epochs\n",
    "            \"to_ram\": False, # bool; transfer the dataset to RAM for training (preferred if the dataset fits in working memory)\n",
    "            \"batch_size\": 32, # int; batch size\n",
    "            \"normalize\": True, # bool; if true, normalization statistics will be computed on the training set and applied to all data\n",
    "            \"temporal_subsampling_size\": 0.85, # float; this fraction of frames in each segment is randomly sampled at training time\n",
    "            \"parallel\": False, # bool; if true, the model will be trained on all gpus visible in the system (use os.environ[“CUDA_VISIBLE_DEVICES”] =“{indices}” to exclude gpus in this mode)\n",
    "            \"val_frac\": 0.2, # float; fraction of dataset to use as validation\n",
    "            \"test_frac\": 0, # float; fraction of dataset to use as test\n",
    "            \"partition_method\": \"random\", # str; the train/test/val partitioning method (for more info run project.help(\"partition_method\"))\n",
    "        },\n",
    "        \"losses\": {\n",
    "            \"ms_tcn\": {\n",
    "                \"focal\": True, # bool; if True, focal loss will be used\n",
    "                \"gamma\": 2, # float; the gamma parameter of focal loss\n",
    "                \"alpha\": 0.001, # float; the weight of consistency loss\n",
    "            },\n",
    "        },\n",
    "        \"metrics\": {\n",
    "            \"f1\": {\n",
    "                \"average\": \"macro\", # ['macro', 'micro', 'none']; averaging method for classes\n",
    "                \"ignored_classes\": \"None\", # set; a set of class ids to ignore in calculation\n",
    "                \"threshold_value\": 0.5, # float; the probability threshold for positive samples\n",
    "            },\n",
    "            \"precision\": {\n",
    "                \"average\": \"macro\", # ['macro', 'micro', 'none']; averaging method for classes\n",
    "                \"ignored_classes\": \"None\", # set; a set of class ids to ignore in calculation\n",
    "                \"threshold_value\": 0.5, # float; the probability threshold for positive samples\n",
    "            },\n",
    "        },\n",
    "        \"model\": {\n",
    "            \"num_f_maps\": 128, # int; number of maps\n",
    "            \"feature_dim\": None, # int; if not null, intermediate features are generated with this dimension and then passed to a 2-layer MLP for classification (useful for SSL)\n",
    "        },\n",
    "        \"features\": {\n",
    "            \"keys\": None, # set; a list of names of the features to extract (a subset of available keys; run project.help(\"features\") for more info)\n",
    "            \"averaging_window\": 1, # int; if >1, features are averaged with a moving window of this size (in frames)\n",
    "            \"distance_pairs\": None, # list; a list of bodypart name tuples (e.g. `[(\"tail\", \"nose\")]`) to compute distances for when `\"intra_distance\"` is in `keys` (by default all distances are computed)\n",
    "            \"angle_pairs\": None, # list; a list of bodypart name tuples (e.g. `[(\"ear1\", \"nose\", \"ear2\")]`) for the angle between `\"ear1\"--\"nose\"` and `\"nose\"--\"ear2\"` lines) to compute angle cosines for when `\"angles\"` is in `keys` (by default no angles are computed)\n",
    "            \"zone_vertices\": None, # dict; a dictionary of bodypart name tuples of any length >= 3 that define zones for `\"zone_bools\"`and `\"zone_distances\"` features; keys should be zone names and values should be tuples that define the polygons (e.g. `{\"main_area\": (\"x_min\", \"x_max\", \"y_max\", \"y_min\"))}`)\n",
    "            \"zone_bools\": None, # list; a list of zone and bodypart name tuples to compute binary identifiers for (1 if an animal is within the polygon or 0 if it's outside) (e.g. `[(\"main_area\", \"nose\")]`); the zones should be defined in the `zone_vertices` parameter; this is only computed if `\"zone_bools\"` is in `keys`\n",
    "            \"zone_distances\": None, # list; a list of zone and bodypart name tuples to compute distances for (distance from the bodypart to the closest of the boundaries) (e.g. `[(\"main_area\", \"nose\")]`); the zones should be defined in the `zone_vertices` parameter; this is only computed if `\"zone_distances\"` is in `keys`\n",
    "            \"area_vertices\": None, # list; a list of bodypart name tuples of any length >= 3 (e.g. `[(\"ear1\", \"nose\", \"ear2\", \"spine1\")]`) that define polygons to compute areas for when `\"areas\"` is in `keys` (by default no areas are computed)\n",
    "        },\n",
    "        \"augmentations\": {\n",
    "            \"augmentations\": {'add_noise', 'mirror'}, # set; a set of augmentations (from 'rotate', 'real_lens', 'add_noise', 'shift', 'zoom', 'mirror', 'switch')\n",
    "            \"rotation_limits\": [-1.57, 1.57], # list; list of rotation angle limits in radians ([low, high])\n",
    "            \"mirror_dim\": {0}, # set; set of dimensions that can be mirrored (0 for x, 1 for y, 2 for z)\n",
    "            \"noise_std\": 0.003, # float; standard deviation of noise\n",
    "            \"zoom_limits\": [0.5, 1.5], # list; list of float zoom limits ([low, high])\n",
    "            \"masking_probability\": 0.1, # float; the probability of masking a joint\n",
    "        },\n",
    "    },\n",
    ")"
   ]
  },
  {
   "cell_type": "markdown",
   "metadata": {},
   "source": [
    "Let's see what the options are for metrics and models."
   ]
  },
  {
   "cell_type": "code",
   "execution_count": 9,
   "metadata": {},
   "outputs": [
    {
     "name": "stdout",
     "output_type": "stream",
     "text": [
      "MODELS:\n",
      "ms_tcn3:\n",
      "\n",
      "    A modification of MS-TCN++ model with additional options\n",
      "    \n",
      "asformer:\n",
      "\n",
      "    An implementation of ASFormer\n",
      "    \n",
      "mlp:\n",
      "\n",
      "    A Multi-Layer Perceptron\n",
      "    \n",
      "c2f_tcn:\n",
      "\n",
      "    An implementation of C2F-TCN\n",
      "\n",
      "    Requires the `\"general/len_segment\"` parameter to be at least 512\n",
      "    \n",
      "edtcn:\n",
      "\n",
      "    An implementation of EDTCN (Endoder-Decoder TCN)\n",
      "    \n",
      "transformer:\n",
      "\n",
      "    A modification of Transformer-Encoder with additional max-pooling and upsampling\n",
      "    \n",
      "    Set `num_pool` to 0 to get a standart transformer-encoder.\n",
      "    \n",
      "c2f_transformer:\n",
      "\n",
      "    A modification of C2F-TCN that replaces some convolutions with attention\n",
      "\n",
      "    Requires the `\"general/len_segment\"` parameter to be at least 512\n",
      "    \n",
      "actionclip:\n",
      "\n",
      "    ActionCLIP modification \n",
      "    \n",
      "    Only works with `\"clip\"` input store and `\"clip\"` loss.\n",
      "    \n",
      "\n",
      "\n",
      "METRICS:\n",
      "accuracy:\n",
      "\n",
      "    Accuracy\n",
      "    \n",
      "precision:\n",
      "\n",
      "    Precision\n",
      "    \n",
      "f1:\n",
      "\n",
      "    F1 score\n",
      "    \n",
      "recall:\n",
      "\n",
      "    Recall\n",
      "    \n",
      "count:\n",
      "\n",
      "    Fraction of samples labeled by the model as a class\n",
      "    \n",
      "segmental_precision:\n",
      "\n",
      "    Segmental precision (not advised for training)\n",
      "    \n",
      "segmental_recall:\n",
      "\n",
      "    Segmental recall (not advised for training)\n",
      "    \n",
      "segmental_f1:\n",
      "\n",
      "    Segmental F1 score (not advised for training)\n",
      "    \n",
      "edit_distance:\n",
      "\n",
      "    Edit distance (not advised for training)\n",
      "\n",
      "    Normalized by the length of the sequences\n",
      "    \n",
      "f_beta:\n",
      "\n",
      "    F-beta score\n",
      "    \n",
      "segmental_f_beta:\n",
      "\n",
      "    Segmental F-beta score (not advised for training)\n",
      "    \n",
      "semisegmental_precision:\n",
      "\n",
      "    Semi-segmental precision (not advised for training)\n",
      "\n",
      "    A metric in-between segmental and frame-wise precision.\n",
      "\n",
      "    This metric follows the following algorithm:\n",
      "    1) smooth over too-short intervals, both in ground truth and in prediction (first remove\n",
      "        groups of zeros shorter than `smooth_interval` and then do the same with groups of ones),\n",
      "    2) add `delta` frames to each predicted interval at both ends and count the number of ground truth\n",
      "        positive frames at the resulting intervals (intersection),\n",
      "    3) calculate the threshold for each interval as\n",
      "        `t = sigmoid(4 * (a * x + b)) * (iou_threshold_long - iou_threshold_short))`, where\n",
      "        `a = 2 / (long_length - short_length)`, `b = 1 - a * long_length`, `x` is the length of the interval\n",
      "        before `delta` was added,\n",
      "    4) for each interval, if intersection is higher than `t * x`, the interval is labeled as true positive (`TP`),\n",
      "        and otherwise as false positive (`FP`),\n",
      "    5) the final metric value is computed as `TP / (TP + FP)`.\n",
      "    \n",
      "semisegmental_recall:\n",
      "\n",
      "    Semi-segmental recall (not advised for training)\n",
      "\n",
      "    A metric in-between segmental and frame-wise recall.\n",
      "\n",
      "    This metric follows the following algorithm:\n",
      "    1) smooth over too-short intervals, both in ground truth and in prediction (first remove\n",
      "        groups of zeros shorter than `smooth_interval` and then do the same with groups of ones),\n",
      "    2) add `delta` frames to each ground truth interval at both ends and count the number of predicted\n",
      "        positive frames at the resulting intervals (intersection),\n",
      "    3) calculate the threshold for each interval as\n",
      "        `t = sigmoid(4 * (a * x + b)) * (iou_threshold_long - iou_threshold_short))`, where\n",
      "        `a = 2 / (long_length - short_length)`, `b = 1 - a * long_length`, `x` is the length of the interval\n",
      "        before `delta` was added,\n",
      "    4) for each interval, if intersection is higher than `t * x`, the interval is labeled as true positive (`TP`),\n",
      "        and otherwise as false negative (`FN`),\n",
      "    5) the final metric value is computed as `TP / (TP + FN)`.\n",
      "    \n",
      "semisegmental_f1:\n",
      "\n",
      "    The F1 score for semi-segmental recall and precision (not advised for training)\n",
      "    \n",
      "pr-auc:\n",
      "\n",
      "    Area under precision-recall curve (not advised for training)\n",
      "    \n",
      "semisegmental_pr-auc:\n",
      "\n",
      "    The area under the precision-recall curve for semi-segmental metrics (not advised for training)\n",
      "    \n",
      "mAP:\n",
      "\n",
      "    Mean average precision (segmental) (not advised for training)\n",
      "    \n",
      "\n",
      "\n"
     ]
    }
   ],
   "source": [
    "project.help(\"model\")\n",
    "project.help(\"metrics\")"
   ]
  },
  {
   "cell_type": "markdown",
   "metadata": {},
   "source": [
    "Which models and metrics do you want to try out?\n",
    "\n",
    "You can choose any metrics but the code will run much faster if you avoid those marked \"not advisable for training\". We can compute those later with a trained model."
   ]
  },
  {
   "cell_type": "code",
   "execution_count": 10,
   "metadata": {},
   "outputs": [],
   "source": [
    "MODEL_NAME1 = \"c2f_tcn\"\n",
    "MODEL_NAME2 = \"transformer\"\n",
    "METRICS = [\"f1\", \"precision\"]"
   ]
  },
  {
   "cell_type": "markdown",
   "metadata": {},
   "source": [
    "We will configure the metrics in the default parameters, as well as a smaller number of epochs. The model will be updated in each experiment independently, since we want to try out more than one."
   ]
  },
  {
   "cell_type": "code",
   "execution_count": 11,
   "metadata": {},
   "outputs": [],
   "source": [
    "project.update_parameters(\n",
    "    {\n",
    "        \"general\": {\"metric_functions\": METRICS},\n",
    "        \"training\": {\"num_epochs\": 15}\n",
    "    }\n",
    ")"
   ]
  },
  {
   "cell_type": "markdown",
   "metadata": {},
   "source": [
    "All done! Now we're ready to run experiments. "
   ]
  },
  {
   "cell_type": "markdown",
   "metadata": {},
   "source": [
    "## Hyperparameter search"
   ]
  },
  {
   "cell_type": "markdown",
   "metadata": {},
   "source": [
    "There are many hyperparameters in model training, like the number of layers in a model or loss coefficients. The default settings for those parameters should generate reasonable results on most datasets but in order to get the most out of our data we can run a hyperparameter search.\n",
    "\n",
    "Searches in `DLC2Action` use the `optuna` auto-ML package to sample the hyperpameter space efficiently and save time on trials that go badly from the beginning. \n",
    "\n",
    "There are two methods for running a search: `project.run_hyperparameter_search()` and `project.run_default_hyperparameter_search()`. As you might have guessed from the names, the second method will just load the default set of parameters for a given model while the first allows you to optimize whatever you want. For the vast majority of cases `project.run_default_hyperparameter_search()` should be enough, so that is what we will use in thi tutorial."
   ]
  },
  {
   "cell_type": "code",
   "execution_count": 12,
   "metadata": {},
   "outputs": [
    {
     "name": "stderr",
     "output_type": "stream",
     "text": [
      "\u001b[32m[I 2022-11-01 19:24:27,953]\u001b[0m A new study created in memory with name: no-name-5830798f-9519-4d9d-bd90-8abf56e3890c\u001b[0m\n"
     ]
    },
    {
     "name": "stdout",
     "output_type": "stream",
     "text": [
      "SEARCH c2f_tcn_search\n",
      "Computing input features...\n"
     ]
    },
    {
     "name": "stderr",
     "output_type": "stream",
     "text": [
      "100%|██████████| 12/12 [00:25<00:00,  2.10s/it]\n"
     ]
    },
    {
     "name": "stdout",
     "output_type": "stream",
     "text": [
      "Computing annotation arrays...\n"
     ]
    },
    {
     "name": "stderr",
     "output_type": "stream",
     "text": [
      "100%|██████████| 12/12 [00:07<00:00,  1.52it/s]\n"
     ]
    },
    {
     "name": "stdout",
     "output_type": "stream",
     "text": [
      "Number of samples:\n",
      "    validation:\n",
      "      {0: 689, 1: 343, 2: 8551, 3: 308, 4: 912, 5: 3227, 6: 0, 7: 6989}\n",
      "    training:\n",
      "      {0: 9581, 1: 5457, 2: 13901, 3: 3084, 4: 5238, 5: 9211, 6: 23, 7: 8427}\n",
      "    test:\n",
      "      {0: 0, 1: 0, 2: 0, 3: 0, 4: 0, 5: 0, 6: 0, 7: 0}\n",
      "Computing normalization statistics...\n"
     ]
    },
    {
     "name": "stderr",
     "output_type": "stream",
     "text": [
      "100%|██████████| 123/123 [00:00<00:00, 254.08it/s]\n",
      "100%|██████████| 123/123 [00:00<00:00, 258.95it/s]\n"
     ]
    },
    {
     "name": "stdout",
     "output_type": "stream",
     "text": [
      "Initializing class weights:\n",
      "     0: 0.001, 0.001, 0.001, 0.001, 0.001, 0.001, 0.001, 0.001 1: 0.013, 0.023, 0.009, 0.04, 0.023, 0.013, 5.348, 0.015\n",
      "Behavior indices:\n",
      "    0: anogenital\n",
      "    1: approach\n",
      "    2: attack\n",
      "    3: avoidance\n",
      "    4: boxing\n",
      "    5: lateralthreat\n",
      "    6: pursuit\n",
      "    7: submission\n"
     ]
    },
    {
     "name": "stderr",
     "output_type": "stream",
     "text": [
      "/home/liza/miniconda3/envs/DLC2Action/lib/python3.9/site-packages/torch/nn/functional.py:3722: UserWarning: nn.functional.upsample is deprecated. Use nn.functional.interpolate instead.\n",
      "  warnings.warn(\"nn.functional.upsample is deprecated. Use nn.functional.interpolate instead.\")\n",
      "/home/liza/DLC2Action-1/dlc2action/model/c2f_tcn.py:78: UserWarning: __floordiv__ is deprecated, and its behavior will change in a future version of pytorch. It currently rounds toward 0 (like the 'trunc' function NOT 'floor'). This results in incorrect rounding for negative values. To keep the current behavior, use torch.div(a, b, rounding_mode='trunc'), or for actual floor division, use torch.div(a, b, rounding_mode='floor').\n",
      "  x1 = F.pad(x1, [diff // 2, diff - diff // 2])\n"
     ]
    },
    {
     "name": "stdout",
     "output_type": "stream",
     "text": [
      "[epoch 1]: loss 0.0016, f1 0.139, precision 0.090\n",
      "validation: loss 0.0021, f1 0.125, precision 0.096\n",
      "[epoch 2]: loss 0.0015, f1 0.214, precision 0.134\n",
      "validation: loss 0.0020, f1 0.204, precision 0.279\n",
      "[epoch 3]: loss 0.0013, f1 0.239, precision 0.148\n",
      "validation: loss 0.0020, f1 0.283, precision 0.265\n",
      "[epoch 4]: loss 0.0013, f1 0.252, precision 0.158\n",
      "validation: loss 0.0019, f1 0.306, precision 0.262\n",
      "[epoch 5]: loss 0.0012, f1 0.281, precision 0.184\n",
      "validation: loss 0.0017, f1 0.311, precision 0.255\n",
      "[epoch 6]: loss 0.0011, f1 0.287, precision 0.189\n",
      "validation: loss 0.0015, f1 0.305, precision 0.247\n",
      "[epoch 7]: loss 0.0011, f1 0.312, precision 0.211\n",
      "validation: loss 0.0014, f1 0.311, precision 0.252\n",
      "[epoch 8]: loss 0.0011, f1 0.317, precision 0.217\n",
      "validation: loss 0.0014, f1 0.311, precision 0.255\n",
      "[epoch 9]: loss 0.0010, f1 0.332, precision 0.230\n",
      "validation: loss 0.0014, f1 0.306, precision 0.250\n"
     ]
    },
    {
     "name": "stderr",
     "output_type": "stream",
     "text": [
      "\u001b[32m[I 2022-11-01 19:25:16,750]\u001b[0m Trial 0 finished with value: 0.31443663421286355 and parameters: {'losses/ms_tcn/alpha': 0.0006376715560834498, 'losses/ms_tcn/focal': False, 'training/temporal_subsampling_size': 0.9893164630279647, 'model/num_f_maps': 37, 'general/len_segment': 1024}. Best is trial 0 with value: 0.31443663421286355.\u001b[0m\n"
     ]
    },
    {
     "name": "stdout",
     "output_type": "stream",
     "text": [
      "[epoch 10]: loss 0.0010, f1 0.338, precision 0.236\n",
      "validation: loss 0.0013, f1 0.322, precision 0.258\n",
      "Computing input features...\n"
     ]
    },
    {
     "name": "stderr",
     "output_type": "stream",
     "text": [
      "100%|██████████| 12/12 [00:25<00:00,  2.10s/it]\n"
     ]
    },
    {
     "name": "stdout",
     "output_type": "stream",
     "text": [
      "Computing annotation arrays...\n"
     ]
    },
    {
     "name": "stderr",
     "output_type": "stream",
     "text": [
      "100%|██████████| 12/12 [00:07<00:00,  1.54it/s]\n"
     ]
    },
    {
     "name": "stdout",
     "output_type": "stream",
     "text": [
      "Number of samples:\n",
      "    validation:\n",
      "      {0: 689, 1: 343, 2: 8551, 3: 308, 4: 912, 5: 3227, 6: 0, 7: 6989}\n",
      "    training:\n",
      "      {0: 9581, 1: 5457, 2: 13901, 3: 3084, 4: 5238, 5: 9211, 6: 23, 7: 8427}\n",
      "    test:\n",
      "      {0: 0, 1: 0, 2: 0, 3: 0, 4: 0, 5: 0, 6: 0, 7: 0}\n",
      "Computing normalization statistics...\n"
     ]
    },
    {
     "name": "stderr",
     "output_type": "stream",
     "text": [
      "100%|██████████| 238/238 [00:00<00:00, 304.04it/s]\n",
      "100%|██████████| 238/238 [00:00<00:00, 327.32it/s]\n"
     ]
    },
    {
     "name": "stdout",
     "output_type": "stream",
     "text": [
      "Initializing class weights:\n",
      "     0: 0.002, 0.002, 0.003, 0.002, 0.002, 0.002, 0.002, 0.002 1: 0.025, 0.044, 0.017, 0.077, 0.045, 0.026, 10.348, 0.028\n",
      "Behavior indices:\n",
      "    0: anogenital\n",
      "    1: approach\n",
      "    2: attack\n",
      "    3: avoidance\n",
      "    4: boxing\n",
      "    5: lateralthreat\n",
      "    6: pursuit\n",
      "    7: submission\n"
     ]
    },
    {
     "name": "stderr",
     "output_type": "stream",
     "text": [
      "/home/liza/miniconda3/envs/DLC2Action/lib/python3.9/site-packages/torch/nn/functional.py:3722: UserWarning: nn.functional.upsample is deprecated. Use nn.functional.interpolate instead.\n",
      "  warnings.warn(\"nn.functional.upsample is deprecated. Use nn.functional.interpolate instead.\")\n",
      "/home/liza/DLC2Action-1/dlc2action/model/c2f_tcn.py:78: UserWarning: __floordiv__ is deprecated, and its behavior will change in a future version of pytorch. It currently rounds toward 0 (like the 'trunc' function NOT 'floor'). This results in incorrect rounding for negative values. To keep the current behavior, use torch.div(a, b, rounding_mode='trunc'), or for actual floor division, use torch.div(a, b, rounding_mode='floor').\n",
      "  x1 = F.pad(x1, [diff // 2, diff - diff // 2])\n"
     ]
    },
    {
     "name": "stdout",
     "output_type": "stream",
     "text": [
      "[epoch 1]: loss 0.0008, f1 0.164, precision 0.104\n",
      "validation: loss 0.0012, f1 0.126, precision 0.231\n",
      "[epoch 2]: loss 0.0006, f1 0.254, precision 0.163\n",
      "validation: loss 0.0010, f1 0.301, precision 0.252\n",
      "[epoch 3]: loss 0.0005, f1 0.284, precision 0.185\n",
      "validation: loss 0.0006, f1 0.318, precision 0.250\n",
      "[epoch 4]: loss 0.0005, f1 0.289, precision 0.189\n",
      "validation: loss 0.0007, f1 0.320, precision 0.250\n",
      "[epoch 5]: loss 0.0005, f1 0.306, precision 0.202\n",
      "validation: loss 0.0006, f1 0.360, precision 0.284\n",
      "[epoch 6]: loss 0.0004, f1 0.332, precision 0.225\n",
      "validation: loss 0.0008, f1 0.338, precision 0.270\n",
      "[epoch 7]: loss 0.0004, f1 0.363, precision 0.253\n",
      "validation: loss 0.0008, f1 0.339, precision 0.273\n",
      "[epoch 8]: loss 0.0004, f1 0.374, precision 0.266\n",
      "validation: loss 0.0010, f1 0.336, precision 0.283\n",
      "[epoch 9]: loss 0.0004, f1 0.379, precision 0.265\n",
      "validation: loss 0.0009, f1 0.357, precision 0.290\n"
     ]
    },
    {
     "name": "stderr",
     "output_type": "stream",
     "text": [
      "\u001b[32m[I 2022-11-01 19:26:09,226]\u001b[0m Trial 1 finished with value: 0.36422477204076315 and parameters: {'losses/ms_tcn/alpha': 9.15668175086674e-05, 'losses/ms_tcn/focal': True, 'training/temporal_subsampling_size': 0.8732855232865435, 'model/num_f_maps': 60, 'general/len_segment': 512}. Best is trial 1 with value: 0.36422477204076315.\u001b[0m\n"
     ]
    },
    {
     "name": "stdout",
     "output_type": "stream",
     "text": [
      "[epoch 10]: loss 0.0003, f1 0.389, precision 0.279\n",
      "validation: loss 0.0008, f1 0.376, precision 0.298\n",
      "Computing annotation arrays...\n"
     ]
    },
    {
     "name": "stderr",
     "output_type": "stream",
     "text": [
      "100%|██████████| 12/12 [00:07<00:00,  1.53it/s]\n"
     ]
    },
    {
     "name": "stdout",
     "output_type": "stream",
     "text": [
      "Number of samples:\n",
      "    validation:\n",
      "      {0: 689, 1: 343, 2: 8551, 3: 308, 4: 912, 5: 3227, 6: 0, 7: 6989}\n",
      "    training:\n",
      "      {0: 9581, 1: 5457, 2: 13901, 3: 3084, 4: 5238, 5: 9211, 6: 23, 7: 8427}\n",
      "    test:\n",
      "      {0: 0, 1: 0, 2: 0, 3: 0, 4: 0, 5: 0, 6: 0, 7: 0}\n",
      "Computing normalization statistics...\n"
     ]
    },
    {
     "name": "stderr",
     "output_type": "stream",
     "text": [
      "100%|██████████| 123/123 [00:00<00:00, 234.95it/s]\n",
      "100%|██████████| 123/123 [00:00<00:00, 243.53it/s]\n"
     ]
    },
    {
     "name": "stdout",
     "output_type": "stream",
     "text": [
      "Initializing class weights:\n",
      "     0: 0.001, 0.001, 0.001, 0.001, 0.001, 0.001, 0.001, 0.001 1: 0.013, 0.023, 0.009, 0.04, 0.023, 0.013, 5.348, 0.015\n",
      "Behavior indices:\n",
      "    0: anogenital\n",
      "    1: approach\n",
      "    2: attack\n",
      "    3: avoidance\n",
      "    4: boxing\n",
      "    5: lateralthreat\n",
      "    6: pursuit\n",
      "    7: submission\n"
     ]
    },
    {
     "name": "stderr",
     "output_type": "stream",
     "text": [
      "/home/liza/miniconda3/envs/DLC2Action/lib/python3.9/site-packages/torch/nn/functional.py:3722: UserWarning: nn.functional.upsample is deprecated. Use nn.functional.interpolate instead.\n",
      "  warnings.warn(\"nn.functional.upsample is deprecated. Use nn.functional.interpolate instead.\")\n",
      "/home/liza/DLC2Action-1/dlc2action/model/c2f_tcn.py:78: UserWarning: __floordiv__ is deprecated, and its behavior will change in a future version of pytorch. It currently rounds toward 0 (like the 'trunc' function NOT 'floor'). This results in incorrect rounding for negative values. To keep the current behavior, use torch.div(a, b, rounding_mode='trunc'), or for actual floor division, use torch.div(a, b, rounding_mode='floor').\n",
      "  x1 = F.pad(x1, [diff // 2, diff - diff // 2])\n"
     ]
    },
    {
     "name": "stdout",
     "output_type": "stream",
     "text": [
      "[epoch 1]: loss 0.0004, f1 0.154, precision 0.102\n",
      "validation: loss 0.0005, f1 0.089, precision 0.282\n",
      "[epoch 2]: loss 0.0003, f1 0.252, precision 0.165\n",
      "validation: loss 0.0005, f1 0.264, precision 0.291\n",
      "[epoch 3]: loss 0.0003, f1 0.292, precision 0.198\n",
      "validation: loss 0.0005, f1 0.295, precision 0.259\n",
      "[epoch 4]: loss 0.0003, f1 0.283, precision 0.186\n",
      "validation: loss 0.0005, f1 0.298, precision 0.254\n",
      "[epoch 5]: loss 0.0002, f1 0.306, precision 0.208\n",
      "validation: loss 0.0004, f1 0.309, precision 0.253\n",
      "[epoch 6]: loss 0.0002, f1 0.334, precision 0.227\n",
      "validation: loss 0.0004, f1 0.324, precision 0.271\n",
      "[epoch 7]: loss 0.0002, f1 0.354, precision 0.246\n",
      "validation: loss 0.0004, f1 0.333, precision 0.278\n",
      "[epoch 8]: loss 0.0002, f1 0.387, precision 0.274\n",
      "validation: loss 0.0004, f1 0.365, precision 0.302\n",
      "[epoch 9]: loss 0.0002, f1 0.421, precision 0.314\n",
      "validation: loss 0.0004, f1 0.356, precision 0.296\n"
     ]
    },
    {
     "name": "stderr",
     "output_type": "stream",
     "text": [
      "\u001b[32m[I 2022-11-01 19:26:32,432]\u001b[0m Trial 2 finished with value: 0.3608053636505586 and parameters: {'losses/ms_tcn/alpha': 0.003969267045989505, 'losses/ms_tcn/focal': True, 'training/temporal_subsampling_size': 0.9996489034296347, 'model/num_f_maps': 104, 'general/len_segment': 1024}. Best is trial 1 with value: 0.36422477204076315.\u001b[0m\n"
     ]
    },
    {
     "name": "stdout",
     "output_type": "stream",
     "text": [
      "[epoch 10]: loss 0.0002, f1 0.443, precision 0.333\n",
      "validation: loss 0.0004, f1 0.362, precision 0.307\n",
      "Initializing class weights:\n",
      "     0: 0.001, 0.001, 0.001, 0.001, 0.001, 0.001, 0.001, 0.001 1: 0.013, 0.023, 0.009, 0.04, 0.023, 0.013, 5.348, 0.015\n",
      "Behavior indices:\n",
      "    0: anogenital\n",
      "    1: approach\n",
      "    2: attack\n",
      "    3: avoidance\n",
      "    4: boxing\n",
      "    5: lateralthreat\n",
      "    6: pursuit\n",
      "    7: submission\n"
     ]
    },
    {
     "name": "stderr",
     "output_type": "stream",
     "text": [
      "/home/liza/miniconda3/envs/DLC2Action/lib/python3.9/site-packages/torch/nn/functional.py:3722: UserWarning: nn.functional.upsample is deprecated. Use nn.functional.interpolate instead.\n",
      "  warnings.warn(\"nn.functional.upsample is deprecated. Use nn.functional.interpolate instead.\")\n",
      "/home/liza/DLC2Action-1/dlc2action/model/c2f_tcn.py:78: UserWarning: __floordiv__ is deprecated, and its behavior will change in a future version of pytorch. It currently rounds toward 0 (like the 'trunc' function NOT 'floor'). This results in incorrect rounding for negative values. To keep the current behavior, use torch.div(a, b, rounding_mode='trunc'), or for actual floor division, use torch.div(a, b, rounding_mode='floor').\n",
      "  x1 = F.pad(x1, [diff // 2, diff - diff // 2])\n"
     ]
    },
    {
     "name": "stdout",
     "output_type": "stream",
     "text": [
      "[epoch 1]: loss 0.0015, f1 0.123, precision 0.074\n",
      "validation: loss 0.0020, f1 0.179, precision 0.204\n",
      "[epoch 2]: loss 0.0014, f1 0.181, precision 0.109\n",
      "validation: loss 0.0020, f1 0.197, precision 0.223\n"
     ]
    },
    {
     "name": "stderr",
     "output_type": "stream",
     "text": [
      "\u001b[32m[I 2022-11-01 19:26:36,092]\u001b[0m Trial 3 pruned. \u001b[0m\n"
     ]
    },
    {
     "name": "stdout",
     "output_type": "stream",
     "text": [
      "Initializing class weights:\n",
      "     0: 0.001, 0.001, 0.001, 0.001, 0.001, 0.001, 0.001, 0.001 1: 0.013, 0.023, 0.009, 0.04, 0.023, 0.013, 5.348, 0.015\n",
      "Behavior indices:\n",
      "    0: anogenital\n",
      "    1: approach\n",
      "    2: attack\n",
      "    3: avoidance\n",
      "    4: boxing\n",
      "    5: lateralthreat\n",
      "    6: pursuit\n",
      "    7: submission\n"
     ]
    },
    {
     "name": "stderr",
     "output_type": "stream",
     "text": [
      "/home/liza/miniconda3/envs/DLC2Action/lib/python3.9/site-packages/torch/nn/functional.py:3722: UserWarning: nn.functional.upsample is deprecated. Use nn.functional.interpolate instead.\n",
      "  warnings.warn(\"nn.functional.upsample is deprecated. Use nn.functional.interpolate instead.\")\n",
      "/home/liza/DLC2Action-1/dlc2action/model/c2f_tcn.py:78: UserWarning: __floordiv__ is deprecated, and its behavior will change in a future version of pytorch. It currently rounds toward 0 (like the 'trunc' function NOT 'floor'). This results in incorrect rounding for negative values. To keep the current behavior, use torch.div(a, b, rounding_mode='trunc'), or for actual floor division, use torch.div(a, b, rounding_mode='floor').\n",
      "  x1 = F.pad(x1, [diff // 2, diff - diff // 2])\n"
     ]
    },
    {
     "name": "stdout",
     "output_type": "stream",
     "text": [
      "[epoch 1]: loss 0.0015, f1 0.130, precision 0.074\n",
      "validation: loss 0.0020, f1 0.232, precision 0.198\n",
      "[epoch 2]: loss 0.0013, f1 0.214, precision 0.130\n",
      "validation: loss 0.0019, f1 0.284, precision 0.216\n",
      "[epoch 3]: loss 0.0012, f1 0.243, precision 0.152\n",
      "validation: loss 0.0017, f1 0.353, precision 0.315\n",
      "[epoch 4]: loss 0.0011, f1 0.295, precision 0.195\n",
      "validation: loss 0.0015, f1 0.355, precision 0.291\n",
      "[epoch 5]: loss 0.0010, f1 0.322, precision 0.217\n",
      "validation: loss 0.0013, f1 0.360, precision 0.285\n",
      "[epoch 6]: loss 0.0010, f1 0.340, precision 0.231\n",
      "validation: loss 0.0011, f1 0.384, precision 0.295\n",
      "[epoch 7]: loss 0.0009, f1 0.351, precision 0.240\n",
      "validation: loss 0.0011, f1 0.351, precision 0.273\n",
      "[epoch 8]: loss 0.0009, f1 0.352, precision 0.241\n",
      "validation: loss 0.0011, f1 0.356, precision 0.280\n",
      "[epoch 9]: loss 0.0008, f1 0.389, precision 0.279\n",
      "validation: loss 0.0011, f1 0.363, precision 0.287\n"
     ]
    },
    {
     "name": "stderr",
     "output_type": "stream",
     "text": [
      "\u001b[32m[I 2022-11-01 19:26:49,137]\u001b[0m Trial 4 finished with value: 0.3691070292640792 and parameters: {'losses/ms_tcn/alpha': 3.482154269765296e-05, 'losses/ms_tcn/focal': False, 'training/temporal_subsampling_size': 0.823945353677747, 'model/num_f_maps': 81, 'general/len_segment': 1024}. Best is trial 4 with value: 0.3691070292640792.\u001b[0m\n"
     ]
    },
    {
     "name": "stdout",
     "output_type": "stream",
     "text": [
      "[epoch 10]: loss 0.0008, f1 0.405, precision 0.293\n",
      "validation: loss 0.0013, f1 0.324, precision 0.265\n",
      "best parameters: {'losses/ms_tcn/alpha': 3.482154269765296e-05, 'losses/ms_tcn/focal': False, 'training/temporal_subsampling_size': 0.823945353677747, 'model/num_f_maps': 81, 'general/len_segment': 1024}\n",
      "\n",
      "\n",
      "SEARCH transformer_search\n"
     ]
    },
    {
     "name": "stderr",
     "output_type": "stream",
     "text": [
      "\u001b[32m[I 2022-11-01 19:26:50,570]\u001b[0m A new study created in memory with name: no-name-40573b4e-3060-41c6-8c99-addd46aab377\u001b[0m\n"
     ]
    },
    {
     "name": "stdout",
     "output_type": "stream",
     "text": [
      "Computing input features...\n"
     ]
    },
    {
     "name": "stderr",
     "output_type": "stream",
     "text": [
      "100%|██████████| 12/12 [00:25<00:00,  2.13s/it]\n"
     ]
    },
    {
     "name": "stdout",
     "output_type": "stream",
     "text": [
      "Computing annotation arrays...\n"
     ]
    },
    {
     "name": "stderr",
     "output_type": "stream",
     "text": [
      "100%|██████████| 12/12 [00:07<00:00,  1.59it/s]\n"
     ]
    },
    {
     "name": "stdout",
     "output_type": "stream",
     "text": [
      "Number of samples:\n",
      "    validation:\n",
      "      {0: 689, 1: 343, 2: 8551, 3: 308, 4: 912, 5: 3227, 6: 0, 7: 6989}\n",
      "    training:\n",
      "      {0: 9581, 1: 5457, 2: 13901, 3: 3084, 4: 5238, 5: 9211, 6: 23, 7: 8427}\n",
      "    test:\n",
      "      {0: 0, 1: 0, 2: 0, 3: 0, 4: 0, 5: 0, 6: 0, 7: 0}\n",
      "Computing normalization statistics...\n"
     ]
    },
    {
     "name": "stderr",
     "output_type": "stream",
     "text": [
      "100%|██████████| 1869/1869 [00:04<00:00, 411.23it/s]\n",
      "100%|██████████| 1869/1869 [00:03<00:00, 498.13it/s]\n"
     ]
    },
    {
     "name": "stdout",
     "output_type": "stream",
     "text": [
      "Initializing class weights:\n",
      "     0: 0.019, 0.016, 0.02, 0.016, 0.016, 0.019, 0.018, 0.019 1: 0.195, 0.342, 0.134, 0.606, 0.357, 0.203, 81.261, 0.222\n",
      "Behavior indices:\n",
      "    0: anogenital\n",
      "    1: approach\n",
      "    2: attack\n",
      "    3: avoidance\n",
      "    4: boxing\n",
      "    5: lateralthreat\n",
      "    6: pursuit\n",
      "    7: submission\n",
      "[epoch 1]: loss 0.0002, f1 0.283, precision 0.189\n",
      "validation: loss 0.0002, f1 0.331, precision 0.255\n",
      "[epoch 2]: loss 0.0001, f1 0.363, precision 0.258\n",
      "validation: loss 0.0002, f1 0.329, precision 0.254\n",
      "[epoch 3]: loss 0.0001, f1 0.377, precision 0.269\n",
      "validation: loss 0.0002, f1 0.330, precision 0.262\n",
      "[epoch 4]: loss 0.0001, f1 0.383, precision 0.275\n",
      "validation: loss 0.0002, f1 0.338, precision 0.267\n",
      "[epoch 5]: loss 0.0001, f1 0.402, precision 0.292\n",
      "validation: loss 0.0002, f1 0.339, precision 0.275\n",
      "[epoch 6]: loss 0.0001, f1 0.437, precision 0.323\n",
      "validation: loss 0.0002, f1 0.381, precision 0.304\n",
      "[epoch 7]: loss 0.0001, f1 0.448, precision 0.334\n",
      "validation: loss 0.0002, f1 0.364, precision 0.292\n",
      "[epoch 8]: loss 0.0001, f1 0.466, precision 0.353\n",
      "validation: loss 0.0002, f1 0.396, precision 0.318\n",
      "[epoch 9]: loss 0.0001, f1 0.484, precision 0.365\n",
      "validation: loss 0.0002, f1 0.404, precision 0.330\n"
     ]
    },
    {
     "name": "stderr",
     "output_type": "stream",
     "text": [
      "\u001b[32m[I 2022-11-01 19:28:56,484]\u001b[0m Trial 0 finished with value: 0.4043715437501802 and parameters: {'losses/ms_tcn/alpha': 0.0013240942376234932, 'losses/ms_tcn/focal': True, 'training/temporal_subsampling_size': 0.7578769897897474, 'model/N': 10, 'model/heads': 2, 'model/num_pool': 1, 'model/add_batchnorm': False, 'general/len_segment': 64}. Best is trial 0 with value: 0.4043715437501802.\u001b[0m\n"
     ]
    },
    {
     "name": "stdout",
     "output_type": "stream",
     "text": [
      "[epoch 10]: loss 0.0001, f1 0.508, precision 0.390\n",
      "validation: loss 0.0002, f1 0.413, precision 0.335\n",
      "Computing annotation arrays...\n"
     ]
    },
    {
     "name": "stderr",
     "output_type": "stream",
     "text": [
      "100%|██████████| 12/12 [00:08<00:00,  1.47it/s]\n"
     ]
    },
    {
     "name": "stdout",
     "output_type": "stream",
     "text": [
      "Number of samples:\n",
      "    validation:\n",
      "      {0: 689, 1: 343, 2: 8551, 3: 308, 4: 912, 5: 3227, 6: 0, 7: 6989}\n",
      "    training:\n",
      "      {0: 9581, 1: 5457, 2: 13901, 3: 3084, 4: 5238, 5: 9211, 6: 23, 7: 8427}\n",
      "    test:\n",
      "      {0: 0, 1: 0, 2: 0, 3: 0, 4: 0, 5: 0, 6: 0, 7: 0}\n",
      "Computing normalization statistics...\n"
     ]
    },
    {
     "name": "stderr",
     "output_type": "stream",
     "text": [
      "100%|██████████| 1869/1869 [00:03<00:00, 469.58it/s]\n",
      "100%|██████████| 1869/1869 [00:03<00:00, 473.04it/s]\n"
     ]
    },
    {
     "name": "stdout",
     "output_type": "stream",
     "text": [
      "Initializing class weights:\n",
      "     0: 0.019, 0.016, 0.02, 0.016, 0.016, 0.019, 0.018, 0.019 1: 0.195, 0.342, 0.134, 0.606, 0.357, 0.203, 81.261, 0.222\n",
      "Behavior indices:\n",
      "    0: anogenital\n",
      "    1: approach\n",
      "    2: attack\n",
      "    3: avoidance\n",
      "    4: boxing\n",
      "    5: lateralthreat\n",
      "    6: pursuit\n",
      "    7: submission\n",
      "[epoch 1]: loss 0.0006, f1 0.256, precision 0.166\n",
      "validation: loss 0.0007, f1 0.322, precision 0.251\n",
      "[epoch 2]: loss 0.0005, f1 0.336, precision 0.236\n",
      "validation: loss 0.0010, f1 0.338, precision 0.275\n",
      "[epoch 3]: loss 0.0005, f1 0.347, precision 0.242\n",
      "validation: loss 0.0008, f1 0.350, precision 0.280\n",
      "[epoch 4]: loss 0.0006, f1 0.333, precision 0.232\n",
      "validation: loss 0.0008, f1 0.290, precision 0.224\n",
      "[epoch 5]: loss 0.0004, f1 0.328, precision 0.227\n",
      "validation: loss 0.0009, f1 0.305, precision 0.254\n",
      "[epoch 6]: loss 0.0004, f1 0.364, precision 0.262\n",
      "validation: loss 0.0008, f1 0.345, precision 0.283\n",
      "[epoch 7]: loss 0.0003, f1 0.396, precision 0.288\n",
      "validation: loss 0.0008, f1 0.381, precision 0.307\n",
      "[epoch 8]: loss 0.0003, f1 0.424, precision 0.315\n",
      "validation: loss 0.0007, f1 0.385, precision 0.307\n",
      "[epoch 9]: loss 0.0003, f1 0.427, precision 0.315\n",
      "validation: loss 0.0008, f1 0.366, precision 0.298\n"
     ]
    },
    {
     "name": "stderr",
     "output_type": "stream",
     "text": [
      "\u001b[32m[I 2022-11-01 19:30:36,658]\u001b[0m Trial 1 finished with value: 0.3891081994264923 and parameters: {'losses/ms_tcn/alpha': 3.214819808439784e-05, 'losses/ms_tcn/focal': False, 'training/temporal_subsampling_size': 0.9823495595936537, 'model/N': 9, 'model/heads': 4, 'model/num_pool': 2, 'model/add_batchnorm': False, 'general/len_segment': 64}. Best is trial 0 with value: 0.4043715437501802.\u001b[0m\n"
     ]
    },
    {
     "name": "stdout",
     "output_type": "stream",
     "text": [
      "[epoch 10]: loss 0.0003, f1 0.444, precision 0.334\n",
      "validation: loss 0.0007, f1 0.401, precision 0.325\n",
      "Initializing class weights:\n",
      "     0: 0.019, 0.016, 0.02, 0.016, 0.016, 0.019, 0.018, 0.019 1: 0.195, 0.342, 0.134, 0.606, 0.357, 0.203, 81.261, 0.222\n",
      "Behavior indices:\n",
      "    0: anogenital\n",
      "    1: approach\n",
      "    2: attack\n",
      "    3: avoidance\n",
      "    4: boxing\n",
      "    5: lateralthreat\n",
      "    6: pursuit\n",
      "    7: submission\n",
      "[epoch 1]: loss 0.0007, f1 0.213, precision 0.137\n",
      "validation: loss 0.0006, f1 0.281, precision 0.207\n",
      "[epoch 2]: loss 0.0006, f1 0.245, precision 0.159\n",
      "validation: loss 0.0006, f1 0.325, precision 0.268\n"
     ]
    },
    {
     "name": "stderr",
     "output_type": "stream",
     "text": [
      "\u001b[32m[I 2022-11-01 19:31:00,059]\u001b[0m Trial 2 pruned. \u001b[0m\n"
     ]
    },
    {
     "name": "stdout",
     "output_type": "stream",
     "text": [
      "Computing input features...\n"
     ]
    },
    {
     "name": "stderr",
     "output_type": "stream",
     "text": [
      "100%|██████████| 12/12 [00:25<00:00,  2.11s/it]\n"
     ]
    },
    {
     "name": "stdout",
     "output_type": "stream",
     "text": [
      "Computing annotation arrays...\n"
     ]
    },
    {
     "name": "stderr",
     "output_type": "stream",
     "text": [
      "100%|██████████| 12/12 [00:06<00:00,  1.80it/s]\n"
     ]
    },
    {
     "name": "stdout",
     "output_type": "stream",
     "text": [
      "Number of samples:\n",
      "    validation:\n",
      "      {0: 689, 1: 343, 2: 8551, 3: 308, 4: 912, 5: 3227, 6: 0, 7: 6989}\n",
      "    training:\n",
      "      {0: 9581, 1: 5457, 2: 13901, 3: 3084, 4: 5238, 5: 9211, 6: 23, 7: 8427}\n",
      "    test:\n",
      "      {0: 0, 1: 0, 2: 0, 3: 0, 4: 0, 5: 0, 6: 0, 7: 0}\n",
      "Computing normalization statistics...\n"
     ]
    },
    {
     "name": "stderr",
     "output_type": "stream",
     "text": [
      "100%|██████████| 937/937 [00:02<00:00, 401.16it/s]\n",
      "100%|██████████| 937/937 [00:02<00:00, 424.91it/s]\n"
     ]
    },
    {
     "name": "stdout",
     "output_type": "stream",
     "text": [
      "Initializing class weights:\n",
      "     0: 0.01, 0.008, 0.01, 0.008, 0.008, 0.01, 0.009, 0.01 1: 0.098, 0.172, 0.067, 0.304, 0.179, 0.102, 40.739, 0.111\n",
      "Behavior indices:\n",
      "    0: anogenital\n",
      "    1: approach\n",
      "    2: attack\n",
      "    3: avoidance\n",
      "    4: boxing\n",
      "    5: lateralthreat\n",
      "    6: pursuit\n",
      "    7: submission\n",
      "[epoch 1]: loss 0.0001, f1 0.202, precision 0.120\n",
      "validation: loss 0.0001, f1 0.302, precision 0.220\n",
      "[epoch 2]: loss 0.0001, f1 0.250, precision 0.157\n",
      "validation: loss 0.0001, f1 0.291, precision 0.218\n"
     ]
    },
    {
     "name": "stderr",
     "output_type": "stream",
     "text": [
      "\u001b[32m[I 2022-11-01 19:31:50,984]\u001b[0m Trial 3 pruned. \u001b[0m\n"
     ]
    },
    {
     "name": "stdout",
     "output_type": "stream",
     "text": [
      "Computing annotation arrays...\n"
     ]
    },
    {
     "name": "stderr",
     "output_type": "stream",
     "text": [
      "100%|██████████| 12/12 [00:06<00:00,  1.76it/s]\n"
     ]
    },
    {
     "name": "stdout",
     "output_type": "stream",
     "text": [
      "Number of samples:\n",
      "    validation:\n",
      "      {0: 689, 1: 343, 2: 8551, 3: 308, 4: 912, 5: 3227, 6: 0, 7: 6989}\n",
      "    training:\n",
      "      {0: 9581, 1: 5457, 2: 13901, 3: 3084, 4: 5238, 5: 9211, 6: 23, 7: 8427}\n",
      "    test:\n",
      "      {0: 0, 1: 0, 2: 0, 3: 0, 4: 0, 5: 0, 6: 0, 7: 0}\n",
      "Computing normalization statistics...\n"
     ]
    },
    {
     "name": "stderr",
     "output_type": "stream",
     "text": [
      "100%|██████████| 937/937 [00:02<00:00, 343.65it/s]\n",
      "100%|██████████| 937/937 [00:02<00:00, 380.48it/s]\n"
     ]
    },
    {
     "name": "stdout",
     "output_type": "stream",
     "text": [
      "Initializing class weights:\n",
      "     0: 0.01, 0.008, 0.01, 0.008, 0.008, 0.01, 0.009, 0.01 1: 0.098, 0.172, 0.067, 0.304, 0.179, 0.102, 40.739, 0.111\n",
      "Behavior indices:\n",
      "    0: anogenital\n",
      "    1: approach\n",
      "    2: attack\n",
      "    3: avoidance\n",
      "    4: boxing\n",
      "    5: lateralthreat\n",
      "    6: pursuit\n",
      "    7: submission\n",
      "[epoch 1]: loss 0.0003, f1 0.259, precision 0.167\n",
      "validation: loss 0.0004, f1 0.346, precision 0.267\n",
      "[epoch 2]: loss 0.0003, f1 0.292, precision 0.185\n",
      "validation: loss 0.0004, f1 0.316, precision 0.231\n",
      "[epoch 3]: loss 0.0002, f1 0.328, precision 0.221\n",
      "validation: loss 0.0006, f1 0.330, precision 0.270\n",
      "[epoch 4]: loss 0.0002, f1 0.366, precision 0.257\n",
      "validation: loss 0.0005, f1 0.359, precision 0.285\n",
      "[epoch 5]: loss 0.0002, f1 0.400, precision 0.285\n",
      "validation: loss 0.0004, f1 0.336, precision 0.264\n",
      "[epoch 6]: loss 0.0002, f1 0.396, precision 0.283\n",
      "validation: loss 0.0004, f1 0.392, precision 0.307\n",
      "[epoch 7]: loss 0.0002, f1 0.455, precision 0.343\n",
      "validation: loss 0.0004, f1 0.388, precision 0.305\n",
      "[epoch 8]: loss 0.0002, f1 0.409, precision 0.299\n",
      "validation: loss 0.0004, f1 0.380, precision 0.303\n",
      "[epoch 9]: loss 0.0001, f1 0.437, precision 0.325\n",
      "validation: loss 0.0004, f1 0.388, precision 0.306\n"
     ]
    },
    {
     "name": "stderr",
     "output_type": "stream",
     "text": [
      "\u001b[32m[I 2022-11-01 19:32:53,554]\u001b[0m Trial 4 finished with value: 0.3926610568269651 and parameters: {'losses/ms_tcn/alpha': 0.0005828345697871582, 'losses/ms_tcn/focal': False, 'training/temporal_subsampling_size': 0.9266959497977901, 'model/N': 12, 'model/heads': 1, 'model/num_pool': 1, 'model/add_batchnorm': False, 'general/len_segment': 128}. Best is trial 0 with value: 0.4043715437501802.\u001b[0m\n"
     ]
    },
    {
     "name": "stdout",
     "output_type": "stream",
     "text": [
      "[epoch 10]: loss 0.0001, f1 0.482, precision 0.368\n",
      "validation: loss 0.0005, f1 0.397, precision 0.320\n"
     ]
    },
    {
     "name": "stderr",
     "output_type": "stream",
     "text": [
      "\u001b[33m[W 2022-11-01 19:32:54,063]\u001b[0m Param model/add_batchnorm unique value length is less than 2.\u001b[0m\n",
      "\u001b[33m[W 2022-11-01 19:32:54,116]\u001b[0m Param model/add_batchnorm unique value length is less than 2.\u001b[0m\n",
      "\u001b[33m[W 2022-11-01 19:32:54,170]\u001b[0m Param model/add_batchnorm unique value length is less than 2.\u001b[0m\n",
      "\u001b[33m[W 2022-11-01 19:32:54,215]\u001b[0m Param model/add_batchnorm unique value length is less than 2.\u001b[0m\n",
      "\u001b[33m[W 2022-11-01 19:32:54,236]\u001b[0m Param model/add_batchnorm unique value length is less than 2.\u001b[0m\n",
      "\u001b[33m[W 2022-11-01 19:32:54,242]\u001b[0m Param model/add_batchnorm unique value length is less than 2.\u001b[0m\n",
      "\u001b[33m[W 2022-11-01 19:32:54,249]\u001b[0m Param model/add_batchnorm unique value length is less than 2.\u001b[0m\n",
      "\u001b[33m[W 2022-11-01 19:32:54,256]\u001b[0m Param model/add_batchnorm unique value length is less than 2.\u001b[0m\n",
      "\u001b[33m[W 2022-11-01 19:32:54,267]\u001b[0m Param model/add_batchnorm unique value length is less than 2.\u001b[0m\n",
      "\u001b[33m[W 2022-11-01 19:32:54,272]\u001b[0m Param model/add_batchnorm unique value length is less than 2.\u001b[0m\n",
      "\u001b[33m[W 2022-11-01 19:32:54,278]\u001b[0m Param model/add_batchnorm unique value length is less than 2.\u001b[0m\n",
      "\u001b[33m[W 2022-11-01 19:32:54,327]\u001b[0m Param model/add_batchnorm unique value length is less than 2.\u001b[0m\n",
      "\u001b[33m[W 2022-11-01 19:32:54,521]\u001b[0m Param model/add_batchnorm unique value length is less than 2.\u001b[0m\n",
      "\u001b[33m[W 2022-11-01 19:32:54,576]\u001b[0m Param model/add_batchnorm unique value length is less than 2.\u001b[0m\n"
     ]
    },
    {
     "name": "stdout",
     "output_type": "stream",
     "text": [
      "best parameters: {'losses/ms_tcn/alpha': 0.0013240942376234932, 'losses/ms_tcn/focal': True, 'training/temporal_subsampling_size': 0.7578769897897474, 'model/N': 10, 'model/heads': 2, 'model/num_pool': 1, 'model/add_batchnorm': False, 'general/len_segment': 64}\n",
      "\n",
      "\n"
     ]
    }
   ],
   "source": [
    "for model in [MODEL_NAME1, MODEL_NAME2]:\n",
    "    project.run_default_hyperparameter_search(\n",
    "        f\"{model}_search\",\n",
    "        model_name=model,\n",
    "        metric=METRICS[0],\n",
    "        num_epochs=10,\n",
    "        n_trials=5,\n",
    "        prune=True,\n",
    "        best_n=3 # we will compare trials based on the average of three best epochs to account for noise\n",
    "    )\n"
   ]
  },
  {
   "cell_type": "markdown",
   "metadata": {},
   "source": [
    "Those searches will optimize the hyperparameters to maximize the first metric in our list. Note how some trials stop before reaching 10 epochs. That is happening because we have set `prune=True` to interrupt experiments when they are unlikely to beat the best score.\n",
    "\n",
    "Generally, it is better to set both the number of trials and the number of epochs much higher (30-50 and around 150, respectively, is usually a good choice). We are setting them low here to save time but keep in mind that it does mean that the parameters those searches find are probably not actually optimal."
   ]
  },
  {
   "cell_type": "markdown",
   "metadata": {},
   "source": [
    "The searches have created a bunch of datasets that we are not going to use again so it's a good idea to clean up the memory at this point."
   ]
  },
  {
   "cell_type": "code",
   "execution_count": 13,
   "metadata": {},
   "outputs": [
    {
     "name": "stdout",
     "output_type": "stream",
     "text": [
      "Removing datasets...\n"
     ]
    },
    {
     "name": "stderr",
     "output_type": "stream",
     "text": [
      "100%|██████████| 4/4 [00:00<00:00, 17.32it/s]"
     ]
    },
    {
     "name": "stdout",
     "output_type": "stream",
     "text": [
      "\n",
      "\n"
     ]
    },
    {
     "name": "stderr",
     "output_type": "stream",
     "text": [
      "\n"
     ]
    }
   ],
   "source": [
    "project.remove_datasets()"
   ]
  },
  {
   "cell_type": "markdown",
   "metadata": {},
   "source": [
    "`DLC2Action` needs pre-computed features to run an experiment. It keeps track of features that are stored on your system and does not re-compute them if they have already been created in other experiments with the same data parameters. They can take up a lot of space, however, so it's good practice to remove them sometimes. \n",
    "\n",
    "Do not be afraid to run `project.remove_datasets()`, you never lose any information when you do. The features will just be computed again if you need them. In addition, if you are running low on space, it might be more convenient to pass `delete_dataset=True` to project methods to remove the features as soon as they are not needed anymore.\n",
    "\n",
    "Another function that helps clean up the memory is `project.remove_extra_checkpoints()`. It will remove all model checkpoints except for the last one in each episode."
   ]
  },
  {
   "cell_type": "markdown",
   "metadata": {},
   "source": [
    "When the searches are done, we can check out the results."
   ]
  },
  {
   "cell_type": "code",
   "execution_count": 14,
   "metadata": {},
   "outputs": [
    {
     "name": "stdout",
     "output_type": "stream",
     "text": [
      "SEARCH RESULTS c2f_tcn_search\n",
      "losses/ms_tcn/alpha: 3.482154269765296e-05\n",
      "losses/ms_tcn/focal: False\n",
      "training/temporal_subsampling_size: 0.823945353677747\n",
      "model/num_f_maps: 81\n",
      "general/len_segment: 1024\n",
      "\n",
      "\n",
      "SEARCH RESULTS transformer_search\n",
      "losses/ms_tcn/alpha: 0.0013240942376234932\n",
      "losses/ms_tcn/focal: True\n",
      "training/temporal_subsampling_size: 0.7578769897897474\n",
      "model/N: 10\n",
      "model/heads: 2\n",
      "model/num_pool: 1\n",
      "model/add_batchnorm: False\n",
      "general/len_segment: 64\n",
      "\n",
      "\n"
     ]
    }
   ],
   "source": [
    "for model in [MODEL_NAME1, MODEL_NAME2]:\n",
    "    _ = project.list_best_parameters(f\"{model}_search\")"
   ]
  },
  {
   "cell_type": "markdown",
   "metadata": {},
   "source": [
    "The searches can be used to update the default parameters with `project.update_parameters(load_search=search_name)` but in this case it's more convenient to load them in the relevant episodes."
   ]
  },
  {
   "cell_type": "markdown",
   "metadata": {},
   "source": [
    "## Training models"
   ]
  },
  {
   "cell_type": "markdown",
   "metadata": {},
   "source": [
    "Now we can train models with the best hyperparameters."
   ]
  },
  {
   "cell_type": "code",
   "execution_count": 15,
   "metadata": {},
   "outputs": [
    {
     "name": "stdout",
     "output_type": "stream",
     "text": [
      "TRAINING c2f_tcn_best::0\n",
      "Computing input features...\n"
     ]
    },
    {
     "name": "stderr",
     "output_type": "stream",
     "text": [
      "100%|██████████| 12/12 [00:24<00:00,  2.07s/it]\n"
     ]
    },
    {
     "name": "stdout",
     "output_type": "stream",
     "text": [
      "Computing annotation arrays...\n"
     ]
    },
    {
     "name": "stderr",
     "output_type": "stream",
     "text": [
      "100%|██████████| 12/12 [00:06<00:00,  1.79it/s]\n"
     ]
    },
    {
     "name": "stdout",
     "output_type": "stream",
     "text": [
      "Number of samples:\n",
      "    validation:\n",
      "      {0: 691, 1: 343, 2: 8795, 3: 332, 4: 912, 5: 3227, 6: 0, 7: 7229}\n",
      "    training:\n",
      "      {0: 9806, 1: 5642, 2: 14257, 3: 3207, 4: 5328, 5: 9581, 6: 23, 7: 8679}\n",
      "    test:\n",
      "      {0: 0, 1: 0, 2: 0, 3: 0, 4: 0, 5: 0, 6: 0, 7: 0}\n",
      "Computing normalization statistics...\n"
     ]
    },
    {
     "name": "stderr",
     "output_type": "stream",
     "text": [
      "100%|██████████| 123/123 [00:00<00:00, 253.83it/s]\n",
      "100%|██████████| 123/123 [00:00<00:00, 263.61it/s]\n"
     ]
    },
    {
     "name": "stdout",
     "output_type": "stream",
     "text": [
      "Initializing class weights:\n",
      "     0: 0.001, 0.001, 0.001, 0.001, 0.001, 0.001, 0.001, 0.001 1: 0.013, 0.022, 0.009, 0.038, 0.023, 0.013, 5.348, 0.014\n",
      "Behavior indices:\n",
      "    0: anogenital\n",
      "    1: approach\n",
      "    2: attack\n",
      "    3: avoidance\n",
      "    4: boxing\n",
      "    5: lateralthreat\n",
      "    6: pursuit\n",
      "    7: submission\n"
     ]
    },
    {
     "name": "stderr",
     "output_type": "stream",
     "text": [
      "/home/liza/miniconda3/envs/DLC2Action/lib/python3.9/site-packages/torch/nn/functional.py:3722: UserWarning:\n",
      "\n",
      "nn.functional.upsample is deprecated. Use nn.functional.interpolate instead.\n",
      "\n",
      "/home/liza/DLC2Action-1/dlc2action/model/c2f_tcn.py:78: UserWarning:\n",
      "\n",
      "__floordiv__ is deprecated, and its behavior will change in a future version of pytorch. It currently rounds toward 0 (like the 'trunc' function NOT 'floor'). This results in incorrect rounding for negative values. To keep the current behavior, use torch.div(a, b, rounding_mode='trunc'), or for actual floor division, use torch.div(a, b, rounding_mode='floor').\n",
      "\n"
     ]
    },
    {
     "name": "stdout",
     "output_type": "stream",
     "text": [
      "[epoch 1]: loss 0.0014, f1 0.159, precision 0.100\n",
      "validation: loss 0.0019, f1 0.260, precision 0.225\n",
      "[epoch 2]: loss 0.0012, f1 0.237, precision 0.149\n",
      "validation: loss 0.0018, f1 0.307, precision 0.246\n",
      "[epoch 3]: loss 0.0011, f1 0.279, precision 0.182\n",
      "validation: loss 0.0016, f1 0.324, precision 0.259\n",
      "[epoch 4]: loss 0.0010, f1 0.293, precision 0.192\n",
      "validation: loss 0.0014, f1 0.338, precision 0.268\n",
      "[epoch 5]: loss 0.0009, f1 0.332, precision 0.224\n",
      "validation: loss 0.0012, f1 0.330, precision 0.254\n",
      "[epoch 6]: loss 0.0009, f1 0.354, precision 0.246\n",
      "validation: loss 0.0011, f1 0.334, precision 0.264\n",
      "[epoch 7]: loss 0.0008, f1 0.370, precision 0.262\n",
      "validation: loss 0.0012, f1 0.294, precision 0.228\n",
      "[epoch 8]: loss 0.0008, f1 0.379, precision 0.268\n",
      "validation: loss 0.0013, f1 0.292, precision 0.220\n",
      "[epoch 9]: loss 0.0007, f1 0.405, precision 0.292\n",
      "validation: loss 0.0011, f1 0.359, precision 0.278\n",
      "[epoch 10]: loss 0.0007, f1 0.430, precision 0.314\n",
      "validation: loss 0.0010, f1 0.339, precision 0.263\n",
      "[epoch 11]: loss 0.0007, f1 0.406, precision 0.290\n",
      "validation: loss 0.0011, f1 0.330, precision 0.265\n",
      "[epoch 12]: loss 0.0006, f1 0.431, precision 0.311\n",
      "validation: loss 0.0012, f1 0.343, precision 0.280\n",
      "[epoch 13]: loss 0.0006, f1 0.452, precision 0.330\n",
      "validation: loss 0.0010, f1 0.356, precision 0.297\n",
      "[epoch 14]: loss 0.0006, f1 0.476, precision 0.357\n",
      "validation: loss 0.0012, f1 0.365, precision 0.312\n",
      "[epoch 15]: loss 0.0006, f1 0.438, precision 0.317\n",
      "validation: loss 0.0010, f1 0.382, precision 0.312\n",
      "\n",
      "\n",
      "TRAINING c2f_tcn_best::1\n",
      "Computing annotation arrays...\n"
     ]
    },
    {
     "name": "stderr",
     "output_type": "stream",
     "text": [
      "100%|██████████| 12/12 [00:06<00:00,  1.76it/s]\n"
     ]
    },
    {
     "name": "stdout",
     "output_type": "stream",
     "text": [
      "Number of samples:\n",
      "    validation:\n",
      "      {0: 691, 1: 343, 2: 8795, 3: 332, 4: 912, 5: 3227, 6: 0, 7: 7229}\n",
      "    training:\n",
      "      {0: 9806, 1: 5642, 2: 14257, 3: 3207, 4: 5328, 5: 9581, 6: 23, 7: 8679}\n",
      "    test:\n",
      "      {0: 0, 1: 0, 2: 0, 3: 0, 4: 0, 5: 0, 6: 0, 7: 0}\n",
      "Computing normalization statistics...\n"
     ]
    },
    {
     "name": "stderr",
     "output_type": "stream",
     "text": [
      "100%|██████████| 123/123 [00:00<00:00, 233.39it/s]\n",
      "100%|██████████| 123/123 [00:00<00:00, 261.22it/s]\n"
     ]
    },
    {
     "name": "stdout",
     "output_type": "stream",
     "text": [
      "Initializing class weights:\n",
      "     0: 0.001, 0.001, 0.001, 0.001, 0.001, 0.001, 0.001, 0.001 1: 0.013, 0.022, 0.009, 0.038, 0.023, 0.013, 5.348, 0.014\n",
      "Behavior indices:\n",
      "    0: anogenital\n",
      "    1: approach\n",
      "    2: attack\n",
      "    3: avoidance\n",
      "    4: boxing\n",
      "    5: lateralthreat\n",
      "    6: pursuit\n",
      "    7: submission\n"
     ]
    },
    {
     "name": "stderr",
     "output_type": "stream",
     "text": [
      "/home/liza/miniconda3/envs/DLC2Action/lib/python3.9/site-packages/torch/nn/functional.py:3722: UserWarning:\n",
      "\n",
      "nn.functional.upsample is deprecated. Use nn.functional.interpolate instead.\n",
      "\n",
      "/home/liza/DLC2Action-1/dlc2action/model/c2f_tcn.py:78: UserWarning:\n",
      "\n",
      "__floordiv__ is deprecated, and its behavior will change in a future version of pytorch. It currently rounds toward 0 (like the 'trunc' function NOT 'floor'). This results in incorrect rounding for negative values. To keep the current behavior, use torch.div(a, b, rounding_mode='trunc'), or for actual floor division, use torch.div(a, b, rounding_mode='floor').\n",
      "\n"
     ]
    },
    {
     "name": "stdout",
     "output_type": "stream",
     "text": [
      "[epoch 1]: loss 0.0014, f1 0.176, precision 0.105\n",
      "validation: loss 0.0020, f1 0.217, precision 0.241\n",
      "[epoch 2]: loss 0.0012, f1 0.224, precision 0.136\n",
      "validation: loss 0.0018, f1 0.309, precision 0.240\n",
      "[epoch 3]: loss 0.0011, f1 0.260, precision 0.164\n",
      "validation: loss 0.0014, f1 0.327, precision 0.254\n",
      "[epoch 4]: loss 0.0011, f1 0.278, precision 0.180\n",
      "validation: loss 0.0012, f1 0.327, precision 0.254\n",
      "[epoch 5]: loss 0.0010, f1 0.298, precision 0.195\n",
      "validation: loss 0.0012, f1 0.318, precision 0.255\n",
      "[epoch 6]: loss 0.0009, f1 0.325, precision 0.219\n",
      "validation: loss 0.0013, f1 0.323, precision 0.260\n",
      "[epoch 7]: loss 0.0009, f1 0.358, precision 0.251\n",
      "validation: loss 0.0012, f1 0.336, precision 0.264\n",
      "[epoch 8]: loss 0.0008, f1 0.363, precision 0.252\n",
      "validation: loss 0.0012, f1 0.334, precision 0.262\n",
      "[epoch 9]: loss 0.0008, f1 0.383, precision 0.272\n",
      "validation: loss 0.0012, f1 0.322, precision 0.258\n",
      "[epoch 10]: loss 0.0007, f1 0.405, precision 0.295\n",
      "validation: loss 0.0012, f1 0.323, precision 0.260\n",
      "[epoch 11]: loss 0.0007, f1 0.410, precision 0.295\n",
      "validation: loss 0.0011, f1 0.366, precision 0.287\n",
      "[epoch 12]: loss 0.0007, f1 0.427, precision 0.310\n",
      "validation: loss 0.0012, f1 0.350, precision 0.282\n",
      "[epoch 13]: loss 0.0007, f1 0.445, precision 0.330\n",
      "validation: loss 0.0017, f1 0.332, precision 0.294\n",
      "[epoch 14]: loss 0.0007, f1 0.432, precision 0.317\n",
      "validation: loss 0.0013, f1 0.360, precision 0.292\n",
      "[epoch 15]: loss 0.0006, f1 0.446, precision 0.330\n",
      "validation: loss 0.0013, f1 0.350, precision 0.295\n",
      "\n",
      "\n",
      "TRAINING c2f_tcn_best::2\n",
      "Initializing class weights:\n",
      "     0: 0.001, 0.001, 0.001, 0.001, 0.001, 0.001, 0.001, 0.001 1: 0.013, 0.022, 0.009, 0.038, 0.023, 0.013, 5.348, 0.014\n",
      "Behavior indices:\n",
      "    0: anogenital\n",
      "    1: approach\n",
      "    2: attack\n",
      "    3: avoidance\n",
      "    4: boxing\n",
      "    5: lateralthreat\n",
      "    6: pursuit\n",
      "    7: submission\n"
     ]
    },
    {
     "name": "stderr",
     "output_type": "stream",
     "text": [
      "/home/liza/miniconda3/envs/DLC2Action/lib/python3.9/site-packages/torch/nn/functional.py:3722: UserWarning:\n",
      "\n",
      "nn.functional.upsample is deprecated. Use nn.functional.interpolate instead.\n",
      "\n",
      "/home/liza/DLC2Action-1/dlc2action/model/c2f_tcn.py:78: UserWarning:\n",
      "\n",
      "__floordiv__ is deprecated, and its behavior will change in a future version of pytorch. It currently rounds toward 0 (like the 'trunc' function NOT 'floor'). This results in incorrect rounding for negative values. To keep the current behavior, use torch.div(a, b, rounding_mode='trunc'), or for actual floor division, use torch.div(a, b, rounding_mode='floor').\n",
      "\n"
     ]
    },
    {
     "name": "stdout",
     "output_type": "stream",
     "text": [
      "[epoch 1]: loss 0.0015, f1 0.161, precision 0.095\n",
      "validation: loss 0.0019, f1 0.304, precision 0.240\n",
      "[epoch 2]: loss 0.0013, f1 0.222, precision 0.135\n",
      "validation: loss 0.0017, f1 0.331, precision 0.252\n",
      "[epoch 3]: loss 0.0012, f1 0.258, precision 0.163\n",
      "validation: loss 0.0015, f1 0.337, precision 0.259\n",
      "[epoch 4]: loss 0.0011, f1 0.276, precision 0.177\n",
      "validation: loss 0.0013, f1 0.337, precision 0.263\n",
      "[epoch 5]: loss 0.0010, f1 0.313, precision 0.209\n",
      "validation: loss 0.0012, f1 0.341, precision 0.269\n",
      "[epoch 6]: loss 0.0009, f1 0.325, precision 0.217\n",
      "validation: loss 0.0012, f1 0.330, precision 0.255\n",
      "[epoch 7]: loss 0.0009, f1 0.346, precision 0.238\n",
      "validation: loss 0.0011, f1 0.343, precision 0.263\n",
      "[epoch 8]: loss 0.0008, f1 0.370, precision 0.262\n",
      "validation: loss 0.0010, f1 0.356, precision 0.272\n",
      "[epoch 9]: loss 0.0008, f1 0.352, precision 0.242\n",
      "validation: loss 0.0011, f1 0.348, precision 0.271\n",
      "[epoch 10]: loss 0.0008, f1 0.395, precision 0.281\n",
      "validation: loss 0.0011, f1 0.340, precision 0.265\n",
      "[epoch 11]: loss 0.0007, f1 0.405, precision 0.290\n",
      "validation: loss 0.0010, f1 0.366, precision 0.285\n",
      "[epoch 12]: loss 0.0007, f1 0.443, precision 0.326\n",
      "validation: loss 0.0009, f1 0.408, precision 0.315\n",
      "[epoch 13]: loss 0.0006, f1 0.459, precision 0.340\n",
      "validation: loss 0.0009, f1 0.413, precision 0.328\n",
      "[epoch 14]: loss 0.0006, f1 0.464, precision 0.352\n",
      "validation: loss 0.0010, f1 0.417, precision 0.347\n",
      "[epoch 15]: loss 0.0006, f1 0.455, precision 0.338\n",
      "validation: loss 0.0009, f1 0.399, precision 0.325\n",
      "\n",
      "\n",
      "TRAINING transformer_best::0\n",
      "Computing input features...\n"
     ]
    },
    {
     "name": "stderr",
     "output_type": "stream",
     "text": [
      "100%|██████████| 12/12 [00:25<00:00,  2.16s/it]\n"
     ]
    },
    {
     "name": "stdout",
     "output_type": "stream",
     "text": [
      "Computing annotation arrays...\n"
     ]
    },
    {
     "name": "stderr",
     "output_type": "stream",
     "text": [
      "100%|██████████| 12/12 [00:06<00:00,  1.80it/s]\n"
     ]
    },
    {
     "name": "stdout",
     "output_type": "stream",
     "text": [
      "Number of samples:\n",
      "    validation:\n",
      "      {0: 1290, 1: 644, 2: 16102, 3: 584, 4: 1721, 5: 6056, 6: 0, 7: 13158}\n",
      "    training:\n",
      "      {0: 18012, 1: 10244, 2: 26154, 3: 5792, 4: 9857, 5: 17353, 6: 42, 7: 15858}\n",
      "    test:\n",
      "      {0: 0, 1: 0, 2: 0, 3: 0, 4: 0, 5: 0, 6: 0, 7: 0}\n",
      "Computing normalization statistics...\n"
     ]
    },
    {
     "name": "stderr",
     "output_type": "stream",
     "text": [
      "100%|██████████| 3517/3517 [00:07<00:00, 463.99it/s]\n",
      "100%|██████████| 3517/3517 [00:06<00:00, 511.06it/s]\n"
     ]
    },
    {
     "name": "stdout",
     "output_type": "stream",
     "text": [
      "Initializing class weights:\n",
      "     0: 0.019, 0.016, 0.02, 0.016, 0.016, 0.019, 0.018, 0.019 1: 0.195, 0.343, 0.134, 0.607, 0.357, 0.203, 83.738, 0.222\n"
     ]
    },
    {
     "name": "stderr",
     "output_type": "stream",
     "text": [
      "/home/liza/DLC2Action-1/dlc2action/project/meta.py:661: FutureWarning:\n",
      "\n",
      "Behavior when concatenating bool-dtype and numeric-dtype arrays is deprecated; in a future version these will cast to object dtype (instead of coercing bools to numeric values). To retain the old behavior, explicitly cast bool-dtype arrays to numeric dtype.\n",
      "\n"
     ]
    },
    {
     "name": "stdout",
     "output_type": "stream",
     "text": [
      "Behavior indices:\n",
      "    0: anogenital\n",
      "    1: approach\n",
      "    2: attack\n",
      "    3: avoidance\n",
      "    4: boxing\n",
      "    5: lateralthreat\n",
      "    6: pursuit\n",
      "    7: submission\n",
      "[epoch 1]: loss 0.0001, f1 0.325, precision 0.223\n",
      "validation: loss 0.0003, f1 0.313, precision 0.231\n",
      "[epoch 2]: loss 0.0002, f1 0.374, precision 0.265\n",
      "validation: loss 0.0003, f1 0.346, precision 0.272\n",
      "[epoch 3]: loss 0.0001, f1 0.388, precision 0.276\n",
      "validation: loss 0.0004, f1 0.374, precision 0.299\n",
      "[epoch 4]: loss 0.0001, f1 0.408, precision 0.297\n",
      "validation: loss 0.0005, f1 0.391, precision 0.318\n",
      "[epoch 5]: loss 0.0001, f1 0.451, precision 0.335\n",
      "validation: loss 0.0005, f1 0.397, precision 0.313\n",
      "[epoch 6]: loss 0.0001, f1 0.477, precision 0.359\n",
      "validation: loss 0.0006, f1 0.412, precision 0.328\n",
      "[epoch 7]: loss 0.0001, f1 0.510, precision 0.390\n",
      "validation: loss 0.0006, f1 0.393, precision 0.316\n",
      "[epoch 8]: loss 0.0001, f1 0.497, precision 0.385\n",
      "validation: loss 0.0009, f1 0.399, precision 0.327\n",
      "[epoch 9]: loss 0.0001, f1 0.532, precision 0.419\n",
      "validation: loss 0.0009, f1 0.419, precision 0.349\n",
      "[epoch 10]: loss 0.0000, f1 0.550, precision 0.432\n",
      "validation: loss 0.0009, f1 0.422, precision 0.350\n",
      "[epoch 11]: loss 0.0000, f1 0.567, precision 0.448\n",
      "validation: loss 0.0013, f1 0.416, precision 0.360\n",
      "[epoch 12]: loss 0.0000, f1 0.581, precision 0.461\n",
      "validation: loss 0.0010, f1 0.443, precision 0.367\n",
      "[epoch 13]: loss 0.0000, f1 0.570, precision 0.459\n",
      "validation: loss 0.0012, f1 0.436, precision 0.372\n",
      "[epoch 14]: loss 0.0000, f1 0.578, precision 0.464\n",
      "validation: loss 0.0010, f1 0.437, precision 0.364\n",
      "[epoch 15]: loss 0.0000, f1 0.616, precision 0.498\n",
      "validation: loss 0.0012, f1 0.441, precision 0.379\n",
      "\n",
      "\n",
      "TRAINING transformer_best::1\n",
      "Computing annotation arrays...\n"
     ]
    },
    {
     "name": "stderr",
     "output_type": "stream",
     "text": [
      "100%|██████████| 12/12 [00:06<00:00,  1.79it/s]\n"
     ]
    },
    {
     "name": "stdout",
     "output_type": "stream",
     "text": [
      "Number of samples:\n",
      "    validation:\n",
      "      {0: 1290, 1: 644, 2: 16102, 3: 584, 4: 1721, 5: 6056, 6: 0, 7: 13158}\n",
      "    training:\n",
      "      {0: 18012, 1: 10244, 2: 26154, 3: 5792, 4: 9857, 5: 17353, 6: 42, 7: 15858}\n",
      "    test:\n",
      "      {0: 0, 1: 0, 2: 0, 3: 0, 4: 0, 5: 0, 6: 0, 7: 0}\n",
      "Computing normalization statistics...\n"
     ]
    },
    {
     "name": "stderr",
     "output_type": "stream",
     "text": [
      "100%|██████████| 3517/3517 [00:07<00:00, 465.98it/s]\n",
      "100%|██████████| 3517/3517 [00:07<00:00, 484.66it/s]\n"
     ]
    },
    {
     "name": "stdout",
     "output_type": "stream",
     "text": [
      "Initializing class weights:\n",
      "     0: 0.019, 0.016, 0.02, 0.016, 0.016, 0.019, 0.018, 0.019 1: 0.195, 0.343, 0.134, 0.607, 0.357, 0.203, 83.738, 0.222\n",
      "Behavior indices:\n",
      "    0: anogenital\n",
      "    1: approach\n",
      "    2: attack\n",
      "    3: avoidance\n",
      "    4: boxing\n",
      "    5: lateralthreat\n",
      "    6: pursuit\n",
      "    7: submission\n",
      "[epoch 1]: loss 0.0001, f1 0.305, precision 0.204\n",
      "validation: loss 0.0004, f1 0.353, precision 0.269\n",
      "[epoch 2]: loss 0.0001, f1 0.404, precision 0.294\n",
      "validation: loss 0.0006, f1 0.370, precision 0.298\n",
      "[epoch 3]: loss 0.0001, f1 0.450, precision 0.336\n",
      "validation: loss 0.0008, f1 0.388, precision 0.310\n",
      "[epoch 4]: loss 0.0001, f1 0.490, precision 0.377\n",
      "validation: loss 0.0009, f1 0.388, precision 0.322\n",
      "[epoch 5]: loss 0.0001, f1 0.510, precision 0.397\n",
      "validation: loss 0.0010, f1 0.424, precision 0.350\n",
      "[epoch 6]: loss 0.0000, f1 0.540, precision 0.426\n",
      "validation: loss 0.0011, f1 0.436, precision 0.364\n",
      "[epoch 7]: loss 0.0000, f1 0.560, precision 0.444\n",
      "validation: loss 0.0011, f1 0.422, precision 0.345\n",
      "[epoch 8]: loss 0.0000, f1 0.558, precision 0.443\n",
      "validation: loss 0.0010, f1 0.418, precision 0.345\n",
      "[epoch 9]: loss 0.0000, f1 0.580, precision 0.471\n",
      "validation: loss 0.0016, f1 0.415, precision 0.351\n",
      "[epoch 10]: loss 0.0000, f1 0.593, precision 0.480\n",
      "validation: loss 0.0016, f1 0.440, precision 0.387\n",
      "[epoch 11]: loss 0.0000, f1 0.618, precision 0.506\n",
      "validation: loss 0.0015, f1 0.427, precision 0.362\n",
      "[epoch 12]: loss 0.0000, f1 0.643, precision 0.531\n",
      "validation: loss 0.0015, f1 0.423, precision 0.355\n",
      "[epoch 13]: loss 0.0000, f1 0.651, precision 0.538\n",
      "validation: loss 0.0016, f1 0.429, precision 0.367\n",
      "[epoch 14]: loss 0.0000, f1 0.644, precision 0.536\n",
      "validation: loss 0.0015, f1 0.410, precision 0.353\n",
      "[epoch 15]: loss 0.0000, f1 0.653, precision 0.543\n",
      "validation: loss 0.0011, f1 0.419, precision 0.352\n",
      "\n",
      "\n",
      "TRAINING transformer_best::2\n",
      "Initializing class weights:\n",
      "     0: 0.019, 0.016, 0.02, 0.016, 0.016, 0.019, 0.018, 0.019 1: 0.195, 0.343, 0.134, 0.607, 0.357, 0.203, 83.738, 0.222\n",
      "Behavior indices:\n",
      "    0: anogenital\n",
      "    1: approach\n",
      "    2: attack\n",
      "    3: avoidance\n",
      "    4: boxing\n",
      "    5: lateralthreat\n",
      "    6: pursuit\n",
      "    7: submission\n",
      "[epoch 1]: loss 0.0002, f1 0.328, precision 0.226\n",
      "validation: loss 0.0004, f1 0.317, precision 0.252\n",
      "[epoch 2]: loss 0.0001, f1 0.387, precision 0.278\n",
      "validation: loss 0.0005, f1 0.352, precision 0.288\n",
      "[epoch 3]: loss 0.0001, f1 0.382, precision 0.276\n",
      "validation: loss 0.0004, f1 0.373, precision 0.314\n",
      "[epoch 4]: loss 0.0001, f1 0.424, precision 0.313\n",
      "validation: loss 0.0005, f1 0.401, precision 0.322\n",
      "[epoch 5]: loss 0.0001, f1 0.459, precision 0.343\n",
      "validation: loss 0.0005, f1 0.383, precision 0.324\n",
      "[epoch 6]: loss 0.0001, f1 0.468, precision 0.355\n",
      "validation: loss 0.0005, f1 0.398, precision 0.320\n",
      "[epoch 7]: loss 0.0001, f1 0.494, precision 0.379\n",
      "validation: loss 0.0005, f1 0.429, precision 0.352\n",
      "[epoch 8]: loss 0.0001, f1 0.518, precision 0.401\n",
      "validation: loss 0.0006, f1 0.415, precision 0.339\n",
      "[epoch 9]: loss 0.0000, f1 0.540, precision 0.423\n",
      "validation: loss 0.0006, f1 0.432, precision 0.362\n",
      "[epoch 10]: loss 0.0000, f1 0.556, precision 0.439\n",
      "validation: loss 0.0008, f1 0.425, precision 0.363\n",
      "[epoch 11]: loss 0.0000, f1 0.569, precision 0.451\n",
      "validation: loss 0.0009, f1 0.417, precision 0.337\n",
      "[epoch 12]: loss 0.0000, f1 0.571, precision 0.459\n",
      "validation: loss 0.0008, f1 0.394, precision 0.323\n",
      "[epoch 13]: loss 0.0000, f1 0.587, precision 0.469\n",
      "validation: loss 0.0009, f1 0.433, precision 0.364\n",
      "[epoch 14]: loss 0.0000, f1 0.615, precision 0.496\n",
      "validation: loss 0.0009, f1 0.437, precision 0.368\n",
      "[epoch 15]: loss 0.0000, f1 0.610, precision 0.488\n",
      "validation: loss 0.0006, f1 0.433, precision 0.358\n",
      "\n",
      "\n"
     ]
    }
   ],
   "source": [
    "for model in [MODEL_NAME1, MODEL_NAME2]:\n",
    "    project.run_episode(\n",
    "    f\"{model}_best\",\n",
    "    load_search=f\"{model}_search\", # loading the search\n",
    "    force=True, # when force=True, if an episode with this name already exists it will be overwritten -> use with caution!\n",
    "    parameters_update={\n",
    "        \"general\": {\"model_name\": model} # note that you do need to set the model explicitly, it is not loaded with the search\n",
    "    },\n",
    "    n_runs=3 # we will repeat the experiment 3 times to get an estimation for how stable our results are\n",
    ")"
   ]
  },
  {
   "cell_type": "markdown",
   "metadata": {},
   "source": [
    "## Evaluation"
   ]
  },
  {
   "cell_type": "markdown",
   "metadata": {},
   "source": [
    "Now that we've trained our best models, we can analyze the results. Note that most statistics are aggregated over the 3 experiments we ran automatically. "
   ]
  },
  {
   "cell_type": "code",
   "execution_count": 1,
   "metadata": {},
   "outputs": [],
   "source": [
    "best_episodes = [f\"{model}_best\" for model in [MODEL_NAME1, MODEL_NAME2]]"
   ]
  },
  {
   "cell_type": "code",
   "execution_count": 2,
   "metadata": {},
   "outputs": [
    {
     "data": {
      "image/png": "[encoded data removed]",
      "text/plain": [
       "<Figure size 640x480 with 1 Axes>"
      ]
     },
     "metadata": {},
     "output_type": "display_data"
    }
   ],
   "source": [
    "project.plot_episodes(\n",
    "    best_episodes,\n",
    "    metrics=METRICS, \n",
    "    episode_labels=[\"model_1\", \"model_2\"], \n",
    "    add_hlines=[(0.42, \"a line\")], # we'll add a random horizontal line here but you can use this parameter to mark important thresholds\n",
    "    title=\"Best model training curves\"\n",
    ")"
   ]
  },
  {
   "cell_type": "markdown",
   "metadata": {},
   "source": [
    "The bold lines here are the means over the three runs of each episode and the transparent lines are the individual runs."
   ]
  },
  {
   "cell_type": "markdown",
   "metadata": {},
   "source": [
    "We can also check out more metrics now."
   ]
  },
  {
   "cell_type": "code",
   "execution_count": 3,
   "metadata": {},
   "outputs": [
    {
     "name": "stdout",
     "output_type": "stream",
     "text": [
      "EVALUATION c2f_tcn_best\n",
      "episode c2f_tcn_best::0\n",
      "Computing annotation arrays...\n"
     ]
    },
    {
     "name": "stderr",
     "output_type": "stream",
     "text": [
      "100%|██████████| 12/12 [00:07<00:00,  1.53it/s]\n"
     ]
    },
    {
     "name": "stdout",
     "output_type": "stream",
     "text": [
      "Number of samples:\n",
      "    validation:\n",
      "      {0: 691, 1: 343, 2: 8795, 3: 332, 4: 912, 5: 3227, 6: 0, 7: 7229}\n",
      "    training:\n",
      "      {0: 9806, 1: 5642, 2: 14257, 3: 3207, 4: 5328, 5: 9581, 6: 23, 7: 8679}\n",
      "    test:\n",
      "      {0: 0, 1: 0, 2: 0, 3: 0, 4: 0, 5: 0, 6: 0, 7: 0}\n",
      "Setting loaded normalization statistics...\n",
      "Initializing class weights:\n",
      "     0: 0.001, 0.001, 0.001, 0.001, 0.001, 0.001, 0.001, 0.001 1: 0.013, 0.022, 0.009, 0.038, 0.023, 0.013, 5.348, 0.014\n",
      "Behavior indices:\n",
      "    0: anogenital\n",
      "    1: approach\n",
      "    2: attack\n",
      "    3: avoidance\n",
      "    4: boxing\n",
      "    5: lateralthreat\n",
      "    6: pursuit\n",
      "    7: submission\n"
     ]
    },
    {
     "name": "stderr",
     "output_type": "stream",
     "text": [
      "  0%|          | 0/1 [00:00<?, ?it/s]/home/liza/DLC2Action-1/dlc2action/model/c2f_tcn.py:78: UserWarning: __floordiv__ is deprecated, and its behavior will change in a future version of pytorch. It currently rounds toward 0 (like the 'trunc' function NOT 'floor'). This results in incorrect rounding for negative values. To keep the current behavior, use torch.div(a, b, rounding_mode='trunc'), or for actual floor division, use torch.div(a, b, rounding_mode='floor').\n",
      "  x1 = F.pad(x1, [diff // 2, diff - diff // 2])\n",
      "100%|██████████| 1/1 [00:00<00:00,  4.01it/s]\n"
     ]
    },
    {
     "name": "stdout",
     "output_type": "stream",
     "text": [
      "f1_0 0.093, f1_1 0.065, f1_2 0.875, f1_3 0.316, f1_4 0.234, f1_5 0.607, f1_6 0.000, f1_7 0.864, mAP 0.352, pr-auc 0.208, segmental_f1 0.196\n",
      "\n",
      "\n",
      "episode c2f_tcn_best::1\n",
      "Initializing class weights:\n",
      "     0: 0.001, 0.001, 0.001, 0.001, 0.001, 0.001, 0.001, 0.001 1: 0.013, 0.022, 0.009, 0.038, 0.023, 0.013, 5.348, 0.014\n",
      "Behavior indices:\n",
      "    0: anogenital\n",
      "    1: approach\n",
      "    2: attack\n",
      "    3: avoidance\n",
      "    4: boxing\n",
      "    5: lateralthreat\n",
      "    6: pursuit\n",
      "    7: submission\n"
     ]
    },
    {
     "name": "stderr",
     "output_type": "stream",
     "text": [
      "  0%|          | 0/1 [00:00<?, ?it/s]/home/liza/DLC2Action-1/dlc2action/model/c2f_tcn.py:78: UserWarning: __floordiv__ is deprecated, and its behavior will change in a future version of pytorch. It currently rounds toward 0 (like the 'trunc' function NOT 'floor'). This results in incorrect rounding for negative values. To keep the current behavior, use torch.div(a, b, rounding_mode='trunc'), or for actual floor division, use torch.div(a, b, rounding_mode='floor').\n",
      "  x1 = F.pad(x1, [diff // 2, diff - diff // 2])\n",
      "100%|██████████| 1/1 [00:00<00:00,  7.65it/s]\n"
     ]
    },
    {
     "name": "stdout",
     "output_type": "stream",
     "text": [
      "f1_0 0.080, f1_1 0.079, f1_2 0.800, f1_3 0.307, f1_4 0.248, f1_5 0.514, f1_6 0.000, f1_7 0.775, mAP 0.287, pr-auc 0.168, segmental_f1 0.186\n",
      "\n",
      "\n",
      "episode c2f_tcn_best::2\n",
      "Initializing class weights:\n",
      "     0: 0.001, 0.001, 0.001, 0.001, 0.001, 0.001, 0.001, 0.001 1: 0.013, 0.022, 0.009, 0.038, 0.023, 0.013, 5.348, 0.014\n",
      "Behavior indices:\n",
      "    0: anogenital\n",
      "    1: approach\n",
      "    2: attack\n",
      "    3: avoidance\n",
      "    4: boxing\n",
      "    5: lateralthreat\n",
      "    6: pursuit\n",
      "    7: submission\n"
     ]
    },
    {
     "name": "stderr",
     "output_type": "stream",
     "text": [
      "  0%|          | 0/1 [00:00<?, ?it/s]/home/liza/DLC2Action-1/dlc2action/model/c2f_tcn.py:78: UserWarning: __floordiv__ is deprecated, and its behavior will change in a future version of pytorch. It currently rounds toward 0 (like the 'trunc' function NOT 'floor'). This results in incorrect rounding for negative values. To keep the current behavior, use torch.div(a, b, rounding_mode='trunc'), or for actual floor division, use torch.div(a, b, rounding_mode='floor').\n",
      "  x1 = F.pad(x1, [diff // 2, diff - diff // 2])\n",
      "100%|██████████| 1/1 [00:00<00:00,  7.30it/s]\n"
     ]
    },
    {
     "name": "stdout",
     "output_type": "stream",
     "text": [
      "f1_0 0.082, f1_1 0.080, f1_2 0.836, f1_3 0.347, f1_4 0.411, f1_5 0.581, f1_6 0.000, f1_7 0.853, mAP 0.327, pr-auc 0.167, segmental_f1 0.161\n",
      "\n",
      "\n",
      "AGGREGATED:\n",
      "f1_0 0.101, f1_1 0.075, f1_2 0.861, f1_3 0.366, f1_4 0.262, f1_5 0.561, f1_6 0.000, f1_7 0.862, mAP 0.330, pr-auc 0.224, segmental_f1 0.202\n",
      "Inference time: 0:00:00\n",
      "\n",
      "\n",
      "EVALUATION transformer_best\n",
      "episode transformer_best::0\n",
      "Computing annotation arrays...\n"
     ]
    },
    {
     "name": "stderr",
     "output_type": "stream",
     "text": [
      "100%|██████████| 12/12 [00:07<00:00,  1.54it/s]\n"
     ]
    },
    {
     "name": "stdout",
     "output_type": "stream",
     "text": [
      "Number of samples:\n",
      "    validation:\n",
      "      {0: 1290, 1: 644, 2: 16102, 3: 584, 4: 1721, 5: 6056, 6: 0, 7: 13158}\n",
      "    training:\n",
      "      {0: 18012, 1: 10244, 2: 26154, 3: 5792, 4: 9857, 5: 17353, 6: 42, 7: 15858}\n",
      "    test:\n",
      "      {0: 0, 1: 0, 2: 0, 3: 0, 4: 0, 5: 0, 6: 0, 7: 0}\n",
      "Setting loaded normalization statistics...\n",
      "Initializing class weights:\n",
      "     0: 0.019, 0.016, 0.02, 0.016, 0.016, 0.019, 0.018, 0.019 1: 0.195, 0.343, 0.134, 0.607, 0.357, 0.203, 83.738, 0.222\n",
      "Behavior indices:\n",
      "    0: anogenital\n",
      "    1: approach\n",
      "    2: attack\n",
      "    3: avoidance\n",
      "    4: boxing\n",
      "    5: lateralthreat\n",
      "    6: pursuit\n",
      "    7: submission\n"
     ]
    },
    {
     "name": "stderr",
     "output_type": "stream",
     "text": [
      "100%|██████████| 17/17 [00:01<00:00, 12.71it/s]\n"
     ]
    },
    {
     "name": "stdout",
     "output_type": "stream",
     "text": [
      "f1_0 0.062, f1_1 0.107, f1_2 0.793, f1_3 0.381, f1_4 0.638, f1_5 0.694, f1_6 0.000, f1_7 0.854, mAP 0.603, pr-auc 0.371, segmental_f1 0.237\n",
      "\n",
      "\n",
      "episode transformer_best::1\n",
      "Initializing class weights:\n",
      "     0: 0.019, 0.016, 0.02, 0.016, 0.016, 0.019, 0.018, 0.019 1: 0.195, 0.343, 0.134, 0.607, 0.357, 0.203, 83.738, 0.222\n",
      "Behavior indices:\n",
      "    0: anogenital\n",
      "    1: approach\n",
      "    2: attack\n",
      "    3: avoidance\n",
      "    4: boxing\n",
      "    5: lateralthreat\n",
      "    6: pursuit\n",
      "    7: submission\n"
     ]
    },
    {
     "name": "stderr",
     "output_type": "stream",
     "text": [
      "100%|██████████| 17/17 [00:01<00:00, 11.31it/s]\n"
     ]
    },
    {
     "name": "stdout",
     "output_type": "stream",
     "text": [
      "f1_0 0.071, f1_1 0.134, f1_2 0.816, f1_3 0.224, f1_4 0.566, f1_5 0.702, f1_6 0.000, f1_7 0.835, mAP 0.641, pr-auc 0.279, segmental_f1 0.228\n",
      "\n",
      "\n",
      "episode transformer_best::2\n",
      "Initializing class weights:\n",
      "     0: 0.019, 0.016, 0.02, 0.016, 0.016, 0.019, 0.018, 0.019 1: 0.195, 0.343, 0.134, 0.607, 0.357, 0.203, 83.738, 0.222\n",
      "Behavior indices:\n",
      "    0: anogenital\n",
      "    1: approach\n",
      "    2: attack\n",
      "    3: avoidance\n",
      "    4: boxing\n",
      "    5: lateralthreat\n",
      "    6: pursuit\n",
      "    7: submission\n"
     ]
    },
    {
     "name": "stderr",
     "output_type": "stream",
     "text": [
      "100%|██████████| 17/17 [00:01<00:00, 11.97it/s]\n"
     ]
    },
    {
     "name": "stdout",
     "output_type": "stream",
     "text": [
      "f1_0 0.137, f1_1 0.150, f1_2 0.829, f1_3 0.270, f1_4 0.572, f1_5 0.682, f1_6 0.000, f1_7 0.821, mAP 0.621, pr-auc 0.323, segmental_f1 0.241\n",
      "\n",
      "\n",
      "AGGREGATED:\n",
      "f1_0 0.109, f1_1 0.160, f1_2 0.824, f1_3 0.322, f1_4 0.630, f1_5 0.709, f1_6 0.000, f1_7 0.839, mAP 0.648, pr-auc 0.354, segmental_f1 0.273\n",
      "Inference time: 0:00:04\n",
      "\n",
      "\n"
     ]
    }
   ],
   "source": [
    "for episode in best_episodes:\n",
    "    project.evaluate(\n",
    "        [episode],\n",
    "        parameters_update={\n",
    "            \"general\": {\"metric_functions\": [\"segmental_f1\", \"mAP\", \"pr-auc\", \"f1\"]},\n",
    "            \"metrics\": {\n",
    "                \"f1\": {\"average\": \"none\"}\n",
    "            }\n",
    "        }\n",
    "    )"
   ]
  },
  {
   "cell_type": "markdown",
   "metadata": {},
   "source": [
    "There are several ways to summarize the results."
   ]
  },
  {
   "cell_type": "code",
   "execution_count": 6,
   "metadata": {},
   "outputs": [
    {
     "name": "stdout",
     "output_type": "stream",
     "text": [
      "RESULTS:\n",
      "               c2f_tcn_best segmental_f1  c2f_tcn_best f1  \\\n",
      "average                         0.181208         0.377000   \n",
      "anogenital                           NaN         0.084792   \n",
      "approach                             NaN         0.074922   \n",
      "attack                               NaN         0.837085   \n",
      "avoidance                            NaN         0.323580   \n",
      "boxing                               NaN         0.297621   \n",
      "lateralthreat                        NaN         0.567237   \n",
      "pursuit                              NaN         0.000000   \n",
      "submission                           NaN         0.830766   \n",
      "\n",
      "               c2f_tcn_best precision  c2f_tcn_best pr-auc  c2f_tcn_best mAP  \\\n",
      "average                      0.310948             0.181033          0.321946   \n",
      "anogenital                        NaN                  NaN               NaN   \n",
      "approach                          NaN                  NaN               NaN   \n",
      "attack                            NaN                  NaN               NaN   \n",
      "avoidance                         NaN                  NaN               NaN   \n",
      "boxing                            NaN                  NaN               NaN   \n",
      "lateralthreat                     NaN                  NaN               NaN   \n",
      "pursuit                           NaN                  NaN               NaN   \n",
      "submission                        NaN                  NaN               NaN   \n",
      "\n",
      "               transformer_best segmental_f1  transformer_best f1  \\\n",
      "average                             0.235341             0.430736   \n",
      "anogenital                               NaN             0.089950   \n",
      "approach                                 NaN             0.130216   \n",
      "attack                                   NaN             0.812857   \n",
      "avoidance                                NaN             0.291537   \n",
      "boxing                                   NaN             0.591912   \n",
      "lateralthreat                            NaN             0.692756   \n",
      "pursuit                                  NaN             0.000000   \n",
      "submission                               NaN             0.836658   \n",
      "\n",
      "               transformer_best precision  transformer_best pr-auc  \\\n",
      "average                          0.362862                 0.324709   \n",
      "anogenital                            NaN                      NaN   \n",
      "approach                              NaN                      NaN   \n",
      "attack                                NaN                      NaN   \n",
      "avoidance                             NaN                      NaN   \n",
      "boxing                                NaN                      NaN   \n",
      "lateralthreat                         NaN                      NaN   \n",
      "pursuit                               NaN                      NaN   \n",
      "submission                            NaN                      NaN   \n",
      "\n",
      "               transformer_best mAP  \n",
      "average                    0.621723  \n",
      "anogenital                      NaN  \n",
      "approach                        NaN  \n",
      "attack                          NaN  \n",
      "avoidance                       NaN  \n",
      "boxing                          NaN  \n",
      "lateralthreat                   NaN  \n",
      "pursuit                         NaN  \n",
      "submission                      NaN  \n",
      "\n",
      "\n"
     ]
    },
    {
     "data": {
      "text/html": [
       "<div>\n",
       "<style scoped>\n",
       "    .dataframe tbody tr th:only-of-type {\n",
       "        vertical-align: middle;\n",
       "    }\n",
       "\n",
       "    .dataframe tbody tr th {\n",
       "        vertical-align: top;\n",
       "    }\n",
       "\n",
       "    .dataframe thead th {\n",
       "        text-align: right;\n",
       "    }\n",
       "</style>\n",
       "<table border=\"1\" class=\"dataframe\">\n",
       "  <thead>\n",
       "    <tr style=\"text-align: right;\">\n",
       "      <th></th>\n",
       "      <th>c2f_tcn_best segmental_f1</th>\n",
       "      <th>c2f_tcn_best f1</th>\n",
       "      <th>c2f_tcn_best precision</th>\n",
       "      <th>c2f_tcn_best pr-auc</th>\n",
       "      <th>c2f_tcn_best mAP</th>\n",
       "      <th>transformer_best segmental_f1</th>\n",
       "      <th>transformer_best f1</th>\n",
       "      <th>transformer_best precision</th>\n",
       "      <th>transformer_best pr-auc</th>\n",
       "      <th>transformer_best mAP</th>\n",
       "    </tr>\n",
       "  </thead>\n",
       "  <tbody>\n",
       "    <tr>\n",
       "      <th>average</th>\n",
       "      <td>0.181208</td>\n",
       "      <td>0.377000</td>\n",
       "      <td>0.310948</td>\n",
       "      <td>0.181033</td>\n",
       "      <td>0.321946</td>\n",
       "      <td>0.235341</td>\n",
       "      <td>0.430736</td>\n",
       "      <td>0.362862</td>\n",
       "      <td>0.324709</td>\n",
       "      <td>0.621723</td>\n",
       "    </tr>\n",
       "    <tr>\n",
       "      <th>anogenital</th>\n",
       "      <td>NaN</td>\n",
       "      <td>0.084792</td>\n",
       "      <td>NaN</td>\n",
       "      <td>NaN</td>\n",
       "      <td>NaN</td>\n",
       "      <td>NaN</td>\n",
       "      <td>0.089950</td>\n",
       "      <td>NaN</td>\n",
       "      <td>NaN</td>\n",
       "      <td>NaN</td>\n",
       "    </tr>\n",
       "    <tr>\n",
       "      <th>approach</th>\n",
       "      <td>NaN</td>\n",
       "      <td>0.074922</td>\n",
       "      <td>NaN</td>\n",
       "      <td>NaN</td>\n",
       "      <td>NaN</td>\n",
       "      <td>NaN</td>\n",
       "      <td>0.130216</td>\n",
       "      <td>NaN</td>\n",
       "      <td>NaN</td>\n",
       "      <td>NaN</td>\n",
       "    </tr>\n",
       "    <tr>\n",
       "      <th>attack</th>\n",
       "      <td>NaN</td>\n",
       "      <td>0.837085</td>\n",
       "      <td>NaN</td>\n",
       "      <td>NaN</td>\n",
       "      <td>NaN</td>\n",
       "      <td>NaN</td>\n",
       "      <td>0.812857</td>\n",
       "      <td>NaN</td>\n",
       "      <td>NaN</td>\n",
       "      <td>NaN</td>\n",
       "    </tr>\n",
       "    <tr>\n",
       "      <th>avoidance</th>\n",
       "      <td>NaN</td>\n",
       "      <td>0.323580</td>\n",
       "      <td>NaN</td>\n",
       "      <td>NaN</td>\n",
       "      <td>NaN</td>\n",
       "      <td>NaN</td>\n",
       "      <td>0.291537</td>\n",
       "      <td>NaN</td>\n",
       "      <td>NaN</td>\n",
       "      <td>NaN</td>\n",
       "    </tr>\n",
       "    <tr>\n",
       "      <th>boxing</th>\n",
       "      <td>NaN</td>\n",
       "      <td>0.297621</td>\n",
       "      <td>NaN</td>\n",
       "      <td>NaN</td>\n",
       "      <td>NaN</td>\n",
       "      <td>NaN</td>\n",
       "      <td>0.591912</td>\n",
       "      <td>NaN</td>\n",
       "      <td>NaN</td>\n",
       "      <td>NaN</td>\n",
       "    </tr>\n",
       "    <tr>\n",
       "      <th>lateralthreat</th>\n",
       "      <td>NaN</td>\n",
       "      <td>0.567237</td>\n",
       "      <td>NaN</td>\n",
       "      <td>NaN</td>\n",
       "      <td>NaN</td>\n",
       "      <td>NaN</td>\n",
       "      <td>0.692756</td>\n",
       "      <td>NaN</td>\n",
       "      <td>NaN</td>\n",
       "      <td>NaN</td>\n",
       "    </tr>\n",
       "    <tr>\n",
       "      <th>pursuit</th>\n",
       "      <td>NaN</td>\n",
       "      <td>0.000000</td>\n",
       "      <td>NaN</td>\n",
       "      <td>NaN</td>\n",
       "      <td>NaN</td>\n",
       "      <td>NaN</td>\n",
       "      <td>0.000000</td>\n",
       "      <td>NaN</td>\n",
       "      <td>NaN</td>\n",
       "      <td>NaN</td>\n",
       "    </tr>\n",
       "    <tr>\n",
       "      <th>submission</th>\n",
       "      <td>NaN</td>\n",
       "      <td>0.830766</td>\n",
       "      <td>NaN</td>\n",
       "      <td>NaN</td>\n",
       "      <td>NaN</td>\n",
       "      <td>NaN</td>\n",
       "      <td>0.836658</td>\n",
       "      <td>NaN</td>\n",
       "      <td>NaN</td>\n",
       "      <td>NaN</td>\n",
       "    </tr>\n",
       "  </tbody>\n",
       "</table>\n",
       "</div>"
      ],
      "text/plain": [
       "               c2f_tcn_best segmental_f1  c2f_tcn_best f1  \\\n",
       "average                         0.181208         0.377000   \n",
       "anogenital                           NaN         0.084792   \n",
       "approach                             NaN         0.074922   \n",
       "attack                               NaN         0.837085   \n",
       "avoidance                            NaN         0.323580   \n",
       "boxing                               NaN         0.297621   \n",
       "lateralthreat                        NaN         0.567237   \n",
       "pursuit                              NaN         0.000000   \n",
       "submission                           NaN         0.830766   \n",
       "\n",
       "               c2f_tcn_best precision  c2f_tcn_best pr-auc  c2f_tcn_best mAP  \\\n",
       "average                      0.310948             0.181033          0.321946   \n",
       "anogenital                        NaN                  NaN               NaN   \n",
       "approach                          NaN                  NaN               NaN   \n",
       "attack                            NaN                  NaN               NaN   \n",
       "avoidance                         NaN                  NaN               NaN   \n",
       "boxing                            NaN                  NaN               NaN   \n",
       "lateralthreat                     NaN                  NaN               NaN   \n",
       "pursuit                           NaN                  NaN               NaN   \n",
       "submission                        NaN                  NaN               NaN   \n",
       "\n",
       "               transformer_best segmental_f1  transformer_best f1  \\\n",
       "average                             0.235341             0.430736   \n",
       "anogenital                               NaN             0.089950   \n",
       "approach                                 NaN             0.130216   \n",
       "attack                                   NaN             0.812857   \n",
       "avoidance                                NaN             0.291537   \n",
       "boxing                                   NaN             0.591912   \n",
       "lateralthreat                            NaN             0.692756   \n",
       "pursuit                                  NaN             0.000000   \n",
       "submission                               NaN             0.836658   \n",
       "\n",
       "               transformer_best precision  transformer_best pr-auc  \\\n",
       "average                          0.362862                 0.324709   \n",
       "anogenital                            NaN                      NaN   \n",
       "approach                              NaN                      NaN   \n",
       "attack                                NaN                      NaN   \n",
       "avoidance                             NaN                      NaN   \n",
       "boxing                                NaN                      NaN   \n",
       "lateralthreat                         NaN                      NaN   \n",
       "pursuit                               NaN                      NaN   \n",
       "submission                            NaN                      NaN   \n",
       "\n",
       "               transformer_best mAP  \n",
       "average                    0.621723  \n",
       "anogenital                      NaN  \n",
       "approach                        NaN  \n",
       "attack                          NaN  \n",
       "avoidance                       NaN  \n",
       "boxing                          NaN  \n",
       "lateralthreat                   NaN  \n",
       "pursuit                         NaN  \n",
       "submission                      NaN  "
      ]
     },
     "execution_count": 6,
     "metadata": {},
     "output_type": "execute_result"
    }
   ],
   "source": [
    "project.get_results_table(best_episodes)"
   ]
  },
  {
   "cell_type": "code",
   "execution_count": 7,
   "metadata": {},
   "outputs": [
    {
     "name": "stdout",
     "output_type": "stream",
     "text": [
      "SUMMARY ['c2f_tcn_best']\n",
      "loss: mean 0.001, std 0.000\n",
      "f1: mean 0.377, std 0.020\n",
      "precision: mean 0.311, std 0.012\n",
      "\n",
      "\n",
      "SUMMARY ['transformer_best']\n",
      "loss: mean 0.001, std 0.000\n",
      "f1: mean 0.431, std 0.009\n",
      "precision: mean 0.363, std 0.012\n",
      "\n",
      "\n"
     ]
    }
   ],
   "source": [
    "for episode in best_episodes:\n",
    "    _ = project.get_summary([episode])"
   ]
  },
  {
   "cell_type": "markdown",
   "metadata": {},
   "source": [
    "## Using trained models"
   ]
  },
  {
   "cell_type": "markdown",
   "metadata": {},
   "source": [
    "After your models are trained, there's a few ways you can use them.\n",
    "\n",
    "If you're still not very happy with the results, you can train the model for a few more epochs with `project.continue_episode()`."
   ]
  },
  {
   "cell_type": "code",
   "execution_count": 9,
   "metadata": {},
   "outputs": [
    {
     "name": "stdout",
     "output_type": "stream",
     "text": [
      "TRAINING c2f_tcn_best::0\n",
      "Computing annotation arrays...\n"
     ]
    },
    {
     "name": "stderr",
     "output_type": "stream",
     "text": [
      "100%|██████████| 12/12 [00:07<00:00,  1.67it/s]\n"
     ]
    },
    {
     "name": "stdout",
     "output_type": "stream",
     "text": [
      "Number of samples:\n",
      "    validation:\n",
      "      {0: 691, 1: 343, 2: 8795, 3: 332, 4: 912, 5: 3227, 6: 0, 7: 7229}\n",
      "    training:\n",
      "      {0: 9806, 1: 5642, 2: 14257, 3: 3207, 4: 5328, 5: 9581, 6: 23, 7: 8679}\n",
      "    test:\n",
      "      {0: 0, 1: 0, 2: 0, 3: 0, 4: 0, 5: 0, 6: 0, 7: 0}\n",
      "Setting loaded normalization statistics...\n",
      "Initializing class weights:\n",
      "     0: 0.001, 0.001, 0.001, 0.001, 0.001, 0.001, 0.001, 0.001 1: 0.013, 0.022, 0.009, 0.038, 0.023, 0.013, 5.348, 0.014\n",
      "Behavior indices:\n",
      "    0: anogenital\n",
      "    1: approach\n",
      "    2: attack\n",
      "    3: avoidance\n",
      "    4: boxing\n",
      "    5: lateralthreat\n",
      "    6: pursuit\n",
      "    7: submission\n"
     ]
    },
    {
     "name": "stderr",
     "output_type": "stream",
     "text": [
      "/home/liza/DLC2Action-1/dlc2action/model/c2f_tcn.py:78: UserWarning: __floordiv__ is deprecated, and its behavior will change in a future version of pytorch. It currently rounds toward 0 (like the 'trunc' function NOT 'floor'). This results in incorrect rounding for negative values. To keep the current behavior, use torch.div(a, b, rounding_mode='trunc'), or for actual floor division, use torch.div(a, b, rounding_mode='floor').\n",
      "  x1 = F.pad(x1, [diff // 2, diff - diff // 2])\n"
     ]
    },
    {
     "name": "stdout",
     "output_type": "stream",
     "text": [
      "[epoch 16]: loss 0.0006, f1 0.471, precision 0.346\n",
      "validation: loss 0.0012, f1 0.361, precision 0.294\n",
      "[epoch 17]: loss 0.0005, f1 0.499, precision 0.371\n",
      "validation: loss 0.0015, f1 0.355, precision 0.314\n",
      "[epoch 18]: loss 0.0005, f1 0.493, precision 0.377\n",
      "validation: loss 0.0009, f1 0.405, precision 0.332\n",
      "[epoch 19]: loss 0.0005, f1 0.505, precision 0.389\n",
      "validation: loss 0.0009, f1 0.422, precision 0.349\n",
      "[epoch 20]: loss 0.0005, f1 0.520, precision 0.397\n",
      "validation: loss 0.0011, f1 0.401, precision 0.343\n",
      "\n",
      "\n",
      "TRAINING c2f_tcn_best::1\n",
      "Initializing class weights:\n",
      "     0: 0.001, 0.001, 0.001, 0.001, 0.001, 0.001, 0.001, 0.001 1: 0.013, 0.022, 0.009, 0.038, 0.023, 0.013, 5.348, 0.014\n",
      "Behavior indices:\n",
      "    0: anogenital\n",
      "    1: approach\n",
      "    2: attack\n",
      "    3: avoidance\n",
      "    4: boxing\n",
      "    5: lateralthreat\n",
      "    6: pursuit\n",
      "    7: submission\n"
     ]
    },
    {
     "name": "stderr",
     "output_type": "stream",
     "text": [
      "/home/liza/DLC2Action-1/dlc2action/model/c2f_tcn.py:78: UserWarning: __floordiv__ is deprecated, and its behavior will change in a future version of pytorch. It currently rounds toward 0 (like the 'trunc' function NOT 'floor'). This results in incorrect rounding for negative values. To keep the current behavior, use torch.div(a, b, rounding_mode='trunc'), or for actual floor division, use torch.div(a, b, rounding_mode='floor').\n",
      "  x1 = F.pad(x1, [diff // 2, diff - diff // 2])\n"
     ]
    },
    {
     "name": "stdout",
     "output_type": "stream",
     "text": [
      "[epoch 16]: loss 0.0006, f1 0.482, precision 0.371\n",
      "validation: loss 0.0010, f1 0.405, precision 0.330\n",
      "[epoch 17]: loss 0.0006, f1 0.492, precision 0.380\n",
      "validation: loss 0.0011, f1 0.377, precision 0.334\n",
      "[epoch 18]: loss 0.0005, f1 0.489, precision 0.376\n",
      "validation: loss 0.0011, f1 0.398, precision 0.339\n",
      "[epoch 19]: loss 0.0005, f1 0.508, precision 0.395\n",
      "validation: loss 0.0016, f1 0.358, precision 0.322\n",
      "[epoch 20]: loss 0.0005, f1 0.519, precision 0.403\n",
      "validation: loss 0.0021, f1 0.326, precision 0.314\n",
      "\n",
      "\n",
      "TRAINING c2f_tcn_best::2\n",
      "Initializing class weights:\n",
      "     0: 0.001, 0.001, 0.001, 0.001, 0.001, 0.001, 0.001, 0.001 1: 0.013, 0.022, 0.009, 0.038, 0.023, 0.013, 5.348, 0.014\n",
      "Behavior indices:\n",
      "    0: anogenital\n",
      "    1: approach\n",
      "    2: attack\n",
      "    3: avoidance\n",
      "    4: boxing\n",
      "    5: lateralthreat\n",
      "    6: pursuit\n",
      "    7: submission\n"
     ]
    },
    {
     "name": "stderr",
     "output_type": "stream",
     "text": [
      "/home/liza/DLC2Action-1/dlc2action/model/c2f_tcn.py:78: UserWarning: __floordiv__ is deprecated, and its behavior will change in a future version of pytorch. It currently rounds toward 0 (like the 'trunc' function NOT 'floor'). This results in incorrect rounding for negative values. To keep the current behavior, use torch.div(a, b, rounding_mode='trunc'), or for actual floor division, use torch.div(a, b, rounding_mode='floor').\n",
      "  x1 = F.pad(x1, [diff // 2, diff - diff // 2])\n"
     ]
    },
    {
     "name": "stdout",
     "output_type": "stream",
     "text": [
      "[epoch 16]: loss 0.0006, f1 0.464, precision 0.340\n",
      "validation: loss 0.0011, f1 0.395, precision 0.326\n",
      "[epoch 17]: loss 0.0006, f1 0.498, precision 0.369\n",
      "validation: loss 0.0010, f1 0.388, precision 0.322\n",
      "[epoch 18]: loss 0.0005, f1 0.492, precision 0.370\n",
      "validation: loss 0.0011, f1 0.401, precision 0.336\n",
      "[epoch 19]: loss 0.0005, f1 0.521, precision 0.398\n",
      "validation: loss 0.0012, f1 0.412, precision 0.351\n",
      "[epoch 20]: loss 0.0005, f1 0.531, precision 0.403\n",
      "validation: loss 0.0014, f1 0.386, precision 0.337\n",
      "\n",
      "\n"
     ]
    },
    {
     "data": {
      "text/plain": [
       "<dlc2action.task.task_dispatcher.TaskDispatcher at 0x7f204913bcd0>"
      ]
     },
     "execution_count": 9,
     "metadata": {},
     "output_type": "execute_result"
    }
   ],
   "source": [
    "project.continue_episode(f\"{MODEL_NAME1}_best\", num_epochs=20, n_runs=3)"
   ]
  },
  {
   "cell_type": "markdown",
   "metadata": {},
   "source": [
    "You can also train another episode with different parameters that loads the weights of your model as an initialization. Note that it will use all three runs as starting points for its own three runs."
   ]
  },
  {
   "cell_type": "code",
   "execution_count": 14,
   "metadata": {},
   "outputs": [
    {
     "name": "stdout",
     "output_type": "stream",
     "text": [
      "TRAINING c2f_tcn_best_lr1e-5::0\n",
      "Computing annotation arrays...\n"
     ]
    },
    {
     "name": "stderr",
     "output_type": "stream",
     "text": [
      "100%|██████████| 12/12 [00:06<00:00,  1.74it/s]\n"
     ]
    },
    {
     "name": "stdout",
     "output_type": "stream",
     "text": [
      "Number of samples:\n",
      "    validation:\n",
      "      {0: 691, 1: 343, 2: 8795, 3: 332, 4: 912, 5: 3227, 6: 0, 7: 7229}\n",
      "    training:\n",
      "      {0: 9806, 1: 5642, 2: 14257, 3: 3207, 4: 5328, 5: 9581, 6: 23, 7: 8679}\n",
      "    test:\n",
      "      {0: 0, 1: 0, 2: 0, 3: 0, 4: 0, 5: 0, 6: 0, 7: 0}\n",
      "Computing normalization statistics...\n"
     ]
    },
    {
     "name": "stderr",
     "output_type": "stream",
     "text": [
      "100%|██████████| 123/123 [00:00<00:00, 264.18it/s]\n",
      "100%|██████████| 123/123 [00:00<00:00, 271.31it/s]\n"
     ]
    },
    {
     "name": "stdout",
     "output_type": "stream",
     "text": [
      "Initializing class weights:\n",
      "     0: 0.001, 0.001, 0.001, 0.001, 0.001, 0.001, 0.001, 0.001 1: 0.013, 0.022, 0.009, 0.038, 0.023, 0.013, 5.348, 0.014\n",
      "Behavior indices:\n",
      "    0: anogenital\n",
      "    1: approach\n",
      "    2: attack\n",
      "    3: avoidance\n",
      "    4: boxing\n",
      "    5: lateralthreat\n",
      "    6: pursuit\n",
      "    7: submission\n"
     ]
    },
    {
     "name": "stderr",
     "output_type": "stream",
     "text": [
      "/home/liza/DLC2Action-1/dlc2action/model/c2f_tcn.py:78: UserWarning: __floordiv__ is deprecated, and its behavior will change in a future version of pytorch. It currently rounds toward 0 (like the 'trunc' function NOT 'floor'). This results in incorrect rounding for negative values. To keep the current behavior, use torch.div(a, b, rounding_mode='trunc'), or for actual floor division, use torch.div(a, b, rounding_mode='floor').\n",
      "  x1 = F.pad(x1, [diff // 2, diff - diff // 2])\n"
     ]
    },
    {
     "name": "stdout",
     "output_type": "stream",
     "text": [
      "[epoch 1]: loss 0.0005, f1 0.535, precision 0.417\n",
      "validation: loss 0.0009, f1 0.419, precision 0.352\n",
      "[epoch 2]: loss 0.0005, f1 0.528, precision 0.411\n",
      "validation: loss 0.0009, f1 0.426, precision 0.356\n",
      "[epoch 3]: loss 0.0005, f1 0.539, precision 0.422\n",
      "validation: loss 0.0008, f1 0.437, precision 0.363\n",
      "[epoch 4]: loss 0.0005, f1 0.538, precision 0.419\n",
      "validation: loss 0.0009, f1 0.440, precision 0.365\n",
      "[epoch 5]: loss 0.0004, f1 0.541, precision 0.418\n",
      "validation: loss 0.0008, f1 0.443, precision 0.367\n",
      "\n",
      "\n",
      "TRAINING c2f_tcn_best_lr1e-5::1\n",
      "Initializing class weights:\n",
      "     0: 0.001, 0.001, 0.001, 0.001, 0.001, 0.001, 0.001, 0.001 1: 0.013, 0.022, 0.009, 0.038, 0.023, 0.013, 5.348, 0.014\n",
      "Behavior indices:\n",
      "    0: anogenital\n",
      "    1: approach\n",
      "    2: attack\n",
      "    3: avoidance\n",
      "    4: boxing\n",
      "    5: lateralthreat\n",
      "    6: pursuit\n",
      "    7: submission\n"
     ]
    },
    {
     "name": "stderr",
     "output_type": "stream",
     "text": [
      "/home/liza/DLC2Action-1/dlc2action/model/c2f_tcn.py:78: UserWarning: __floordiv__ is deprecated, and its behavior will change in a future version of pytorch. It currently rounds toward 0 (like the 'trunc' function NOT 'floor'). This results in incorrect rounding for negative values. To keep the current behavior, use torch.div(a, b, rounding_mode='trunc'), or for actual floor division, use torch.div(a, b, rounding_mode='floor').\n",
      "  x1 = F.pad(x1, [diff // 2, diff - diff // 2])\n"
     ]
    },
    {
     "name": "stdout",
     "output_type": "stream",
     "text": [
      "[epoch 1]: loss 0.0005, f1 0.541, precision 0.425\n",
      "validation: loss 0.0018, f1 0.354, precision 0.329\n",
      "[epoch 2]: loss 0.0005, f1 0.545, precision 0.428\n",
      "validation: loss 0.0017, f1 0.372, precision 0.337\n",
      "[epoch 3]: loss 0.0005, f1 0.537, precision 0.416\n",
      "validation: loss 0.0016, f1 0.387, precision 0.347\n",
      "[epoch 4]: loss 0.0004, f1 0.552, precision 0.434\n",
      "validation: loss 0.0015, f1 0.402, precision 0.353\n",
      "[epoch 5]: loss 0.0004, f1 0.539, precision 0.419\n",
      "validation: loss 0.0014, f1 0.416, precision 0.361\n",
      "\n",
      "\n",
      "TRAINING c2f_tcn_best_lr1e-5::2\n",
      "Initializing class weights:\n",
      "     0: 0.001, 0.001, 0.001, 0.001, 0.001, 0.001, 0.001, 0.001 1: 0.013, 0.022, 0.009, 0.038, 0.023, 0.013, 5.348, 0.014\n",
      "Behavior indices:\n",
      "    0: anogenital\n",
      "    1: approach\n",
      "    2: attack\n",
      "    3: avoidance\n",
      "    4: boxing\n",
      "    5: lateralthreat\n",
      "    6: pursuit\n",
      "    7: submission\n"
     ]
    },
    {
     "name": "stderr",
     "output_type": "stream",
     "text": [
      "/home/liza/DLC2Action-1/dlc2action/model/c2f_tcn.py:78: UserWarning: __floordiv__ is deprecated, and its behavior will change in a future version of pytorch. It currently rounds toward 0 (like the 'trunc' function NOT 'floor'). This results in incorrect rounding for negative values. To keep the current behavior, use torch.div(a, b, rounding_mode='trunc'), or for actual floor division, use torch.div(a, b, rounding_mode='floor').\n",
      "  x1 = F.pad(x1, [diff // 2, diff - diff // 2])\n"
     ]
    },
    {
     "name": "stdout",
     "output_type": "stream",
     "text": [
      "[epoch 1]: loss 0.0005, f1 0.569, precision 0.444\n",
      "validation: loss 0.0013, f1 0.404, precision 0.349\n",
      "[epoch 2]: loss 0.0004, f1 0.557, precision 0.431\n",
      "validation: loss 0.0012, f1 0.414, precision 0.355\n",
      "[epoch 3]: loss 0.0004, f1 0.565, precision 0.437\n",
      "validation: loss 0.0012, f1 0.421, precision 0.361\n",
      "[epoch 4]: loss 0.0004, f1 0.559, precision 0.434\n",
      "validation: loss 0.0012, f1 0.424, precision 0.362\n",
      "[epoch 5]: loss 0.0004, f1 0.562, precision 0.436\n",
      "validation: loss 0.0012, f1 0.427, precision 0.364\n",
      "\n",
      "\n"
     ]
    }
   ],
   "source": [
    "project.run_episode(\n",
    "    f\"{MODEL_NAME1}_best_lr1e-5\",\n",
    "    load_episode=f\"{MODEL_NAME1}_best\",\n",
    "    load_search=f\"{MODEL_NAME1}_search\",\n",
    "    parameters_update={\n",
    "        \"general\": {\"model_name\": MODEL_NAME1},\n",
    "        \"training\": {\"lr\": 1e-5, \"num_epochs\": 5}\n",
    "    },\n",
    "    force=True,\n",
    ")"
   ]
  },
  {
   "cell_type": "markdown",
   "metadata": {},
   "source": [
    "You can also plot such episodes together as one line."
   ]
  },
  {
   "cell_type": "code",
   "execution_count": 17,
   "metadata": {},
   "outputs": [
    {
     "name": "stderr",
     "output_type": "stream",
     "text": [
      "/home/liza/DLC2Action-1/dlc2action/project/project.py:2669: UserWarning: Got logs with unequal lengths in parallel runs for combined_model1_f1\n",
      "  warnings.warn(\n",
      "/home/liza/DLC2Action-1/dlc2action/project/project.py:2669: UserWarning: Got logs with unequal lengths in parallel runs for combined_model1_precision\n",
      "  warnings.warn(\n"
     ]
    },
    {
     "data": {
      "image/png": "[encoded data removed]",
      "text/plain": [
       "<Figure size 640x480 with 1 Axes>"
      ]
     },
     "metadata": {},
     "output_type": "display_data"
    }
   ],
   "source": [
    "project.plot_episodes(\n",
    "    [[f\"{MODEL_NAME1}_best\", f\"{MODEL_NAME1}_best_lr1e-5\"], f\"{MODEL_NAME2}_best\"], \n",
    "    episode_labels=[\"combined_model1\", \"model2\"],\n",
    "    metrics=METRICS\n",
    ")"
   ]
  },
  {
   "cell_type": "markdown",
   "metadata": {},
   "source": [
    "All the episodes you have run are stored in the project memory and you can pull up the history with all the parameters."
   ]
  },
  {
   "cell_type": "code",
   "execution_count": 18,
   "metadata": {},
   "outputs": [
    {
     "name": "stdout",
     "output_type": "stream",
     "text": [
      "TRAINING EPISODES\n",
      "                         general          meta                        results\n",
      "                      model_name training_time                 time        f1\n",
      "c2f_tcn_best::0          c2f_tcn       0:00:25  2022-11-01 20:59:07  0.401292\n",
      "c2f_tcn_best::1          c2f_tcn       0:00:24  2022-11-01 20:59:14  0.326330\n",
      "c2f_tcn_best::2          c2f_tcn       0:00:24  2022-11-01 20:59:21  0.385854\n",
      "transformer_best::0  transformer       0:03:57  2022-11-01 19:35:23  0.440998\n",
      "transformer_best::1  transformer       0:03:57  2022-11-01 19:39:44  0.418552\n",
      "transformer_best::2  transformer       0:03:57  2022-11-01 19:43:43  0.432657\n",
      "\n",
      "\n"
     ]
    }
   ],
   "source": [
    "_ = project.list_episodes(\n",
    "    display_parameters=[\"general/model_name\", \"meta/training_time\", \"meta/time\", f\"results/{METRICS[0]}\"], # choose the parameters to display\n",
    "    value_filter=\"training/lr::>1e-5\" # filter the entries by any parameter or result\n",
    ")"
   ]
  },
  {
   "cell_type": "markdown",
   "metadata": {},
   "source": [
    "The same goes for hyperparameter searches and predictions. This function also returns a `pandas` table you can process yourself."
   ]
  },
  {
   "cell_type": "code",
   "execution_count": 20,
   "metadata": {},
   "outputs": [
    {
     "data": {
      "text/html": [
       "<div>\n",
       "<style scoped>\n",
       "    .dataframe tbody tr th:only-of-type {\n",
       "        vertical-align: middle;\n",
       "    }\n",
       "\n",
       "    .dataframe tbody tr th {\n",
       "        vertical-align: top;\n",
       "    }\n",
       "\n",
       "    .dataframe thead tr th {\n",
       "        text-align: left;\n",
       "    }\n",
       "</style>\n",
       "<table border=\"1\" class=\"dataframe\">\n",
       "  <thead>\n",
       "    <tr>\n",
       "      <th></th>\n",
       "      <th colspan=\"2\" halign=\"left\">meta</th>\n",
       "      <th colspan=\"2\" halign=\"left\">results</th>\n",
       "      <th colspan=\"6\" halign=\"left\">data</th>\n",
       "      <th>...</th>\n",
       "      <th colspan=\"2\" halign=\"left\">f1</th>\n",
       "      <th colspan=\"4\" halign=\"left\">precision</th>\n",
       "      <th colspan=\"4\" halign=\"left\">model</th>\n",
       "    </tr>\n",
       "    <tr>\n",
       "      <th></th>\n",
       "      <th>time</th>\n",
       "      <th>objective</th>\n",
       "      <th>best_params</th>\n",
       "      <th>best_value</th>\n",
       "      <th>data_prefix</th>\n",
       "      <th>feature_suffix</th>\n",
       "      <th>canvas_shape</th>\n",
       "      <th>ignored_bodyparts</th>\n",
       "      <th>likelihood_threshold</th>\n",
       "      <th>centered</th>\n",
       "      <th>...</th>\n",
       "      <th>tag_average</th>\n",
       "      <th>threshold_value</th>\n",
       "      <th>average</th>\n",
       "      <th>ignored_classes</th>\n",
       "      <th>tag_average</th>\n",
       "      <th>threshold_value</th>\n",
       "      <th>input_dim</th>\n",
       "      <th>N</th>\n",
       "      <th>heads</th>\n",
       "      <th>num_pool</th>\n",
       "    </tr>\n",
       "  </thead>\n",
       "  <tbody>\n",
       "    <tr>\n",
       "      <th>c2f_tcn_search</th>\n",
       "      <td>2022-11-01 19:26:50</td>\n",
       "      <td>f1</td>\n",
       "      <td>{'losses/ms_tcn/alpha': 3.482154269765296e-05,...</td>\n",
       "      <td>0.369107</td>\n",
       "      <td>None</td>\n",
       "      <td>None</td>\n",
       "      <td>[1290, 730]</td>\n",
       "      <td>None</td>\n",
       "      <td>0</td>\n",
       "      <td>False</td>\n",
       "      <td>...</td>\n",
       "      <td>micro</td>\n",
       "      <td>0.5</td>\n",
       "      <td>macro</td>\n",
       "      <td>None</td>\n",
       "      <td>micro</td>\n",
       "      <td>0.5</td>\n",
       "      <td>NaN</td>\n",
       "      <td>NaN</td>\n",
       "      <td>NaN</td>\n",
       "      <td>NaN</td>\n",
       "    </tr>\n",
       "    <tr>\n",
       "      <th>transformer_search</th>\n",
       "      <td>2022-11-01 19:32:55</td>\n",
       "      <td>f1</td>\n",
       "      <td>{'losses/ms_tcn/alpha': 0.0013240942376234932,...</td>\n",
       "      <td>0.404372</td>\n",
       "      <td>None</td>\n",
       "      <td>None</td>\n",
       "      <td>[1290, 730]</td>\n",
       "      <td>None</td>\n",
       "      <td>0</td>\n",
       "      <td>False</td>\n",
       "      <td>...</td>\n",
       "      <td>micro</td>\n",
       "      <td>0.5</td>\n",
       "      <td>macro</td>\n",
       "      <td>None</td>\n",
       "      <td>micro</td>\n",
       "      <td>0.5</td>\n",
       "      <td>dataset_features</td>\n",
       "      <td>10.0</td>\n",
       "      <td>4.0</td>\n",
       "      <td>3.0</td>\n",
       "    </tr>\n",
       "  </tbody>\n",
       "</table>\n",
       "<p>2 rows × 110 columns</p>\n",
       "</div>"
      ],
      "text/plain": [
       "                                   meta            \\\n",
       "                                   time objective   \n",
       "c2f_tcn_search      2022-11-01 19:26:50        f1   \n",
       "transformer_search  2022-11-01 19:32:55        f1   \n",
       "\n",
       "                                                              results  \\\n",
       "                                                          best_params   \n",
       "c2f_tcn_search      {'losses/ms_tcn/alpha': 3.482154269765296e-05,...   \n",
       "transformer_search  {'losses/ms_tcn/alpha': 0.0013240942376234932,...   \n",
       "\n",
       "                                     data                              \\\n",
       "                   best_value data_prefix feature_suffix canvas_shape   \n",
       "c2f_tcn_search       0.369107        None           None  [1290, 730]   \n",
       "transformer_search   0.404372        None           None  [1290, 730]   \n",
       "\n",
       "                                                                    ...  \\\n",
       "                   ignored_bodyparts likelihood_threshold centered  ...   \n",
       "c2f_tcn_search                  None                    0    False  ...   \n",
       "transformer_search              None                    0    False  ...   \n",
       "\n",
       "                            f1                 precision                  \\\n",
       "                   tag_average threshold_value   average ignored_classes   \n",
       "c2f_tcn_search           micro             0.5     macro            None   \n",
       "transformer_search       micro             0.5     macro            None   \n",
       "\n",
       "                                                           model              \\\n",
       "                   tag_average threshold_value         input_dim     N heads   \n",
       "c2f_tcn_search           micro             0.5               NaN   NaN   NaN   \n",
       "transformer_search       micro             0.5  dataset_features  10.0   4.0   \n",
       "\n",
       "                             \n",
       "                   num_pool  \n",
       "c2f_tcn_search          NaN  \n",
       "transformer_search      3.0  \n",
       "\n",
       "[2 rows x 110 columns]"
      ]
     },
     "execution_count": 20,
     "metadata": {},
     "output_type": "execute_result"
    }
   ],
   "source": [
    "searches = project.list_searches(print_results=False)\n",
    "searches.head()"
   ]
  },
  {
   "cell_type": "markdown",
   "metadata": {},
   "source": [
    "When you find that you are happy with the results, you can use the model to generate predictions for new data. \n",
    "\n",
    "Predictions here are probabilities of each behavior being seen in each frame while suggestions are suggested intervals generated from those probabilities."
   ]
  },
  {
   "cell_type": "markdown",
   "metadata": {},
   "source": [
    "Let's generate a prediction with one of our models and look at one of the resulting files. Note that you can use multiple models and average over their predictions."
   ]
  },
  {
   "cell_type": "code",
   "execution_count": 2,
   "metadata": {},
   "outputs": [
    {
     "name": "stdout",
     "output_type": "stream",
     "text": [
      "PREDICTION c2f_tcn_best_prediction\n",
      "episode c2f_tcn_best_lr1e-5::0\n",
      "Computing input features...\n"
     ]
    },
    {
     "name": "stderr",
     "output_type": "stream",
     "text": [
      "100%|██████████| 12/12 [00:16<00:00,  1.35s/it]\n"
     ]
    },
    {
     "name": "stdout",
     "output_type": "stream",
     "text": [
      "Computing annotation arrays...\n"
     ]
    },
    {
     "name": "stderr",
     "output_type": "stream",
     "text": [
      "100%|██████████| 12/12 [00:07<00:00,  1.57it/s]\n"
     ]
    },
    {
     "name": "stdout",
     "output_type": "stream",
     "text": [
      "Number of samples:\n",
      "    validation:\n",
      "      {0: 0, 1: 0, 2: 0, 3: 0, 4: 0, 5: 0, 6: 0, 7: 0}\n",
      "    training:\n",
      "      {0: 10497, 1: 5985, 2: 23052, 3: 3539, 4: 6240, 5: 12808, 6: 23, 7: 15908}\n",
      "    test:\n",
      "      {0: 0, 1: 0, 2: 0, 3: 0, 4: 0, 5: 0, 6: 0, 7: 0}\n",
      "Setting loaded normalization statistics...\n",
      "Initializing class weights:\n",
      "     0: 0.001, 0.001, 0.001, 0.001, 0.001, 0.001, 0.001, 0.001 1: 0.013, 0.024, 0.006, 0.04, 0.023, 0.011, 6.13, 0.009\n",
      "Behavior indices:\n",
      "    0: anogenital\n",
      "    1: approach\n",
      "    2: attack\n",
      "    3: avoidance\n",
      "    4: boxing\n",
      "    5: lateralthreat\n",
      "    6: pursuit\n",
      "    7: submission\n"
     ]
    },
    {
     "name": "stderr",
     "output_type": "stream",
     "text": [
      "  0%|          | 0/5 [00:00<?, ?it/s]/home/liza/DLC2Action-1/dlc2action/model/c2f_tcn.py:78: UserWarning: __floordiv__ is deprecated, and its behavior will change in a future version of pytorch. It currently rounds toward 0 (like the 'trunc' function NOT 'floor'). This results in incorrect rounding for negative values. To keep the current behavior, use torch.div(a, b, rounding_mode='trunc'), or for actual floor division, use torch.div(a, b, rounding_mode='floor').\n",
      "  x1 = F.pad(x1, [diff // 2, diff - diff // 2])\n",
      "100%|██████████| 5/5 [00:03<00:00,  1.57it/s]\n"
     ]
    },
    {
     "name": "stdout",
     "output_type": "stream",
     "text": [
      "\n",
      "\n",
      "episode c2f_tcn_best_lr1e-5::1\n",
      "Initializing class weights:\n",
      "     0: 0.001, 0.001, 0.001, 0.001, 0.001, 0.001, 0.001, 0.001 1: 0.013, 0.024, 0.006, 0.04, 0.023, 0.011, 6.13, 0.009\n",
      "Behavior indices:\n",
      "    0: anogenital\n",
      "    1: approach\n",
      "    2: attack\n",
      "    3: avoidance\n",
      "    4: boxing\n",
      "    5: lateralthreat\n",
      "    6: pursuit\n",
      "    7: submission\n"
     ]
    },
    {
     "name": "stderr",
     "output_type": "stream",
     "text": [
      "  0%|          | 0/5 [00:00<?, ?it/s]/home/liza/DLC2Action-1/dlc2action/model/c2f_tcn.py:78: UserWarning: __floordiv__ is deprecated, and its behavior will change in a future version of pytorch. It currently rounds toward 0 (like the 'trunc' function NOT 'floor'). This results in incorrect rounding for negative values. To keep the current behavior, use torch.div(a, b, rounding_mode='trunc'), or for actual floor division, use torch.div(a, b, rounding_mode='floor').\n",
      "  x1 = F.pad(x1, [diff // 2, diff - diff // 2])\n",
      "100%|██████████| 5/5 [00:03<00:00,  1.66it/s]\n"
     ]
    },
    {
     "name": "stdout",
     "output_type": "stream",
     "text": [
      "\n",
      "\n",
      "episode c2f_tcn_best_lr1e-5::2\n",
      "Initializing class weights:\n",
      "     0: 0.001, 0.001, 0.001, 0.001, 0.001, 0.001, 0.001, 0.001 1: 0.013, 0.024, 0.006, 0.04, 0.023, 0.011, 6.13, 0.009\n",
      "Behavior indices:\n",
      "    0: anogenital\n",
      "    1: approach\n",
      "    2: attack\n",
      "    3: avoidance\n",
      "    4: boxing\n",
      "    5: lateralthreat\n",
      "    6: pursuit\n",
      "    7: submission\n"
     ]
    },
    {
     "name": "stderr",
     "output_type": "stream",
     "text": [
      "  0%|          | 0/5 [00:00<?, ?it/s]/home/liza/DLC2Action-1/dlc2action/model/c2f_tcn.py:78: UserWarning: __floordiv__ is deprecated, and its behavior will change in a future version of pytorch. It currently rounds toward 0 (like the 'trunc' function NOT 'floor'). This results in incorrect rounding for negative values. To keep the current behavior, use torch.div(a, b, rounding_mode='trunc'), or for actual floor division, use torch.div(a, b, rounding_mode='floor').\n",
      "  x1 = F.pad(x1, [diff // 2, diff - diff // 2])\n",
      "100%|██████████| 5/5 [00:02<00:00,  1.68it/s]"
     ]
    },
    {
     "name": "stdout",
     "output_type": "stream",
     "text": [
      "\n",
      "\n",
      "\n",
      "\n"
     ]
    },
    {
     "name": "stderr",
     "output_type": "stream",
     "text": [
      "\n"
     ]
    }
   ],
   "source": [
    "project.run_prediction(\n",
    "    f\"{MODEL_NAME1}_best_prediction\",\n",
    "    episode_names=[f\"{MODEL_NAME1}_best_lr1e-5\"],\n",
    "    force=True\n",
    ")"
   ]
  },
  {
   "cell_type": "code",
   "execution_count": 8,
   "metadata": {},
   "outputs": [
    {
     "name": "stdout",
     "output_type": "stream",
     "text": [
      "1+2: torch.Size([8, 11392])\n",
      "The mean probability of attack between frames 50 and 70 is 0.13511013984680176\n"
     ]
    }
   ],
   "source": [
    "import pickle\n",
    "import os\n",
    "\n",
    "\n",
    "# picking a random file from the prediction folder\n",
    "prediction_folder = project.prediction_path(f\"{MODEL_NAME1}_best_prediction\")\n",
    "prediction_file = os.listdir(prediction_folder)[0]\n",
    "prediction_file = os.path.join(prediction_folder, prediction_file)\n",
    "\n",
    "with open(prediction_file, \"rb\") as f: # open the file\n",
    "    prediction = pickle.load(f)\n",
    "\n",
    "for key, value in prediction.items(): # explore the contents\n",
    "    if key not in [\"max_frames\", \"min_frames\", \"video_tag\"]:\n",
    "        print(f'{key}: {value.shape}')\n",
    "\n",
    "start = 50\n",
    "end = 70\n",
    "action = \"attack\"\n",
    "\n",
    "behavior_dictionary = project.get_behavior_dictionary(f\"{MODEL_NAME1}_best_lr1e-5::0\")\n",
    "for index, behavior in behavior_dictionary.items():\n",
    "    if behavior == action:\n",
    "        break\n",
    "\n",
    "print(f'The mean probability of {action} between frames {start} and {end} is {prediction[\"1+2\"][index, start: end].mean()}')"
   ]
  },
  {
   "cell_type": "code",
   "execution_count": null,
   "metadata": {},
   "outputs": [
    {
     "name": "stdout",
     "output_type": "stream",
     "text": [
      "Removing datasets...\n",
      "\n",
      "\n"
     ]
    }
   ],
   "source": [
    "project.remove_datasets()\n",
    "project.remove_extra_checkpoints()"
   ]
  },
  {
   "cell_type": "markdown",
   "metadata": {},
   "source": [
    "## Working with custom data"
   ]
  },
  {
   "cell_type": "markdown",
   "metadata": {},
   "source": [
    "If you want to work with your own data, first check `Project.print_data_types()` and `Project.print_annotation_types()` to check if we already have the format that you need.\n",
    "\n",
    "If we don't, you can choose either of them to transform your data to but the easiest is probably `DeepLabCut` track or tracklet for the pose estimation data and our custom `\"dlc\"` format for annotation."
   ]
  },
  {
   "cell_type": "markdown",
   "metadata": {},
   "source": [
    "Let's talk about the latter in more detail.\n",
    "\n",
    "It assumes every annotation file to be a pickled nested dictionary where first-level keys are individual names, second-level keys are behavior names and values are lists of intervals. Here is an example.\n",
    "```\n",
    "{\n",
    "    \"ind0\": {\n",
    "        \"running\": [[20, 30], [40, 50]]\n",
    "    },\n",
    "    \"ind1\": {\n",
    "        \"eating\": [[10, 56]]\n",
    "    }\n",
    "}\n",
    "```\n",
    "\n",
    "Here `\"ind0\"` is running in frames 20 to 30 and 40 to 50 while `\"ind1\"` is eating in frames 10 to 56.\n",
    "\n",
    "In case your dataset contains interactive actions, connect the individual names with a plus (e.g. `\"ind0+ind1\"`). At the moment, we can only support two scenarios: either all actions are interactive or all are individual. In case they are interactive, update the parameters with `project.update_parameters({\"general\": {\"interactive\": True}})` before running experiments."
   ]
  },
  {
   "cell_type": "markdown",
   "metadata": {},
   "source": [
    "As an exercise, let's generate a file in this format from one of the CSV files we've been working with."
   ]
  },
  {
   "cell_type": "code",
   "execution_count": 2,
   "metadata": {},
   "outputs": [],
   "source": [
    "import os\n",
    "import pandas as pd\n",
    "import numpy as np\n",
    "import pickle\n",
    "\n",
    "filename = [x for x in os.listdir(DATA_PATH) if x.endswith(\".csv\")][0] # load a random .csv file\n",
    "filepath = os.path.join(DATA_PATH, filename)\n",
    "\n",
    "data = pd.read_csv(filepath)"
   ]
  },
  {
   "cell_type": "code",
   "execution_count": 18,
   "metadata": {},
   "outputs": [
    {
     "data": {
      "text/html": [
       "<div>\n",
       "<style scoped>\n",
       "    .dataframe tbody tr th:only-of-type {\n",
       "        vertical-align: middle;\n",
       "    }\n",
       "\n",
       "    .dataframe tbody tr th {\n",
       "        vertical-align: top;\n",
       "    }\n",
       "\n",
       "    .dataframe thead th {\n",
       "        text-align: right;\n",
       "    }\n",
       "</style>\n",
       "<table border=\"1\" class=\"dataframe\">\n",
       "  <thead>\n",
       "    <tr style=\"text-align: right;\">\n",
       "      <th></th>\n",
       "      <th>scorer</th>\n",
       "      <th>Ear_left_1_x</th>\n",
       "      <th>Ear_left_1_y</th>\n",
       "      <th>Ear_left_1_p</th>\n",
       "      <th>Ear_right_1_x</th>\n",
       "      <th>Ear_right_1_y</th>\n",
       "      <th>Ear_right_1_p</th>\n",
       "      <th>Nose_1_x</th>\n",
       "      <th>Nose_1_y</th>\n",
       "      <th>Nose_1_p</th>\n",
       "      <th>...</th>\n",
       "      <th>lateralthreat_prediction</th>\n",
       "      <th>pursuit_prediction</th>\n",
       "      <th>anogenital_prediction</th>\n",
       "      <th>submission_prediction</th>\n",
       "      <th>boxing_prediction</th>\n",
       "      <th>approach_prediction</th>\n",
       "      <th>avoidance_prediction</th>\n",
       "      <th>boxing_prediction.1</th>\n",
       "      <th>approach_prediction.1</th>\n",
       "      <th>avoidance_prediction.1</th>\n",
       "    </tr>\n",
       "  </thead>\n",
       "  <tbody>\n",
       "    <tr>\n",
       "      <th>0</th>\n",
       "      <td>0</td>\n",
       "      <td>247</td>\n",
       "      <td>405</td>\n",
       "      <td>0.999989</td>\n",
       "      <td>305</td>\n",
       "      <td>376</td>\n",
       "      <td>0.999968</td>\n",
       "      <td>233</td>\n",
       "      <td>309</td>\n",
       "      <td>0.999979</td>\n",
       "      <td>...</td>\n",
       "      <td>0</td>\n",
       "      <td>0</td>\n",
       "      <td>0</td>\n",
       "      <td>0</td>\n",
       "      <td>0</td>\n",
       "      <td>0</td>\n",
       "      <td>0</td>\n",
       "      <td>0</td>\n",
       "      <td>0</td>\n",
       "      <td>0</td>\n",
       "    </tr>\n",
       "    <tr>\n",
       "      <th>1</th>\n",
       "      <td>1</td>\n",
       "      <td>246</td>\n",
       "      <td>404</td>\n",
       "      <td>0.999996</td>\n",
       "      <td>305</td>\n",
       "      <td>376</td>\n",
       "      <td>0.999980</td>\n",
       "      <td>237</td>\n",
       "      <td>308</td>\n",
       "      <td>0.999884</td>\n",
       "      <td>...</td>\n",
       "      <td>0</td>\n",
       "      <td>0</td>\n",
       "      <td>0</td>\n",
       "      <td>0</td>\n",
       "      <td>0</td>\n",
       "      <td>0</td>\n",
       "      <td>0</td>\n",
       "      <td>0</td>\n",
       "      <td>0</td>\n",
       "      <td>0</td>\n",
       "    </tr>\n",
       "    <tr>\n",
       "      <th>2</th>\n",
       "      <td>2</td>\n",
       "      <td>246</td>\n",
       "      <td>406</td>\n",
       "      <td>0.999984</td>\n",
       "      <td>307</td>\n",
       "      <td>376</td>\n",
       "      <td>0.999988</td>\n",
       "      <td>226</td>\n",
       "      <td>309</td>\n",
       "      <td>0.999948</td>\n",
       "      <td>...</td>\n",
       "      <td>0</td>\n",
       "      <td>0</td>\n",
       "      <td>0</td>\n",
       "      <td>0</td>\n",
       "      <td>0</td>\n",
       "      <td>0</td>\n",
       "      <td>0</td>\n",
       "      <td>0</td>\n",
       "      <td>0</td>\n",
       "      <td>0</td>\n",
       "    </tr>\n",
       "    <tr>\n",
       "      <th>3</th>\n",
       "      <td>3</td>\n",
       "      <td>249</td>\n",
       "      <td>408</td>\n",
       "      <td>0.999971</td>\n",
       "      <td>304</td>\n",
       "      <td>374</td>\n",
       "      <td>0.999984</td>\n",
       "      <td>224</td>\n",
       "      <td>311</td>\n",
       "      <td>0.999900</td>\n",
       "      <td>...</td>\n",
       "      <td>0</td>\n",
       "      <td>0</td>\n",
       "      <td>0</td>\n",
       "      <td>0</td>\n",
       "      <td>0</td>\n",
       "      <td>0</td>\n",
       "      <td>0</td>\n",
       "      <td>0</td>\n",
       "      <td>0</td>\n",
       "      <td>0</td>\n",
       "    </tr>\n",
       "    <tr>\n",
       "      <th>4</th>\n",
       "      <td>4</td>\n",
       "      <td>248</td>\n",
       "      <td>414</td>\n",
       "      <td>0.999963</td>\n",
       "      <td>303</td>\n",
       "      <td>373</td>\n",
       "      <td>0.999975</td>\n",
       "      <td>214</td>\n",
       "      <td>320</td>\n",
       "      <td>0.999693</td>\n",
       "      <td>...</td>\n",
       "      <td>0</td>\n",
       "      <td>0</td>\n",
       "      <td>0</td>\n",
       "      <td>0</td>\n",
       "      <td>0</td>\n",
       "      <td>0</td>\n",
       "      <td>0</td>\n",
       "      <td>0</td>\n",
       "      <td>0</td>\n",
       "      <td>0</td>\n",
       "    </tr>\n",
       "  </tbody>\n",
       "</table>\n",
       "<p>5 rows × 552 columns</p>\n",
       "</div>"
      ],
      "text/plain": [
       "   scorer  Ear_left_1_x  Ear_left_1_y  Ear_left_1_p  Ear_right_1_x  \\\n",
       "0       0           247           405      0.999989            305   \n",
       "1       1           246           404      0.999996            305   \n",
       "2       2           246           406      0.999984            307   \n",
       "3       3           249           408      0.999971            304   \n",
       "4       4           248           414      0.999963            303   \n",
       "\n",
       "   Ear_right_1_y  Ear_right_1_p  Nose_1_x  Nose_1_y  Nose_1_p  ...  \\\n",
       "0            376       0.999968       233       309  0.999979  ...   \n",
       "1            376       0.999980       237       308  0.999884  ...   \n",
       "2            376       0.999988       226       309  0.999948  ...   \n",
       "3            374       0.999984       224       311  0.999900  ...   \n",
       "4            373       0.999975       214       320  0.999693  ...   \n",
       "\n",
       "   lateralthreat_prediction  pursuit_prediction  anogenital_prediction  \\\n",
       "0                         0                   0                      0   \n",
       "1                         0                   0                      0   \n",
       "2                         0                   0                      0   \n",
       "3                         0                   0                      0   \n",
       "4                         0                   0                      0   \n",
       "\n",
       "   submission_prediction  boxing_prediction  approach_prediction  \\\n",
       "0                      0                  0                    0   \n",
       "1                      0                  0                    0   \n",
       "2                      0                  0                    0   \n",
       "3                      0                  0                    0   \n",
       "4                      0                  0                    0   \n",
       "\n",
       "   avoidance_prediction  boxing_prediction.1  approach_prediction.1  \\\n",
       "0                     0                    0                      0   \n",
       "1                     0                    0                      0   \n",
       "2                     0                    0                      0   \n",
       "3                     0                    0                      0   \n",
       "4                     0                    0                      0   \n",
       "\n",
       "   avoidance_prediction.1  \n",
       "0                       0  \n",
       "1                       0  \n",
       "2                       0  \n",
       "3                       0  \n",
       "4                       0  \n",
       "\n",
       "[5 rows x 552 columns]"
      ]
     },
     "execution_count": 18,
     "metadata": {},
     "output_type": "execute_result"
    }
   ],
   "source": [
    "data.head()"
   ]
  },
  {
   "cell_type": "markdown",
   "metadata": {},
   "source": [
    "Behaviors here are interactive, the animal names are `\"1\"` and `\"2\"` and the annotations are encoded as binary arrays in the last columns. Let's use this to generate our dictionary."
   ]
  },
  {
   "cell_type": "code",
   "execution_count": 3,
   "metadata": {},
   "outputs": [],
   "source": [
    "for filename in [x for x in os.listdir(DATA_PATH) if x.endswith(\".csv\")]:\n",
    "    filepath = os.path.join(DATA_PATH, filename)\n",
    "    data = pd.read_csv(filepath)\n",
    "    dlc_dict = {\"1+2\": {}}\n",
    "    behavior_columns = [column for column in data.columns if column.endswith(\"prediction\")] # get relevant columns\n",
    "    for column in behavior_columns:\n",
    "        behavior = column.split(\"_\")[0] # get the name of the behavior\n",
    "        diff = np.diff(np.pad(data[column].values, (1, 1))) # find the starts and ends of positive intervals\n",
    "        start_indices = np.where(diff == 1)[0]\n",
    "        end_indices = np.where(diff == -1)[0]\n",
    "        dlc_dict[\"1+2\"][behavior] = []\n",
    "        for start, end in zip(start_indices, end_indices):\n",
    "            dlc_dict[\"1+2\"][behavior].append([start, end]) # add intervals to the dictionary\n",
    "    new_name = filepath.split(\".\")[0] + \"_dlc.pickle\" # the filenames need to start with the video name\n",
    "    with open(new_name, \"wb\") as f: # save the annotation file\n",
    "        pickle.dump(dlc_dict, f)"
   ]
  },
  {
   "cell_type": "markdown",
   "metadata": {},
   "source": [
    "Let's check that we did everything right. We will create a new project with the new data type and run a small experiment."
   ]
  },
  {
   "cell_type": "code",
   "execution_count": 4,
   "metadata": {},
   "outputs": [],
   "source": [
    "project = Project(\n",
    "    \"rat_simba_dlc\",\n",
    "    data_path=DATA_PATH,\n",
    "    annotation_path=DATA_PATH,\n",
    "    data_type=\"simba\",\n",
    "    annotation_type=\"dlc\",\n",
    "    projects_path=PROJECTS_PATH\n",
    ")"
   ]
  },
  {
   "cell_type": "code",
   "execution_count": 5,
   "metadata": {},
   "outputs": [],
   "source": [
    "project.update_parameters(\n",
    "    {\n",
    "        \"data\": {\n",
    "            \"canvas_shape\": [1290, 730], # list; [x, y] size of the canvas where the coordinates are defined\n",
    "            \"data_suffix\": \".csv\", # str; the data suffix (the data files should be named {video_id}{data_suffix}, e.g. video1_suffix.pickle, where video1 is the video is and _suffix.pickle is the suffix\n",
    "            \"annotation_suffix\": \"_dlc.pickle\", # str | set, optional the suffix or the set of suffices such that the annotation files are named {video_id}{annotation_suffix}, e.g, video1_suffix.pickle where video1 is the video id and _suffix.pickle is the suffix\n",
    "        },\n",
    "        \"general\": {\n",
    "            \"exclusive\": False, # bool; if true, single-label classification is used; otherwise multi-label\n",
    "            \"interactive\": True,\n",
    "            \"model_name\": \"c2f_tcn\",\n",
    "            \"len_segment\": 512\n",
    "        },\n",
    "        \"augmentations\": {\n",
    "            \"augmentations\": {\"add_noise\", \"mirror\", \"rotate\"}, # set; a set of augmentations that can be applied to your data without losing information (choose any number from 'rotate', 'real_lens', 'add_noise', 'shift', 'zoom', 'mirror', 'switch', e.g. {'add_noise'. 'mirror'})\n",
    "        },\n",
    "        \"training\": {\"num_epochs\": 5},\n",
    "    }\n",
    ")"
   ]
  },
  {
   "cell_type": "code",
   "execution_count": 6,
   "metadata": {},
   "outputs": [
    {
     "name": "stdout",
     "output_type": "stream",
     "text": [
      "Removing datasets...\n",
      "\n",
      "\n",
      "TRAINING test\n",
      "Computing input features...\n"
     ]
    },
    {
     "name": "stderr",
     "output_type": "stream",
     "text": [
      "100%|██████████| 12/12 [00:25<00:00,  2.15s/it]\n"
     ]
    },
    {
     "name": "stdout",
     "output_type": "stream",
     "text": [
      "Computing annotation arrays...\n"
     ]
    },
    {
     "name": "stderr",
     "output_type": "stream",
     "text": [
      "100%|██████████| 12/12 [00:00<00:00, 3028.01it/s]\n"
     ]
    },
    {
     "name": "stdout",
     "output_type": "stream",
     "text": [
      "Number of samples:\n",
      "    validation:\n",
      "      {0: 2672, 1: 1292, 2: 34204, 3: 1232, 4: 3648, 5: 12609, 6: 0, 7: 27956}\n",
      "    training:\n",
      "      {0: 37224, 1: 21212, 2: 55418, 3: 11922, 4: 20826, 5: 36280, 6: 92, 7: 33623}\n",
      "    test:\n",
      "      {0: 0, 1: 0, 2: 0, 3: 0, 4: 0, 5: 0, 6: 0, 7: 0}\n",
      "Computing normalization statistics...\n"
     ]
    },
    {
     "name": "stderr",
     "output_type": "stream",
     "text": [
      "100%|██████████| 937/937 [00:02<00:00, 344.34it/s]\n",
      "100%|██████████| 937/937 [00:02<00:00, 347.67it/s]\n"
     ]
    },
    {
     "name": "stdout",
     "output_type": "stream",
     "text": [
      "Initializing class weights:\n",
      "     0: 0.002, 0.002, 0.002, 0.002, 0.002, 0.002, 0.002, 0.002 1: 0.025, 0.044, 0.017, 0.079, 0.045, 0.026, 10.185, 0.028\n",
      "Behavior indices:\n",
      "    0: anogenital\n",
      "    1: approach\n",
      "    2: attack\n",
      "    3: avoidance\n",
      "    4: boxing\n",
      "    5: lateralthreat\n",
      "    6: pursuit\n",
      "    7: submission\n"
     ]
    },
    {
     "name": "stderr",
     "output_type": "stream",
     "text": [
      "/home/liza/DLC2Action-1/dlc2action/model/c2f_tcn.py:78: UserWarning: __floordiv__ is deprecated, and its behavior will change in a future version of pytorch. It currently rounds toward 0 (like the 'trunc' function NOT 'floor'). This results in incorrect rounding for negative values. To keep the current behavior, use torch.div(a, b, rounding_mode='trunc'), or for actual floor division, use torch.div(a, b, rounding_mode='floor').\n",
      "  x1 = F.pad(x1, [diff // 2, diff - diff // 2])\n"
     ]
    },
    {
     "name": "stdout",
     "output_type": "stream",
     "text": [
      "[epoch 1]: loss 0.0006, f1 0.219, precision 0.132, recall 0.879\n",
      "validation: loss 0.0017, f1 0.260, precision 0.266, recall 0.337\n",
      "[epoch 2]: loss 0.0004, f1 0.323, precision 0.218, recall 0.908\n",
      "validation: loss 0.0007, f1 0.361, precision 0.288, recall 0.669\n",
      "[epoch 3]: loss 0.0003, f1 0.368, precision 0.256, recall 0.918\n",
      "validation: loss 0.0005, f1 0.404, precision 0.319, recall 0.727\n",
      "[epoch 4]: loss 0.0003, f1 0.411, precision 0.300, recall 0.928\n",
      "validation: loss 0.0009, f1 0.339, precision 0.263, recall 0.720\n",
      "[epoch 5]: loss 0.0003, f1 0.414, precision 0.296, recall 0.933\n",
      "validation: loss 0.0014, f1 0.319, precision 0.290, recall 0.636\n",
      "\n",
      "\n"
     ]
    },
    {
     "data": {
      "text/plain": [
       "<dlc2action.task.task_dispatcher.TaskDispatcher at 0x7f50d31a49d0>"
      ]
     },
     "execution_count": 6,
     "metadata": {},
     "output_type": "execute_result"
    }
   ],
   "source": [
    "project.remove_datasets()\n",
    "project.run_episode(\"test\", force=True)"
   ]
  },
  {
   "cell_type": "markdown",
   "metadata": {},
   "source": [
    "## Annotation"
   ]
  },
  {
   "cell_type": "markdown",
   "metadata": {},
   "source": [
    "You can also use `DLC2Action` to generate new annotation files. Install our interface following those instructions and try running it with any video you like."
   ]
  },
  {
   "cell_type": "markdown",
   "metadata": {},
   "source": [
    "... Installation\n",
    "\n",
    "for now:\n",
    "```\n",
    "git clone https://github.com/amathislab/dlc2action_annotation\n",
    "cd dlc2action_annotation\n",
    "conda env create -f AnnotationGUI.yaml\n",
    "```"
   ]
  },
  {
   "cell_type": "markdown",
   "metadata": {},
   "source": [
    "To start, go to the `dlc2action_annotation` folder and run `python annotator.py`."
   ]
  }
 ],
 "metadata": {
  "kernelspec": {
   "display_name": "Python 3.9.13 ('DLC2Action')",
   "language": "python",
   "name": "python3"
  },
  "language_info": {
   "codemirror_mode": {
    "name": "ipython",
    "version": 3
   },
   "file_extension": ".py",
   "mimetype": "text/x-python",
   "name": "python",
   "nbconvert_exporter": "python",
   "pygments_lexer": "ipython3",
   "version": "3.9.12"
  },
  "orig_nbformat": 4,
  "vscode": {
   "interpreter": {
    "hash": "3f5f7675fb80040f0ca1448b5f0ffd03eab1e03daeb908de054f4ee2164beb96"
   }
  }
 },
 "nbformat": 4,
 "nbformat_minor": 2
}
