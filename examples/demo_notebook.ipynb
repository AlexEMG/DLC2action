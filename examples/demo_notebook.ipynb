{
 "cells": [
  {
   "cell_type": "markdown",
   "metadata": {},
   "source": [
    "# Intro to DLC2Action"
   ]
  },
  {
   "cell_type": "markdown",
   "metadata": {},
   "source": [
    "DLC2Action is a package for automatic behavior prediction. It offers implementation of SOTA models and keeps track of experiments."
   ]
  },
  {
   "cell_type": "markdown",
   "metadata": {},
   "source": [
    "To see how it works, we will experiment on a relatively small [publically available](https://github.com/ETHZ-INS/DLCAnalyzer/tree/master/data/OFT) dataset (Sturman, 2020). Run the code below to download the data.\n",
    "\n",
    "Note that the results we are getting here are not optimal because we are using very small numbers of epochs and trials to make the execution time fit within a short tutorial."
   ]
  },
  {
   "cell_type": "markdown",
   "metadata": {},
   "source": [
    "NOTE: If you want to run this in google colab, we recommend to use the notebook at [this link](https://colab.research.google.com/drive/12yLnK_xh4-ci10Qn1v8vFOcAnel5SlB3?usp=sharing).\n"
   ]
  },
  {
   "cell_type": "markdown",
   "metadata": {},
   "source": [
    "Now let's download the data. Downloading the data and installing the packages can take up to about 5-10 minutes."
   ]
  },
  {
   "cell_type": "code",
   "execution_count": 14,
   "metadata": {},
   "outputs": [
    {
     "name": "stdout",
     "output_type": "stream",
     "text": [
      "Requirement already satisfied: gdown in /home/liza/miniconda3/envs/DLC2Action/lib/python3.9/site-packages (4.5.3)\n",
      "Requirement already satisfied: filelock in /home/liza/miniconda3/envs/DLC2Action/lib/python3.9/site-packages (from gdown) (3.8.0)\n",
      "Requirement already satisfied: requests[socks] in /home/liza/miniconda3/envs/DLC2Action/lib/python3.9/site-packages (from gdown) (2.27.1)\n",
      "Requirement already satisfied: six in /home/liza/miniconda3/envs/DLC2Action/lib/python3.9/site-packages (from gdown) (1.16.0)\n",
      "Requirement already satisfied: beautifulsoup4 in /home/liza/miniconda3/envs/DLC2Action/lib/python3.9/site-packages (from gdown) (4.11.1)\n",
      "Requirement already satisfied: tqdm in /home/liza/miniconda3/envs/DLC2Action/lib/python3.9/site-packages (from gdown) (4.64.0)\n",
      "Requirement already satisfied: soupsieve>1.2 in /home/liza/miniconda3/envs/DLC2Action/lib/python3.9/site-packages (from beautifulsoup4->gdown) (2.3.2.post1)\n",
      "Requirement already satisfied: urllib3<1.27,>=1.21.1 in /home/liza/miniconda3/envs/DLC2Action/lib/python3.9/site-packages (from requests[socks]->gdown) (1.26.9)\n",
      "Requirement already satisfied: certifi>=2017.4.17 in /home/liza/miniconda3/envs/DLC2Action/lib/python3.9/site-packages (from requests[socks]->gdown) (2022.6.15)\n",
      "Requirement already satisfied: idna<4,>=2.5 in /home/liza/miniconda3/envs/DLC2Action/lib/python3.9/site-packages (from requests[socks]->gdown) (3.4)\n",
      "Requirement already satisfied: charset-normalizer~=2.0.0 in /home/liza/miniconda3/envs/DLC2Action/lib/python3.9/site-packages (from requests[socks]->gdown) (2.0.12)\n",
      "Requirement already satisfied: PySocks!=1.5.7,>=1.5.6 in /home/liza/miniconda3/envs/DLC2Action/lib/python3.9/site-packages (from requests[socks]->gdown) (1.7.1)\n",
      "Downloading...\n",
      "From: https://drive.google.com/uc?id=1c-dX7MtRGPSGSrNp3Uaf3aOIzokzuj69\n",
      "To: /home/liza/DLC2Action_minimal/examples/OFT.zip\n",
      "100%|█████████████████████████████████████████| 327M/327M [00:02<00:00, 111MB/s]\n",
      "E: Could not open lock file /var/lib/dpkg/lock-frontend - open (13: Permission denied)\n",
      "E: Unable to acquire the dpkg frontend lock (/var/lib/dpkg/lock-frontend), are you root?\n",
      "Archive:  OFT.zip\n",
      "   creating: OFT/OFT/\n",
      "   creating: OFT/OFT/Labels/\n",
      "  inflating: OFT/OFT/Labels/21_02_A_190507131119.csv  \n",
      "  inflating: OFT/OFT/Labels/37_03_A_190507134213.csv  \n",
      "  inflating: OFT/OFT/Labels/17_02_A_190507120259.csv  \n",
      "  inflating: OFT/OFT/Labels/49_04_A_190507125609.csv  \n",
      "  inflating: OFT/OFT/Labels/48_04_A_190507123817.csv  \n",
      "  inflating: OFT/OFT/Labels/13_01_A_190507145949.csv  \n",
      "  inflating: OFT/OFT/Labels/57_04_A_190507150030.csv  \n",
      "  inflating: OFT/OFT/Labels/3_01_A_190507121945.csv  \n",
      "  inflating: OFT/OFT/Labels/45_04_A_190507114741.csv  \n",
      "  inflating: OFT/OFT/Labels/58_04_A_190507151611.csv  \n",
      "  inflating: OFT/OFT/Labels/40_03_A_190507142917.csv  \n",
      "  inflating: OFT/OFT/Labels/8_01_A_190507134142.csv  \n",
      "  inflating: OFT/OFT/Labels/43_03_A_190507151557.csv  \n",
      "  inflating: OFT/OFT/Labels/18_02_A_190507122004.csv  \n",
      "  inflating: OFT/OFT/Labels/15_01_A_190507153142.csv  \n",
      "  inflating: OFT/OFT/Labels/53_04_A_190507135800.csv  \n",
      "  inflating: OFT/OFT/Labels/23_02_A_190507135734.csv  \n",
      "  inflating: OFT/OFT/Labels/AllLabDataOFT_final.csv  \n",
      "  inflating: OFT/OFT/Labels/12_01_A_190507144429.csv  \n",
      "  inflating: OFT/OFT/Labels/26_02_A_190507144444.csv  \n",
      "  inflating: OFT/OFT/Labels/25_02_A_190507142904.csv  \n",
      "   creating: OFT/OFT/Output_DLC/\n",
      "  inflating: OFT/OFT/Output_DLC/7_01_A_190507132652DeepCut_resnet50_Blockcourse1May9shuffle1_1030000.csv  \n",
      "  inflating: OFT/OFT/Output_DLC/27_02_A_190507150003DeepCut_resnet50_Blockcourse1May9shuffle1_1030000.csv  \n",
      "  inflating: OFT/OFT/Output_DLC/33_03_A_190507123759DeepCut_resnet50_Blockcourse1May9shuffle1_1030000.csv  \n",
      "  inflating: OFT/OFT/Output_DLC/56_04_A_190507144511DeepCut_resnet50_Blockcourse1May9shuffle1_1030000.csv  \n",
      "  inflating: OFT/OFT/Output_DLC/2_01_A_190507120240DeepCut_resnet50_Blockcourse1May9shuffle1_1030000.csv  \n",
      "  inflating: OFT/OFT/Output_DLC/6_01_A_190507131058DeepCut_resnet50_Blockcourse1May9shuffle1_1030000.csv  \n",
      "  inflating: OFT/OFT/Output_DLC/10_01_A_190507141248DeepCut_resnet50_Blockcourse1May9shuffle1_1030000.csv  \n",
      "  inflating: OFT/OFT/Output_DLC/46_04_A_190507120344DeepCut_resnet50_Blockcourse1May9shuffle1_1030000.csv  \n",
      "  inflating: OFT/OFT/Output_DLC/34_03_A_190507125548DeepCut_resnet50_Blockcourse1May9shuffle1_1030000.csv  \n",
      "  inflating: OFT/OFT/Output_DLC/28_02_A_190507151545DeepCut_resnet50_Blockcourse1May9shuffle1_1030000.csv  \n",
      "  inflating: OFT/OFT/Output_DLC/40_03_A_190507142917DeepCut_resnet50_Blockcourse1May9shuffle1_1030000.csv  \n",
      "  inflating: OFT/OFT/Output_DLC/54_04_A_190507141337DeepCut_resnet50_Blockcourse1May9shuffle1_1030000.csv  \n",
      "  inflating: OFT/OFT/Output_DLC/36_03_A_190507132711DeepCut_resnet50_Blockcourse1May9shuffle1_1030000.csv  \n",
      "  inflating: OFT/OFT/Output_DLC/41_03_A_190507144457DeepCut_resnet50_Blockcourse1May9shuffle1_1030000.csv  \n",
      "  inflating: OFT/OFT/Output_DLC/30_03_A_190507114720DeepCut_resnet50_Blockcourse1May9shuffle1_1030000.csv  \n",
      "  inflating: OFT/OFT/Output_DLC/55_04_A_190507142930DeepCut_resnet50_Blockcourse1May9shuffle1_1030000.csv  \n",
      "  inflating: OFT/OFT/Output_DLC/26_02_A_190507144444DeepCut_resnet50_Blockcourse1May9shuffle1_1030000.csv  \n",
      "  inflating: OFT/OFT/Output_DLC/19_02_A_190507123740DeepCut_resnet50_Blockcourse1May9shuffle1_1030000.csv  \n",
      "  inflating: OFT/OFT/Output_DLC/39_03_A_190507141319DeepCut_resnet50_Blockcourse1May9shuffle1_1030000.csv  \n",
      "  inflating: OFT/OFT/Output_DLC/12_01_A_190507144429DeepCut_resnet50_Blockcourse1May9shuffle1_1030000.csv  \n",
      "  inflating: OFT/OFT/Output_DLC/9_01_A_190507135719DeepCut_resnet50_Blockcourse1May9shuffle1_1030000.csv  \n",
      "  inflating: OFT/OFT/Output_DLC/5_01_A_190507125512DeepCut_resnet50_Blockcourse1May9shuffle1_1030000.csv  \n",
      "  inflating: OFT/OFT/Output_DLC/24_02_A_190507141305DeepCut_resnet50_Blockcourse1May9shuffle1_1030000.csv  \n",
      "  inflating: OFT/OFT/Output_DLC/29_02_A_190507153158DeepCut_resnet50_Blockcourse1May9shuffle1_1030000.csv  \n",
      "  inflating: OFT/OFT/Output_DLC/13_01_A_190507145949DeepCut_resnet50_Blockcourse1May9shuffle1_1030000.csv  \n",
      "  inflating: OFT/OFT/Output_DLC/22_02_A_190507134157DeepCut_resnet50_Blockcourse1May9shuffle1_1030000.csv  \n",
      "  inflating: OFT/OFT/Output_DLC/8_01_A_190507134142DeepCut_resnet50_Blockcourse1May9shuffle1_1030000.csv  \n",
      "  inflating: OFT/OFT/Output_DLC/59_04_A_190507153228DeepCut_resnet50_Blockcourse1May9shuffle1_1030000.csv  \n",
      "  inflating: OFT/OFT/Output_DLC/21_02_A_190507131119DeepCut_resnet50_Blockcourse1May9shuffle1_1030000.csv  \n",
      "  inflating: OFT/OFT/Output_DLC/52_04_A_190507134227DeepCut_resnet50_Blockcourse1May9shuffle1_1030000.csv  \n",
      "  inflating: OFT/OFT/Output_DLC/32_03_A_190507122023DeepCut_resnet50_Blockcourse1May9shuffle1_1030000.csv  \n",
      "  inflating: OFT/OFT/Output_DLC/42_03_A_190507150017DeepCut_resnet50_Blockcourse1May9shuffle1_1030000.csv  \n",
      "  inflating: OFT/OFT/Output_DLC/50_04_A_190507131154DeepCut_resnet50_Blockcourse1May9shuffle1_1030000.csv  \n",
      "  inflating: OFT/OFT/Output_DLC/49_04_A_190507125609DeepCut_resnet50_Blockcourse1May9shuffle1_1030000.csv  \n",
      "  inflating: OFT/OFT/Output_DLC/4_01_A_190507123718DeepCut_resnet50_Blockcourse1May9shuffle1_1030000.csv  \n",
      "  inflating: OFT/OFT/Output_DLC/57_04_A_190507150030DeepCut_resnet50_Blockcourse1May9shuffle1_1030000.csv  \n",
      "  inflating: OFT/OFT/Output_DLC/17_02_A_190507120259DeepCut_resnet50_Blockcourse1May9shuffle1_1030000.csv  \n",
      "  inflating: OFT/OFT/Output_DLC/37_03_A_190507134213DeepCut_resnet50_Blockcourse1May9shuffle1_1030000.csv  \n",
      "  inflating: OFT/OFT/Output_DLC/43_03_A_190507151557DeepCut_resnet50_Blockcourse1May9shuffle1_1030000.csv  \n",
      "  inflating: OFT/OFT/Output_DLC/53_04_A_190507135800DeepCut_resnet50_Blockcourse1May9shuffle1_1030000.csv  \n",
      "  inflating: OFT/OFT/Output_DLC/3_01_A_190507121945DeepCut_resnet50_Blockcourse1May9shuffle1_1030000.csv  \n",
      "  inflating: OFT/OFT/Output_DLC/14_01_A_190507151530DeepCut_resnet50_Blockcourse1May9shuffle1_1030000.csv  \n",
      "  inflating: OFT/OFT/Output_DLC/45_04_A_190507114741DeepCut_resnet50_Blockcourse1May9shuffle1_1030000.csv  \n",
      "  inflating: OFT/OFT/Output_DLC/35_03_A_190507131135DeepCut_resnet50_Blockcourse1May9shuffle1_1030000.csv  \n",
      "  inflating: OFT/OFT/Output_DLC/47_04_A_190507122047DeepCut_resnet50_Blockcourse1May9shuffle1_1030000.csv  \n",
      "  inflating: OFT/OFT/Output_DLC/23_02_A_190507135734DeepCut_resnet50_Blockcourse1May9shuffle1_1030000.csv  \n",
      "  inflating: OFT/OFT/Output_DLC/38_03_A_190507135747DeepCut_resnet50_Blockcourse1May9shuffle1_1030000.csv  \n",
      "  inflating: OFT/OFT/Output_DLC/15_01_A_190507153142DeepCut_resnet50_Blockcourse1May9shuffle1_1030000.csv  \n",
      "  inflating: OFT/OFT/Output_DLC/58_04_A_190507151611DeepCut_resnet50_Blockcourse1May9shuffle1_1030000.csv  \n",
      "  inflating: OFT/OFT/Output_DLC/20_02_A_190507125529DeepCut_resnet50_Blockcourse1May9shuffle1_1030000.csv  \n",
      "  inflating: OFT/OFT/Output_DLC/44_03_A_190507153213DeepCut_resnet50_Blockcourse1May9shuffle1_1030000.csv  \n",
      "  inflating: OFT/OFT/Output_DLC/48_04_A_190507123817DeepCut_resnet50_Blockcourse1May9shuffle1_1030000.csv  \n",
      "  inflating: OFT/OFT/Output_DLC/25_02_A_190507142904DeepCut_resnet50_Blockcourse1May9shuffle1_1030000.csv  \n",
      "  inflating: OFT/OFT/Output_DLC/1_01_A_190507114629DeepCut_resnet50_Blockcourse1May9shuffle1_1030000.csv  \n",
      "  inflating: OFT/OFT/Output_DLC/16_02_A_190507114646DeepCut_resnet50_Blockcourse1May9shuffle1_1030000.csv  \n",
      "  inflating: OFT/OFT/Output_DLC/51_04_A_190507132728DeepCut_resnet50_Blockcourse1May9shuffle1_1030000.csv  \n",
      "  inflating: OFT/OFT/Output_DLC/11_01_A_190507142850DeepCut_resnet50_Blockcourse1May9shuffle1_1030000.csv  \n",
      "  inflating: OFT/OFT/Output_DLC/31_03_A_190507120320DeepCut_resnet50_Blockcourse1May9shuffle1_1030000.csv  \n",
      "  inflating: OFT/OFT/Output_DLC/18_02_A_190507122004DeepCut_resnet50_Blockcourse1May9shuffle1_1030000.csv  \n"
     ]
    }
   ],
   "source": [
    "#download the data\n",
    "!curl https://transfer.sh/g8t8Vy/OFT.zip -o OFT.zip\n",
    "!apt-get install unzip\n",
    "!unzip OFT.zip -d OFT\n",
    "!mv OFT/OFT/OFT OFT_data"
   ]
  },
  {
   "cell_type": "markdown",
   "metadata": {},
   "source": [
    "Installing `dlc2action`..."
   ]
  },
  {
   "cell_type": "code",
   "execution_count": null,
   "metadata": {},
   "outputs": [],
   "source": [
    "!python -m pip install dlc2action"
   ]
  },
  {
   "cell_type": "code",
   "execution_count": 15,
   "metadata": {},
   "outputs": [],
   "source": [
    "from dlc2action.project import Project\n",
    "import os\n",
    "\n",
    "CURRENT_PATH = os.getcwd()\n",
    "DATA_PATH = os.path.join(CURRENT_PATH, \"OFT_data\", \"Output_DLC\")\n",
    "LABELS_PATH = os.path.join(CURRENT_PATH, \"OFT_data\", \"Labels\")\n",
    "PROJECTS_PATH = os.path.join(CURRENT_PATH, \"DLC2Action\")"
   ]
  },
  {
   "cell_type": "markdown",
   "metadata": {},
   "source": [
    "High-level methods in DLC2Action are almost exclusively accessed through the `dlc2action.project.Project` class. A project instance should loosely correspond to a specific goal (e.g. generating automatic annotations for dataset A with input format X). You can use it to optimize hyperparameters, run experiments, analyze results and generate new data.\n",
    "\n",
    "**Best practices**\n",
    "- When you need to do something with a different data type or unrelated files, it's better to create a new project to keep the experiment history easy to understand.\n",
    "- Each project is associated with a folder on your computer that contains all settings, meta files and experiment outputs. Those folders are created in the folder at `projects_path`. It's generally a good idea to choose one and stick to it throughout projects."
   ]
  },
  {
   "cell_type": "markdown",
   "metadata": {},
   "source": [
    "### Creating a project\n",
    "\n",
    "Let's begin!\n",
    "\n",
    "We will create a project called `\"oft\"`, with `\"dlc_track\"` input and `\"csv\"` annotation format. \n",
    "\n",
    "You can run `Project.print_data_types()` and `Project.print_annotation_types()` to find out more about other options."
   ]
  },
  {
   "cell_type": "code",
   "execution_count": 16,
   "metadata": {},
   "outputs": [],
   "source": [
    "Project.remove_project(\"oft\", projects_path=PROJECTS_PATH)\n",
    "project = Project(\n",
    "    \"oft\",\n",
    "    data_path=DATA_PATH,\n",
    "    annotation_path=LABELS_PATH,\n",
    "    projects_path=PROJECTS_PATH,\n",
    "    data_type=\"dlc_track\",\n",
    "    annotation_type=\"csv\",\n",
    ")"
   ]
  },
  {
   "cell_type": "markdown",
   "metadata": {},
   "source": [
    "Projects have a generalized `help` function."
   ]
  },
  {
   "cell_type": "code",
   "execution_count": 17,
   "metadata": {},
   "outputs": [
    {
     "name": "stdout",
     "output_type": "stream",
     "text": [
      "AVAILABLE HELP FUNCTIONS:\n",
      "- Try running `project.help(keyword)` with the following keywords:\n",
      "    - model: to get more information on available models,\n",
      "    - features: to get more information on available feature extraction modes,\n",
      "    - partition_method: to get more information on available train/test/val partitioning methods,\n",
      "    - metrics: to see a list of available metric functions.\n",
      "    - data: to see help for expected data structure\n",
      "- To start working with this project, first run `project.list_blanks()` to check which parameters need to be filled in.\n",
      "- After a model and metrics are set, run `project.list_basic_parameters()` to see a list of the most important parameters that you might want to modify\n",
      "- If you want to dig deeper, get the full dictionary with project._read_parameters() (it is a `ruamel.yaml.comments.CommentedMap` instance).\n",
      "\n",
      "\n"
     ]
    }
   ],
   "source": [
    "project.help()"
   ]
  },
  {
   "cell_type": "code",
   "execution_count": 18,
   "metadata": {},
   "outputs": [
    {
     "name": "stdout",
     "output_type": "stream",
     "text": [
      "DATA TYPES:\n",
      "dlc_tracklet:\n",
      "\n",
      "    DLC tracklet data\n",
      "\n",
      "    Assumes the following file structure:\n",
      "    ```\n",
      "    data_path\n",
      "    ├── video1DLC1000.pickle\n",
      "    ├── video2DLC400.pickle\n",
      "    ├── video1_features.pt\n",
      "    └── video2_features.pt\n",
      "    ```\n",
      "    Here `data_suffix` is `{'DLC1000.pickle', 'DLC400.pickle'}` and `feature_suffix` (optional) is `'_features.pt'`.\n",
      "\n",
      "    The feature files should to be dictionaries where keys are clip IDs (e.g. animal names) and values are\n",
      "    feature values (arrays of shape `(#frames, #features)`). If the arrays are shaped as `(#features, #frames)`,\n",
      "    set `transpose_features` to `True`.\n",
      "\n",
      "    The files can be saved with `numpy.save()` (with `.npy` extension), `torch.save()` (with `.pt` extension) or\n",
      "    with `pickle.dump()` (with `.pickle` or `.pkl` extension).\n",
      "    \n",
      "dlc_track:\n",
      "\n",
      "    DLC track data\n",
      "\n",
      "    Assumes the following file structure:\n",
      "    ```\n",
      "    data_path\n",
      "    ├── video1DLC1000.pickle\n",
      "    ├── video2DLC400.pickle\n",
      "    ├── video1_features.pt\n",
      "    └── video2_features.pt\n",
      "    ```\n",
      "    Here `data_suffix` is `{'DLC1000.pickle', 'DLC400.pickle'}` and `feature_suffix` (optional) is `'_features.pt'`.\n",
      "\n",
      "    The feature files should to be dictionaries where keys are clip IDs (e.g. animal names) and values are\n",
      "    feature values (arrays of shape `(#frames, #features)`). If the arrays are shaped as `(#features, #frames)`,\n",
      "    set `transpose_features` to `True`.\n",
      "\n",
      "    The files can be saved with `numpy.save()` (with `.npy` extension), `torch.save()` (with `.pt` extension) or\n",
      "    with `pickle.dump()` (with `.pickle` or `.pkl` extension).\n",
      "    \n",
      "pku-mmd:\n",
      "\n",
      "    PKU-MMD data\n",
      "\n",
      "    Assumes the following file structure:\n",
      "    ```\n",
      "    data_path\n",
      "    ├── 0073-R.txt\n",
      "    ...\n",
      "    └── 0274-L.txt\n",
      "    ```\n",
      "    \n",
      "calms21:\n",
      "\n",
      "    CalMS21 data\n",
      "\n",
      "    Use the `'random:test_from_name:{name}'` and `'val-from-name:{val_name}:test-from-name:{test_name}'`\n",
      "    partitioning methods with `'train'`, `'test'` and `'unlabeled'` names to separate into train, test and validation\n",
      "    subsets according to the original files. For example, with `'val-from-name:test:test-from-name:unlabeled'`\n",
      "    the data from the test file will go into validation and the unlabeled files will be the test.\n",
      "\n",
      "    Assumes the following file structure:\n",
      "    ```\n",
      "    data_path\n",
      "    ├── calms21_task1_train.npy\n",
      "    ├── calms21_task1_test.npy\n",
      "    ├── calms21_task1_test_features.npy\n",
      "    ├── calms21_task1_test_features.npy\n",
      "    ├── calms21_unlabeled_videos_part1.npy\n",
      "    ├── calms21_unlabeled_videos_part1.npy\n",
      "    ├── calms21_unlabeled_videos_part2.npy\n",
      "    └── calms21_unlabeled_videos_part3.npy\n",
      "    ```\n",
      "    \n",
      "np_3d:\n",
      "\n",
      "    3D data\n",
      "\n",
      "    Assumes the data files to be `numpy` arrays saved in `.npy` format with shape `(#frames, #keypoints, 3)`.\n",
      "\n",
      "    Assumes the following file structure:\n",
      "    ```\n",
      "    data_path\n",
      "    ├── video1_suffix1.npy\n",
      "    ├── video2_suffix2.npy\n",
      "    ├── video1_features.pt\n",
      "    └── video2_features.pt\n",
      "    ```\n",
      "    Here `data_suffix` is `{'_suffix1.npy', '_suffix1.npy'}` and `feature_suffix` (optional) is `'_features.pt'`.\n",
      "\n",
      "    The feature files should to be dictionaries where keys are clip IDs (e.g. animal names) and values are\n",
      "    feature values (arrays of shape `(#frames, #features)`). If the arrays are shaped as `(#features, #frames)`,\n",
      "    set `transpose_features` to `True`.\n",
      "\n",
      "    The files can be saved with `numpy.save()` (with `.npy` extension), `torch.save()` (with `.pt` extension) or\n",
      "    with `pickle.dump()` (with `.pickle` or `.pkl` extension).\n",
      "    \n",
      "features:\n",
      "\n",
      "    Non-pose feature files\n",
      "\n",
      "    The feature files should to be dictionaries where keys are clip IDs (e.g. animal names) and values are\n",
      "    feature values (arrays of shape `(#frames, #features)`). If the arrays are shaped as `(#features, #frames)`,\n",
      "    set `transpose_features` to `True`.\n",
      "\n",
      "    The files can be saved with `numpy.save()` (with `.npy` extension), `torch.save()` (with `.pt` extension) or\n",
      "    with `pickle.dump()` (with `.pickle` or `.pkl` extension).\n",
      "\n",
      "    Assumes the following file structure:\n",
      "    ```\n",
      "    data_path\n",
      "    ├── video1_features.pt\n",
      "    └── video2_features.pt\n",
      "    ```\n",
      "    Here `feature_suffix` (optional) is `'_features.pt'`.\n",
      "    \n",
      "simba:\n",
      "\n",
      "    SIMBA paper format data\n",
      "\n",
      "     Assumes the following file structure\n",
      "\n",
      "     ```\n",
      "     data_path\n",
      "     ├── Video1.csv\n",
      "     ...\n",
      "     └── Video9.csv\n",
      "     ```\n",
      "     Here `data_suffix` is `.csv`.\n",
      "    \n"
     ]
    }
   ],
   "source": [
    "Project.print_data_types()"
   ]
  },
  {
   "cell_type": "markdown",
   "metadata": {},
   "source": [
    "Let's start by checking if our files are organized correctly."
   ]
  },
  {
   "cell_type": "code",
   "execution_count": 19,
   "metadata": {},
   "outputs": [
    {
     "name": "stdout",
     "output_type": "stream",
     "text": [
      "DATA:\n",
      "Video data: dlc_track\n",
      "\n",
      "    DLC track data\n",
      "\n",
      "    Assumes the following file structure:\n",
      "    ```\n",
      "    data_path\n",
      "    ├── video1DLC1000.pickle\n",
      "    ├── video2DLC400.pickle\n",
      "    ├── video1_features.pt\n",
      "    └── video2_features.pt\n",
      "    ```\n",
      "    Here `data_suffix` is `{'DLC1000.pickle', 'DLC400.pickle'}` and `feature_suffix` (optional) is `'_features.pt'`.\n",
      "\n",
      "    The feature files should to be dictionaries where keys are clip IDs (e.g. animal names) and values are\n",
      "    feature values (arrays of shape `(#frames, #features)`). If the arrays are shaped as `(#features, #frames)`,\n",
      "    set `transpose_features` to `True`.\n",
      "\n",
      "    The files can be saved with `numpy.save()` (with `.npy` extension), `torch.save()` (with `.pt` extension) or\n",
      "    with `pickle.dump()` (with `.pickle` or `.pkl` extension).\n",
      "    \n",
      "Annotation data: csv\n",
      "\n",
      "    CSV type annotation data\n",
      "\n",
      "    Assumes that files are saved as .csv tables with at least the following columns:\n",
      "    - from / start : start of action,\n",
      "    - to / end : end of action,\n",
      "    - class / behavior / behaviour / label / type : action label.\n",
      "\n",
      "    If the times are set in seconds instead of frames, don't forget to set the `fps` parameter to your frame rate.\n",
      "\n",
      "    Assumes the following file structure:\n",
      "    ```\n",
      "    annotation_path\n",
      "    ├── video1_annotation.csv\n",
      "    └── video2_labels.csv\n",
      "    ```\n",
      "    Here `annotation_suffix` is `{'_annotation.csv', '_labels.csv'}`.\n",
      "    \n",
      "Annotation path and data path don't have to be separate, you can keep everything in one folder.\n",
      "\n",
      "\n"
     ]
    }
   ],
   "source": [
    "project.help(\"data\")"
   ]
  },
  {
   "cell_type": "markdown",
   "metadata": {},
   "source": [
    "## Setting parameters"
   ]
  },
  {
   "cell_type": "markdown",
   "metadata": {},
   "source": [
    "After the data structure is sorted out, it's time to configure the parameter settings. \n",
    "\n",
    "Every project keeps fixed settings written in configuration files in the project folder. When you want to change something, you have two options: modifying the configuration files so that this new value becomes the default (with `project.set_main_parameters` or `project.update_parameters`) or passing a `parameters_update` argument to your function so that the settings only change for this run.\n",
    "\n",
    "We will start with setting the defaults.\n",
    "\n",
    "As we saw in the help message, the first step is checking which essential parameters are missing with `project.list_blanks()`"
   ]
  },
  {
   "cell_type": "code",
   "execution_count": 20,
   "metadata": {},
   "outputs": [
    {
     "name": "stdout",
     "output_type": "stream",
     "text": [
      "Before running experiments, please update all the blanks.\n",
      "To do that, you can run this.\n",
      "--------------------------------------------------------\n",
      "project.update_parameters(\n",
      "    {\n",
      "        \"data\": {\n",
      "            \"data_suffix\": ..., # set; the data files should have the format of {video_id}{data_suffix}, e.g. video1_suffix.pickle, where video1 is the video is and _suffix.pickle is the suffix\n",
      "            \"canvas_shape\": ..., # list; the size of the canvas where the pose was defined\n",
      "            \"annotation_suffix\": ..., # str | set, optional the suffix or the set of suffices such that the annotation files are named {video_id}{annotation_suffix}, e.g, video1_suffix.pickle where video1 is the video id and _suffix.pickle is the suffix\n",
      "            \"fps\": ..., # int; fps (assuming the annotations are given in seconds, otherwise set any value)\n",
      "        },\n",
      "        \"general\": {\n",
      "            \"exclusive\": ..., # bool; if true, single-label classification is used; otherwise multi-label\n",
      "        },\n",
      "    }\n",
      ")\n",
      "--------------------------------------------------------\n",
      "Replace ... with relevant values.\n"
     ]
    }
   ],
   "source": [
    "project.list_blanks()"
   ]
  },
  {
   "cell_type": "markdown",
   "metadata": {},
   "source": [
    "We can copy this code, fill in the information and run it."
   ]
  },
  {
   "cell_type": "code",
   "execution_count": 21,
   "metadata": {},
   "outputs": [],
   "source": [
    "project.update_parameters(\n",
    "    {\n",
    "        \"data\": {\n",
    "            \"data_suffix\": \"DeepCut_resnet50_Blockcourse1May9shuffle1_1030000.csv\", # set; the data files should have the format of {video_id}{data_suffix}, e.g. video1_suffix.pickle, where video1 is the video is and _suffix.pickle is the suffix\n",
    "            \"canvas_shape\": [928, 576], # list; the size of the canvas where the pose was defined\n",
    "            \"annotation_suffix\": \".csv\", # str | set, optional the suffix or the set of suffices such that the annotation files are named {video_id}{annotation_suffix}, e.g, video1_suffix.pickle where video1 is the video id and _suffix.pickle is the suffix\n",
    "            \"fps\": 25 # int; fps (assuming the annotations are given in seconds, otherwise set any value)\n",
    "        },\n",
    "        \"general\": {\n",
    "            \"exclusive\": True, # bool; if true, single-label classification is used; otherwise multi-label\n",
    "        },\n",
    "    }\n",
    ")"
   ]
  },
  {
   "cell_type": "markdown",
   "metadata": {},
   "source": [
    "Now we're all set and can start training models. However, we can take an extra step and check out what other parameters are available."
   ]
  },
  {
   "cell_type": "markdown",
   "metadata": {},
   "source": [
    "Note that this function is only showing us the parameters for the metric functions and the model that are selected as default at the moment. If you want to see what parameters there are for other models and metrics, try setting them first with `project.set_main_parameters()` or with `project.update_parameters()`."
   ]
  },
  {
   "cell_type": "code",
   "execution_count": 22,
   "metadata": {},
   "outputs": [
    {
     "name": "stdout",
     "output_type": "stream",
     "text": [
      "BASIC PARAMETERS:\n",
      "Here is a list of current parameters.\n",
      "You can copy this code, change the parameters you want to set and run it to update the project config.\n",
      "--------------------------------------------------------\n",
      "project.update_parameters(\n",
      "    {\n",
      "        \"general\": {\n",
      "            \"model_name\": \"c2f_tcn\", # str; model name (run project.help(\"model\") for more info)\n",
      "            \"metric_functions\": {'precision', 'recall', 'f1'}, # set; set of metric names (run project.help(\"metrics\") for more info)\n",
      "            \"ignored_clips\": None, # list; a list of string clip ids (agent names) to be ignored\n",
      "            \"len_segment\": 512, # int; the length of segments (in frames) to cut the videos into\n",
      "            \"overlap\": 0.75, # int; the overlap (in frames) between neighboring segments\n",
      "            \"interactive\": False, # bool; if true, annotations are assigned and features are computed for pairs of clips (animals)\n",
      "        },\n",
      "        \"data\": {\n",
      "            \"data_suffix\": \"DeepCut_resnet50_Blockcourse1May9shuffle1_1030000.csv\", # set; the data files should have the format of {video_id}{data_suffix}, e.g. video1_suffix.pickle, where video1 is the video is and _suffix.pickle is the suffix\n",
      "            \"feature_suffix\": None, # str; the feature files should be stored in the data folder and named {video_id}{feature_suffix}\n",
      "            \"annotation_suffix\": \".csv\", # str | set, optional the suffix or the set of suffices such that the annotation files are named {video_id}{annotation_suffix}, e.g, video1_suffix.pickle where video1 is the video id and _suffix.pickle is the suffix\n",
      "            \"canvas_shape\": [928, 576], # list; the size of the canvas where the pose was defined\n",
      "            \"ignored_bodyparts\": None, # set; the set of string names of bodyparts to ignore\n",
      "            \"likelihood_threshold\": 0, # float; coordinates with lower likelihood values will be ignored\n",
      "            \"behaviors\": None, # set; the behaviors to predict (if null, if will be inferred from the data; !!PLEASE SET IT MANUALLY if different files can have different behavior sets!!)\n",
      "            \"filter_annotated\": True, # bool; discard long unannotated intervals during training\n",
      "            \"filter_background\": True, # bool; only label frames as background if a behavior is annotated somewhere close\n",
      "            \"visibility_min_score\": 0, # float; the minimum visibility score for visibility filtering\n",
      "            \"visibility_min_frac\": 0, # float; the minimum fraction of visible frames for visibility filtering\n",
      "        },\n",
      "        \"training\": {\n",
      "            \"lr\": 0.001, # float; learning rate\n",
      "            \"device\": \"auto\", # str; device\n",
      "            \"num_epochs\": 50, # int; number of epochs\n",
      "            \"to_ram\": False, # bool; transfer the dataset to RAM for training (preferred if the dataset fits in working memory)\n",
      "            \"batch_size\": 64, # int; batch size\n",
      "            \"normalize\": True, # bool; if true, normalization statistics will be computed on the training set and applied to all data\n",
      "            \"temporal_subsampling_size\": 0.85, # float; this fraction of frames in each segment is randomly sampled at training time\n",
      "            \"parallel\": False, # bool; if true, the model will be trained on all gpus visible in the system (use os.environ[“CUDA_VISIBLE_DEVICES”] =“{indices}” to exclude gpus in this mode)\n",
      "\n",
      "#losses\n",
      "            \"val_frac\": 0.2, # float; fraction of dataset to use as validation\n",
      "            \"test_frac\": 0, # float; fraction of dataset to use as test\n",
      "            \"partition_method\": \"random\", # str; the train/test/val partitioning method (for more info run project.help(\"partition_method\"))\n",
      "        },\n",
      "        \"losses\": {\n",
      "            \"ms_tcn\": {\n",
      "                \"focal\": True, # bool; if True, focal loss will be used\n",
      "                \"gamma\": 2, # float; the gamma parameter of focal loss\n",
      "                \"alpha\": 0.001, # float; the weight of consistency loss\n",
      "            },\n",
      "        },\n",
      "        \"metrics\": {\n",
      "            \"f1\": {\n",
      "                \"average\": \"macro\", # ['macro', 'micro', 'none']; averaging method for classes\n",
      "                \"ignored_classes\": None, # set; a set of class ids to ignore in calculation\n",
      "                \"threshold_value\": 0.5, # float; the probability threshold for positive samples\n",
      "            },\n",
      "            \"recall\": {\n",
      "                \"average\": \"macro\", # ['macro', 'micro', 'none']; averaging method for classes\n",
      "                \"ignored_classes\": None, # set; a set of class ids to ignore in calculation\n",
      "                \"threshold_value\": 0.5, # float; the probability threshold for positive samples\n",
      "            },\n",
      "            \"precision\": {\n",
      "                \"average\": \"macro\", # ['macro', 'micro', 'none']; averaging method for classes\n",
      "                \"ignored_classes\": None, # set; a set of class ids to ignore in calculation\n",
      "                \"threshold_value\": 0.5, # float; the probability threshold for positive samples\n",
      "            },\n",
      "        },\n",
      "        \"model\": {\n",
      "            \"num_f_maps\": 128, # int; number of maps\n",
      "            \"feature_dim\": None, # int; if not null, intermediate features are generated with this dimension and then passed to a 2-layer MLP for classification (useful for SSL)\n",
      "        },\n",
      "        \"features\": {\n",
      "            \"keys\": None, # set; a list of names of the features to extract (a subset of available keys; run project.help(\"features\") for more info)\n",
      "            \"averaging_window\": 1, # int; if >1, features are averaged with a moving window of this size (in frames)\n",
      "            \"distance_pairs\": None, # list; a list of bodypart name tuples (e.g. `[(\"tail\", \"nose\")]`) to compute distances for when `\"intra_distance\"` is in `keys` (by default all distances are computed)\n",
      "            \"angle_pairs\": None, # list; a list of bodypart name tuples (e.g. `[(\"ear1\", \"nose\", \"ear2\")]`) for the angle between `\"ear1\"--\"nose\"` and `\"nose\"--\"ear2\"` lines) to compute angle cosines for when `\"angles\"` is in `keys` (by default no angles are computed)\n",
      "            \"zone_vertices\": None, # dict; a dictionary of bodypart name tuples of any length >= 3 that define zones for `\"zone_bools\"`and `\"zone_distances\"` features; keys should be zone names and values should be tuples that define the polygons (e.g. `{\"main_area\": (\"x_min\", \"x_max\", \"y_max\", \"y_min\"))}`)\n",
      "            \"zone_bools\": None, # list; a list of zone and bodypart name tuples to compute binary identifiers for (1 if an animal is within the polygon or 0 if it's outside) (e.g. `[(\"main_area\", \"nose\")]`); the zones should be defined in the `zone_vertices` parameter; this is only computed if `\"zone_bools\"` is in `keys`\n",
      "            \"zone_distances\": None, # list; a list of zone and bodypart name tuples to compute distances for (distance from the bodypart to the closest of the boundaries) (e.g. `[(\"main_area\", \"nose\")]`); the zones should be defined in the `zone_vertices` parameter; this is only computed if `\"zone_distances\"` is in `keys`\n",
      "            \"area_vertices\": None, # list; a list of bodypart name tuples of any length >= 3 (e.g. `[(\"ear1\", \"nose\", \"ear2\", \"spine1\")]`) that define polygons to compute areas for when `\"areas\"` is in `keys` (by default no areas are computed)\n",
      "        },\n",
      "        \"augmentations\": {\n",
      "            \"augmentations\": {'add_noise'}, # set; a set of augmentations that can be applied to your data without losing information (choose any number from 'rotate', 'real_lens', 'add_noise', 'shift', 'zoom', 'mirror', 'switch', e.g. {'add_noise'. 'mirror'})\n",
      "            \"rotation_limits\": [-1.57, 1.57], # list; list of rotation angle limits in radians ([low, high])\n",
      "            \"mirror_dim\": {0}, # set; set of dimensions that can be mirrored (0 for x, 1 for y, 2 for z)\n",
      "            \"noise_std\": 0.003, # float; standard deviation of noise\n",
      "            \"zoom_limits\": [0.5, 1.5], # list; list of float zoom limits ([low, high])\n",
      "            \"masking_probability\": 0.1, # float; the probability of masking a joint\n",
      "        },\n",
      "    },\n",
      ")\n",
      "--------------------------------------------------------\n",
      "\n",
      "\n"
     ]
    }
   ],
   "source": [
    "project.list_basic_parameters()"
   ]
  },
  {
   "cell_type": "markdown",
   "metadata": {},
   "source": [
    "We can copy this into a code cell to make it easier to read."
   ]
  },
  {
   "cell_type": "code",
   "execution_count": 23,
   "metadata": {},
   "outputs": [],
   "source": [
    "project.update_parameters(\n",
    "    {\n",
    "        \"general\": {\n",
    "            \"model_name\": \"c2f_tcn\", # str; model name (run project.help(\"model\") for more info)\n",
    "            \"metric_functions\": {'precision', 'recall', 'f1'}, # set; set of metric names (run project.help(\"metrics\") for more info)\n",
    "            \"ignored_clips\": None, # list; a list of string clip ids (agent names) to be ignored\n",
    "            \"len_segment\": 512, # int; the length of segments (in frames) to cut the videos into\n",
    "            \"overlap\": 0.75, # int; the overlap (in frames) between neighboring segments\n",
    "            \"interactive\": False, # bool; if true, annotations are assigned and features are computed for pairs of clips (animals)\n",
    "        },\n",
    "        \"data\": {\n",
    "            \"data_suffix\": \"DeepCut_resnet50_Blockcourse1May9shuffle1_1030000.csv\", # set; the data files should have the format of {video_id}{data_suffix}, e.g. video1_suffix.pickle, where video1 is the video is and _suffix.pickle is the suffix\n",
    "            \"feature_suffix\": None, # str; the feature files should be stored in the data folder and named {video_id}{feature_suffix}\n",
    "            \"annotation_suffix\": \".csv\", # str | set, optional the suffix or the set of suffices such that the annotation files are named {video_id}{annotation_suffix}, e.g, video1_suffix.pickle where video1 is the video id and _suffix.pickle is the suffix\n",
    "            \"canvas_shape\": [928, 576], # list; the size of the canvas where the pose was defined\n",
    "            \"ignored_bodyparts\": None, # set; the set of string names of bodyparts to ignore\n",
    "            \"likelihood_threshold\": 0, # float; coordinates with lower likelihood values will be ignored\n",
    "            \"behaviors\": None, # set; the behaviors to predict (if null, if will be inferred from the data; !!PLEASE SET IT MANUALLY if different files can have different behavior sets!!)\n",
    "            \"filter_annotated\": True, # bool; discard long unannotated intervals during training\n",
    "            \"filter_background\": True, # bool; only label frames as background if a behavior is annotated somewhere close\n",
    "            \"visibility_min_score\": 0, # float; the minimum visibility score for visibility filtering\n",
    "            \"visibility_min_frac\": 0, # float; the minimum fraction of visible frames for visibility filtering\n",
    "        },\n",
    "        \"training\": {\n",
    "            \"lr\": 0.001, # float; learning rate\n",
    "            \"device\": \"auto\", # str; device\n",
    "            \"num_epochs\": 50, # int; number of epochs\n",
    "            \"to_ram\": False, # bool; transfer the dataset to RAM for training (preferred if the dataset fits in working memory)\n",
    "            \"batch_size\": 64, # int; batch size\n",
    "            \"normalize\": True, # bool; if true, normalization statistics will be computed on the training set and applied to all data\n",
    "            \"temporal_subsampling_size\": 0.85, # float; this fraction of frames in each segment is randomly sampled at training time\n",
    "            \"parallel\": False, # bool; if true, the model will be trained on all gpus visible in the system (use os.environ[“CUDA_VISIBLE_DEVICES”] =“{indices}” to exclude gpus in this mode)\n",
    "            \"val_frac\": 0.2, # float; fraction of dataset to use as validation\n",
    "            \"test_frac\": 0, # float; fraction of dataset to use as test\n",
    "            \"partition_method\": \"random\", # str; the train/test/val partitioning method (for more info run project.help(\"partition_method\"))\n",
    "        },\n",
    "        \"losses\": {\n",
    "            \"ms_tcn\": {\n",
    "                \"focal\": True, # bool; if True, focal loss will be used\n",
    "                \"gamma\": 2, # float; the gamma parameter of focal loss\n",
    "                \"alpha\": 0.001, # float; the weight of consistency loss\n",
    "            },\n",
    "        },\n",
    "        \"metrics\": {\n",
    "            \"f1\": {\n",
    "                \"average\": \"macro\", # ['macro', 'micro', 'none']; averaging method for classes\n",
    "                \"ignored_classes\": None, # set; a set of class ids to ignore in calculation\n",
    "                \"threshold_value\": 0.5, # float; the probability threshold for positive samples\n",
    "            },\n",
    "            \"recall\": {\n",
    "                \"average\": \"macro\", # ['macro', 'micro', 'none']; averaging method for classes\n",
    "                \"ignored_classes\": None, # set; a set of class ids to ignore in calculation\n",
    "                \"threshold_value\": 0.5, # float; the probability threshold for positive samples\n",
    "            },\n",
    "            \"precision\": {\n",
    "                \"average\": \"macro\", # ['macro', 'micro', 'none']; averaging method for classes\n",
    "                \"ignored_classes\": None, # set; a set of class ids to ignore in calculation\n",
    "                \"threshold_value\": 0.5, # float; the probability threshold for positive samples\n",
    "            },\n",
    "        },\n",
    "        \"model\": {\n",
    "            \"num_f_maps\": 128, # int; number of maps\n",
    "            \"feature_dim\": None, # int; if not null, intermediate features are generated with this dimension and then passed to a 2-layer MLP for classification (useful for SSL)\n",
    "        },\n",
    "        \"features\": {\n",
    "            \"keys\": None, # set; a list of names of the features to extract (a subset of available keys; run project.help(\"features\") for more info)\n",
    "            \"averaging_window\": 1, # int; if >1, features are averaged with a moving window of this size (in frames)\n",
    "            \"distance_pairs\": None, # list; a list of bodypart name tuples (e.g. `[(\"tail\", \"nose\")]`) to compute distances for when `\"intra_distance\"` is in `keys` (by default all distances are computed)\n",
    "            \"angle_pairs\": None, # list; a list of bodypart name tuples (e.g. `[(\"ear1\", \"nose\", \"ear2\")]`) for the angle between `\"ear1\"--\"nose\"` and `\"nose\"--\"ear2\"` lines) to compute angle cosines for when `\"angles\"` is in `keys` (by default no angles are computed)\n",
    "            \"zone_vertices\": None, # dict; a dictionary of bodypart name tuples of any length >= 3 that define zones for `\"zone_bools\"`and `\"zone_distances\"` features; keys should be zone names and values should be tuples that define the polygons (e.g. `{\"main_area\": (\"x_min\", \"x_max\", \"y_max\", \"y_min\"))}`)\n",
    "            \"zone_bools\": None, # list; a list of zone and bodypart name tuples to compute binary identifiers for (1 if an animal is within the polygon or 0 if it's outside) (e.g. `[(\"main_area\", \"nose\")]`); the zones should be defined in the `zone_vertices` parameter; this is only computed if `\"zone_bools\"` is in `keys`\n",
    "            \"zone_distances\": None, # list; a list of zone and bodypart name tuples to compute distances for (distance from the bodypart to the closest of the boundaries) (e.g. `[(\"main_area\", \"nose\")]`); the zones should be defined in the `zone_vertices` parameter; this is only computed if `\"zone_distances\"` is in `keys`\n",
    "            \"area_vertices\": None, # list; a list of bodypart name tuples of any length >= 3 (e.g. `[(\"ear1\", \"nose\", \"ear2\", \"spine1\")]`) that define polygons to compute areas for when `\"areas\"` is in `keys` (by default no areas are computed)\n",
    "        },\n",
    "        \"augmentations\": {\n",
    "            \"augmentations\": {'add_noise'}, # set; a set of augmentations that can be applied to your data without losing information (choose any number from 'rotate', 'real_lens', 'add_noise', 'shift', 'zoom', 'mirror', 'switch', e.g. {'add_noise'. 'mirror'})\n",
    "            \"rotation_limits\": [-1.57, 1.57], # list; list of rotation angle limits in radians ([low, high])\n",
    "            \"mirror_dim\": {0}, # set; set of dimensions that can be mirrored (0 for x, 1 for y, 2 for z)\n",
    "            \"noise_std\": 0.003, # float; standard deviation of noise\n",
    "            \"zoom_limits\": [0.5, 1.5], # list; list of float zoom limits ([low, high])\n",
    "            \"masking_probability\": 0.1, # float; the probability of masking a joint\n",
    "        },\n",
    "    },\n",
    ")"
   ]
  },
  {
   "cell_type": "markdown",
   "metadata": {},
   "source": [
    "Let's see what the options are for metrics and models."
   ]
  },
  {
   "cell_type": "code",
   "execution_count": 24,
   "metadata": {},
   "outputs": [
    {
     "name": "stdout",
     "output_type": "stream",
     "text": [
      "MODELS:\n",
      "asformer:\n",
      "\n",
      "    An implementation of ASFormer\n",
      "    \n",
      "mlp:\n",
      "\n",
      "    A Multi-Layer Perceptron\n",
      "    \n",
      "c2f_tcn:\n",
      "\n",
      "    An implementation of C2F-TCN\n",
      "\n",
      "    Requires the `\"general/len_segment\"` parameter to be at least 512\n",
      "    \n",
      "edtcn:\n",
      "\n",
      "    An implementation of EDTCN (Endoder-Decoder TCN)\n",
      "    \n",
      "transformer:\n",
      "\n",
      "    A modification of Transformer-Encoder with additional max-pooling and upsampling\n",
      "\n",
      "    Set `num_pool` to 0 to get a standart transformer-encoder.\n",
      "    \n",
      "\n",
      "\n",
      "METRICS:\n",
      "accuracy:\n",
      "\n",
      "    Accuracy\n",
      "    \n",
      "precision:\n",
      "\n",
      "    Precision\n",
      "    \n",
      "f1:\n",
      "\n",
      "    F1 score\n",
      "    \n",
      "recall:\n",
      "\n",
      "    Recall\n",
      "    \n",
      "count:\n",
      "\n",
      "    Fraction of samples labeled by the model as a class\n",
      "    \n",
      "segmental_precision:\n",
      "\n",
      "    Segmental precision (not advised for training)\n",
      "    \n",
      "segmental_recall:\n",
      "\n",
      "    Segmental recall (not advised for training)\n",
      "    \n",
      "segmental_f1:\n",
      "\n",
      "    Segmental F1 score (not advised for training)\n",
      "    \n",
      "edit_distance:\n",
      "\n",
      "    Edit distance (not advised for training)\n",
      "\n",
      "    Normalized by the length of the sequences\n",
      "    \n",
      "f_beta:\n",
      "\n",
      "    F-beta score\n",
      "    \n",
      "segmental_f_beta:\n",
      "\n",
      "    Segmental F-beta score (not advised for training)\n",
      "    \n",
      "semisegmental_precision:\n",
      "\n",
      "    Semi-segmental precision (not advised for training)\n",
      "\n",
      "    A metric in-between segmental and frame-wise precision.\n",
      "\n",
      "    This metric follows the following algorithm:\n",
      "    1) smooth over too-short intervals, both in ground truth and in prediction (first remove\n",
      "        groups of zeros shorter than `smooth_interval` and then do the same with groups of ones),\n",
      "    2) add `delta` frames to each predicted interval at both ends and count the number of ground truth\n",
      "        positive frames at the resulting intervals (intersection),\n",
      "    3) calculate the threshold for each interval as\n",
      "        `t = sigmoid(4 * (a * x + b)) * (iou_threshold_long - iou_threshold_short))`, where\n",
      "        `a = 2 / (long_length - short_length)`, `b = 1 - a * long_length`, `x` is the length of the interval\n",
      "        before `delta` was added,\n",
      "    4) for each interval, if intersection is higher than `t * x`, the interval is labeled as true positive (`TP`),\n",
      "        and otherwise as false positive (`FP`),\n",
      "    5) the final metric value is computed as `TP / (TP + FP)`.\n",
      "    \n",
      "semisegmental_recall:\n",
      "\n",
      "    Semi-segmental recall (not advised for training)\n",
      "\n",
      "    A metric in-between segmental and frame-wise recall.\n",
      "\n",
      "    This metric follows the following algorithm:\n",
      "    1) smooth over too-short intervals, both in ground truth and in prediction (first remove\n",
      "        groups of zeros shorter than `smooth_interval` and then do the same with groups of ones),\n",
      "    2) add `delta` frames to each ground truth interval at both ends and count the number of predicted\n",
      "        positive frames at the resulting intervals (intersection),\n",
      "    3) calculate the threshold for each interval as\n",
      "        `t = sigmoid(4 * (a * x + b)) * (iou_threshold_long - iou_threshold_short))`, where\n",
      "        `a = 2 / (long_length - short_length)`, `b = 1 - a * long_length`, `x` is the length of the interval\n",
      "        before `delta` was added,\n",
      "    4) for each interval, if intersection is higher than `t * x`, the interval is labeled as true positive (`TP`),\n",
      "        and otherwise as false negative (`FN`),\n",
      "    5) the final metric value is computed as `TP / (TP + FN)`.\n",
      "    \n",
      "semisegmental_f1:\n",
      "\n",
      "    The F1 score for semi-segmental recall and precision (not advised for training)\n",
      "    \n",
      "pr-auc:\n",
      "\n",
      "    Area under precision-recall curve (not advised for training)\n",
      "    \n",
      "semisegmental_pr-auc:\n",
      "\n",
      "    The area under the precision-recall curve for semi-segmental metrics (not advised for training)\n",
      "    \n",
      "mAP:\n",
      "\n",
      "    Mean average precision (segmental) (not advised for training)\n",
      "    \n",
      "\n",
      "\n"
     ]
    }
   ],
   "source": [
    "project.help(\"model\")\n",
    "project.help(\"metrics\")"
   ]
  },
  {
   "cell_type": "markdown",
   "metadata": {},
   "source": [
    "Which models and metrics do you want to try out?\n",
    "\n",
    "You can choose any metrics but the code will run much faster if you avoid those marked \"not advisable for training\". We can compute those later with a trained model."
   ]
  },
  {
   "cell_type": "code",
   "execution_count": 25,
   "metadata": {},
   "outputs": [],
   "source": [
    "MODEL_NAME1 = \"c2f_tcn\"\n",
    "MODEL_NAME2 = \"transformer\"\n",
    "METRICS = [\"f1\", \"precision\"]"
   ]
  },
  {
   "cell_type": "markdown",
   "metadata": {},
   "source": [
    "We will configure the metrics in the default parameters, as well as a smaller number of epochs. The model will be updated in each experiment independently, since we want to try out more than one. We will also set the classes that we want to ignore here."
   ]
  },
  {
   "cell_type": "code",
   "execution_count": 26,
   "metadata": {},
   "outputs": [],
   "source": [
    "project.update_parameters(\n",
    "    {\n",
    "        \"general\": {\"metric_functions\": METRICS},\n",
    "        \"training\": {\"num_epochs\": 10},\n",
    "        \"data\": {\"ignored_classes\": [\"StartEnd\", \"_DEFAULT\"]}\n",
    "    }\n",
    ")"
   ]
  },
  {
   "cell_type": "markdown",
   "metadata": {},
   "source": [
    "All done! Now we're ready to run experiments. "
   ]
  },
  {
   "cell_type": "markdown",
   "metadata": {},
   "source": [
    "## Hyperparameter search"
   ]
  },
  {
   "cell_type": "markdown",
   "metadata": {},
   "source": [
    "There are many hyperparameters in model training, like the number of layers in a model or loss coefficients. The default settings for those parameters should generate reasonable results on most datasets but in order to get the most out of our data we can run a hyperparameter search.\n",
    "\n",
    "Searches in `DLC2Action` use the `optuna` auto-ML package to sample the hyperpameter space efficiently and save time on trials that go badly from the beginning. \n",
    "\n",
    "There are two methods for running a search: `project.run_hyperparameter_search()` and `project.run_default_hyperparameter_search()`. As you might have guessed from the names, the second method will just load the default set of parameters for a given model while the first allows you to optimize whatever you want. For the vast majority of cases `project.run_default_hyperparameter_search()` should be enough, so that is what we will use in thi tutorial."
   ]
  },
  {
   "cell_type": "code",
   "execution_count": 27,
   "metadata": {},
   "outputs": [
    {
     "name": "stdout",
     "output_type": "stream",
     "text": [
      "SEARCH c2f_tcn_search\n"
     ]
    },
    {
     "name": "stderr",
     "output_type": "stream",
     "text": [
      "\u001b[32m[I 2022-11-17 03:44:03,349]\u001b[0m A new study created in memory with name: no-name-137c4615-da68-450a-9c1b-3fe3b1870c30\u001b[0m\n"
     ]
    },
    {
     "name": "stdout",
     "output_type": "stream",
     "text": [
      "Computing input features...\n"
     ]
    },
    {
     "name": "stderr",
     "output_type": "stream",
     "text": [
      "100%|██████████| 20/20 [00:11<00:00,  1.80it/s]\n"
     ]
    },
    {
     "name": "stdout",
     "output_type": "stream",
     "text": [
      "Computing annotation arrays...\n"
     ]
    },
    {
     "name": "stderr",
     "output_type": "stream",
     "text": [
      "100%|██████████| 20/20 [00:00<00:00, 353.03it/s]\n"
     ]
    },
    {
     "name": "stdout",
     "output_type": "stream",
     "text": [
      "Number of samples:\n",
      "    validation:\n",
      "      {-100: 41830, 0: 61, 3: 10634, 4: 6830, 1: 1898, 2: 187}\n",
      "    training:\n",
      "      {-100: 173985, 3: 41141, 2: 676, 4: 23215, 1: 6620, 0: 123}\n",
      "    test:\n",
      "      {1: 0, 2: 0, 3: 0, 4: 0, 0: 0}\n",
      "Computing normalization statistics...\n"
     ]
    },
    {
     "name": "stderr",
     "output_type": "stream",
     "text": [
      "100%|██████████| 240/240 [00:00<00:00, 403.48it/s]\n",
      "100%|██████████| 240/240 [00:00<00:00, 444.94it/s]\n"
     ]
    },
    {
     "name": "stdout",
     "output_type": "stream",
     "text": [
      "Initializing class weights:\n",
      "    1.951, 0.036, 0.355, 0.006, 0.01\n",
      "Behavior indices:\n",
      "    0: other\n",
      "    1: Grooming\n",
      "    2: StartEnd\n",
      "    3: Supported\n",
      "    4: Unsupported\n"
     ]
    },
    {
     "name": "stderr",
     "output_type": "stream",
     "text": [
      "/home/liza/DLC2Action_minimal/dlc2action/model/c2f_tcn.py:92: UserWarning: __floordiv__ is deprecated, and its behavior will change in a future version of pytorch. It currently rounds toward 0 (like the 'trunc' function NOT 'floor'). This results in incorrect rounding for negative values. To keep the current behavior, use torch.div(a, b, rounding_mode='trunc'), or for actual floor division, use torch.div(a, b, rounding_mode='floor').\n",
      "  x1 = F.pad(x1, [diff // 2, diff - diff // 2])\n"
     ]
    },
    {
     "name": "stdout",
     "output_type": "stream",
     "text": [
      "[epoch 1]: loss 0.0201, f1 0.277\n",
      "validation: loss 0.0197, f1 0.203\n",
      "[epoch 2]: loss 0.0120, f1 0.388\n",
      "validation: loss 0.0189, f1 0.253\n",
      "[epoch 3]: loss 0.0098, f1 0.465\n",
      "validation: loss 0.0180, f1 0.284\n",
      "[epoch 4]: loss 0.0093, f1 0.502\n",
      "validation: loss 0.0175, f1 0.409\n"
     ]
    },
    {
     "name": "stderr",
     "output_type": "stream",
     "text": [
      "\u001b[32m[I 2022-11-17 03:44:25,428]\u001b[0m Trial 0 finished with value: 0.3833069105943044 and parameters: {'losses/ms_tcn/alpha': 2.98489296397999e-05, 'losses/ms_tcn/focal': True, 'training/temporal_subsampling_size': 0.955123472289908, 'model/num_f_maps': 56, 'general/len_segment': 1024}. Best is trial 0 with value: 0.3833069105943044.\u001b[0m\n"
     ]
    },
    {
     "name": "stdout",
     "output_type": "stream",
     "text": [
      "[epoch 5]: loss 0.0085, f1 0.513\n",
      "validation: loss 0.0171, f1 0.457\n",
      "Number of samples:\n",
      "    validation:\n",
      "      {-100: 41830, 0: 61, 3: 10634, 4: 6830, 1: 1898, 2: 187}\n",
      "    training:\n",
      "      {-100: 173985, 3: 41141, 2: 676, 4: 23215, 1: 6620, 0: 123}\n",
      "    test:\n",
      "      {1: 0, 2: 0, 3: 0, 4: 0, 0: 0}\n",
      "Computing normalization statistics...\n"
     ]
    },
    {
     "name": "stderr",
     "output_type": "stream",
     "text": [
      "100%|██████████| 240/240 [00:00<00:00, 500.08it/s]\n",
      "100%|██████████| 240/240 [00:00<00:00, 435.91it/s]\n"
     ]
    },
    {
     "name": "stdout",
     "output_type": "stream",
     "text": [
      "Initializing class weights:\n",
      "    1.951, 0.036, 0.355, 0.006, 0.01\n",
      "Behavior indices:\n",
      "    0: other\n",
      "    1: Grooming\n",
      "    2: StartEnd\n",
      "    3: Supported\n",
      "    4: Unsupported\n"
     ]
    },
    {
     "name": "stderr",
     "output_type": "stream",
     "text": [
      "/home/liza/DLC2Action_minimal/dlc2action/model/c2f_tcn.py:92: UserWarning: __floordiv__ is deprecated, and its behavior will change in a future version of pytorch. It currently rounds toward 0 (like the 'trunc' function NOT 'floor'). This results in incorrect rounding for negative values. To keep the current behavior, use torch.div(a, b, rounding_mode='trunc'), or for actual floor division, use torch.div(a, b, rounding_mode='floor').\n",
      "  x1 = F.pad(x1, [diff // 2, diff - diff // 2])\n"
     ]
    },
    {
     "name": "stdout",
     "output_type": "stream",
     "text": [
      "[epoch 1]: loss 0.0205, f1 0.153\n",
      "validation: loss 0.0188, f1 0.122\n",
      "[epoch 2]: loss 0.0118, f1 0.349\n",
      "validation: loss 0.0186, f1 0.107\n",
      "[epoch 3]: loss 0.0103, f1 0.434\n",
      "validation: loss 0.0188, f1 0.184\n",
      "[epoch 4]: loss 0.0092, f1 0.454\n",
      "validation: loss 0.0191, f1 0.271\n"
     ]
    },
    {
     "name": "stderr",
     "output_type": "stream",
     "text": [
      "\u001b[32m[I 2022-11-17 03:44:34,874]\u001b[0m Trial 1 finished with value: 0.25506476561228436 and parameters: {'losses/ms_tcn/alpha': 0.0002917902826144083, 'losses/ms_tcn/focal': True, 'training/temporal_subsampling_size': 0.8481535855532814, 'model/num_f_maps': 86, 'general/len_segment': 1024}. Best is trial 0 with value: 0.3833069105943044.\u001b[0m\n"
     ]
    },
    {
     "name": "stdout",
     "output_type": "stream",
     "text": [
      "[epoch 5]: loss 0.0072, f1 0.504\n",
      "validation: loss 0.0183, f1 0.310\n",
      "Initializing class weights:\n",
      "    1.951, 0.036, 0.355, 0.006, 0.01\n",
      "Behavior indices:\n",
      "    0: other\n",
      "    1: Grooming\n",
      "    2: StartEnd\n",
      "    3: Supported\n",
      "    4: Unsupported\n"
     ]
    },
    {
     "name": "stderr",
     "output_type": "stream",
     "text": [
      "/home/liza/DLC2Action_minimal/dlc2action/model/c2f_tcn.py:92: UserWarning: __floordiv__ is deprecated, and its behavior will change in a future version of pytorch. It currently rounds toward 0 (like the 'trunc' function NOT 'floor'). This results in incorrect rounding for negative values. To keep the current behavior, use torch.div(a, b, rounding_mode='trunc'), or for actual floor division, use torch.div(a, b, rounding_mode='floor').\n",
      "  x1 = F.pad(x1, [diff // 2, diff - diff // 2])\n"
     ]
    },
    {
     "name": "stdout",
     "output_type": "stream",
     "text": [
      "[epoch 1]: loss 0.0193, f1 0.197\n",
      "validation: loss 0.0196, f1 0.210\n",
      "[epoch 2]: loss 0.0126, f1 0.340\n",
      "validation: loss 0.0180, f1 0.332\n",
      "[epoch 3]: loss 0.0103, f1 0.432\n",
      "validation: loss 0.0166, f1 0.372\n",
      "[epoch 4]: loss 0.0092, f1 0.490\n",
      "validation: loss 0.0157, f1 0.363\n"
     ]
    },
    {
     "name": "stderr",
     "output_type": "stream",
     "text": [
      "\u001b[32m[I 2022-11-17 03:44:43,828]\u001b[0m Trial 2 finished with value: 0.3801057239373525 and parameters: {'losses/ms_tcn/alpha': 0.001657612863156049, 'losses/ms_tcn/focal': True, 'training/temporal_subsampling_size': 0.9951538734776548, 'model/num_f_maps': 47, 'general/len_segment': 1024}. Best is trial 0 with value: 0.3833069105943044.\u001b[0m\n"
     ]
    },
    {
     "name": "stdout",
     "output_type": "stream",
     "text": [
      "[epoch 5]: loss 0.0084, f1 0.522\n",
      "validation: loss 0.0148, f1 0.405\n",
      "Initializing class weights:\n",
      "    1.951, 0.036, 0.355, 0.006, 0.01\n",
      "Behavior indices:\n",
      "    0: other\n",
      "    1: Grooming\n",
      "    2: StartEnd\n",
      "    3: Supported\n",
      "    4: Unsupported\n"
     ]
    },
    {
     "name": "stderr",
     "output_type": "stream",
     "text": [
      "/home/liza/DLC2Action_minimal/dlc2action/model/c2f_tcn.py:92: UserWarning: __floordiv__ is deprecated, and its behavior will change in a future version of pytorch. It currently rounds toward 0 (like the 'trunc' function NOT 'floor'). This results in incorrect rounding for negative values. To keep the current behavior, use torch.div(a, b, rounding_mode='trunc'), or for actual floor division, use torch.div(a, b, rounding_mode='floor').\n",
      "  x1 = F.pad(x1, [diff // 2, diff - diff // 2])\n"
     ]
    },
    {
     "name": "stdout",
     "output_type": "stream",
     "text": [
      "[epoch 1]: loss 0.0182, f1 0.142\n",
      "validation: loss 0.0194, f1 0.112\n",
      "[epoch 2]: loss 0.0125, f1 0.279\n",
      "validation: loss 0.0180, f1 0.114\n",
      "[epoch 3]: loss 0.0110, f1 0.423\n",
      "validation: loss 0.0166, f1 0.215\n",
      "[epoch 4]: loss 0.0098, f1 0.492\n",
      "validation: loss 0.0158, f1 0.359\n"
     ]
    },
    {
     "name": "stderr",
     "output_type": "stream",
     "text": [
      "\u001b[32m[I 2022-11-17 03:44:52,410]\u001b[0m Trial 3 finished with value: 0.3293474813302358 and parameters: {'losses/ms_tcn/alpha': 0.0006867522159376327, 'losses/ms_tcn/focal': True, 'training/temporal_subsampling_size': 0.9555397550467649, 'model/num_f_maps': 52, 'general/len_segment': 1024}. Best is trial 0 with value: 0.3833069105943044.\u001b[0m\n"
     ]
    },
    {
     "name": "stdout",
     "output_type": "stream",
     "text": [
      "[epoch 5]: loss 0.0086, f1 0.517\n",
      "validation: loss 0.0146, f1 0.413\n",
      "Computing input features...\n"
     ]
    },
    {
     "name": "stderr",
     "output_type": "stream",
     "text": [
      "100%|██████████| 20/20 [00:11<00:00,  1.77it/s]\n"
     ]
    },
    {
     "name": "stdout",
     "output_type": "stream",
     "text": [
      "Computing annotation arrays...\n"
     ]
    },
    {
     "name": "stderr",
     "output_type": "stream",
     "text": [
      "100%|██████████| 20/20 [00:00<00:00, 559.83it/s]\n"
     ]
    },
    {
     "name": "stdout",
     "output_type": "stream",
     "text": [
      "Filtering 2.83% of samples\n",
      "Number of samples:\n",
      "    validation:\n",
      "      {-100: 40806, 0: 61, 3: 10634, 4: 6830, 1: 1898, 2: 187}\n",
      "    training:\n",
      "      {-100: 166305, 3: 41141, 2: 676, 4: 23215, 1: 6620, 0: 123}\n",
      "    test:\n",
      "      {1: 0, 2: 0, 3: 0, 4: 0, 0: 0}\n",
      "Computing normalization statistics...\n"
     ]
    },
    {
     "name": "stderr",
     "output_type": "stream",
     "text": [
      "100%|██████████| 465/465 [00:00<00:00, 483.34it/s]\n",
      "100%|██████████| 465/465 [00:00<00:00, 619.03it/s]\n"
     ]
    },
    {
     "name": "stdout",
     "output_type": "stream",
     "text": [
      "Initializing class weights:\n",
      "    3.78, 0.07, 0.688, 0.011, 0.02\n",
      "Behavior indices:\n",
      "    0: other\n",
      "    1: Grooming\n",
      "    2: StartEnd\n",
      "    3: Supported\n",
      "    4: Unsupported\n"
     ]
    },
    {
     "name": "stderr",
     "output_type": "stream",
     "text": [
      "/home/liza/DLC2Action_minimal/dlc2action/model/c2f_tcn.py:92: UserWarning: __floordiv__ is deprecated, and its behavior will change in a future version of pytorch. It currently rounds toward 0 (like the 'trunc' function NOT 'floor'). This results in incorrect rounding for negative values. To keep the current behavior, use torch.div(a, b, rounding_mode='trunc'), or for actual floor division, use torch.div(a, b, rounding_mode='floor').\n",
      "  x1 = F.pad(x1, [diff // 2, diff - diff // 2])\n"
     ]
    },
    {
     "name": "stdout",
     "output_type": "stream",
     "text": [
      "[epoch 1]: loss 1.5417, f1 0.140\n",
      "validation: loss 1.5535, f1 0.284\n",
      "[epoch 2]: loss 1.2695, f1 0.259\n",
      "validation: loss 1.3867, f1 0.278\n",
      "[epoch 3]: loss 1.1873, f1 0.368\n",
      "validation: loss 1.3114, f1 0.317\n",
      "[epoch 4]: loss 1.0234, f1 0.445\n",
      "validation: loss 1.2868, f1 0.475\n"
     ]
    },
    {
     "name": "stderr",
     "output_type": "stream",
     "text": [
      "\u001b[32m[I 2022-11-17 03:45:15,395]\u001b[0m Trial 4 finished with value: 0.4284265438715617 and parameters: {'losses/ms_tcn/alpha': 2.8229932017616804e-05, 'losses/ms_tcn/focal': False, 'training/temporal_subsampling_size': 0.9211721571058966, 'model/num_f_maps': 32, 'general/len_segment': 512}. Best is trial 4 with value: 0.4284265438715617.\u001b[0m\n"
     ]
    },
    {
     "name": "stdout",
     "output_type": "stream",
     "text": [
      "[epoch 5]: loss 0.9739, f1 0.533\n",
      "validation: loss 1.2598, f1 0.493\n",
      "Number of samples:\n",
      "    validation:\n",
      "      {-100: 40806, 0: 61, 3: 10634, 4: 6830, 1: 1898, 2: 187}\n",
      "    training:\n",
      "      {-100: 166305, 3: 41141, 2: 676, 4: 23215, 1: 6620, 0: 123}\n",
      "    test:\n",
      "      {1: 0, 2: 0, 3: 0, 4: 0, 0: 0}\n",
      "Computing normalization statistics...\n"
     ]
    },
    {
     "name": "stderr",
     "output_type": "stream",
     "text": [
      "100%|██████████| 465/465 [00:00<00:00, 466.97it/s]\n",
      "100%|██████████| 465/465 [00:00<00:00, 646.53it/s]\n"
     ]
    },
    {
     "name": "stdout",
     "output_type": "stream",
     "text": [
      "Initializing class weights:\n",
      "    3.78, 0.07, 0.688, 0.011, 0.02\n",
      "Behavior indices:\n",
      "    0: other\n",
      "    1: Grooming\n",
      "    2: StartEnd\n",
      "    3: Supported\n",
      "    4: Unsupported\n"
     ]
    },
    {
     "name": "stderr",
     "output_type": "stream",
     "text": [
      "/home/liza/DLC2Action_minimal/dlc2action/model/c2f_tcn.py:92: UserWarning: __floordiv__ is deprecated, and its behavior will change in a future version of pytorch. It currently rounds toward 0 (like the 'trunc' function NOT 'floor'). This results in incorrect rounding for negative values. To keep the current behavior, use torch.div(a, b, rounding_mode='trunc'), or for actual floor division, use torch.div(a, b, rounding_mode='floor').\n",
      "  x1 = F.pad(x1, [diff // 2, diff - diff // 2])\n",
      "\u001b[32m[I 2022-11-17 03:45:19,406]\u001b[0m Trial 5 pruned. \u001b[0m\n"
     ]
    },
    {
     "name": "stdout",
     "output_type": "stream",
     "text": [
      "Number of samples:\n",
      "    validation:\n",
      "      {-100: 41830, 0: 61, 3: 10634, 4: 6830, 1: 1898, 2: 187}\n",
      "    training:\n",
      "      {-100: 173985, 3: 41141, 2: 676, 4: 23215, 1: 6620, 0: 123}\n",
      "    test:\n",
      "      {1: 0, 2: 0, 3: 0, 4: 0, 0: 0}\n",
      "Computing normalization statistics...\n"
     ]
    },
    {
     "name": "stderr",
     "output_type": "stream",
     "text": [
      "100%|██████████| 240/240 [00:00<00:00, 503.86it/s]\n",
      "100%|██████████| 240/240 [00:00<00:00, 485.12it/s]\n"
     ]
    },
    {
     "name": "stdout",
     "output_type": "stream",
     "text": [
      "Initializing class weights:\n",
      "    1.951, 0.036, 0.355, 0.006, 0.01\n",
      "Behavior indices:\n",
      "    0: other\n",
      "    1: Grooming\n",
      "    2: StartEnd\n",
      "    3: Supported\n",
      "    4: Unsupported\n"
     ]
    },
    {
     "name": "stderr",
     "output_type": "stream",
     "text": [
      "/home/liza/DLC2Action_minimal/dlc2action/model/c2f_tcn.py:92: UserWarning: __floordiv__ is deprecated, and its behavior will change in a future version of pytorch. It currently rounds toward 0 (like the 'trunc' function NOT 'floor'). This results in incorrect rounding for negative values. To keep the current behavior, use torch.div(a, b, rounding_mode='trunc'), or for actual floor division, use torch.div(a, b, rounding_mode='floor').\n",
      "  x1 = F.pad(x1, [diff // 2, diff - diff // 2])\n"
     ]
    },
    {
     "name": "stdout",
     "output_type": "stream",
     "text": [
      "[epoch 1]: loss 1.6644, f1 0.227\n",
      "validation: loss 1.5560, f1 0.094\n",
      "[epoch 2]: loss 1.3411, f1 0.299\n",
      "validation: loss 1.4898, f1 0.121\n"
     ]
    },
    {
     "name": "stderr",
     "output_type": "stream",
     "text": [
      "\u001b[32m[I 2022-11-17 03:45:26,726]\u001b[0m Trial 6 pruned. \u001b[0m\n"
     ]
    },
    {
     "name": "stdout",
     "output_type": "stream",
     "text": [
      "Initializing class weights:\n",
      "    1.951, 0.036, 0.355, 0.006, 0.01\n",
      "Behavior indices:\n",
      "    0: other\n",
      "    1: Grooming\n",
      "    2: StartEnd\n",
      "    3: Supported\n",
      "    4: Unsupported\n"
     ]
    },
    {
     "name": "stderr",
     "output_type": "stream",
     "text": [
      "/home/liza/DLC2Action_minimal/dlc2action/model/c2f_tcn.py:92: UserWarning: __floordiv__ is deprecated, and its behavior will change in a future version of pytorch. It currently rounds toward 0 (like the 'trunc' function NOT 'floor'). This results in incorrect rounding for negative values. To keep the current behavior, use torch.div(a, b, rounding_mode='trunc'), or for actual floor division, use torch.div(a, b, rounding_mode='floor').\n",
      "  x1 = F.pad(x1, [diff // 2, diff - diff // 2])\n",
      "\u001b[32m[I 2022-11-17 03:45:30,964]\u001b[0m Trial 7 pruned. \u001b[0m\n"
     ]
    },
    {
     "name": "stdout",
     "output_type": "stream",
     "text": [
      "Initializing class weights:\n",
      "    1.951, 0.036, 0.355, 0.006, 0.01\n",
      "Behavior indices:\n",
      "    0: other\n",
      "    1: Grooming\n",
      "    2: StartEnd\n",
      "    3: Supported\n",
      "    4: Unsupported\n"
     ]
    },
    {
     "name": "stderr",
     "output_type": "stream",
     "text": [
      "/home/liza/DLC2Action_minimal/dlc2action/model/c2f_tcn.py:92: UserWarning: __floordiv__ is deprecated, and its behavior will change in a future version of pytorch. It currently rounds toward 0 (like the 'trunc' function NOT 'floor'). This results in incorrect rounding for negative values. To keep the current behavior, use torch.div(a, b, rounding_mode='trunc'), or for actual floor division, use torch.div(a, b, rounding_mode='floor').\n",
      "  x1 = F.pad(x1, [diff // 2, diff - diff // 2])\n",
      "\u001b[32m[I 2022-11-17 03:45:34,736]\u001b[0m Trial 8 pruned. \u001b[0m\n"
     ]
    },
    {
     "name": "stdout",
     "output_type": "stream",
     "text": [
      "Initializing class weights:\n",
      "    1.951, 0.036, 0.355, 0.006, 0.01\n",
      "Behavior indices:\n",
      "    0: other\n",
      "    1: Grooming\n",
      "    2: StartEnd\n",
      "    3: Supported\n",
      "    4: Unsupported\n"
     ]
    },
    {
     "name": "stderr",
     "output_type": "stream",
     "text": [
      "/home/liza/DLC2Action_minimal/dlc2action/model/c2f_tcn.py:92: UserWarning: __floordiv__ is deprecated, and its behavior will change in a future version of pytorch. It currently rounds toward 0 (like the 'trunc' function NOT 'floor'). This results in incorrect rounding for negative values. To keep the current behavior, use torch.div(a, b, rounding_mode='trunc'), or for actual floor division, use torch.div(a, b, rounding_mode='floor').\n",
      "  x1 = F.pad(x1, [diff // 2, diff - diff // 2])\n",
      "\u001b[32m[I 2022-11-17 03:45:38,084]\u001b[0m Trial 9 pruned. \u001b[0m\n"
     ]
    },
    {
     "name": "stdout",
     "output_type": "stream",
     "text": [
      "best parameters: {'losses/ms_tcn/alpha': 2.8229932017616804e-05, 'losses/ms_tcn/focal': False, 'training/temporal_subsampling_size': 0.9211721571058966, 'model/num_f_maps': 32, 'general/len_segment': 512}\n",
      "\n",
      "\n",
      "SEARCH transformer_search\n"
     ]
    },
    {
     "name": "stderr",
     "output_type": "stream",
     "text": [
      "\u001b[32m[I 2022-11-17 03:45:41,551]\u001b[0m A new study created in memory with name: no-name-27d3234a-1a96-4a4b-a7f1-a9f355f1d8c5\u001b[0m\n"
     ]
    },
    {
     "name": "stdout",
     "output_type": "stream",
     "text": [
      "Computing input features...\n"
     ]
    },
    {
     "name": "stderr",
     "output_type": "stream",
     "text": [
      "100%|██████████| 20/20 [00:11<00:00,  1.69it/s]\n"
     ]
    },
    {
     "name": "stdout",
     "output_type": "stream",
     "text": [
      "Computing annotation arrays...\n"
     ]
    },
    {
     "name": "stderr",
     "output_type": "stream",
     "text": [
      "100%|██████████| 20/20 [00:00<00:00, 349.24it/s]\n"
     ]
    },
    {
     "name": "stdout",
     "output_type": "stream",
     "text": [
      "Filtering 27.18% of samples\n",
      "Number of samples:\n",
      "    validation:\n",
      "      {-100: 27494, 0: 61, 3: 10634, 4: 6830, 1: 1898, 2: 187}\n",
      "    training:\n",
      "      {-100: 104353, 3: 41141, 2: 676, 4: 23215, 1: 6620, 0: 123}\n",
      "    test:\n",
      "      {1: 0, 2: 0, 3: 0, 4: 0, 0: 0}\n",
      "Computing normalization statistics...\n"
     ]
    },
    {
     "name": "stderr",
     "output_type": "stream",
     "text": [
      "100%|██████████| 1376/1376 [00:02<00:00, 535.27it/s]\n",
      "100%|██████████| 1376/1376 [00:03<00:00, 378.86it/s]\n"
     ]
    },
    {
     "name": "stdout",
     "output_type": "stream",
     "text": [
      "Initializing class weights:\n",
      "    11.187, 0.208, 2.036, 0.033, 0.059\n",
      "Behavior indices:\n",
      "    0: other\n",
      "    1: Grooming\n",
      "    2: StartEnd\n",
      "    3: Supported\n",
      "    4: Unsupported\n",
      "[epoch 1]: loss 0.0268, f1 0.226\n",
      "validation: loss 0.0207, f1 0.312\n",
      "[epoch 2]: loss 0.0164, f1 0.404\n",
      "validation: loss 0.0171, f1 0.330\n",
      "[epoch 3]: loss 0.0154, f1 0.416\n",
      "validation: loss 0.0185, f1 0.354\n",
      "[epoch 4]: loss 0.0162, f1 0.469\n",
      "validation: loss 0.0163, f1 0.414\n"
     ]
    },
    {
     "name": "stderr",
     "output_type": "stream",
     "text": [
      "\u001b[32m[I 2022-11-17 03:46:35,292]\u001b[0m Trial 0 finished with value: 0.4026798705259959 and parameters: {'losses/ms_tcn/alpha': 0.00035694310116938925, 'losses/ms_tcn/focal': False, 'training/temporal_subsampling_size': 0.8584296886560738, 'model/N': 10, 'model/heads': 2, 'model/num_pool': 3, 'model/add_batchnorm': False, 'general/len_segment': 128}. Best is trial 0 with value: 0.4026798705259959.\u001b[0m\n"
     ]
    },
    {
     "name": "stdout",
     "output_type": "stream",
     "text": [
      "[epoch 5]: loss 0.0144, f1 0.469\n",
      "validation: loss 0.0163, f1 0.439\n",
      "Initializing class weights:\n",
      "    11.187, 0.208, 2.036, 0.033, 0.059\n",
      "Behavior indices:\n",
      "    0: other\n",
      "    1: Grooming\n",
      "    2: StartEnd\n",
      "    3: Supported\n",
      "    4: Unsupported\n",
      "[epoch 1]: loss 0.0017, f1 0.249\n",
      "validation: loss 0.0018, f1 0.294\n",
      "[epoch 2]: loss 0.0007, f1 0.374\n",
      "validation: loss 0.0015, f1 0.372\n",
      "[epoch 3]: loss 0.0009, f1 0.411\n",
      "validation: loss 0.0009, f1 0.416\n",
      "[epoch 4]: loss 0.0006, f1 0.461\n",
      "validation: loss 0.0012, f1 0.452\n"
     ]
    },
    {
     "name": "stderr",
     "output_type": "stream",
     "text": [
      "\u001b[32m[I 2022-11-17 03:47:04,338]\u001b[0m Trial 1 finished with value: 0.453301469484965 and parameters: {'losses/ms_tcn/alpha': 4.7643427850826265e-05, 'losses/ms_tcn/focal': True, 'training/temporal_subsampling_size': 0.7861533249026877, 'model/N': 11, 'model/heads': 1, 'model/num_pool': 2, 'model/add_batchnorm': False, 'general/len_segment': 128}. Best is trial 1 with value: 0.453301469484965.\u001b[0m\n"
     ]
    },
    {
     "name": "stdout",
     "output_type": "stream",
     "text": [
      "[epoch 5]: loss 0.0004, f1 0.549\n",
      "validation: loss 0.0013, f1 0.492\n",
      "Initializing class weights:\n",
      "    11.187, 0.208, 2.036, 0.033, 0.059\n",
      "Behavior indices:\n",
      "    0: other\n",
      "    1: Grooming\n",
      "    2: StartEnd\n",
      "    3: Supported\n",
      "    4: Unsupported\n"
     ]
    },
    {
     "name": "stderr",
     "output_type": "stream",
     "text": [
      "\u001b[32m[I 2022-11-17 03:47:12,261]\u001b[0m Trial 2 pruned. \u001b[0m\n"
     ]
    },
    {
     "name": "stdout",
     "output_type": "stream",
     "text": [
      "Initializing class weights:\n",
      "    11.187, 0.208, 2.036, 0.033, 0.059\n",
      "Behavior indices:\n",
      "    0: other\n",
      "    1: Grooming\n",
      "    2: StartEnd\n",
      "    3: Supported\n",
      "    4: Unsupported\n",
      "[epoch 1]: loss 0.0198, f1 0.323\n",
      "validation: loss 0.0204, f1 0.395\n",
      "[epoch 2]: loss 0.0182, f1 0.460\n",
      "validation: loss 0.0229, f1 0.455\n",
      "[epoch 3]: loss 0.0125, f1 0.547\n",
      "validation: loss 0.0179, f1 0.470\n",
      "[epoch 4]: loss 0.0108, f1 0.570\n",
      "validation: loss 0.0217, f1 0.461\n"
     ]
    },
    {
     "name": "stderr",
     "output_type": "stream",
     "text": [
      "\u001b[32m[I 2022-11-17 03:47:43,558]\u001b[0m Trial 3 finished with value: 0.47473882635434467 and parameters: {'losses/ms_tcn/alpha': 0.0011699926818655709, 'losses/ms_tcn/focal': False, 'training/temporal_subsampling_size': 0.8876636031858312, 'model/N': 5, 'model/heads': 1, 'model/num_pool': 2, 'model/add_batchnorm': True, 'general/len_segment': 128}. Best is trial 3 with value: 0.47473882635434467.\u001b[0m\n"
     ]
    },
    {
     "name": "stdout",
     "output_type": "stream",
     "text": [
      "[epoch 5]: loss 0.0105, f1 0.622\n",
      "validation: loss 0.0166, f1 0.493\n",
      "Computing input features...\n"
     ]
    },
    {
     "name": "stderr",
     "output_type": "stream",
     "text": [
      "100%|██████████| 20/20 [00:23<00:00,  1.16s/it]\n"
     ]
    },
    {
     "name": "stdout",
     "output_type": "stream",
     "text": [
      "Computing annotation arrays...\n"
     ]
    },
    {
     "name": "stderr",
     "output_type": "stream",
     "text": [
      "100%|██████████| 20/20 [00:00<00:00, 448.91it/s]\n"
     ]
    },
    {
     "name": "stdout",
     "output_type": "stream",
     "text": [
      "Filtering 42.53% of samples\n",
      "Number of samples:\n",
      "    validation:\n",
      "      {-100: 18278, 0: 61, 3: 10634, 4: 6830, 1: 1898, 2: 187}\n",
      "    training:\n",
      "      {-100: 65953, 3: 41141, 2: 676, 4: 23215, 1: 6620, 0: 123}\n",
      "    test:\n",
      "      {1: 0, 2: 0, 3: 0, 4: 0, 0: 0}\n",
      "Computing normalization statistics...\n"
     ]
    },
    {
     "name": "stderr",
     "output_type": "stream",
     "text": [
      "100%|██████████| 2152/2152 [00:04<00:00, 463.90it/s]\n",
      "100%|██████████| 2152/2152 [00:04<00:00, 472.35it/s]\n"
     ]
    },
    {
     "name": "stdout",
     "output_type": "stream",
     "text": [
      "Initializing class weights:\n",
      "    17.496, 0.325, 3.183, 0.052, 0.093\n",
      "Behavior indices:\n",
      "    0: other\n",
      "    1: Grooming\n",
      "    2: StartEnd\n",
      "    3: Supported\n",
      "    4: Unsupported\n",
      "[epoch 1]: loss 0.0184, f1 0.370\n",
      "validation: loss 0.0344, f1 0.381\n",
      "[epoch 2]: loss 0.0132, f1 0.509\n",
      "validation: loss 0.0201, f1 0.495\n",
      "[epoch 3]: loss 0.0098, f1 0.567\n",
      "validation: loss 0.0182, f1 0.529\n",
      "[epoch 4]: loss 0.0111, f1 0.593\n",
      "validation: loss 0.0484, f1 0.371\n"
     ]
    },
    {
     "name": "stderr",
     "output_type": "stream",
     "text": [
      "\u001b[32m[I 2022-11-17 03:49:05,657]\u001b[0m Trial 4 finished with value: 0.5082932611306509 and parameters: {'losses/ms_tcn/alpha': 0.0020864334148399137, 'losses/ms_tcn/focal': False, 'training/temporal_subsampling_size': 0.8296698617779321, 'model/N': 8, 'model/heads': 2, 'model/num_pool': 2, 'model/add_batchnorm': True, 'general/len_segment': 64}. Best is trial 4 with value: 0.5082932611306509.\u001b[0m\n"
     ]
    },
    {
     "name": "stdout",
     "output_type": "stream",
     "text": [
      "[epoch 5]: loss 0.0107, f1 0.561\n",
      "validation: loss 0.0244, f1 0.501\n",
      "Number of samples:\n",
      "    validation:\n",
      "      {-100: 27494, 0: 61, 3: 10634, 4: 6830, 1: 1898, 2: 187}\n",
      "    training:\n",
      "      {-100: 104353, 3: 41141, 2: 676, 4: 23215, 1: 6620, 0: 123}\n",
      "    test:\n",
      "      {1: 0, 2: 0, 3: 0, 4: 0, 0: 0}\n",
      "Computing normalization statistics...\n"
     ]
    },
    {
     "name": "stderr",
     "output_type": "stream",
     "text": [
      "100%|██████████| 1376/1376 [00:05<00:00, 266.68it/s]\n",
      "100%|██████████| 1376/1376 [00:03<00:00, 374.58it/s]\n"
     ]
    },
    {
     "name": "stdout",
     "output_type": "stream",
     "text": [
      "Initializing class weights:\n",
      "    11.187, 0.208, 2.036, 0.033, 0.059\n",
      "Behavior indices:\n",
      "    0: other\n",
      "    1: Grooming\n",
      "    2: StartEnd\n",
      "    3: Supported\n",
      "    4: Unsupported\n",
      "[epoch 1]: loss 0.0015, f1 0.345\n",
      "validation: loss 0.0031, f1 0.294\n",
      "[epoch 2]: loss 0.0006, f1 0.556\n",
      "validation: loss 0.0016, f1 0.435\n"
     ]
    },
    {
     "name": "stderr",
     "output_type": "stream",
     "text": [
      "\u001b[32m[I 2022-11-17 03:49:38,044]\u001b[0m Trial 5 pruned. \u001b[0m\n"
     ]
    },
    {
     "name": "stdout",
     "output_type": "stream",
     "text": [
      "Initializing class weights:\n",
      "    11.187, 0.208, 2.036, 0.033, 0.059\n",
      "Behavior indices:\n",
      "    0: other\n",
      "    1: Grooming\n",
      "    2: StartEnd\n",
      "    3: Supported\n",
      "    4: Unsupported\n"
     ]
    },
    {
     "name": "stderr",
     "output_type": "stream",
     "text": [
      "\u001b[32m[I 2022-11-17 03:49:47,493]\u001b[0m Trial 6 pruned. \u001b[0m\n"
     ]
    },
    {
     "name": "stdout",
     "output_type": "stream",
     "text": [
      "Initializing class weights:\n",
      "    11.187, 0.208, 2.036, 0.033, 0.059\n",
      "Behavior indices:\n",
      "    0: other\n",
      "    1: Grooming\n",
      "    2: StartEnd\n",
      "    3: Supported\n",
      "    4: Unsupported\n"
     ]
    },
    {
     "name": "stderr",
     "output_type": "stream",
     "text": [
      "\u001b[32m[I 2022-11-17 03:49:54,169]\u001b[0m Trial 7 pruned. \u001b[0m\n"
     ]
    },
    {
     "name": "stdout",
     "output_type": "stream",
     "text": [
      "Initializing class weights:\n",
      "    11.187, 0.208, 2.036, 0.033, 0.059\n",
      "Behavior indices:\n",
      "    0: other\n",
      "    1: Grooming\n",
      "    2: StartEnd\n",
      "    3: Supported\n",
      "    4: Unsupported\n"
     ]
    },
    {
     "name": "stderr",
     "output_type": "stream",
     "text": [
      "\u001b[32m[I 2022-11-17 03:49:58,528]\u001b[0m Trial 8 pruned. \u001b[0m\n"
     ]
    },
    {
     "name": "stdout",
     "output_type": "stream",
     "text": [
      "Initializing class weights:\n",
      "    11.187, 0.208, 2.036, 0.033, 0.059\n",
      "Behavior indices:\n",
      "    0: other\n",
      "    1: Grooming\n",
      "    2: StartEnd\n",
      "    3: Supported\n",
      "    4: Unsupported\n",
      "[epoch 1]: loss 0.0218, f1 0.273\n",
      "validation: loss 0.0242, f1 0.313\n",
      "[epoch 2]: loss 0.0155, f1 0.485\n",
      "validation: loss 0.0201, f1 0.379\n",
      "[epoch 3]: loss 0.0126, f1 0.530\n",
      "validation: loss 0.0188, f1 0.467\n",
      "[epoch 4]: loss 0.0101, f1 0.571\n",
      "validation: loss 0.0169, f1 0.493\n"
     ]
    },
    {
     "name": "stderr",
     "output_type": "stream",
     "text": [
      "\u001b[32m[I 2022-11-17 03:51:08,194]\u001b[0m Trial 9 finished with value: 0.49678024649620056 and parameters: {'losses/ms_tcn/alpha': 0.002629378645622538, 'losses/ms_tcn/focal': False, 'training/temporal_subsampling_size': 0.845809018668419, 'model/N': 6, 'model/heads': 2, 'model/num_pool': 0, 'model/add_batchnorm': True, 'general/len_segment': 128}. Best is trial 4 with value: 0.5082932611306509.\u001b[0m\n"
     ]
    },
    {
     "name": "stdout",
     "output_type": "stream",
     "text": [
      "[epoch 5]: loss 0.0089, f1 0.607\n",
      "validation: loss 0.0152, f1 0.531\n",
      "best parameters: {'losses/ms_tcn/alpha': 0.0020864334148399137, 'losses/ms_tcn/focal': False, 'training/temporal_subsampling_size': 0.8296698617779321, 'model/N': 8, 'model/heads': 2, 'model/num_pool': 2, 'model/add_batchnorm': True, 'general/len_segment': 64}\n",
      "\n",
      "\n"
     ]
    }
   ],
   "source": [
    "for model in [MODEL_NAME1, MODEL_NAME2]:\n",
    "    project.run_default_hyperparameter_search(\n",
    "        f\"{model}_search\",\n",
    "        model_name=model,\n",
    "        metric=METRICS[0],\n",
    "        num_epochs=3,\n",
    "        n_trials=10,\n",
    "        prune=True,\n",
    "    )\n"
   ]
  },
  {
   "cell_type": "markdown",
   "metadata": {},
   "source": [
    "Those searches will optimize the hyperparameters to maximize the first metric in our list. Note how some trials stop before reaching 10 epochs. That is happening because we have set `prune=True` to interrupt experiments when they are unlikely to beat the best score.\n",
    "\n",
    "Generally, it is better to set both the number of trials and the number of epochs much higher (30-50 and around 150, respectively, is usually a good choice). We are setting them low here to save time but keep in mind that it does mean that the parameters those searches find are probably not actually optimal."
   ]
  },
  {
   "cell_type": "markdown",
   "metadata": {},
   "source": [
    "The searches have created a bunch of datasets that we are not going to use again so it's a good idea to clean up the memory at this point."
   ]
  },
  {
   "cell_type": "code",
   "execution_count": 28,
   "metadata": {},
   "outputs": [
    {
     "name": "stdout",
     "output_type": "stream",
     "text": [
      "Removing datasets...\n"
     ]
    },
    {
     "name": "stderr",
     "output_type": "stream",
     "text": [
      "100%|██████████| 4/4 [00:00<00:00,  9.66it/s]"
     ]
    },
    {
     "name": "stdout",
     "output_type": "stream",
     "text": [
      "\n",
      "\n"
     ]
    },
    {
     "name": "stderr",
     "output_type": "stream",
     "text": [
      "\n"
     ]
    }
   ],
   "source": [
    "project.remove_saved_features()"
   ]
  },
  {
   "cell_type": "markdown",
   "metadata": {},
   "source": [
    "`DLC2Action` needs pre-computed features to run an experiment. It keeps track of features that are stored on your machine and does not re-compute them if they have already been created in other experiments with the same data parameters. They can take up a lot of space, however, so it's good practice to remove them sometimes. \n",
    "\n",
    "Do not be afraid to run `project.remove_saved_features()`, you never lose any information when you do. The features will just be computed again if you need them. In addition, if you are running low on space, it might be more convenient to pass `remove_saved_features=True` to project methods to remove the features as soon as they are not needed anymore.\n",
    "\n",
    "Another function that helps clean up the memory is `project.remove_extra_checkpoints()`. DLC2Action saves a model checkpoint every 5 epochs by default (you can change this interval at `\"training/model_save_interval\"`). Running this method will remove all the checkpoints except for the last one in each episode."
   ]
  },
  {
   "cell_type": "markdown",
   "metadata": {},
   "source": [
    "When the searches are done, we can check out the results."
   ]
  },
  {
   "cell_type": "code",
   "execution_count": 29,
   "metadata": {},
   "outputs": [
    {
     "name": "stdout",
     "output_type": "stream",
     "text": [
      "SEARCH RESULTS c2f_tcn_search\n",
      "losses/ms_tcn/alpha: 2.8229932017616804e-05\n",
      "losses/ms_tcn/focal: False\n",
      "training/temporal_subsampling_size: 0.9211721571058966\n",
      "model/num_f_maps: 32\n",
      "general/len_segment: 512\n",
      "\n",
      "\n",
      "SEARCH RESULTS transformer_search\n",
      "losses/ms_tcn/alpha: 0.0020864334148399137\n",
      "losses/ms_tcn/focal: False\n",
      "training/temporal_subsampling_size: 0.8296698617779321\n",
      "model/N: 8\n",
      "model/heads: 2\n",
      "model/num_pool: 2\n",
      "model/add_batchnorm: True\n",
      "general/len_segment: 64\n",
      "\n",
      "\n"
     ]
    }
   ],
   "source": [
    "for model in [MODEL_NAME1, MODEL_NAME2]:\n",
    "    _ = project.list_best_parameters(f\"{model}_search\")"
   ]
  },
  {
   "cell_type": "markdown",
   "metadata": {},
   "source": [
    "The searches can be used to update the default parameters with `project.update_parameters(load_search=search_name)` but in this case it's more convenient to load them in the relevant episodes."
   ]
  },
  {
   "cell_type": "markdown",
   "metadata": {},
   "source": [
    "## Training models"
   ]
  },
  {
   "cell_type": "markdown",
   "metadata": {},
   "source": [
    "Now we can train models with the best hyperparameters."
   ]
  },
  {
   "cell_type": "code",
   "execution_count": 30,
   "metadata": {},
   "outputs": [
    {
     "name": "stdout",
     "output_type": "stream",
     "text": [
      "TRAINING c2f_tcn_best::0\n",
      "Computing input features...\n"
     ]
    },
    {
     "name": "stderr",
     "output_type": "stream",
     "text": [
      "100%|██████████| 20/20 [00:35<00:00,  1.75s/it]\n"
     ]
    },
    {
     "name": "stdout",
     "output_type": "stream",
     "text": [
      "Computing annotation arrays...\n"
     ]
    },
    {
     "name": "stderr",
     "output_type": "stream",
     "text": [
      "100%|██████████| 20/20 [00:00<00:00, 590.53it/s]\n"
     ]
    },
    {
     "name": "stdout",
     "output_type": "stream",
     "text": [
      "Filtering 4.34% of samples\n",
      "Number of samples:\n",
      "    validation:\n",
      "      {-100: 161290, 0: 169, 3: 42341, 4: 27320, 1: 7446, 2: 538}\n",
      "    training:\n",
      "      {-100: 649094, 3: 163336, 2: 1990, 4: 92604, 1: 26480, 0: 384}\n",
      "    test:\n",
      "      {1: 0, 2: 0, 3: 0, 4: 0, 0: 0}\n",
      "Computing normalization statistics...\n"
     ]
    },
    {
     "name": "stderr",
     "output_type": "stream",
     "text": [
      "100%|██████████| 1824/1824 [00:05<00:00, 327.19it/s]\n",
      "100%|██████████| 1824/1824 [00:03<00:00, 577.77it/s]\n"
     ]
    },
    {
     "name": "stdout",
     "output_type": "stream",
     "text": [
      "Initializing class weights:\n",
      "    4.75, 0.069, 0.917, 0.011, 0.02\n",
      "Behavior indices:\n",
      "    0: other\n",
      "    1: Grooming\n",
      "    2: StartEnd\n",
      "    3: Supported\n",
      "    4: Unsupported\n"
     ]
    },
    {
     "name": "stderr",
     "output_type": "stream",
     "text": [
      "/home/liza/DLC2Action_minimal/dlc2action/model/c2f_tcn.py:92: UserWarning:\n",
      "\n",
      "__floordiv__ is deprecated, and its behavior will change in a future version of pytorch. It currently rounds toward 0 (like the 'trunc' function NOT 'floor'). This results in incorrect rounding for negative values. To keep the current behavior, use torch.div(a, b, rounding_mode='trunc'), or for actual floor division, use torch.div(a, b, rounding_mode='floor').\n",
      "\n"
     ]
    },
    {
     "name": "stdout",
     "output_type": "stream",
     "text": [
      "[epoch 1]: loss 1.2948, f1 0.335, precision 0.329\n",
      "validation: loss 1.2252, f1 0.397, precision 0.396\n",
      "[epoch 2]: loss 0.9095, f1 0.478, precision 0.456\n",
      "validation: loss 1.1531, f1 0.327, precision 0.382\n",
      "[epoch 3]: loss 0.6782, f1 0.571, precision 0.533\n",
      "validation: loss 1.1727, f1 0.476, precision 0.484\n",
      "[epoch 4]: loss 0.5154, f1 0.692, precision 0.637\n",
      "validation: loss 1.0270, f1 0.537, precision 0.518\n",
      "[epoch 5]: loss 0.5044, f1 0.708, precision 0.645\n",
      "validation: loss 1.2744, f1 0.350, precision 0.372\n",
      "[epoch 6]: loss 0.4820, f1 0.619, precision 0.558\n",
      "validation: loss 0.9696, f1 0.521, precision 0.509\n",
      "[epoch 7]: loss 0.3376, f1 0.705, precision 0.643\n",
      "validation: loss 0.9568, f1 0.603, precision 0.615\n",
      "[epoch 8]: loss 0.2930, f1 0.785, precision 0.719\n",
      "validation: loss 0.9924, f1 0.524, precision 0.493\n",
      "[epoch 9]: loss 0.2880, f1 0.719, precision 0.672\n",
      "validation: loss 0.9922, f1 0.615, precision 0.668\n",
      "[epoch 10]: loss 0.2390, f1 0.781, precision 0.711\n",
      "validation: loss 0.8723, f1 0.613, precision 0.599\n",
      "[epoch 11]: loss 0.1843, f1 0.788, precision 0.724\n",
      "validation: loss 1.0836, f1 0.591, precision 0.564\n",
      "[epoch 12]: loss 0.1825, f1 0.834, precision 0.765\n",
      "validation: loss 1.1464, f1 0.535, precision 0.504\n",
      "[epoch 13]: loss 0.2383, f1 0.767, precision 0.694\n",
      "validation: loss 1.2591, f1 0.478, precision 0.450\n",
      "[epoch 14]: loss 0.2067, f1 0.803, precision 0.734\n",
      "validation: loss 0.9509, f1 0.654, precision 0.732\n",
      "[epoch 15]: loss 0.1998, f1 0.789, precision 0.716\n",
      "validation: loss 1.0212, f1 0.558, precision 0.520\n",
      "\n",
      "\n",
      "TRAINING c2f_tcn_best::1\n",
      "Number of samples:\n",
      "    validation:\n",
      "      {-100: 161290, 0: 169, 3: 42341, 4: 27320, 1: 7446, 2: 538}\n",
      "    training:\n",
      "      {-100: 649094, 3: 163336, 2: 1990, 4: 92604, 1: 26480, 0: 384}\n",
      "    test:\n",
      "      {1: 0, 2: 0, 3: 0, 4: 0, 0: 0}\n",
      "Computing normalization statistics...\n"
     ]
    },
    {
     "name": "stderr",
     "output_type": "stream",
     "text": [
      "100%|██████████| 1824/1824 [00:08<00:00, 220.84it/s]\n",
      "100%|██████████| 1824/1824 [00:05<00:00, 344.15it/s]\n"
     ]
    },
    {
     "name": "stdout",
     "output_type": "stream",
     "text": [
      "Initializing class weights:\n",
      "    4.75, 0.069, 0.917, 0.011, 0.02\n",
      "Behavior indices:\n",
      "    0: other\n",
      "    1: Grooming\n",
      "    2: StartEnd\n",
      "    3: Supported\n",
      "    4: Unsupported\n"
     ]
    },
    {
     "name": "stderr",
     "output_type": "stream",
     "text": [
      "/home/liza/DLC2Action_minimal/dlc2action/model/c2f_tcn.py:92: UserWarning:\n",
      "\n",
      "__floordiv__ is deprecated, and its behavior will change in a future version of pytorch. It currently rounds toward 0 (like the 'trunc' function NOT 'floor'). This results in incorrect rounding for negative values. To keep the current behavior, use torch.div(a, b, rounding_mode='trunc'), or for actual floor division, use torch.div(a, b, rounding_mode='floor').\n",
      "\n"
     ]
    },
    {
     "name": "stdout",
     "output_type": "stream",
     "text": [
      "[epoch 1]: loss 1.3121, f1 0.298, precision 0.342\n",
      "validation: loss 1.2085, f1 0.375, precision 0.386\n",
      "[epoch 2]: loss 0.8693, f1 0.495, precision 0.451\n",
      "validation: loss 1.1649, f1 0.404, precision 0.408\n",
      "[epoch 3]: loss 0.6670, f1 0.592, precision 0.532\n",
      "validation: loss 0.9378, f1 0.523, precision 0.512\n",
      "[epoch 4]: loss 0.5739, f1 0.671, precision 0.628\n",
      "validation: loss 0.9149, f1 0.502, precision 0.496\n",
      "[epoch 5]: loss 0.5059, f1 0.662, precision 0.613\n",
      "validation: loss 0.8608, f1 0.559, precision 0.531\n",
      "[epoch 6]: loss 0.3809, f1 0.768, precision 0.706\n",
      "validation: loss 0.8746, f1 0.526, precision 0.494\n",
      "[epoch 7]: loss 0.3260, f1 0.753, precision 0.680\n",
      "validation: loss 1.0440, f1 0.574, precision 0.576\n",
      "[epoch 8]: loss 0.2622, f1 0.779, precision 0.706\n",
      "validation: loss 1.0584, f1 0.501, precision 0.471\n",
      "[epoch 9]: loss 0.2742, f1 0.797, precision 0.729\n",
      "validation: loss 0.9487, f1 0.606, precision 0.587\n",
      "[epoch 10]: loss 0.2761, f1 0.767, precision 0.700\n",
      "validation: loss 1.1048, f1 0.582, precision 0.578\n",
      "[epoch 11]: loss 0.2172, f1 0.815, precision 0.748\n",
      "validation: loss 1.1191, f1 0.620, precision 0.606\n",
      "[epoch 12]: loss 0.1773, f1 0.781, precision 0.705\n",
      "validation: loss 1.1739, f1 0.549, precision 0.513\n",
      "[epoch 13]: loss 0.1802, f1 0.863, precision 0.804\n",
      "validation: loss 1.2181, f1 0.522, precision 0.523\n",
      "[epoch 14]: loss 0.3485, f1 0.687, precision 0.641\n",
      "validation: loss 1.0837, f1 0.533, precision 0.524\n",
      "[epoch 15]: loss 0.2137, f1 0.804, precision 0.732\n",
      "validation: loss 1.0925, f1 0.630, precision 0.627\n",
      "\n",
      "\n",
      "TRAINING c2f_tcn_best::2\n",
      "Initializing class weights:\n",
      "    4.75, 0.069, 0.917, 0.011, 0.02\n",
      "Behavior indices:\n",
      "    0: other\n",
      "    1: Grooming\n",
      "    2: StartEnd\n",
      "    3: Supported\n",
      "    4: Unsupported\n"
     ]
    },
    {
     "name": "stderr",
     "output_type": "stream",
     "text": [
      "/home/liza/DLC2Action_minimal/dlc2action/model/c2f_tcn.py:92: UserWarning:\n",
      "\n",
      "__floordiv__ is deprecated, and its behavior will change in a future version of pytorch. It currently rounds toward 0 (like the 'trunc' function NOT 'floor'). This results in incorrect rounding for negative values. To keep the current behavior, use torch.div(a, b, rounding_mode='trunc'), or for actual floor division, use torch.div(a, b, rounding_mode='floor').\n",
      "\n"
     ]
    },
    {
     "name": "stdout",
     "output_type": "stream",
     "text": [
      "[epoch 1]: loss 1.3577, f1 0.283, precision 0.317\n",
      "validation: loss 1.2296, f1 0.253, precision 0.397\n",
      "[epoch 2]: loss 0.8810, f1 0.509, precision 0.489\n",
      "validation: loss 1.2061, f1 0.416, precision 0.403\n",
      "[epoch 3]: loss 0.6921, f1 0.654, precision 0.610\n",
      "validation: loss 0.9701, f1 0.539, precision 0.540\n",
      "[epoch 4]: loss 0.5476, f1 0.686, precision 0.617\n",
      "validation: loss 1.0634, f1 0.511, precision 0.483\n",
      "[epoch 5]: loss 0.4358, f1 0.743, precision 0.684\n",
      "validation: loss 0.8801, f1 0.631, precision 0.609\n",
      "[epoch 6]: loss 0.4088, f1 0.757, precision 0.702\n",
      "validation: loss 0.9425, f1 0.589, precision 0.590\n",
      "[epoch 7]: loss 0.3465, f1 0.775, precision 0.718\n",
      "validation: loss 1.0371, f1 0.583, precision 0.565\n",
      "[epoch 8]: loss 0.2842, f1 0.797, precision 0.732\n",
      "validation: loss 0.8491, f1 0.609, precision 0.586\n",
      "[epoch 9]: loss 0.2767, f1 0.777, precision 0.712\n",
      "validation: loss 0.7388, f1 0.636, precision 0.619\n",
      "[epoch 10]: loss 0.1982, f1 0.788, precision 0.734\n",
      "validation: loss 1.0543, f1 0.656, precision 0.698\n",
      "[epoch 11]: loss 0.2107, f1 0.816, precision 0.760\n",
      "validation: loss 0.9367, f1 0.512, precision 0.477\n",
      "[epoch 12]: loss 0.2416, f1 0.717, precision 0.651\n",
      "validation: loss 0.9208, f1 0.529, precision 0.522\n",
      "[epoch 13]: loss 0.2550, f1 0.759, precision 0.704\n",
      "validation: loss 0.8397, f1 0.685, precision 0.691\n",
      "[epoch 14]: loss 0.2046, f1 0.790, precision 0.721\n",
      "validation: loss 1.1630, f1 0.582, precision 0.545\n",
      "[epoch 15]: loss 0.2500, f1 0.817, precision 0.749\n",
      "validation: loss 1.0319, f1 0.481, precision 0.466\n",
      "\n",
      "\n",
      "TRAINING transformer_best::0\n",
      "Computing input features...\n"
     ]
    },
    {
     "name": "stderr",
     "output_type": "stream",
     "text": [
      "100%|██████████| 20/20 [00:16<00:00,  1.21it/s]\n"
     ]
    },
    {
     "name": "stdout",
     "output_type": "stream",
     "text": [
      "Computing annotation arrays...\n"
     ]
    },
    {
     "name": "stderr",
     "output_type": "stream",
     "text": [
      "100%|██████████| 20/20 [00:00<00:00, 553.09it/s]\n"
     ]
    },
    {
     "name": "stdout",
     "output_type": "stream",
     "text": [
      "Filtering 42.57% of samples\n",
      "Number of samples:\n",
      "    validation:\n",
      "      {-100: 73313, 0: 244, 3: 42536, 4: 27320, 1: 7592, 2: 739}\n",
      "    training:\n",
      "      {-100: 261607, 3: 164564, 2: 2670, 4: 92860, 1: 26480, 0: 491}\n",
      "    test:\n",
      "      {1: 0, 2: 0, 3: 0, 4: 0, 0: 0}\n",
      "Computing normalization statistics...\n"
     ]
    },
    {
     "name": "stderr",
     "output_type": "stream",
     "text": [
      "100%|██████████| 8573/8573 [02:37<00:00, 54.45it/s] \n",
      "100%|██████████| 8573/8573 [00:10<00:00, 806.52it/s]\n"
     ]
    },
    {
     "name": "stdout",
     "output_type": "stream",
     "text": [
      "Initializing class weights:\n",
      "    17.46, 0.324, 3.211, 0.052, 0.092\n",
      "Behavior indices:\n",
      "    0: other\n",
      "    1: Grooming\n",
      "    2: StartEnd\n",
      "    3: Supported\n",
      "    4: Unsupported\n"
     ]
    },
    {
     "name": "stderr",
     "output_type": "stream",
     "text": [
      "/home/liza/DLC2Action_minimal/dlc2action/project/meta.py:665: FutureWarning:\n",
      "\n",
      "Behavior when concatenating bool-dtype and numeric-dtype arrays is deprecated; in a future version these will cast to object dtype (instead of coercing bools to numeric values). To retain the old behavior, explicitly cast bool-dtype arrays to numeric dtype.\n",
      "\n"
     ]
    },
    {
     "name": "stdout",
     "output_type": "stream",
     "text": [
      "[epoch 1]: loss 0.0122, f1 0.470, precision 0.445\n",
      "validation: loss 0.0156, f1 0.473, precision 0.444\n",
      "[epoch 2]: loss 0.0072, f1 0.644, precision 0.585\n",
      "validation: loss 0.0190, f1 0.552, precision 0.537\n",
      "[epoch 3]: loss 0.0063, f1 0.660, precision 0.599\n",
      "validation: loss 0.0143, f1 0.594, precision 0.580\n",
      "[epoch 4]: loss 0.0049, f1 0.716, precision 0.646\n",
      "validation: loss 0.0163, f1 0.472, precision 0.466\n",
      "[epoch 5]: loss 0.0040, f1 0.749, precision 0.674\n",
      "validation: loss 0.0151, f1 0.583, precision 0.549\n",
      "[epoch 6]: loss 0.0032, f1 0.810, precision 0.740\n",
      "validation: loss 0.0157, f1 0.540, precision 0.504\n",
      "[epoch 7]: loss 0.0030, f1 0.833, precision 0.768\n",
      "validation: loss 0.0159, f1 0.579, precision 0.543\n",
      "[epoch 8]: loss 0.0042, f1 0.706, precision 0.655\n",
      "validation: loss 0.0167, f1 0.581, precision 0.539\n",
      "[epoch 9]: loss 0.0029, f1 0.809, precision 0.742\n",
      "validation: loss 0.0163, f1 0.586, precision 0.555\n",
      "[epoch 10]: loss 0.0023, f1 0.841, precision 0.778\n",
      "validation: loss 0.0156, f1 0.589, precision 0.558\n",
      "[epoch 11]: loss 0.0021, f1 0.875, precision 0.819\n",
      "validation: loss 0.0152, f1 0.623, precision 0.597\n",
      "[epoch 12]: loss 0.0019, f1 0.877, precision 0.819\n",
      "validation: loss 0.0149, f1 0.631, precision 0.603\n",
      "[epoch 13]: loss 0.0021, f1 0.867, precision 0.810\n",
      "validation: loss 0.0194, f1 0.619, precision 0.584\n",
      "[epoch 14]: loss 0.0036, f1 0.792, precision 0.723\n",
      "validation: loss 0.0240, f1 0.524, precision 0.519\n",
      "[epoch 15]: loss 0.0025, f1 0.832, precision 0.770\n",
      "validation: loss 0.0160, f1 0.586, precision 0.551\n",
      "\n",
      "\n",
      "TRAINING transformer_best::1\n",
      "Number of samples:\n",
      "    validation:\n",
      "      {-100: 73313, 0: 244, 3: 42536, 4: 27320, 1: 7592, 2: 739}\n",
      "    training:\n",
      "      {-100: 261607, 3: 164564, 2: 2670, 4: 92860, 1: 26480, 0: 491}\n",
      "    test:\n",
      "      {1: 0, 2: 0, 3: 0, 4: 0, 0: 0}\n",
      "Computing normalization statistics...\n"
     ]
    },
    {
     "name": "stderr",
     "output_type": "stream",
     "text": [
      "100%|██████████| 8573/8573 [00:10<00:00, 809.06it/s]\n",
      "100%|██████████| 8573/8573 [00:11<00:00, 773.80it/s]\n"
     ]
    },
    {
     "name": "stdout",
     "output_type": "stream",
     "text": [
      "Initializing class weights:\n",
      "    17.46, 0.324, 3.211, 0.052, 0.092\n",
      "Behavior indices:\n",
      "    0: other\n",
      "    1: Grooming\n",
      "    2: StartEnd\n",
      "    3: Supported\n",
      "    4: Unsupported\n",
      "[epoch 1]: loss 0.0139, f1 0.476, precision 0.453\n",
      "validation: loss 0.0191, f1 0.446, precision 0.448\n",
      "[epoch 2]: loss 0.0073, f1 0.641, precision 0.586\n",
      "validation: loss 0.0182, f1 0.517, precision 0.509\n",
      "[epoch 3]: loss 0.0057, f1 0.676, precision 0.613\n",
      "validation: loss 0.0140, f1 0.557, precision 0.518\n",
      "[epoch 4]: loss 0.0055, f1 0.699, precision 0.634\n",
      "validation: loss 0.0228, f1 0.507, precision 0.503\n",
      "[epoch 5]: loss 0.0059, f1 0.679, precision 0.621\n",
      "validation: loss 0.0201, f1 0.526, precision 0.504\n",
      "[epoch 6]: loss 0.0037, f1 0.738, precision 0.668\n",
      "validation: loss 0.0159, f1 0.576, precision 0.548\n",
      "[epoch 7]: loss 0.0041, f1 0.762, precision 0.696\n",
      "validation: loss 0.0219, f1 0.576, precision 0.567\n",
      "[epoch 8]: loss 0.0029, f1 0.763, precision 0.698\n",
      "validation: loss 0.0159, f1 0.562, precision 0.536\n",
      "[epoch 9]: loss 0.0023, f1 0.862, precision 0.801\n",
      "validation: loss 0.0160, f1 0.594, precision 0.560\n",
      "[epoch 10]: loss 0.0025, f1 0.844, precision 0.778\n",
      "validation: loss 0.0217, f1 0.563, precision 0.528\n",
      "[epoch 11]: loss 0.0023, f1 0.849, precision 0.784\n",
      "validation: loss 0.0199, f1 0.582, precision 0.551\n",
      "[epoch 12]: loss 0.0019, f1 0.893, precision 0.841\n",
      "validation: loss 0.0187, f1 0.572, precision 0.540\n",
      "[epoch 13]: loss 0.0018, f1 0.896, precision 0.845\n",
      "validation: loss 0.0173, f1 0.604, precision 0.573\n",
      "[epoch 14]: loss 0.0017, f1 0.908, precision 0.861\n",
      "validation: loss 0.0189, f1 0.568, precision 0.534\n",
      "[epoch 15]: loss 0.0019, f1 0.898, precision 0.849\n",
      "validation: loss 0.0189, f1 0.592, precision 0.562\n",
      "\n",
      "\n",
      "TRAINING transformer_best::2\n",
      "Initializing class weights:\n",
      "    17.46, 0.324, 3.211, 0.052, 0.092\n",
      "Behavior indices:\n",
      "    0: other\n",
      "    1: Grooming\n",
      "    2: StartEnd\n",
      "    3: Supported\n",
      "    4: Unsupported\n",
      "[epoch 1]: loss 0.0131, f1 0.479, precision 0.455\n",
      "validation: loss 0.0180, f1 0.415, precision 0.523\n",
      "[epoch 2]: loss 0.0076, f1 0.646, precision 0.586\n",
      "validation: loss 0.0179, f1 0.550, precision 0.529\n",
      "[epoch 3]: loss 0.0066, f1 0.633, precision 0.579\n",
      "validation: loss 0.0147, f1 0.545, precision 0.522\n",
      "[epoch 4]: loss 0.0043, f1 0.746, precision 0.674\n",
      "validation: loss 0.0140, f1 0.565, precision 0.530\n",
      "[epoch 5]: loss 0.0039, f1 0.751, precision 0.681\n",
      "validation: loss 0.0147, f1 0.567, precision 0.530\n",
      "[epoch 6]: loss 0.0049, f1 0.704, precision 0.641\n",
      "validation: loss 0.0133, f1 0.603, precision 0.567\n",
      "[epoch 7]: loss 0.0036, f1 0.781, precision 0.713\n",
      "validation: loss 0.0166, f1 0.589, precision 0.557\n",
      "[epoch 8]: loss 0.0031, f1 0.794, precision 0.721\n",
      "validation: loss 0.0147, f1 0.620, precision 0.598\n",
      "[epoch 9]: loss 0.0024, f1 0.828, precision 0.766\n",
      "validation: loss 0.0151, f1 0.607, precision 0.583\n",
      "[epoch 10]: loss 0.0020, f1 0.857, precision 0.793\n",
      "validation: loss 0.0149, f1 0.557, precision 0.540\n",
      "[epoch 11]: loss 0.0026, f1 0.858, precision 0.796\n",
      "validation: loss 0.0151, f1 0.618, precision 0.579\n",
      "[epoch 12]: loss 0.0029, f1 0.773, precision 0.709\n",
      "validation: loss 0.0161, f1 0.604, precision 0.585\n",
      "[epoch 13]: loss 0.0020, f1 0.880, precision 0.823\n",
      "validation: loss 0.0173, f1 0.530, precision 0.500\n",
      "[epoch 14]: loss 0.0054, f1 0.696, precision 0.648\n",
      "validation: loss 0.0156, f1 0.618, precision 0.580\n",
      "[epoch 15]: loss 0.0029, f1 0.790, precision 0.725\n",
      "validation: loss 0.0144, f1 0.599, precision 0.572\n",
      "\n",
      "\n"
     ]
    }
   ],
   "source": [
    "for model in [MODEL_NAME1, MODEL_NAME2]:\n",
    "    project.run_episode(\n",
    "        f\"{model}_best\",\n",
    "        load_search=f\"{model}_search\", # loading the search\n",
    "        force=True, # when force=True, if an episode with this name already exists it will be overwritten -> use with caution!\n",
    "        parameters_update={\n",
    "            \"general\": {\"model_name\": model} # note that you do need to set the model explicitly, it is not loaded with the search\n",
    "        },\n",
    "        n_seeds=2 # we will repeat the experiment 2 times (same parameters, different random seed) to get an estimation for how stable our results are\n",
    ")"
   ]
  },
  {
   "cell_type": "markdown",
   "metadata": {},
   "source": [
    "## Evaluation"
   ]
  },
  {
   "cell_type": "markdown",
   "metadata": {},
   "source": [
    "Now that we've trained our best models, we can analyze the results. Note that most statistics are aggregated over the 2 runs (random seeds) automatically. "
   ]
  },
  {
   "cell_type": "code",
   "execution_count": 31,
   "metadata": {},
   "outputs": [],
   "source": [
    "best_episodes = [f\"{model}_best\" for model in [MODEL_NAME1, MODEL_NAME2]]"
   ]
  },
  {
   "cell_type": "code",
   "execution_count": 32,
   "metadata": {},
   "outputs": [
    {
     "data": {
      "image/png": "[encoded data removed]",
      "text/plain": [
       "<Figure size 640x480 with 1 Axes>"
      ]
     },
     "metadata": {},
     "output_type": "display_data"
    }
   ],
   "source": [
    "project.plot_episodes(\n",
    "    best_episodes,\n",
    "    metrics=METRICS, \n",
    "    episode_labels=[\"model_1\", \"model_2\"], \n",
    "    add_hlines=[(0.42, \"a line\")], # we'll add a random horizontal line here but you can use this parameter to mark important thresholds\n",
    "    title=\"Best model training curves\"\n",
    ")"
   ]
  },
  {
   "cell_type": "markdown",
   "metadata": {},
   "source": [
    "The bold lines here are the means over the two runs of each episode and the transparent lines are the individual runs."
   ]
  },
  {
   "cell_type": "markdown",
   "metadata": {},
   "source": [
    "We can also check out more metrics now."
   ]
  },
  {
   "cell_type": "code",
   "execution_count": 33,
   "metadata": {},
   "outputs": [
    {
     "name": "stdout",
     "output_type": "stream",
     "text": [
      "EVALUATION c2f_tcn_best\n",
      "episode c2f_tcn_best::0\n",
      "Number of samples:\n",
      "    validation:\n",
      "      {-100: 161290, 0: 169, 3: 42341, 4: 27320, 1: 7446, 2: 538}\n",
      "    training:\n",
      "      {-100: 649094, 3: 163336, 2: 1990, 4: 92604, 1: 26480, 0: 384}\n",
      "    test:\n",
      "      {1: 0, 2: 0, 3: 0, 4: 0, 0: 0}\n",
      "Setting loaded normalization statistics...\n",
      "Initializing class weights:\n",
      "    4.75, 0.069, 0.917, 0.011, 0.02\n",
      "Behavior indices:\n",
      "    0: other\n",
      "    1: Grooming\n",
      "    2: StartEnd\n",
      "    3: Supported\n",
      "    4: Unsupported\n"
     ]
    },
    {
     "name": "stderr",
     "output_type": "stream",
     "text": [
      "  0%|          | 0/8 [00:00<?, ?it/s]/home/liza/DLC2Action_minimal/dlc2action/model/c2f_tcn.py:92: UserWarning:\n",
      "\n",
      "__floordiv__ is deprecated, and its behavior will change in a future version of pytorch. It currently rounds toward 0 (like the 'trunc' function NOT 'floor'). This results in incorrect rounding for negative values. To keep the current behavior, use torch.div(a, b, rounding_mode='trunc'), or for actual floor division, use torch.div(a, b, rounding_mode='floor').\n",
      "\n",
      "100%|██████████| 8/8 [00:13<00:00,  1.63s/it]\n"
     ]
    },
    {
     "name": "stdout",
     "output_type": "stream",
     "text": [
      "f1_0 0.000, f1_1 0.505, f1_2 0.616, f1_3 0.912, f1_4 0.757, mAP 0.119, segmental_f1 0.146\n",
      "\n",
      "\n",
      "AGGREGATED:\n",
      "f1_0 0.000, f1_1 0.505, f1_2 0.616, f1_3 0.912, f1_4 0.757, mAP 0.119, segmental_f1 0.146\n",
      "Inference time: 0:00:13\n",
      "\n",
      "\n",
      "EVALUATION transformer_best\n",
      "episode transformer_best::0\n",
      "Number of samples:\n",
      "    validation:\n",
      "      {-100: 73313, 0: 244, 3: 42536, 4: 27320, 1: 7592, 2: 739}\n",
      "    training:\n",
      "      {-100: 261607, 3: 164564, 2: 2670, 4: 92860, 1: 26480, 0: 491}\n",
      "    test:\n",
      "      {1: 0, 2: 0, 3: 0, 4: 0, 0: 0}\n",
      "Setting loaded normalization statistics...\n",
      "Initializing class weights:\n",
      "    17.46, 0.324, 3.211, 0.052, 0.092\n",
      "Behavior indices:\n",
      "    0: other\n",
      "    1: Grooming\n",
      "    2: StartEnd\n",
      "    3: Supported\n",
      "    4: Unsupported\n"
     ]
    },
    {
     "name": "stderr",
     "output_type": "stream",
     "text": [
      "100%|██████████| 38/38 [00:05<00:00,  6.51it/s]\n"
     ]
    },
    {
     "name": "stdout",
     "output_type": "stream",
     "text": [
      "f1_0 0.005, f1_1 0.551, f1_2 0.698, f1_3 0.893, f1_4 0.784, mAP 0.265, segmental_f1 0.221\n",
      "\n",
      "\n",
      "AGGREGATED:\n",
      "f1_0 0.005, f1_1 0.551, f1_2 0.698, f1_3 0.893, f1_4 0.784, mAP 0.265, segmental_f1 0.221\n",
      "Inference time: 0:00:05\n",
      "\n",
      "\n"
     ]
    }
   ],
   "source": [
    "for episode in best_episodes:\n",
    "    project.evaluate(\n",
    "        [episode],\n",
    "        parameters_update={\n",
    "            \"general\": {\"metric_functions\": [\"segmental_f1\", \"mAP\", \"f1\"]},\n",
    "            \"metrics\": {\n",
    "                \"f1\": {\"average\": \"none\"} # you can also update parameters for metrics (check project.list_basic_parameters() for options)\n",
    "            }\n",
    "        }\n",
    "    )"
   ]
  },
  {
   "cell_type": "markdown",
   "metadata": {},
   "source": [
    "There are several ways to summarize the results."
   ]
  },
  {
   "cell_type": "code",
   "execution_count": 34,
   "metadata": {},
   "outputs": [
    {
     "name": "stdout",
     "output_type": "stream",
     "text": [
      "RESULTS:\n",
      "         c2f_tcn_best precision  c2f_tcn_best f1  transformer_best precision  \\\n",
      "average                0.537579         0.556522                    0.561453   \n",
      "\n",
      "         transformer_best f1  \n",
      "average             0.592436  \n",
      "\n",
      "\n"
     ]
    },
    {
     "data": {
      "text/html": [
       "<div>\n",
       "<style scoped>\n",
       "    .dataframe tbody tr th:only-of-type {\n",
       "        vertical-align: middle;\n",
       "    }\n",
       "\n",
       "    .dataframe tbody tr th {\n",
       "        vertical-align: top;\n",
       "    }\n",
       "\n",
       "    .dataframe thead th {\n",
       "        text-align: right;\n",
       "    }\n",
       "</style>\n",
       "<table border=\"1\" class=\"dataframe\">\n",
       "  <thead>\n",
       "    <tr style=\"text-align: right;\">\n",
       "      <th></th>\n",
       "      <th>c2f_tcn_best precision</th>\n",
       "      <th>c2f_tcn_best f1</th>\n",
       "      <th>transformer_best precision</th>\n",
       "      <th>transformer_best f1</th>\n",
       "    </tr>\n",
       "  </thead>\n",
       "  <tbody>\n",
       "    <tr>\n",
       "      <th>average</th>\n",
       "      <td>0.537579</td>\n",
       "      <td>0.556522</td>\n",
       "      <td>0.561453</td>\n",
       "      <td>0.592436</td>\n",
       "    </tr>\n",
       "  </tbody>\n",
       "</table>\n",
       "</div>"
      ],
      "text/plain": [
       "         c2f_tcn_best precision  c2f_tcn_best f1  transformer_best precision  \\\n",
       "average                0.537579         0.556522                    0.561453   \n",
       "\n",
       "         transformer_best f1  \n",
       "average             0.592436  "
      ]
     },
     "execution_count": 34,
     "metadata": {},
     "output_type": "execute_result"
    }
   ],
   "source": [
    "project.get_results_table(best_episodes)"
   ]
  },
  {
   "cell_type": "markdown",
   "metadata": {},
   "source": [
    "The `get_summary` method will only show the metrics computed during training while `get_results_table` also pulls up the results of evaluation."
   ]
  },
  {
   "cell_type": "code",
   "execution_count": 35,
   "metadata": {},
   "outputs": [
    {
     "name": "stdout",
     "output_type": "stream",
     "text": [
      "SUMMARY ['c2f_tcn_best']\n",
      "loss: mean 1.049, std 0.031\n",
      "f1: mean 0.556, std 0.061\n",
      "precision: mean 0.538, std 0.067\n",
      "\n",
      "\n",
      "SUMMARY ['transformer_best']\n",
      "loss: mean 0.016, std 0.002\n",
      "f1: mean 0.592, std 0.005\n",
      "precision: mean 0.562, std 0.009\n",
      "\n",
      "\n"
     ]
    }
   ],
   "source": [
    "for episode in best_episodes:\n",
    "    _ = project.get_summary([episode])"
   ]
  },
  {
   "cell_type": "markdown",
   "metadata": {},
   "source": [
    "## Using trained models"
   ]
  },
  {
   "cell_type": "markdown",
   "metadata": {},
   "source": [
    "After your models are trained, there's a few ways you can use them.\n",
    "\n",
    "If you're still not quite happy with the results, you can train the model for a few more epochs with `project.continue_episode()`."
   ]
  },
  {
   "cell_type": "code",
   "execution_count": 36,
   "metadata": {},
   "outputs": [
    {
     "name": "stdout",
     "output_type": "stream",
     "text": [
      "TRAINING c2f_tcn_best::0\n",
      "Computing input features...\n"
     ]
    },
    {
     "name": "stderr",
     "output_type": "stream",
     "text": [
      "  0%|          | 0/20 [00:00<?, ?it/s]"
     ]
    }
   ],
   "source": [
    "project.continue_episode(f\"{MODEL_NAME1}_best\", num_epochs=20, n_seeds=3)"
   ]
  },
  {
   "cell_type": "markdown",
   "metadata": {},
   "source": [
    "You can also train another episode with different parameters that loads the weights of your model as an initialization. Note that it will use all three runs as starting points for its own three runs."
   ]
  },
  {
   "cell_type": "code",
   "execution_count": null,
   "metadata": {},
   "outputs": [],
   "source": [
    "project.run_episode(\n",
    "    f\"{MODEL_NAME1}_best_lr1e-5\",\n",
    "    load_episode=f\"{MODEL_NAME1}_best\",\n",
    "    load_search=f\"{MODEL_NAME1}_search\",\n",
    "    parameters_update={\n",
    "        \"general\": {\"model_name\": MODEL_NAME1},\n",
    "        \"training\": {\"lr\": 1e-5, \"num_epochs\": 5}\n",
    "    },\n",
    "    force=True,\n",
    ")"
   ]
  },
  {
   "cell_type": "markdown",
   "metadata": {},
   "source": [
    "You can also plot such episodes together as one line."
   ]
  },
  {
   "cell_type": "code",
   "execution_count": null,
   "metadata": {},
   "outputs": [],
   "source": [
    "project.plot_episodes(\n",
    "    [[f\"{MODEL_NAME1}_best\", f\"{MODEL_NAME1}_best_lr1e-5\"], f\"{MODEL_NAME2}_best\"], \n",
    "    episode_labels=[\"combined_model1\", \"model2\"],\n",
    "    metrics=METRICS\n",
    ")"
   ]
  },
  {
   "cell_type": "markdown",
   "metadata": {},
   "source": [
    "All the episodes you have run are stored in the project memory and you can pull up the history with all the parameters."
   ]
  },
  {
   "cell_type": "code",
   "execution_count": null,
   "metadata": {},
   "outputs": [],
   "source": [
    "_ = project.list_episodes(\n",
    "    display_parameters=[\"general/model_name\", \"meta/training_time\", \"meta/time\", f\"results/{METRICS[0]}\"], # choose the parameters to display\n",
    "    value_filter=\"training/lr::>1e-5\" # filter the entries by any parameter or result\n",
    ")"
   ]
  },
  {
   "cell_type": "markdown",
   "metadata": {},
   "source": [
    "The same goes for hyperparameter searches and predictions. This function also returns a `pandas` table you can process yourself."
   ]
  },
  {
   "cell_type": "code",
   "execution_count": null,
   "metadata": {},
   "outputs": [],
   "source": [
    "searches = project.list_searches(print_results=False)\n",
    "searches.head()"
   ]
  },
  {
   "cell_type": "markdown",
   "metadata": {},
   "source": [
    "When you find that you are happy with the results, you can use the model to generate predictions for new data. \n",
    "\n",
    "Predictions here are probabilities of each behavior being seen in each frame while suggestions are suggested intervals generated from those probabilities."
   ]
  },
  {
   "cell_type": "markdown",
   "metadata": {},
   "source": [
    "Let's generate a prediction with one of our models and look at one of the resulting files. Note that you can use multiple models and average over their predictions."
   ]
  },
  {
   "cell_type": "code",
   "execution_count": null,
   "metadata": {},
   "outputs": [],
   "source": [
    "project.run_prediction(\n",
    "    f\"{MODEL_NAME1}_best_prediction\",\n",
    "    episode_names=[f\"{MODEL_NAME1}_best_lr1e-5\"],\n",
    "    force=True\n",
    ")"
   ]
  },
  {
   "cell_type": "code",
   "execution_count": null,
   "metadata": {},
   "outputs": [],
   "source": [
    "import pickle\n",
    "import os\n",
    "\n",
    "\n",
    "# picking a random file from the prediction folder\n",
    "prediction_folder = project.prediction_path(f\"{MODEL_NAME1}_best_prediction\")\n",
    "prediction_file = os.listdir(prediction_folder)[0]\n",
    "prediction_file = os.path.join(prediction_folder, prediction_file)\n",
    "\n",
    "with open(prediction_file, \"rb\") as f: # open the file\n",
    "    prediction = pickle.load(f)\n",
    "\n",
    "for key, value in prediction.items(): # explore the contents\n",
    "    if key not in [\"max_frames\", \"min_frames\", \"video_tag\", \"behaviors\"]: # everything else is prediction tensors\n",
    "        print(f'{key}: {value.shape}')\n",
    "    \n",
    "behaviors_order = prediction[\"behaviors\"]\n",
    "\n",
    "start = 50\n",
    "end = 70\n",
    "action = \"Unsupported\"\n",
    "\n",
    "index = behaviors_order.index(action)\n",
    "\n",
    "print(f'The mean probability of {action} between frames {start} and {end} is {prediction[\"ind0\"][index, start: end].mean()}')"
   ]
  },
  {
   "cell_type": "code",
   "execution_count": null,
   "metadata": {},
   "outputs": [],
   "source": [
    "project.remove_saved_features()\n",
    "project.remove_extra_checkpoints()"
   ]
  },
  {
   "cell_type": "markdown",
   "metadata": {},
   "source": [
    "## Working with custom annotation data"
   ]
  },
  {
   "cell_type": "markdown",
   "metadata": {},
   "source": [
    "If you want to work with your own data, first check `Project.print_data_types()` and `Project.print_annotation_types()` to check if we already have the format that you need.\n",
    "\n",
    "If we don't, you can choose either of them to transform your data to but the easiest is probably `DeepLabCut` track or tracklet for the pose estimation data and our custom `\"dlc\"` format for annotation."
   ]
  },
  {
   "cell_type": "markdown",
   "metadata": {},
   "source": [
    "Let's talk about the latter in more detail.\n",
    "\n",
    "It assumes every annotation file to be a pickled nested dictionary where first-level keys are individual names, second-level keys are behavior names and values are lists of intervals. Here is an example.\n",
    "```\n",
    "{\n",
    "    \"ind0\": {\n",
    "        \"running\": [[20, 30], [40, 50]]\n",
    "    },\n",
    "    \"ind1\": {\n",
    "        \"eating\": [[10, 56]]\n",
    "    }\n",
    "}\n",
    "```\n",
    "\n",
    "Here `\"ind0\"` is running in frames 20 to 30 and 40 to 50 while `\"ind1\"` is eating in frames 10 to 56.\n",
    "\n",
    "In case your dataset contains interactive actions, connect the individual names with a plus in alphabetical order (e.g. `\"ind0+ind1\"`). At the moment, we can only support two scenarios: either all actions are interactive or all are individual. In case they are interactive, update the parameters with `project.update_parameters({\"general\": {\"interactive\": True}})` before running experiments."
   ]
  },
  {
   "cell_type": "markdown",
   "metadata": {},
   "source": [
    "As an exercise, let's generate a file in this format from one of the CSV files we've been working with."
   ]
  },
  {
   "cell_type": "code",
   "execution_count": null,
   "metadata": {},
   "outputs": [],
   "source": [
    "import os\n",
    "import pandas as pd\n",
    "from collections import defaultdict\n",
    "import pickle\n",
    "import numpy as np\n",
    "\n",
    "filename = [x for x in os.listdir(LABELS_PATH) if x.endswith(\".csv\")][0] # load a random .csv file\n",
    "filepath = os.path.join(LABELS_PATH, filename)\n",
    "\n",
    "data = pd.read_csv(filepath)"
   ]
  },
  {
   "cell_type": "code",
   "execution_count": null,
   "metadata": {},
   "outputs": [],
   "source": [
    "data.head()"
   ]
  },
  {
   "cell_type": "markdown",
   "metadata": {},
   "source": [
    "Behaviors here are not interactive. We don't have a name for the animal so we will call it `\"ind0\"` (that is the default name for single animal DLC track files as well in DLC2Action but you can set something else at `\"data/default_agent_name\"`, just make sure that the names are consistent between annotation and input data). The annotations are encoded as start and end times in seconds. If we download the original videos and check the frame rate we can see that it's 25 fps.\n",
    "\n",
    "Furthermore, the StartEnd behavior doesn't appear to be meaningful for us.\n",
    "\n",
    "Given this information, let's transform this into the DLC format."
   ]
  },
  {
   "cell_type": "code",
   "execution_count": null,
   "metadata": {},
   "outputs": [],
   "source": [
    "FPS = 25\n",
    "OMITTED_BEHAVIORS = [\"StartEnd\"]\n",
    "\n",
    "for filename in [x for x in os.listdir(LABELS_PATH) if x.endswith(\".csv\")]:\n",
    "    if filename == \"AllLabDataOFT_final.csv\": # this is the raw data with all videos together\n",
    "        continue\n",
    "    filepath = os.path.join(LABELS_PATH, filename)\n",
    "    data = pd.read_csv(filepath)\n",
    "    dlc_dict = {\"ind0\": defaultdict(lambda: [])} # this is just a dictionary that returns an empty list when we try to use a key that doesn't exist\n",
    "    for _, row in data.iterrows():\n",
    "        behavior = row[\"type\"]\n",
    "        if behavior in OMITTED_BEHAVIORS: # ignore extra behaviors\n",
    "            continue\n",
    "        if any([np.isnan(x) for x in [row[\"from\"], row[\"to\"]]]): # skip nans\n",
    "            continue\n",
    "        start = int(row[\"from\"] * FPS)\n",
    "        end = int(row[\"to\"] * FPS)\n",
    "        dlc_dict[\"ind0\"][behavior].append([start, end])\n",
    "    new_name = filepath.split(\".\")[0] + \"_dlc.pickle\" # the filenames need to start with the video name\n",
    "    dlc_dict[\"ind0\"] = dict(dlc_dict[\"ind0\"]) # we need to convert the defaultdict back to a standard dictionary before saving\n",
    "    with open(new_name, \"wb\") as f: # save the annotation file\n",
    "        pickle.dump(dlc_dict, f)"
   ]
  },
  {
   "cell_type": "markdown",
   "metadata": {},
   "source": [
    "Let's check that we did everything right. We will create a new project with the new data type and run a small experiment."
   ]
  },
  {
   "cell_type": "code",
   "execution_count": null,
   "metadata": {},
   "outputs": [],
   "source": [
    "# Project.remove_project(\"oft_dlc\", projects_path=PROJECTS_PATH)\n",
    "\n",
    "project = Project(\n",
    "    \"oft_dlc\",\n",
    "    data_path=DATA_PATH,\n",
    "    annotation_path=LABELS_PATH,\n",
    "    data_type=\"dlc_track\",\n",
    "    annotation_type=\"dlc\",\n",
    "    projects_path=PROJECTS_PATH\n",
    ")"
   ]
  },
  {
   "cell_type": "code",
   "execution_count": null,
   "metadata": {},
   "outputs": [],
   "source": [
    "project.update_parameters(\n",
    "    {\n",
    "        \"data\": {\n",
    "            \"data_suffix\": \"DeepCut_resnet50_Blockcourse1May9shuffle1_1030000.csv\", # set; the data files should have the format of {video_id}{data_suffix}, e.g. video1_suffix.pickle, where video1 is the video is and _suffix.pickle is the suffix\n",
    "            \"canvas_shape\": [928, 576], # list; the size of the canvas where the pose was defined\n",
    "            \"annotation_suffix\": \"_dlc.pickle\", # str | set, optional the suffix or the set of suffices such that the annotation files are named {video_id}{annotation_suffix}, e.g, video1_suffix.pickle where video1 is the video id and _suffix.pickle is the suffix\n",
    "            \"fps\": 25 # int; fps (assuming the annotations are given in seconds, otherwise set any value)\n",
    "        },\n",
    "        \"general\": {\n",
    "            \"exclusive\": True, # bool; if true, single-label classification is used; otherwise multi-label\n",
    "        },\n",
    "    }\n",
    ")"
   ]
  },
  {
   "cell_type": "code",
   "execution_count": null,
   "metadata": {},
   "outputs": [],
   "source": [
    "project.run_episode(\"test\", force=True, parameters_update={\"training\": {\"num_epochs\": 1}})"
   ]
  },
  {
   "cell_type": "markdown",
   "metadata": {},
   "source": [
    "## Annotation"
   ]
  },
  {
   "cell_type": "markdown",
   "metadata": {},
   "source": [
    "You can also use `DLC2Action` to generate new annotation files. Install our interface following those instructions and try running it with any video you like."
   ]
  },
  {
   "cell_type": "markdown",
   "metadata": {},
   "source": [
    "To install:\n",
    "```\n",
    "git clone https://github.com/amathislab/dlc2action_annotation\n",
    "cd dlc2action_annotation\n",
    "conda env create -f AnnotationGUI.yaml\n",
    "```"
   ]
  },
  {
   "cell_type": "markdown",
   "metadata": {},
   "source": [
    "To start, go to the `dlc2action_annotation` folder and run `python annotator.py`."
   ]
  },
  {
   "cell_type": "markdown",
   "metadata": {},
   "source": [
    "Check out the [user guide](https://github.com/amathislab/dlc2action_annotation) for instructions."
   ]
  }
 ],
 "metadata": {
  "kernelspec": {
   "display_name": "Python 3.9.13 ('DLC2Action')",
   "language": "python",
   "name": "python3"
  },
  "language_info": {
   "codemirror_mode": {
    "name": "ipython",
    "version": 3
   },
   "file_extension": ".py",
   "mimetype": "text/x-python",
   "name": "python",
   "nbconvert_exporter": "python",
   "pygments_lexer": "ipython3",
   "version": "3.9.12"
  },
  "orig_nbformat": 4,
  "vscode": {
   "interpreter": {
    "hash": "3f5f7675fb80040f0ca1448b5f0ffd03eab1e03daeb908de054f4ee2164beb96"
   }
  }
 },
 "nbformat": 4,
 "nbformat_minor": 2
}
