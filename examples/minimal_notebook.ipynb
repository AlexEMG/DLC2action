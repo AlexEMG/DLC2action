{
 "cells": [
  {
   "cell_type": "markdown",
   "metadata": {},
   "source": [
    "# Intro to DLC2Action (mini)"
   ]
  },
  {
   "cell_type": "markdown",
   "metadata": {},
   "source": [
    "DLC2Action is a package for automatic behavior prediction. It offers implementation of SOTA models and keeps track of experiments."
   ]
  },
  {
   "cell_type": "markdown",
   "metadata": {},
   "source": [
    "To see how it works, we will experiment on a relatively small [publically available](https://github.com/ETHZ-INS/DLCAnalyzer/tree/master/data/OFT) dataset (Sturman, 2020). Run the code below to download the data.\n",
    "\n",
    "This is a minimalistic version of this notebook, check out demo_notebook.ipynb for more information."
   ]
  },
  {
   "cell_type": "code",
   "execution_count": null,
   "metadata": {},
   "outputs": [
    {
     "name": "stdout",
     "output_type": "stream",
     "text": [
      "Requirement already satisfied: gdown in /home/liza/miniconda3/envs/DLC2Action/lib/python3.9/site-packages (4.5.3)\n",
      "Requirement already satisfied: six in /home/liza/miniconda3/envs/DLC2Action/lib/python3.9/site-packages (from gdown) (1.16.0)\n",
      "Requirement already satisfied: beautifulsoup4 in /home/liza/miniconda3/envs/DLC2Action/lib/python3.9/site-packages (from gdown) (4.11.1)\n",
      "Requirement already satisfied: tqdm in /home/liza/miniconda3/envs/DLC2Action/lib/python3.9/site-packages (from gdown) (4.64.1)\n",
      "Requirement already satisfied: requests[socks] in /home/liza/miniconda3/envs/DLC2Action/lib/python3.9/site-packages (from gdown) (2.28.1)\n",
      "Requirement already satisfied: filelock in /home/liza/miniconda3/envs/DLC2Action/lib/python3.9/site-packages (from gdown) (3.8.0)\n",
      "Requirement already satisfied: soupsieve>1.2 in /home/liza/miniconda3/envs/DLC2Action/lib/python3.9/site-packages (from beautifulsoup4->gdown) (2.3.2.post1)\n",
      "Requirement already satisfied: certifi>=2017.4.17 in /home/liza/miniconda3/envs/DLC2Action/lib/python3.9/site-packages (from requests[socks]->gdown) (2022.9.24)\n",
      "Requirement already satisfied: urllib3<1.27,>=1.21.1 in /home/liza/miniconda3/envs/DLC2Action/lib/python3.9/site-packages (from requests[socks]->gdown) (1.26.12)\n",
      "Requirement already satisfied: idna<4,>=2.5 in /home/liza/miniconda3/envs/DLC2Action/lib/python3.9/site-packages (from requests[socks]->gdown) (3.4)\n",
      "Requirement already satisfied: charset-normalizer<3,>=2 in /home/liza/miniconda3/envs/DLC2Action/lib/python3.9/site-packages (from requests[socks]->gdown) (2.1.1)\n",
      "Requirement already satisfied: PySocks!=1.5.7,>=1.5.6 in /home/liza/miniconda3/envs/DLC2Action/lib/python3.9/site-packages (from requests[socks]->gdown) (1.7.1)\n",
      "Downloading...\n",
      "From: https://drive.google.com/uc?id=1BhAAy_YYxWXYVSpCmYXIAOEV9waoMwcK\n",
      "To: /home/liza/DLC2Action_minimal/examples/OFT.zip\n",
      "100%|█████████████████████████████████████████| 475M/475M [00:04<00:00, 111MB/s]\n",
      "E: Could not open lock file /var/lib/dpkg/lock-frontend - open (13: Permission denied)\n",
      "E: Unable to acquire the dpkg frontend lock (/var/lib/dpkg/lock-frontend), are you root?\n",
      "Archive:  OFT.zip\n",
      "   creating: OFT/OFT/\n",
      "  inflating: OFT/__MACOSX/._OFT      \n",
      "  inflating: OFT/OFT/.DS_Store       \n",
      "  inflating: OFT/__MACOSX/OFT/._.DS_Store  \n",
      "   creating: OFT/OFT/Labels/\n",
      "   creating: OFT/OFT/Output_DLC/\n",
      "  inflating: OFT/OFT/Labels/23_02_A_190507135734.csv  \n",
      "  inflating: OFT/OFT/Labels/12_01_A_190507144429.csv  \n",
      "  inflating: OFT/OFT/Labels/53_04_A_190507135800.csv  \n",
      "  inflating: OFT/OFT/Labels/43_03_A_190507151557.csv  \n",
      "  inflating: OFT/OFT/Labels/57_04_A_190507150030.csv  \n",
      "  inflating: OFT/OFT/Labels/25_02_A_190507142904.csv  \n",
      "  inflating: OFT/OFT/Labels/AllLabDataOFT_final.csv  \n",
      "  inflating: OFT/OFT/Labels/49_04_A_190507125609.csv  \n",
      "  inflating: OFT/OFT/Labels/21_02_A_190507131119.csv  \n",
      "  inflating: OFT/OFT/Labels/40_03_A_190507142917.csv  \n",
      "  inflating: OFT/OFT/Labels/17_02_A_190507120259.csv  \n",
      "  inflating: OFT/OFT/Labels/3_01_A_190507121945.csv  \n",
      "  inflating: OFT/OFT/Labels/58_04_A_190507151611.csv  \n",
      "  inflating: OFT/OFT/Labels/48_04_A_190507123817.csv  \n",
      "  inflating: OFT/OFT/Labels/45_04_A_190507114741.csv  \n",
      "  inflating: OFT/OFT/Labels/37_03_A_190507134213.csv  \n",
      "  inflating: OFT/OFT/Labels/26_02_A_190507144444.csv  \n",
      "  inflating: OFT/OFT/Labels/13_01_A_190507145949.csv  \n",
      "  inflating: OFT/OFT/Labels/18_02_A_190507122004.csv  \n",
      "  inflating: OFT/OFT/Labels/15_01_A_190507153142.csv  \n",
      "  inflating: OFT/OFT/Labels/8_01_A_190507134142.csv  \n",
      "  inflating: OFT/OFT/Output_DLC/48_04_A_190507123817DeepCut_resnet50_Blockcourse1May9shuffle1_1030000.h5  \n",
      "  inflating: OFT/OFT/Output_DLC/6_01_A_190507131058DeepCut_resnet50_Blockcourse1May9shuffle1_1030000.h5  \n",
      "  inflating: OFT/OFT/Output_DLC/15_01_A_190507153142DeepCut_resnet50_Blockcourse1May9shuffle1_1030000.h5  \n",
      "  inflating: OFT/OFT/Output_DLC/5_01_A_190507125512DeepCut_resnet50_Blockcourse1May9shuffle1_1030000.h5  \n",
      "  inflating: OFT/OFT/Output_DLC/29_02_A_190507153158DeepCut_resnet50_Blockcourse1May9shuffle1_1030000.h5  \n",
      "  inflating: OFT/OFT/Output_DLC/9_01_A_190507135719DeepCut_resnet50_Blockcourse1May9shuffle1_1030000.h5  \n",
      "  inflating: OFT/OFT/Output_DLC/20_02_A_190507125529DeepCut_resnet50_Blockcourse1May9shuffle1_1030000.h5  \n",
      "  inflating: OFT/OFT/Output_DLC/56_04_A_190507144511DeepCut_resnet50_Blockcourse1May9shuffle1_1030000.h5  \n",
      "  inflating: OFT/OFT/Output_DLC/53_04_A_190507135800DeepCut_resnet50_Blockcourse1May9shuffle1_1030000.h5  \n",
      "  inflating: OFT/OFT/Output_DLC/38_03_A_190507135747DeepCut_resnet50_Blockcourse1May9shuffle1_1030000.h5  \n",
      "  inflating: OFT/OFT/Output_DLC/31_03_A_190507120320DeepCut_resnet50_Blockcourse1May9shuffle1_1030000.h5  \n",
      "  inflating: OFT/OFT/Output_DLC/58_04_A_190507151611DeepCut_resnet50_Blockcourse1May9shuffle1_1030000.h5  \n",
      "  inflating: OFT/OFT/Output_DLC/43_03_A_190507151557DeepCut_resnet50_Blockcourse1May9shuffle1_1030000.h5  \n",
      "  inflating: OFT/OFT/Output_DLC/7_01_A_190507132652DeepCut_resnet50_Blockcourse1May9shuffle1_1030000.h5  \n",
      "  inflating: OFT/OFT/Output_DLC/59_04_A_190507153228DeepCut_resnet50_Blockcourse1May9shuffle1_1030000.h5  \n",
      "  inflating: OFT/OFT/Output_DLC/44_03_A_190507153213DeepCut_resnet50_Blockcourse1May9shuffle1_1030000.h5  \n",
      "  inflating: OFT/OFT/Output_DLC/36_03_A_190507132711DeepCut_resnet50_Blockcourse1May9shuffle1_1030000.h5  \n",
      "  inflating: OFT/OFT/Output_DLC/3_01_A_190507121945DeepCut_resnet50_Blockcourse1May9shuffle1_1030000.h5  \n",
      "  inflating: OFT/OFT/Output_DLC/21_02_A_190507131119DeepCut_resnet50_Blockcourse1May9shuffle1_1030000.h5  \n",
      "  inflating: OFT/OFT/Output_DLC/14_01_A_190507151530DeepCut_resnet50_Blockcourse1May9shuffle1_1030000.h5  \n",
      "  inflating: OFT/OFT/Output_DLC/57_04_A_190507150030DeepCut_resnet50_Blockcourse1May9shuffle1_1030000.h5  \n",
      "  inflating: OFT/OFT/Output_DLC/32_03_A_190507122023DeepCut_resnet50_Blockcourse1May9shuffle1_1030000.h5  \n",
      "  inflating: OFT/OFT/Output_DLC/8_01_A_190507134142DeepCut_resnet50_Blockcourse1May9shuffle1_1030000.h5  \n",
      "  inflating: OFT/OFT/Output_DLC/42_03_A_190507150017DeepCut_resnet50_Blockcourse1May9shuffle1_1030000.h5  \n",
      "  inflating: OFT/OFT/Output_DLC/19_02_A_190507123740DeepCut_resnet50_Blockcourse1May9shuffle1_1030000.h5  \n",
      "  inflating: OFT/OFT/Output_DLC/16_02_A_190507114646DeepCut_resnet50_Blockcourse1May9shuffle1_1030000.h5  \n",
      "  inflating: OFT/OFT/Output_DLC/27_02_A_190507150003DeepCut_resnet50_Blockcourse1May9shuffle1_1030000.h5  \n",
      "  inflating: OFT/OFT/Output_DLC/10_01_A_190507141248DeepCut_resnet50_Blockcourse1May9shuffle1_1030000.h5  \n",
      "  inflating: OFT/OFT/Output_DLC/51_04_A_190507132728DeepCut_resnet50_Blockcourse1May9shuffle1_1030000.h5  \n",
      "  inflating: OFT/OFT/Output_DLC/11_01_A_190507142850DeepCut_resnet50_Blockcourse1May9shuffle1_1030000.h5  \n",
      "  inflating: OFT/OFT/Output_DLC/13_01_A_190507145949DeepCut_resnet50_Blockcourse1May9shuffle1_1030000.h5  \n",
      "  inflating: OFT/OFT/Output_DLC/18_02_A_190507122004DeepCut_resnet50_Blockcourse1May9shuffle1_1030000.h5  \n",
      "  inflating: OFT/OFT/Output_DLC/28_02_A_190507151545DeepCut_resnet50_Blockcourse1May9shuffle1_1030000.h5  \n",
      "  inflating: OFT/OFT/Output_DLC/37_03_A_190507134213DeepCut_resnet50_Blockcourse1May9shuffle1_1030000.h5  \n",
      "  inflating: OFT/OFT/Output_DLC/4_01_A_190507123718DeepCut_resnet50_Blockcourse1May9shuffle1_1030000.h5  \n",
      "  inflating: OFT/OFT/Output_DLC/26_02_A_190507144444DeepCut_resnet50_Blockcourse1May9shuffle1_1030000.h5  \n",
      "  inflating: OFT/OFT/Output_DLC/34_03_A_190507125548DeepCut_resnet50_Blockcourse1May9shuffle1_1030000.h5  \n",
      "  inflating: OFT/OFT/Output_DLC/54_04_A_190507141337DeepCut_resnet50_Blockcourse1May9shuffle1_1030000.h5  \n",
      "  inflating: OFT/OFT/Output_DLC/41_03_A_190507144457DeepCut_resnet50_Blockcourse1May9shuffle1_1030000.h5  \n",
      "  inflating: OFT/OFT/Output_DLC/35_03_A_190507131135DeepCut_resnet50_Blockcourse1May9shuffle1_1030000.h5  \n",
      "  inflating: OFT/OFT/Output_DLC/45_04_A_190507114741DeepCut_resnet50_Blockcourse1May9shuffle1_1030000.h5  \n",
      "  inflating: OFT/OFT/Output_DLC/50_04_A_190507131154DeepCut_resnet50_Blockcourse1May9shuffle1_1030000.h5  \n",
      "  inflating: OFT/OFT/Output_DLC/39_03_A_190507141319DeepCut_resnet50_Blockcourse1May9shuffle1_1030000.h5  \n",
      "  inflating: OFT/OFT/Output_DLC/2_01_A_190507120240DeepCut_resnet50_Blockcourse1May9shuffle1_1030000.h5  \n",
      "  inflating: OFT/OFT/Output_DLC/49_04_A_190507125609DeepCut_resnet50_Blockcourse1May9shuffle1_1030000.h5  \n",
      "  inflating: OFT/OFT/Output_DLC/47_04_A_190507122047DeepCut_resnet50_Blockcourse1May9shuffle1_1030000.h5  \n",
      "  inflating: OFT/OFT/Output_DLC/40_03_A_190507142917DeepCut_resnet50_Blockcourse1May9shuffle1_1030000.h5  \n",
      "  inflating: OFT/OFT/Output_DLC/25_02_A_190507142904DeepCut_resnet50_Blockcourse1May9shuffle1_1030000.h5  \n",
      "  inflating: OFT/OFT/Output_DLC/33_03_A_190507123759DeepCut_resnet50_Blockcourse1May9shuffle1_1030000.h5  \n",
      "  inflating: OFT/OFT/Output_DLC/52_04_A_190507134227DeepCut_resnet50_Blockcourse1May9shuffle1_1030000.h5  \n",
      "  inflating: OFT/OFT/Output_DLC/55_04_A_190507142930DeepCut_resnet50_Blockcourse1May9shuffle1_1030000.h5  \n",
      "  inflating: OFT/OFT/Output_DLC/12_01_A_190507144429DeepCut_resnet50_Blockcourse1May9shuffle1_1030000.h5  \n",
      "  inflating: OFT/OFT/Output_DLC/30_03_A_190507114720DeepCut_resnet50_Blockcourse1May9shuffle1_1030000.h5  \n",
      "  inflating: OFT/OFT/Output_DLC/46_04_A_190507120344DeepCut_resnet50_Blockcourse1May9shuffle1_1030000.h5  \n",
      "  inflating: OFT/OFT/Output_DLC/22_02_A_190507134157DeepCut_resnet50_Blockcourse1May9shuffle1_1030000.h5  \n",
      "  inflating: OFT/OFT/Output_DLC/1_01_A_190507114629DeepCut_resnet50_Blockcourse1May9shuffle1_1030000.h5  \n",
      "  inflating: OFT/OFT/Output_DLC/17_02_A_190507120259DeepCut_resnet50_Blockcourse1May9shuffle1_1030000.h5  \n",
      "  inflating: OFT/OFT/Output_DLC/24_02_A_190507141305DeepCut_resnet50_Blockcourse1May9shuffle1_1030000.h5  \n",
      "  inflating: OFT/OFT/Output_DLC/23_02_A_190507135734DeepCut_resnet50_Blockcourse1May9shuffle1_1030000.h5  \n"
     ]
    }
   ],
   "source": [
    "!pip install gdown\n",
    "!gdown https://drive.google.com/uc?id=1BhAAy_YYxWXYVSpCmYXIAOEV9waoMwcK\n",
    "!apt-get install unzip\n",
    "!unzip OFT.zip -d OFT"
   ]
  },
  {
   "cell_type": "markdown",
   "metadata": {},
   "source": [
    "... installation\n",
    "\n",
    "for now:\n",
    "```\n",
    "git clone https://github.com/AlexEMG/DLC2Action\n",
    "cd DLC2Action\n",
    "conda create --name DLC2Action python=3.9\n",
    "conda activate DLC2Action\n",
    "python -m pip install .\n",
    "```"
   ]
  },
  {
   "cell_type": "code",
   "execution_count": 1,
   "metadata": {},
   "outputs": [],
   "source": [
    "from dlc2action.project import Project\n",
    "import os\n",
    "\n",
    "# CURRENT_PATH = os.getcwd()\n",
    "# DATA_PATH = os.path.join(CURRENT_PATH, \"OFT\", \"OFT\", \"Output_DLC\")\n",
    "# LABELS_PATH = os.path.join(CURRENT_PATH, \"OFT\", \"OFT\", \"Labels\")\n",
    "# PROJECTS_PATH = os.path.join(CURRENT_PATH, \"DLC2Action\")\n",
    "\n",
    "DATA_PATH = \"/home/liza/OFT/Output_DLC\"\n",
    "LABELS_PATH = \"/home/liza/OFT/Labels\"\n",
    "PROJECTS_PATH = \"/home/liza/DLC2Action_tmp\""
   ]
  },
  {
   "cell_type": "markdown",
   "metadata": {},
   "source": [
    "High-level methods in DLC2Action are almost exclusively accessed through the `dlc2action.project.Project` class. A project instance should loosely correspond to a specific goal (e.g. generating automatic annotations for dataset A with input format X). You can use it to optimize hyperparameters, run experiments, analyze results and generate new data.\n",
    "\n",
    "**Best practices**\n",
    "- When you need to do something with a different data type or unrelated files, it's better to create a new project to keep the experiment history easy to understand.\n",
    "- Each project is associated with a folder on your computer that contains all settings, meta files and experiment outputs. Those folders are created in the folder at `projects_path`. It's generally a good idea to choose one and stick to it throughout projects."
   ]
  },
  {
   "cell_type": "markdown",
   "metadata": {},
   "source": [
    "### Creating a project\n",
    "\n",
    "Let's begin!\n",
    "\n",
    "We will create a project called `\"oft\"`, with `\"dlc_track\"` input and `\"csv\"` annotation format. \n",
    "\n",
    "You can run `Project.print_data_types()` and `Project.print_annotation_types()` to find out more about other options."
   ]
  },
  {
   "cell_type": "code",
   "execution_count": 2,
   "metadata": {},
   "outputs": [],
   "source": [
    "# Project.remove_project(\"oft\", projects_path=PROJECTS_PATH)\n",
    "project = Project(\n",
    "    \"oft\",\n",
    "    data_path=DATA_PATH,\n",
    "    annotation_path=LABELS_PATH,\n",
    "    projects_path=PROJECTS_PATH,\n",
    "    data_type=\"dlc_track\",\n",
    "    annotation_type=\"csv\",\n",
    ")"
   ]
  },
  {
   "cell_type": "markdown",
   "metadata": {},
   "source": [
    "## Setting parameters"
   ]
  },
  {
   "cell_type": "markdown",
   "metadata": {},
   "source": [
    "After the project is created, it's time to configure the parameter settings. \n",
    "\n",
    "The first step is to check which essential parameters are missing with `project.list_blanks()`."
   ]
  },
  {
   "cell_type": "code",
   "execution_count": 3,
   "metadata": {},
   "outputs": [
    {
     "name": "stdout",
     "output_type": "stream",
     "text": [
      "Before running experiments, please update all the blanks.\n",
      "To do that, you can run this.\n",
      "--------------------------------------------------------\n",
      "project.update_parameters(\n",
      "    {\n",
      "        \"data\": {\n",
      "            \"data_suffix\": ..., # set; the data files should have the format of {video_id}{data_suffix}, e.g. video1_suffix.pickle, where video1 is the video is and _suffix.pickle is the suffix\n",
      "            \"canvas_shape\": ..., # list; the size of the canvas where the pose was defined\n",
      "            \"annotation_suffix\": ..., # str | set, optional the suffix or the set of suffices such that the annotation files are named {video_id}{annotation_suffix}, e.g, video1_suffix.pickle where video1 is the video id and _suffix.pickle is the suffix\n",
      "        },\n",
      "        \"general\": {\n",
      "            \"exclusive\": ..., # bool; if true, single-label classification is used; otherwise multi-label\n",
      "        },\n",
      "    }\n",
      ")\n",
      "--------------------------------------------------------\n",
      "Replace ... with relevant values.\n"
     ]
    }
   ],
   "source": [
    "project.list_blanks()"
   ]
  },
  {
   "cell_type": "markdown",
   "metadata": {},
   "source": [
    "We can copy this code, fill in the blanks and run it. \n",
    "\n",
    "We will also set the number of epochs here. Normally the default should be fine but for the purpose of this tutorial we want to set it smaller so that our experiments can finish in time."
   ]
  },
  {
   "cell_type": "code",
   "execution_count": 6,
   "metadata": {},
   "outputs": [],
   "source": [
    "project.update_parameters(\n",
    "    {\n",
    "        \"data\": {\n",
    "            \"data_suffix\": \"DeepCut_resnet50_Blockcourse1May9shuffle1_1030000.csv\", # set; the data files should have the format of {video_id}{data_suffix}, e.g. video1_suffix.pickle, where video1 is the video is and _suffix.pickle is the suffix\n",
    "            \"canvas_shape\": [928, 576], # list; the size of the canvas where the pose was defined\n",
    "            \"annotation_suffix\": \".csv\", # str | set, optional the suffix or the set of suffices such that the annotation files are named {video_id}{annotation_suffix}, e.g, video1_suffix.pickle where video1 is the video id and _suffix.pickle is the suffix\n",
    "        },\n",
    "        \"general\": {\n",
    "            \"exclusive\": True, # bool; if true, single-label classification is used; otherwise multi-label\n",
    "        },\n",
    "        \"training\": {\n",
    "            \"num_epochs\": 15,\n",
    "        }\n",
    "    }\n",
    ")"
   ]
  },
  {
   "cell_type": "markdown",
   "metadata": {},
   "source": [
    "Now we're all set and can start training models."
   ]
  },
  {
   "cell_type": "markdown",
   "metadata": {},
   "source": [
    "## Hyperparameter search"
   ]
  },
  {
   "cell_type": "markdown",
   "metadata": {},
   "source": [
    "There are many hyperparameters in model training, like the number of layers in a model or loss coefficients. The default settings for those parameters should generate reasonable results on most datasets but in order to get the most out of our data we can run a hyperparameter search.\n",
    "\n",
    "The easiest way to find a good set of hyperparameters for your data is to run `project.run_default_hyperparameter_search()`."
   ]
  },
  {
   "cell_type": "code",
   "execution_count": 7,
   "metadata": {},
   "outputs": [
    {
     "name": "stderr",
     "output_type": "stream",
     "text": [
      "\u001b[32m[I 2022-11-17 01:51:49,027]\u001b[0m A new study created in memory with name: no-name-ad3a9caa-529d-41a4-9670-93bc80c333d9\u001b[0m\n"
     ]
    },
    {
     "name": "stdout",
     "output_type": "stream",
     "text": [
      "SEARCH test_search\n",
      "Computing input features...\n"
     ]
    },
    {
     "name": "stderr",
     "output_type": "stream",
     "text": [
      "100%|██████████| 20/20 [00:09<00:00,  2.16it/s]\n"
     ]
    },
    {
     "name": "stdout",
     "output_type": "stream",
     "text": [
      "Computing annotation arrays...\n"
     ]
    },
    {
     "name": "stderr",
     "output_type": "stream",
     "text": [
      "100%|██████████| 20/20 [00:00<00:00, 271.61it/s]\n"
     ]
    },
    {
     "name": "stdout",
     "output_type": "stream",
     "text": [
      "Filtering 93.33% of samples\n",
      "Number of samples:\n",
      "    validation:\n",
      "      {-100: 4026, 1: 60, 4: 10, 2: 0, 3: 0, 0: 0}\n",
      "    training:\n",
      "      {-100: 16104, 1: 148, 3: 97, 4: 35, 2: 0, 0: 0}\n",
      "    test:\n",
      "      {1: 0, 2: 0, 3: 0, 4: 0, 0: 0}\n",
      "Computing normalization statistics...\n"
     ]
    },
    {
     "name": "stderr",
     "output_type": "stream",
     "text": [
      "100%|██████████| 16/16 [00:00<00:00, 320.43it/s]\n",
      "100%|██████████| 16/16 [00:00<00:00, 417.99it/s]"
     ]
    },
    {
     "name": "stdout",
     "output_type": "stream",
     "text": [
      "Initializing class weights:\n",
      "    160000000.0, 0.108, 160000000.0, 0.165, 0.457\n",
      "Behavior indices:\n",
      "    0: other\n",
      "    1: Grooming\n",
      "    2: StartEnd\n",
      "    3: Supported\n",
      "    4: Unsupported\n"
     ]
    },
    {
     "name": "stderr",
     "output_type": "stream",
     "text": [
      "\n"
     ]
    },
    {
     "name": "stdout",
     "output_type": "stream",
     "text": [
      "[epoch 1]: loss 0.1863, f1 0.101\n",
      "validation: loss 0.1596, f1 0.050\n",
      "[epoch 2]: loss 0.1490, f1 0.305\n",
      "validation: loss 0.1592, f1 0.054\n",
      "[epoch 3]: loss 0.1168, f1 0.353\n",
      "validation: loss 0.1591, f1 0.066\n",
      "[epoch 4]: loss 0.0773, f1 0.429\n",
      "validation: loss 0.1593, f1 0.050\n",
      "[epoch 5]: loss 0.0474, f1 0.495\n",
      "validation: loss 0.1603, f1 0.057\n",
      "[epoch 6]: loss 0.0278, f1 0.570\n",
      "validation: loss 0.1591, f1 0.050\n",
      "[epoch 7]: loss 0.0248, f1 0.533\n",
      "validation: loss 0.1581, f1 0.051\n",
      "[epoch 8]: loss 0.0264, f1 0.556\n",
      "validation: loss 0.1577, f1 0.051\n",
      "[epoch 9]: loss 0.0158, f1 0.561\n",
      "validation: loss 0.1573, f1 0.061\n"
     ]
    },
    {
     "name": "stderr",
     "output_type": "stream",
     "text": [
      "\u001b[32m[I 2022-11-17 01:52:07,549]\u001b[0m Trial 0 finished with value: 0.06861116364598274 and parameters: {'losses/ms_tcn/alpha': 3.17178623560126e-05, 'losses/ms_tcn/focal': True, 'training/temporal_subsampling_size': 0.9905673856009127, 'model/num_f_maps': 98, 'general/len_segment': 1024}. Best is trial 0 with value: 0.06861116364598274.\u001b[0m\n"
     ]
    },
    {
     "name": "stdout",
     "output_type": "stream",
     "text": [
      "[epoch 10]: loss 0.0114, f1 0.557\n",
      "validation: loss 0.1556, f1 0.080\n",
      "Number of samples:\n",
      "    validation:\n",
      "      {-100: 4026, 1: 60, 4: 10, 2: 0, 3: 0, 0: 0}\n",
      "    training:\n",
      "      {-100: 16104, 1: 148, 3: 97, 4: 35, 2: 0, 0: 0}\n",
      "    test:\n",
      "      {1: 0, 2: 0, 3: 0, 4: 0, 0: 0}\n",
      "Computing normalization statistics...\n"
     ]
    },
    {
     "name": "stderr",
     "output_type": "stream",
     "text": [
      "100%|██████████| 16/16 [00:00<00:00, 428.55it/s]\n",
      "100%|██████████| 16/16 [00:00<00:00, 470.83it/s]\n"
     ]
    },
    {
     "name": "stdout",
     "output_type": "stream",
     "text": [
      "Initializing class weights:\n",
      "    160000000.0, 0.108, 160000000.0, 0.165, 0.457\n",
      "Behavior indices:\n",
      "    0: other\n",
      "    1: Grooming\n",
      "    2: StartEnd\n",
      "    3: Supported\n",
      "    4: Unsupported\n",
      "[epoch 1]: loss 1.6740, f1 0.109\n",
      "validation: loss 1.6035, f1 0.000\n",
      "[epoch 2]: loss 1.5568, f1 0.278\n",
      "validation: loss 1.5995, f1 0.077\n",
      "[epoch 3]: loss 1.4673, f1 0.395\n",
      "validation: loss 1.5951, f1 0.103\n",
      "[epoch 4]: loss 1.3630, f1 0.394\n",
      "validation: loss 1.5909, f1 0.087\n",
      "[epoch 5]: loss 1.2268, f1 0.462\n",
      "validation: loss 1.5855, f1 0.067\n",
      "[epoch 6]: loss 1.0599, f1 0.487\n",
      "validation: loss 1.5804, f1 0.044\n",
      "[epoch 7]: loss 0.9296, f1 0.499\n",
      "validation: loss 1.5753, f1 0.047\n",
      "[epoch 8]: loss 0.7455, f1 0.526\n",
      "validation: loss 1.5723, f1 0.058\n",
      "[epoch 9]: loss 0.5915, f1 0.551\n",
      "validation: loss 1.5725, f1 0.070\n"
     ]
    },
    {
     "name": "stderr",
     "output_type": "stream",
     "text": [
      "\u001b[32m[I 2022-11-17 01:52:09,439]\u001b[0m Trial 1 finished with value: 0.08901361127694447 and parameters: {'losses/ms_tcn/alpha': 0.0015675461757992998, 'losses/ms_tcn/focal': False, 'training/temporal_subsampling_size': 0.9418813019061888, 'model/num_f_maps': 47, 'general/len_segment': 1024}. Best is trial 1 with value: 0.08901361127694447.\u001b[0m\n"
     ]
    },
    {
     "name": "stdout",
     "output_type": "stream",
     "text": [
      "[epoch 10]: loss 0.4611, f1 0.547\n",
      "validation: loss 1.5725, f1 0.055\n",
      "Computing input features...\n"
     ]
    },
    {
     "name": "stderr",
     "output_type": "stream",
     "text": [
      "100%|██████████| 20/20 [00:09<00:00,  2.07it/s]\n"
     ]
    },
    {
     "name": "stdout",
     "output_type": "stream",
     "text": [
      "Computing annotation arrays...\n"
     ]
    },
    {
     "name": "stderr",
     "output_type": "stream",
     "text": [
      "100%|██████████| 20/20 [00:00<00:00, 267.49it/s]\n"
     ]
    },
    {
     "name": "stdout",
     "output_type": "stream",
     "text": [
      "Filtering 95.17% of samples\n",
      "Number of samples:\n",
      "    validation:\n",
      "      {-100: 2490, 1: 60, 4: 10, 2: 0, 3: 0, 0: 0}\n",
      "    training:\n",
      "      {-100: 12008, 1: 148, 3: 97, 4: 35, 2: 0, 0: 0}\n",
      "    test:\n",
      "      {1: 0, 2: 0, 3: 0, 4: 0, 0: 0}\n",
      "Computing normalization statistics...\n"
     ]
    },
    {
     "name": "stderr",
     "output_type": "stream",
     "text": [
      "100%|██████████| 24/24 [00:00<00:00, 317.12it/s]\n",
      "100%|██████████| 24/24 [00:00<00:00, 540.21it/s]"
     ]
    },
    {
     "name": "stdout",
     "output_type": "stream",
     "text": [
      "Initializing class weights:\n",
      "    240000000.0, 0.162, 240000000.0, 0.247, 0.686\n",
      "Behavior indices:\n",
      "    0: other\n",
      "    1: Grooming\n",
      "    2: StartEnd\n",
      "    3: Supported\n",
      "    4: Unsupported\n"
     ]
    },
    {
     "name": "stderr",
     "output_type": "stream",
     "text": [
      "\n"
     ]
    },
    {
     "name": "stdout",
     "output_type": "stream",
     "text": [
      "[epoch 1]: loss 1.6263, f1 0.094\n",
      "validation: loss 1.6126, f1 0.052\n",
      "[epoch 2]: loss 1.4921, f1 0.254\n",
      "validation: loss 1.6087, f1 0.051\n",
      "[epoch 3]: loss 1.3362, f1 0.406\n",
      "validation: loss 1.6034, f1 0.051\n",
      "[epoch 4]: loss 1.2166, f1 0.375\n",
      "validation: loss 1.5954, f1 0.051\n",
      "[epoch 5]: loss 1.0024, f1 0.422\n",
      "validation: loss 1.5868, f1 0.050\n",
      "[epoch 6]: loss 0.7671, f1 0.483\n",
      "validation: loss 1.5785, f1 0.050\n",
      "[epoch 7]: loss 0.5575, f1 0.529\n",
      "validation: loss 1.5707, f1 0.050\n",
      "[epoch 8]: loss 0.3715, f1 0.553\n",
      "validation: loss 1.5597, f1 0.050\n",
      "[epoch 9]: loss 0.2863, f1 0.568\n",
      "validation: loss 1.5552, f1 0.050\n",
      "[epoch 10]: loss 0.2065, f1 0.571\n",
      "validation: loss 1.5399, f1 0.050\n"
     ]
    },
    {
     "name": "stderr",
     "output_type": "stream",
     "text": [
      "\u001b[32m[I 2022-11-17 01:52:22,206]\u001b[0m Trial 2 finished with value: 0.051392332961161934 and parameters: {'losses/ms_tcn/alpha': 2.1880757674834135e-05, 'losses/ms_tcn/focal': False, 'training/temporal_subsampling_size': 0.8809482811075158, 'model/num_f_maps': 70, 'general/len_segment': 512}. Best is trial 1 with value: 0.08901361127694447.\u001b[0m\n"
     ]
    },
    {
     "name": "stdout",
     "output_type": "stream",
     "text": [
      "Number of samples:\n",
      "    validation:\n",
      "      {-100: 4026, 1: 60, 4: 10, 2: 0, 3: 0, 0: 0}\n",
      "    training:\n",
      "      {-100: 16104, 1: 148, 3: 97, 4: 35, 2: 0, 0: 0}\n",
      "    test:\n",
      "      {1: 0, 2: 0, 3: 0, 4: 0, 0: 0}\n",
      "Computing normalization statistics...\n"
     ]
    },
    {
     "name": "stderr",
     "output_type": "stream",
     "text": [
      "100%|██████████| 16/16 [00:00<00:00, 445.33it/s]\n",
      "100%|██████████| 16/16 [00:00<00:00, 350.56it/s]\n"
     ]
    },
    {
     "name": "stdout",
     "output_type": "stream",
     "text": [
      "Initializing class weights:\n",
      "    160000000.0, 0.108, 160000000.0, 0.165, 0.457\n",
      "Behavior indices:\n",
      "    0: other\n",
      "    1: Grooming\n",
      "    2: StartEnd\n",
      "    3: Supported\n",
      "    4: Unsupported\n",
      "[epoch 1]: loss 0.1737, f1 0.157\n",
      "validation: loss 0.1629, f1 0.000\n",
      "[epoch 2]: loss 0.1427, f1 0.282\n",
      "validation: loss 0.1615, f1 0.056\n"
     ]
    },
    {
     "name": "stderr",
     "output_type": "stream",
     "text": [
      "\u001b[32m[I 2022-11-17 01:52:23,022]\u001b[0m Trial 3 pruned. \u001b[0m\n"
     ]
    },
    {
     "name": "stdout",
     "output_type": "stream",
     "text": [
      "Initializing class weights:\n",
      "    160000000.0, 0.108, 160000000.0, 0.165, 0.457\n",
      "Behavior indices:\n",
      "    0: other\n",
      "    1: Grooming\n",
      "    2: StartEnd\n",
      "    3: Supported\n",
      "    4: Unsupported\n",
      "[epoch 1]: loss 1.6151, f1 0.126\n",
      "validation: loss 1.6218, f1 0.000\n",
      "[epoch 2]: loss 1.5291, f1 0.227\n",
      "validation: loss 1.6209, f1 0.000\n"
     ]
    },
    {
     "name": "stderr",
     "output_type": "stream",
     "text": [
      "\u001b[32m[I 2022-11-17 01:52:23,801]\u001b[0m Trial 4 pruned. \u001b[0m\n"
     ]
    },
    {
     "name": "stdout",
     "output_type": "stream",
     "text": [
      "best parameters: {'losses/ms_tcn/alpha': 0.0015675461757992998, 'losses/ms_tcn/focal': False, 'training/temporal_subsampling_size': 0.9418813019061888, 'model/num_f_maps': 47, 'general/len_segment': 1024}\n",
      "\n",
      "\n"
     ]
    },
    {
     "data": {
      "text/plain": [
       "{'losses/ms_tcn/alpha': 0.0015675461757992998,\n",
       " 'losses/ms_tcn/focal': False,\n",
       " 'training/temporal_subsampling_size': 0.9418813019061888,\n",
       " 'model/num_f_maps': 47,\n",
       " 'general/len_segment': 1024}"
      ]
     },
     "execution_count": 7,
     "metadata": {},
     "output_type": "execute_result"
    }
   ],
   "source": [
    "project.run_default_hyperparameter_search(\n",
    "    \"test_search\",\n",
    "    num_epochs=10,\n",
    "    n_trials=5,\n",
    ")"
   ]
  },
  {
   "cell_type": "markdown",
   "metadata": {},
   "source": [
    "## Training models"
   ]
  },
  {
   "cell_type": "markdown",
   "metadata": {},
   "source": [
    "Now we can train models with the best hyperparameters."
   ]
  },
  {
   "cell_type": "code",
   "execution_count": 8,
   "metadata": {},
   "outputs": [
    {
     "name": "stdout",
     "output_type": "stream",
     "text": [
      "TRAINING test_best\n",
      "Computing input features...\n"
     ]
    },
    {
     "name": "stderr",
     "output_type": "stream",
     "text": [
      "100%|██████████| 20/20 [00:09<00:00,  2.06it/s]\n"
     ]
    },
    {
     "name": "stdout",
     "output_type": "stream",
     "text": [
      "Computing annotation arrays...\n"
     ]
    },
    {
     "name": "stderr",
     "output_type": "stream",
     "text": [
      "100%|██████████| 20/20 [00:00<00:00, 338.41it/s]\n"
     ]
    },
    {
     "name": "stdout",
     "output_type": "stream",
     "text": [
      "Filtering 96.00% of samples\n",
      "Number of samples:\n",
      "    validation:\n",
      "      {-100: 9081, 1: 115, 4: 20, 2: 0, 3: 0, 0: 0}\n",
      "    training:\n",
      "      {-100: 39342, 1: 294, 3: 220, 4: 80, 2: 0, 0: 0}\n",
      "    test:\n",
      "      {1: 0, 2: 0, 3: 0, 4: 0, 0: 0}\n",
      "Computing normalization statistics...\n"
     ]
    },
    {
     "name": "stderr",
     "output_type": "stream",
     "text": [
      "100%|██████████| 39/39 [00:00<00:00, 469.79it/s]\n",
      "100%|██████████| 39/39 [00:00<00:00, 535.19it/s]"
     ]
    },
    {
     "name": "stdout",
     "output_type": "stream",
     "text": [
      "Initializing class weights:\n",
      "    390000000.0, 0.133, 390000000.0, 0.177, 0.487\n",
      "Behavior indices:\n",
      "    0: other\n",
      "    1: Grooming\n",
      "    2: StartEnd\n",
      "    3: Supported\n",
      "    4: Unsupported\n"
     ]
    },
    {
     "name": "stderr",
     "output_type": "stream",
     "text": [
      "\n"
     ]
    },
    {
     "name": "stdout",
     "output_type": "stream",
     "text": [
      "[epoch 1]: loss 1.6629, f1 0.104, precision 0.139, recall 0.124\n",
      "validation: loss 1.6028, f1 0.052, precision 0.030, recall 0.200\n",
      "[epoch 2]: loss 1.5686, f1 0.206, precision 0.337, recall 0.284\n",
      "validation: loss 1.6023, f1 0.052, precision 0.030, recall 0.200\n",
      "[epoch 3]: loss 1.4257, f1 0.309, precision 0.402, recall 0.380\n",
      "validation: loss 1.6005, f1 0.077, precision 0.231, recall 0.212\n",
      "[epoch 4]: loss 1.2815, f1 0.387, precision 0.423, recall 0.442\n",
      "validation: loss 1.5985, f1 0.084, precision 0.232, recall 0.216\n",
      "[epoch 5]: loss 1.1400, f1 0.438, precision 0.451, recall 0.486\n",
      "validation: loss 1.5968, f1 0.106, precision 0.234, recall 0.228\n",
      "[epoch 6]: loss 0.9817, f1 0.470, precision 0.469, recall 0.509\n",
      "validation: loss 1.5957, f1 0.116, precision 0.240, recall 0.228\n",
      "[epoch 7]: loss 0.8205, f1 0.504, precision 0.494, recall 0.536\n",
      "validation: loss 1.5968, f1 0.147, precision 0.270, recall 0.224\n",
      "[epoch 8]: loss 0.6813, f1 0.536, precision 0.524, recall 0.557\n",
      "validation: loss 1.5994, f1 0.107, precision 0.253, recall 0.121\n",
      "[epoch 9]: loss 0.5510, f1 0.562, precision 0.551, recall 0.576\n",
      "validation: loss 1.6013, f1 0.083, precision 0.247, recall 0.110\n",
      "[epoch 10]: loss 0.4317, f1 0.566, precision 0.557, recall 0.579\n",
      "validation: loss 1.6010, f1 0.062, precision 0.045, recall 0.100\n",
      "[epoch 11]: loss 0.3199, f1 0.595, precision 0.594, recall 0.596\n",
      "validation: loss 1.6023, f1 0.082, precision 0.261, recall 0.103\n",
      "[epoch 12]: loss 0.2297, f1 0.597, precision 0.598, recall 0.597\n",
      "validation: loss 1.6059, f1 0.090, precision 0.271, recall 0.103\n",
      "[epoch 13]: loss 0.1667, f1 0.596, precision 0.596, recall 0.596\n",
      "validation: loss 1.6096, f1 0.094, precision 0.271, recall 0.105\n",
      "[epoch 14]: loss 0.1521, f1 0.582, precision 0.580, recall 0.585\n",
      "validation: loss 1.6081, f1 0.100, precision 0.277, recall 0.107\n",
      "[epoch 15]: loss 0.0996, f1 0.595, precision 0.596, recall 0.594\n",
      "validation: loss 1.6068, f1 0.157, precision 0.308, recall 0.209\n",
      "\n",
      "\n"
     ]
    },
    {
     "data": {
      "text/plain": [
       "<dlc2action.task.task_dispatcher.TaskDispatcher at 0x7fef3645e880>"
      ]
     },
     "execution_count": 8,
     "metadata": {},
     "output_type": "execute_result"
    }
   ],
   "source": [
    "project.run_episode(\n",
    "    \"test_best\",\n",
    "    load_search=\"test_search\", # loading the search\n",
    "    force=True, # when force=True, if an episode with this name already exists it will be overwritten -> use with caution!\n",
    ")"
   ]
  },
  {
   "cell_type": "markdown",
   "metadata": {},
   "source": [
    "## Evaluation"
   ]
  },
  {
   "cell_type": "markdown",
   "metadata": {},
   "source": [
    "Now that we've trained our best models, we can analyze the results."
   ]
  },
  {
   "cell_type": "code",
   "execution_count": 9,
   "metadata": {},
   "outputs": [
    {
     "data": {
      "image/png": "[encoded data removed]",
      "text/plain": [
       "<Figure size 640x480 with 1 Axes>"
      ]
     },
     "metadata": {},
     "output_type": "display_data"
    }
   ],
   "source": [
    "project.plot_episodes(\n",
    "    [\"test_best\"],\n",
    "    metrics=[\"f1\"], # F1 score\n",
    "    title=\"Best model training curve\"\n",
    ")"
   ]
  },
  {
   "cell_type": "markdown",
   "metadata": {},
   "source": [
    "We can also check out more metrics now. See `project.help(\"metrics\")` to see other options."
   ]
  },
  {
   "cell_type": "code",
   "execution_count": 11,
   "metadata": {},
   "outputs": [
    {
     "name": "stdout",
     "output_type": "stream",
     "text": [
      "EVALUATION test_best\n",
      "episode test_best\n",
      "Number of samples:\n",
      "    validation:\n",
      "      {-100: 9081, 1: 115, 4: 20, 2: 0, 3: 0, 0: 0}\n",
      "    training:\n",
      "      {-100: 39342, 1: 294, 3: 220, 4: 80, 2: 0, 0: 0}\n",
      "    test:\n",
      "      {1: 0, 2: 0, 3: 0, 4: 0, 0: 0}\n",
      "Setting loaded normalization statistics...\n",
      "Initializing class weights:\n",
      "    390000000.0, 0.133, 390000000.0, 0.177, 0.487\n",
      "Behavior indices:\n",
      "    0: other\n",
      "    1: Grooming\n",
      "    2: StartEnd\n",
      "    3: Supported\n",
      "    4: Unsupported\n"
     ]
    },
    {
     "name": "stderr",
     "output_type": "stream",
     "text": [
      "100%|██████████| 1/1 [00:00<00:00, 16.89it/s]"
     ]
    },
    {
     "name": "stdout",
     "output_type": "stream",
     "text": [
      "\n",
      "\n",
      "AGGREGATED:\n"
     ]
    },
    {
     "name": "stderr",
     "output_type": "stream",
     "text": [
      "\n"
     ]
    },
    {
     "name": "stdout",
     "output_type": "stream",
     "text": [
      "f1_0 0.000, f1_1 0.083, f1_2 0.000, f1_3 0.000, f1_4 0.702, mAP 0.000, segmental_f1 0.000\n",
      "Inference time: 0:00:00\n",
      "\n",
      "\n"
     ]
    },
    {
     "data": {
      "text/plain": [
       "{'segmental_f1': 0.0,\n",
       " 'mAP': 0.0,\n",
       " 'f1_0': 0.0,\n",
       " 'f1_1': 0.0833333283662796,\n",
       " 'f1_2': 0.0,\n",
       " 'f1_3': 0.0,\n",
       " 'f1_4': 0.7017543315887451}"
      ]
     },
     "execution_count": 11,
     "metadata": {},
     "output_type": "execute_result"
    }
   ],
   "source": [
    "project.evaluate(\n",
    "    [\"test_best\"],\n",
    "    parameters_update={\n",
    "        \"general\": {\"metric_functions\": [\"segmental_f1\", \"mAP\", \"f1\"]},\n",
    "        \"metrics\": {\n",
    "            \"f1\": {\"average\": \"none\"}\n",
    "        }\n",
    "    }\n",
    ")"
   ]
  },
  {
   "cell_type": "markdown",
   "metadata": {},
   "source": [
    "## Using trained models"
   ]
  },
  {
   "cell_type": "markdown",
   "metadata": {},
   "source": [
    "When you find that you are happy with the results, you can use the model to generate predictions for new data. \n",
    "\n",
    "Predictions here are probabilities of each behavior being seen in each frame while suggestions are suggested intervals generated from those probabilities."
   ]
  },
  {
   "cell_type": "markdown",
   "metadata": {},
   "source": [
    "Let's generate a prediction with one of our models and look at one of the resulting files. Note that you can use multiple models and average over their predictions."
   ]
  },
  {
   "cell_type": "code",
   "execution_count": 12,
   "metadata": {},
   "outputs": [
    {
     "name": "stdout",
     "output_type": "stream",
     "text": [
      "PREDICTION test_best_prediction\n",
      "episode test_best\n",
      "Computing input features...\n"
     ]
    },
    {
     "name": "stderr",
     "output_type": "stream",
     "text": [
      "100%|██████████| 20/20 [00:10<00:00,  1.86it/s]\n"
     ]
    },
    {
     "name": "stdout",
     "output_type": "stream",
     "text": [
      "Computing annotation arrays...\n"
     ]
    },
    {
     "name": "stderr",
     "output_type": "stream",
     "text": [
      "100%|██████████| 20/20 [00:00<00:00, 540.92it/s]\n"
     ]
    },
    {
     "name": "stdout",
     "output_type": "stream",
     "text": [
      "Filtering 96.00% of samples\n",
      "Number of samples:\n",
      "    validation:\n",
      "      {1: 0, 2: 0, 3: 0, 4: 0, 0: 0}\n",
      "    training:\n",
      "      {-100: 48423, 1: 409, 3: 220, 4: 100, 2: 0, 0: 0}\n",
      "    test:\n",
      "      {1: 0, 2: 0, 3: 0, 4: 0, 0: 0}\n",
      "Setting loaded normalization statistics...\n",
      "Initializing class weights:\n",
      "    480000000.0, 0.117, 480000000.0, 0.218, 0.48\n",
      "Behavior indices:\n",
      "    0: other\n",
      "    1: Grooming\n",
      "    2: StartEnd\n",
      "    3: Supported\n",
      "    4: Unsupported\n"
     ]
    },
    {
     "name": "stderr",
     "output_type": "stream",
     "text": [
      "100%|██████████| 1/1 [00:01<00:00,  1.18s/it]"
     ]
    },
    {
     "name": "stdout",
     "output_type": "stream",
     "text": [
      "\n",
      "\n",
      "\n",
      "\n"
     ]
    },
    {
     "name": "stderr",
     "output_type": "stream",
     "text": [
      "\n"
     ]
    }
   ],
   "source": [
    "project.run_prediction(\n",
    "    \"test_best_prediction\",\n",
    "    episode_names=[f\"test_best\"],\n",
    "    force=True\n",
    ")"
   ]
  },
  {
   "cell_type": "code",
   "execution_count": 15,
   "metadata": {},
   "outputs": [
    {
     "name": "stdout",
     "output_type": "stream",
     "text": [
      "ind0: torch.Size([5, 15227])\n",
      "The mean probability of Unsupported between frames 50 and 70 is 0.18226733803749084\n"
     ]
    }
   ],
   "source": [
    "import pickle\n",
    "import os\n",
    "\n",
    "\n",
    "# picking a random file from the prediction folder\n",
    "prediction_folder = project.prediction_path(\"test_best_prediction\")\n",
    "prediction_file = os.listdir(prediction_folder)[0]\n",
    "prediction_file = os.path.join(prediction_folder, prediction_file)\n",
    "\n",
    "with open(prediction_file, \"rb\") as f: # open the file\n",
    "    prediction = pickle.load(f)\n",
    "\n",
    "for key, value in prediction.items(): # explore the contents\n",
    "    if key not in [\"max_frames\", \"min_frames\", \"video_tag\", \"behaviors\"]:\n",
    "        print(f'{key}: {value.shape}')\n",
    "    \n",
    "behaviors_order = prediction[\"behaviors\"]\n",
    "\n",
    "start = 50\n",
    "end = 70\n",
    "action = \"Unsupported\"\n",
    "\n",
    "index = behaviors_order.index(action)\n",
    "\n",
    "print(f'The mean probability of {action} between frames {start} and {end} is {prediction[\"ind0\"][index, start: end].mean()}')"
   ]
  },
  {
   "cell_type": "markdown",
   "metadata": {},
   "source": [
    "We will now remove unnecessary data to clean the memory."
   ]
  },
  {
   "cell_type": "code",
   "execution_count": 16,
   "metadata": {},
   "outputs": [
    {
     "name": "stdout",
     "output_type": "stream",
     "text": [
      "Removing datasets...\n"
     ]
    },
    {
     "name": "stderr",
     "output_type": "stream",
     "text": [
      "100%|██████████| 4/4 [00:00<00:00, 91.26it/s]"
     ]
    },
    {
     "name": "stdout",
     "output_type": "stream",
     "text": [
      "\n",
      "\n"
     ]
    },
    {
     "name": "stderr",
     "output_type": "stream",
     "text": [
      "\n"
     ]
    }
   ],
   "source": [
    "project.remove_saved_features()\n",
    "project.remove_extra_checkpoints()"
   ]
  }
 ],
 "metadata": {
  "kernelspec": {
   "display_name": "Python 3.9.13 ('DLC2Action')",
   "language": "python",
   "name": "python3"
  },
  "language_info": {
   "codemirror_mode": {
    "name": "ipython",
    "version": 3
   },
   "file_extension": ".py",
   "mimetype": "text/x-python",
   "name": "python",
   "nbconvert_exporter": "python",
   "pygments_lexer": "ipython3",
   "version": "3.9.13"
  },
  "orig_nbformat": 4,
  "vscode": {
   "interpreter": {
    "hash": "3f5f7675fb80040f0ca1448b5f0ffd03eab1e03daeb908de054f4ee2164beb96"
   }
  }
 },
 "nbformat": 4,
 "nbformat_minor": 2
}
