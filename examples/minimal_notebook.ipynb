{
 "cells": [
  {
   "cell_type": "markdown",
   "metadata": {},
   "source": [
    "# Intro to DLC2Action (mini)"
   ]
  },
  {
   "cell_type": "markdown",
   "metadata": {},
   "source": [
    "DLC2Action is a package for automatic behavior prediction. It offers implementation of SOTA models and keeps track of experiments."
   ]
  },
  {
   "cell_type": "markdown",
   "metadata": {},
   "source": [
    "To see how it works, we will experiment on a relatively small [publically available](https://github.com/ETHZ-INS/DLCAnalyzer/tree/master/data/OFT) dataset (Sturman, 2020). Run the code below to download the data.\n",
    "\n",
    "This is a minimalistic version of this notebook, check out demo_notebook.ipynb for more information."
   ]
  },
  {
   "cell_type": "code",
   "execution_count": null,
   "metadata": {},
   "outputs": [
    {
     "name": "stdout",
     "output_type": "stream",
     "text": [
      "Requirement already satisfied: gdown in /home/liza/miniconda3/envs/DLC2Action/lib/python3.9/site-packages (4.5.3)\n",
      "Requirement already satisfied: six in /home/liza/miniconda3/envs/DLC2Action/lib/python3.9/site-packages (from gdown) (1.16.0)\n",
      "Requirement already satisfied: beautifulsoup4 in /home/liza/miniconda3/envs/DLC2Action/lib/python3.9/site-packages (from gdown) (4.11.1)\n",
      "Requirement already satisfied: tqdm in /home/liza/miniconda3/envs/DLC2Action/lib/python3.9/site-packages (from gdown) (4.64.1)\n",
      "Requirement already satisfied: requests[socks] in /home/liza/miniconda3/envs/DLC2Action/lib/python3.9/site-packages (from gdown) (2.28.1)\n",
      "Requirement already satisfied: filelock in /home/liza/miniconda3/envs/DLC2Action/lib/python3.9/site-packages (from gdown) (3.8.0)\n",
      "Requirement already satisfied: soupsieve>1.2 in /home/liza/miniconda3/envs/DLC2Action/lib/python3.9/site-packages (from beautifulsoup4->gdown) (2.3.2.post1)\n",
      "Requirement already satisfied: certifi>=2017.4.17 in /home/liza/miniconda3/envs/DLC2Action/lib/python3.9/site-packages (from requests[socks]->gdown) (2022.9.24)\n",
      "Requirement already satisfied: urllib3<1.27,>=1.21.1 in /home/liza/miniconda3/envs/DLC2Action/lib/python3.9/site-packages (from requests[socks]->gdown) (1.26.12)\n",
      "Requirement already satisfied: idna<4,>=2.5 in /home/liza/miniconda3/envs/DLC2Action/lib/python3.9/site-packages (from requests[socks]->gdown) (3.4)\n",
      "Requirement already satisfied: charset-normalizer<3,>=2 in /home/liza/miniconda3/envs/DLC2Action/lib/python3.9/site-packages (from requests[socks]->gdown) (2.1.1)\n",
      "Requirement already satisfied: PySocks!=1.5.7,>=1.5.6 in /home/liza/miniconda3/envs/DLC2Action/lib/python3.9/site-packages (from requests[socks]->gdown) (1.7.1)\n",
      "Downloading...\n",
      "From: https://drive.google.com/uc?id=1BhAAy_YYxWXYVSpCmYXIAOEV9waoMwcK\n",
      "To: /home/liza/DLC2Action_minimal/examples/OFT.zip\n",
      "100%|█████████████████████████████████████████| 475M/475M [00:04<00:00, 111MB/s]\n",
      "E: Could not open lock file /var/lib/dpkg/lock-frontend - open (13: Permission denied)\n",
      "E: Unable to acquire the dpkg frontend lock (/var/lib/dpkg/lock-frontend), are you root?\n",
      "Archive:  OFT.zip\n",
      "   creating: OFT/OFT/\n",
      "  inflating: OFT/__MACOSX/._OFT      \n",
      "  inflating: OFT/OFT/.DS_Store       \n",
      "  inflating: OFT/__MACOSX/OFT/._.DS_Store  \n",
      "   creating: OFT/OFT/Labels/\n",
      "   creating: OFT/OFT/Output_DLC/\n",
      "  inflating: OFT/OFT/Labels/23_02_A_190507135734.csv  \n",
      "  inflating: OFT/OFT/Labels/12_01_A_190507144429.csv  \n",
      "  inflating: OFT/OFT/Labels/53_04_A_190507135800.csv  \n",
      "  inflating: OFT/OFT/Labels/43_03_A_190507151557.csv  \n",
      "  inflating: OFT/OFT/Labels/57_04_A_190507150030.csv  \n",
      "  inflating: OFT/OFT/Labels/25_02_A_190507142904.csv  \n",
      "  inflating: OFT/OFT/Labels/AllLabDataOFT_final.csv  \n",
      "  inflating: OFT/OFT/Labels/49_04_A_190507125609.csv  \n",
      "  inflating: OFT/OFT/Labels/21_02_A_190507131119.csv  \n",
      "  inflating: OFT/OFT/Labels/40_03_A_190507142917.csv  \n",
      "  inflating: OFT/OFT/Labels/17_02_A_190507120259.csv  \n",
      "  inflating: OFT/OFT/Labels/3_01_A_190507121945.csv  \n",
      "  inflating: OFT/OFT/Labels/58_04_A_190507151611.csv  \n",
      "  inflating: OFT/OFT/Labels/48_04_A_190507123817.csv  \n",
      "  inflating: OFT/OFT/Labels/45_04_A_190507114741.csv  \n",
      "  inflating: OFT/OFT/Labels/37_03_A_190507134213.csv  \n",
      "  inflating: OFT/OFT/Labels/26_02_A_190507144444.csv  \n",
      "  inflating: OFT/OFT/Labels/13_01_A_190507145949.csv  \n",
      "  inflating: OFT/OFT/Labels/18_02_A_190507122004.csv  \n",
      "  inflating: OFT/OFT/Labels/15_01_A_190507153142.csv  \n",
      "  inflating: OFT/OFT/Labels/8_01_A_190507134142.csv  \n",
      "  inflating: OFT/OFT/Output_DLC/48_04_A_190507123817DeepCut_resnet50_Blockcourse1May9shuffle1_1030000.h5  \n",
      "  inflating: OFT/OFT/Output_DLC/6_01_A_190507131058DeepCut_resnet50_Blockcourse1May9shuffle1_1030000.h5  \n",
      "  inflating: OFT/OFT/Output_DLC/15_01_A_190507153142DeepCut_resnet50_Blockcourse1May9shuffle1_1030000.h5  \n",
      "  inflating: OFT/OFT/Output_DLC/5_01_A_190507125512DeepCut_resnet50_Blockcourse1May9shuffle1_1030000.h5  \n",
      "  inflating: OFT/OFT/Output_DLC/29_02_A_190507153158DeepCut_resnet50_Blockcourse1May9shuffle1_1030000.h5  \n",
      "  inflating: OFT/OFT/Output_DLC/9_01_A_190507135719DeepCut_resnet50_Blockcourse1May9shuffle1_1030000.h5  \n",
      "  inflating: OFT/OFT/Output_DLC/20_02_A_190507125529DeepCut_resnet50_Blockcourse1May9shuffle1_1030000.h5  \n",
      "  inflating: OFT/OFT/Output_DLC/56_04_A_190507144511DeepCut_resnet50_Blockcourse1May9shuffle1_1030000.h5  \n",
      "  inflating: OFT/OFT/Output_DLC/53_04_A_190507135800DeepCut_resnet50_Blockcourse1May9shuffle1_1030000.h5  \n",
      "  inflating: OFT/OFT/Output_DLC/38_03_A_190507135747DeepCut_resnet50_Blockcourse1May9shuffle1_1030000.h5  \n",
      "  inflating: OFT/OFT/Output_DLC/31_03_A_190507120320DeepCut_resnet50_Blockcourse1May9shuffle1_1030000.h5  \n",
      "  inflating: OFT/OFT/Output_DLC/58_04_A_190507151611DeepCut_resnet50_Blockcourse1May9shuffle1_1030000.h5  \n",
      "  inflating: OFT/OFT/Output_DLC/43_03_A_190507151557DeepCut_resnet50_Blockcourse1May9shuffle1_1030000.h5  \n",
      "  inflating: OFT/OFT/Output_DLC/7_01_A_190507132652DeepCut_resnet50_Blockcourse1May9shuffle1_1030000.h5  \n",
      "  inflating: OFT/OFT/Output_DLC/59_04_A_190507153228DeepCut_resnet50_Blockcourse1May9shuffle1_1030000.h5  \n",
      "  inflating: OFT/OFT/Output_DLC/44_03_A_190507153213DeepCut_resnet50_Blockcourse1May9shuffle1_1030000.h5  \n",
      "  inflating: OFT/OFT/Output_DLC/36_03_A_190507132711DeepCut_resnet50_Blockcourse1May9shuffle1_1030000.h5  \n",
      "  inflating: OFT/OFT/Output_DLC/3_01_A_190507121945DeepCut_resnet50_Blockcourse1May9shuffle1_1030000.h5  \n",
      "  inflating: OFT/OFT/Output_DLC/21_02_A_190507131119DeepCut_resnet50_Blockcourse1May9shuffle1_1030000.h5  \n",
      "  inflating: OFT/OFT/Output_DLC/14_01_A_190507151530DeepCut_resnet50_Blockcourse1May9shuffle1_1030000.h5  \n",
      "  inflating: OFT/OFT/Output_DLC/57_04_A_190507150030DeepCut_resnet50_Blockcourse1May9shuffle1_1030000.h5  \n",
      "  inflating: OFT/OFT/Output_DLC/32_03_A_190507122023DeepCut_resnet50_Blockcourse1May9shuffle1_1030000.h5  \n",
      "  inflating: OFT/OFT/Output_DLC/8_01_A_190507134142DeepCut_resnet50_Blockcourse1May9shuffle1_1030000.h5  \n",
      "  inflating: OFT/OFT/Output_DLC/42_03_A_190507150017DeepCut_resnet50_Blockcourse1May9shuffle1_1030000.h5  \n",
      "  inflating: OFT/OFT/Output_DLC/19_02_A_190507123740DeepCut_resnet50_Blockcourse1May9shuffle1_1030000.h5  \n",
      "  inflating: OFT/OFT/Output_DLC/16_02_A_190507114646DeepCut_resnet50_Blockcourse1May9shuffle1_1030000.h5  \n",
      "  inflating: OFT/OFT/Output_DLC/27_02_A_190507150003DeepCut_resnet50_Blockcourse1May9shuffle1_1030000.h5  \n",
      "  inflating: OFT/OFT/Output_DLC/10_01_A_190507141248DeepCut_resnet50_Blockcourse1May9shuffle1_1030000.h5  \n",
      "  inflating: OFT/OFT/Output_DLC/51_04_A_190507132728DeepCut_resnet50_Blockcourse1May9shuffle1_1030000.h5  \n",
      "  inflating: OFT/OFT/Output_DLC/11_01_A_190507142850DeepCut_resnet50_Blockcourse1May9shuffle1_1030000.h5  \n",
      "  inflating: OFT/OFT/Output_DLC/13_01_A_190507145949DeepCut_resnet50_Blockcourse1May9shuffle1_1030000.h5  \n",
      "  inflating: OFT/OFT/Output_DLC/18_02_A_190507122004DeepCut_resnet50_Blockcourse1May9shuffle1_1030000.h5  \n",
      "  inflating: OFT/OFT/Output_DLC/28_02_A_190507151545DeepCut_resnet50_Blockcourse1May9shuffle1_1030000.h5  \n",
      "  inflating: OFT/OFT/Output_DLC/37_03_A_190507134213DeepCut_resnet50_Blockcourse1May9shuffle1_1030000.h5  \n",
      "  inflating: OFT/OFT/Output_DLC/4_01_A_190507123718DeepCut_resnet50_Blockcourse1May9shuffle1_1030000.h5  \n",
      "  inflating: OFT/OFT/Output_DLC/26_02_A_190507144444DeepCut_resnet50_Blockcourse1May9shuffle1_1030000.h5  \n",
      "  inflating: OFT/OFT/Output_DLC/34_03_A_190507125548DeepCut_resnet50_Blockcourse1May9shuffle1_1030000.h5  \n",
      "  inflating: OFT/OFT/Output_DLC/54_04_A_190507141337DeepCut_resnet50_Blockcourse1May9shuffle1_1030000.h5  \n",
      "  inflating: OFT/OFT/Output_DLC/41_03_A_190507144457DeepCut_resnet50_Blockcourse1May9shuffle1_1030000.h5  \n",
      "  inflating: OFT/OFT/Output_DLC/35_03_A_190507131135DeepCut_resnet50_Blockcourse1May9shuffle1_1030000.h5  \n",
      "  inflating: OFT/OFT/Output_DLC/45_04_A_190507114741DeepCut_resnet50_Blockcourse1May9shuffle1_1030000.h5  \n",
      "  inflating: OFT/OFT/Output_DLC/50_04_A_190507131154DeepCut_resnet50_Blockcourse1May9shuffle1_1030000.h5  \n",
      "  inflating: OFT/OFT/Output_DLC/39_03_A_190507141319DeepCut_resnet50_Blockcourse1May9shuffle1_1030000.h5  \n",
      "  inflating: OFT/OFT/Output_DLC/2_01_A_190507120240DeepCut_resnet50_Blockcourse1May9shuffle1_1030000.h5  \n",
      "  inflating: OFT/OFT/Output_DLC/49_04_A_190507125609DeepCut_resnet50_Blockcourse1May9shuffle1_1030000.h5  \n",
      "  inflating: OFT/OFT/Output_DLC/47_04_A_190507122047DeepCut_resnet50_Blockcourse1May9shuffle1_1030000.h5  \n",
      "  inflating: OFT/OFT/Output_DLC/40_03_A_190507142917DeepCut_resnet50_Blockcourse1May9shuffle1_1030000.h5  \n",
      "  inflating: OFT/OFT/Output_DLC/25_02_A_190507142904DeepCut_resnet50_Blockcourse1May9shuffle1_1030000.h5  \n",
      "  inflating: OFT/OFT/Output_DLC/33_03_A_190507123759DeepCut_resnet50_Blockcourse1May9shuffle1_1030000.h5  \n",
      "  inflating: OFT/OFT/Output_DLC/52_04_A_190507134227DeepCut_resnet50_Blockcourse1May9shuffle1_1030000.h5  \n",
      "  inflating: OFT/OFT/Output_DLC/55_04_A_190507142930DeepCut_resnet50_Blockcourse1May9shuffle1_1030000.h5  \n",
      "  inflating: OFT/OFT/Output_DLC/12_01_A_190507144429DeepCut_resnet50_Blockcourse1May9shuffle1_1030000.h5  \n",
      "  inflating: OFT/OFT/Output_DLC/30_03_A_190507114720DeepCut_resnet50_Blockcourse1May9shuffle1_1030000.h5  \n",
      "  inflating: OFT/OFT/Output_DLC/46_04_A_190507120344DeepCut_resnet50_Blockcourse1May9shuffle1_1030000.h5  \n",
      "  inflating: OFT/OFT/Output_DLC/22_02_A_190507134157DeepCut_resnet50_Blockcourse1May9shuffle1_1030000.h5  \n",
      "  inflating: OFT/OFT/Output_DLC/1_01_A_190507114629DeepCut_resnet50_Blockcourse1May9shuffle1_1030000.h5  \n",
      "  inflating: OFT/OFT/Output_DLC/17_02_A_190507120259DeepCut_resnet50_Blockcourse1May9shuffle1_1030000.h5  \n",
      "  inflating: OFT/OFT/Output_DLC/24_02_A_190507141305DeepCut_resnet50_Blockcourse1May9shuffle1_1030000.h5  \n",
      "  inflating: OFT/OFT/Output_DLC/23_02_A_190507135734DeepCut_resnet50_Blockcourse1May9shuffle1_1030000.h5  \n"
     ]
    }
   ],
   "source": [
    "!pip install gdown\n",
    "!gdown https://drive.google.com/uc?id=1BhAAy_YYxWXYVSpCmYXIAOEV9waoMwcK\n",
    "!apt-get install unzip\n",
    "!unzip OFT.zip -d OFT"
   ]
  },
  {
   "cell_type": "markdown",
   "metadata": {},
   "source": [
    "... installation\n",
    "\n",
    "for now:\n",
    "```\n",
    "git clone https://github.com/AlexEMG/DLC2Action\n",
    "cd DLC2Action\n",
    "conda create --name DLC2Action python=3.9\n",
    "conda activate DLC2Action\n",
    "python -m pip install .\n",
    "```"
   ]
  },
  {
   "cell_type": "code",
   "execution_count": 13,
   "metadata": {},
   "outputs": [],
   "source": [
    "from dlc2action.project import Project\n",
    "import os\n",
    "\n",
    "CURRENT_PATH = os.getcwd()\n",
    "DATA_PATH = os.path.join(CURRENT_PATH, \"OFT\", \"OFT\", \"Output_DLC\")\n",
    "LABELS_PATH = os.path.join(CURRENT_PATH, \"OFT\", \"OFT\", \"Labels\")\n",
    "PROJECTS_PATH = os.path.join(CURRENT_PATH, \"DLC2Action\")"
   ]
  },
  {
   "cell_type": "markdown",
   "metadata": {},
   "source": [
    "High-level methods in DLC2Action are almost exclusively accessed through the `dlc2action.project.Project` class. A project instance should loosely correspond to a specific goal (e.g. generating automatic annotations for dataset A with input format X). You can use it to optimize hyperparameters, run experiments, analyze results and generate new data.\n",
    "\n",
    "**Best practices**\n",
    "- When you need to do something with a different data type or unrelated files, it's better to create a new project to keep the experiment history easy to understand.\n",
    "- Each project is associated with a folder on your computer that contains all settings, meta files and experiment outputs. Those folders are created in the folder at `projects_path`. It's generally a good idea to choose one and stick to it throughout projects."
   ]
  },
  {
   "cell_type": "markdown",
   "metadata": {},
   "source": [
    "### Creating a project\n",
    "\n",
    "Let's begin!\n",
    "\n",
    "We will create a project called `\"rat_simba\"`, with input and annotation data in `\"simba\"` format. \n",
    "\n",
    "You can run `Project.print_data_types()` and `Project.print_annotation_types()` to find out more about other options."
   ]
  },
  {
   "cell_type": "code",
   "execution_count": 18,
   "metadata": {},
   "outputs": [],
   "source": [
    "# Project.remove_project(\"oft\", projects_path=PROJECTS_PATH)\n",
    "project = Project(\n",
    "    \"oft\",\n",
    "    data_path=DATA_PATH,\n",
    "    annotation_path=LABELS_PATH,\n",
    "    projects_path=PROJECTS_PATH,\n",
    "    data_type=\"dlc_track\",\n",
    "    annotation_type=\"csv\",\n",
    ")"
   ]
  },
  {
   "cell_type": "markdown",
   "metadata": {},
   "source": [
    "## Setting parameters"
   ]
  },
  {
   "cell_type": "markdown",
   "metadata": {},
   "source": [
    "After the project is created, it's time to configure the parameter settings. \n",
    "\n",
    "The first step is to check which essential parameters are missing with `project.list_blanks()`."
   ]
  },
  {
   "cell_type": "code",
   "execution_count": 22,
   "metadata": {},
   "outputs": [
    {
     "name": "stdout",
     "output_type": "stream",
     "text": [
      "Before running experiments, please update all the blanks.\n",
      "To do that, you can run this.\n",
      "--------------------------------------------------------\n",
      "project.update_parameters(\n",
      "    {\n",
      "        \"data\": {\n",
      "            \"data_suffix\": ..., # set; the data files should have the format of {video_id}{data_suffix}, e.g. video1_suffix.pickle, where video1 is the video is and _suffix.pickle is the suffix\n",
      "            \"canvas_shape\": ..., # list; the size of the canvas where the pose was defined\n",
      "            \"annotation_suffix\": ..., # str | set, optional the suffix or the set of suffices such that the annotation files are named {video_id}{annotation_suffix}, e.g, video1_suffix.pickle where video1 is the video id and _suffix.pickle is the suffix\n",
      "        },\n",
      "        \"general\": {\n",
      "            \"exclusive\": ..., # bool; if true, single-label classification is used; otherwise multi-label\n",
      "        },\n",
      "    }\n",
      ")\n",
      "--------------------------------------------------------\n",
      "Replace ... with relevant values.\n"
     ]
    }
   ],
   "source": [
    "project.list_blanks()"
   ]
  },
  {
   "cell_type": "markdown",
   "metadata": {},
   "source": [
    "We can copy this code, fill in the blanks and run it. \n",
    "\n",
    "We will also set the number of epochs here. Normally the default should be fine but for the purpose of this tutorial we want to set it smaller so that our experiments can finish in time."
   ]
  },
  {
   "cell_type": "code",
   "execution_count": 23,
   "metadata": {},
   "outputs": [],
   "source": [
    "project.update_parameters(\n",
    "    {\n",
    "        \"data\": {\n",
    "            \"data_suffix\": \"DeepCut_resnet50_Blockcourse1May9shuffle1_1030000.h5\", # set; the data files should have the format of {video_id}{data_suffix}, e.g. video1_suffix.pickle, where video1 is the video is and _suffix.pickle is the suffix\n",
    "            \"canvas_shape\": [928, 576], # list; the size of the canvas where the pose was defined\n",
    "            \"annotation_suffix\": \".csv\", # str | set, optional the suffix or the set of suffices such that the annotation files are named {video_id}{annotation_suffix}, e.g, video1_suffix.pickle where video1 is the video id and _suffix.pickle is the suffix\n",
    "        },\n",
    "        \"general\": {\n",
    "            \"exclusive\": True, # bool; if true, single-label classification is used; otherwise multi-label\n",
    "        },\n",
    "        \"training\": {\n",
    "            \"num_epochs\": 15,\n",
    "        }\n",
    "    }\n",
    ")"
   ]
  },
  {
   "cell_type": "markdown",
   "metadata": {},
   "source": [
    "Now we're all set and can start training models."
   ]
  },
  {
   "cell_type": "markdown",
   "metadata": {},
   "source": [
    "We will now choose the architectures we want to try out. If you want to see other options, check `project.help(\"models\")`."
   ]
  },
  {
   "cell_type": "code",
   "execution_count": 27,
   "metadata": {},
   "outputs": [],
   "source": [
    "MODEL_NAME1 = \"c2f_tcn\"\n",
    "MODEL_NAME2 = \"transformer\""
   ]
  },
  {
   "cell_type": "markdown",
   "metadata": {},
   "source": [
    "All done! Now we're ready to run experiments. "
   ]
  },
  {
   "cell_type": "markdown",
   "metadata": {},
   "source": [
    "## Hyperparameter search"
   ]
  },
  {
   "cell_type": "markdown",
   "metadata": {},
   "source": [
    "There are many hyperparameters in model training, like the number of layers in a model or loss coefficients. The default settings for those parameters should generate reasonable results on most datasets but in order to get the most out of our data we can run a hyperparameter search.\n",
    "\n",
    "The easiest way to find a good set of hyperparameters for your data is to run `project.run_default_hyperparameter_search()` with your morel of choice."
   ]
  },
  {
   "cell_type": "code",
   "execution_count": 29,
   "metadata": {},
   "outputs": [
    {
     "name": "stderr",
     "output_type": "stream",
     "text": [
      "\u001b[32m[I 2022-11-17 00:21:10,686]\u001b[0m A new study created in memory with name: no-name-bd3a5adf-269b-456d-9343-8f5afb811239\u001b[0m\n"
     ]
    },
    {
     "name": "stdout",
     "output_type": "stream",
     "text": [
      "SEARCH c2f_tcn_search\n",
      "Computing input features...\n"
     ]
    },
    {
     "name": "stderr",
     "output_type": "stream",
     "text": [
      " 15%|█▌        | 3/20 [00:03<00:19,  1.16s/it]\n",
      "\u001b[33m[W 2022-11-17 00:21:14,369]\u001b[0m Trial 0 failed because of the following error: KeyError('Requested level (scorer) does not match index name (None)')\u001b[0m\n",
      "multiprocess.pool.RemoteTraceback: \n",
      "\"\"\"\n",
      "Traceback (most recent call last):\n",
      "  File \"/home/liza/miniconda3/envs/DLC2Action/lib/python3.9/site-packages/multiprocess/pool.py\", line 125, in worker\n",
      "    result = (True, func(*args, **kwds))\n",
      "  File \"/home/liza/miniconda3/envs/DLC2Action/lib/python3.9/site-packages/pathos/helpers/mp_helper.py\", line 15, in <lambda>\n",
      "    func = lambda args: f(*args)\n",
      "  File \"/home/liza/DLC2Action_minimal/dlc2action/data/input_store.py\", line 1127, in make_data_dictionary\n",
      "    data_new, tag = self._open_data(filename, self.default_agent_name)\n",
      "  File \"/home/liza/DLC2Action_minimal/dlc2action/data/input_store.py\", line 1514, in _open_data\n",
      "    temp = temp.droplevel(\"scorer\", axis=1)\n",
      "  File \"/home/liza/miniconda3/envs/DLC2Action/lib/python3.9/site-packages/pandas/core/generic.py\", line 861, in droplevel\n",
      "    new_labels = labels.droplevel(level)\n",
      "  File \"/home/liza/miniconda3/envs/DLC2Action/lib/python3.9/site-packages/pandas/core/indexes/base.py\", line 2061, in droplevel\n",
      "    levnums = sorted(self._get_level_number(lev) for lev in level)[::-1]\n",
      "  File \"/home/liza/miniconda3/envs/DLC2Action/lib/python3.9/site-packages/pandas/core/indexes/base.py\", line 2061, in <genexpr>\n",
      "    levnums = sorted(self._get_level_number(lev) for lev in level)[::-1]\n",
      "  File \"/home/liza/miniconda3/envs/DLC2Action/lib/python3.9/site-packages/pandas/core/indexes/base.py\", line 1936, in _get_level_number\n",
      "    self._validate_index_level(level)\n",
      "  File \"/home/liza/miniconda3/envs/DLC2Action/lib/python3.9/site-packages/pandas/core/indexes/base.py\", line 1931, in _validate_index_level\n",
      "    raise KeyError(\n",
      "KeyError: 'Requested level (scorer) does not match index name (None)'\n",
      "\"\"\"\n",
      "\n",
      "The above exception was the direct cause of the following exception:\n",
      "\n",
      "Traceback (most recent call last):\n",
      "  File \"/home/liza/miniconda3/envs/DLC2Action/lib/python3.9/site-packages/optuna/study/_optimize.py\", line 196, in _run_trial\n",
      "    value_or_values = func(trial)\n",
      "  File \"/home/liza/DLC2Action_minimal/dlc2action/project/project.py\", line 1195, in <lambda>\n",
      "    study.optimize(lambda trial: runner.run(trial, parameters), n_trials=n_trials)\n",
      "  File \"/home/liza/DLC2Action_minimal/dlc2action/project/project.py\", line 4970, in run\n",
      "    self.task = TaskDispatcher(deepcopy(params))\n",
      "  File \"/home/liza/DLC2Action_minimal/dlc2action/task/task_dispatcher.py\", line 59, in __init__\n",
      "    self._initialize_task()\n",
      "  File \"/home/liza/DLC2Action_minimal/dlc2action/task/task_dispatcher.py\", line 627, in _initialize_task\n",
      "    dataset = self._construct_dataset()\n",
      "  File \"/home/liza/DLC2Action_minimal/dlc2action/task/task_dispatcher.py\", line 288, in _construct_dataset\n",
      "    dataset = BehaviorDataset(**pars)\n",
      "  File \"/home/liza/DLC2Action_minimal/dlc2action/data/dataset.py\", line 141, in __init__\n",
      "    self.input_store = self._get_input_store(\n",
      "  File \"/home/liza/DLC2Action_minimal/dlc2action/data/dataset.py\", line 950, in _get_input_store\n",
      "    input_store = options.input_stores[data_type](**data_parameters)\n",
      "  File \"/home/liza/DLC2Action_minimal/dlc2action/data/input_store.py\", line 198, in __init__\n",
      "    self.data = self._load_data()\n",
      "  File \"/home/liza/DLC2Action_minimal/dlc2action/data/input_store.py\", line 1148, in _load_data\n",
      "    dict_list = p_map(make_data_dictionary, files, num_cpus=self.num_cpus)\n",
      "  File \"/home/liza/miniconda3/envs/DLC2Action/lib/python3.9/site-packages/p_tqdm/__init__.py\", line 87, in p_map\n",
      "    result = list(iterator)\n",
      "  File \"/home/liza/miniconda3/envs/DLC2Action/lib/python3.9/site-packages/tqdm/std.py\", line 1195, in __iter__\n",
      "    for obj in iterable:\n",
      "  File \"/home/liza/miniconda3/envs/DLC2Action/lib/python3.9/site-packages/multiprocess/pool.py\", line 870, in next\n",
      "    raise value\n",
      "KeyError: 'Requested level (scorer) does not match index name (None)'\n"
     ]
    },
    {
     "ename": "KeyError",
     "evalue": "'Requested level (scorer) does not match index name (None)'",
     "output_type": "error",
     "traceback": [
      "\u001b[0;31m---------------------------------------------------------------------------\u001b[0m",
      "\u001b[0;31mRemoteTraceback\u001b[0m                           Traceback (most recent call last)",
      "\u001b[0;31mRemoteTraceback\u001b[0m: \n\"\"\"\nTraceback (most recent call last):\n  File \"/home/liza/miniconda3/envs/DLC2Action/lib/python3.9/site-packages/multiprocess/pool.py\", line 125, in worker\n    result = (True, func(*args, **kwds))\n  File \"/home/liza/miniconda3/envs/DLC2Action/lib/python3.9/site-packages/pathos/helpers/mp_helper.py\", line 15, in <lambda>\n    func = lambda args: f(*args)\n  File \"/home/liza/DLC2Action_minimal/dlc2action/data/input_store.py\", line 1127, in make_data_dictionary\n    data_new, tag = self._open_data(filename, self.default_agent_name)\n  File \"/home/liza/DLC2Action_minimal/dlc2action/data/input_store.py\", line 1514, in _open_data\n    temp = temp.droplevel(\"scorer\", axis=1)\n  File \"/home/liza/miniconda3/envs/DLC2Action/lib/python3.9/site-packages/pandas/core/generic.py\", line 861, in droplevel\n    new_labels = labels.droplevel(level)\n  File \"/home/liza/miniconda3/envs/DLC2Action/lib/python3.9/site-packages/pandas/core/indexes/base.py\", line 2061, in droplevel\n    levnums = sorted(self._get_level_number(lev) for lev in level)[::-1]\n  File \"/home/liza/miniconda3/envs/DLC2Action/lib/python3.9/site-packages/pandas/core/indexes/base.py\", line 2061, in <genexpr>\n    levnums = sorted(self._get_level_number(lev) for lev in level)[::-1]\n  File \"/home/liza/miniconda3/envs/DLC2Action/lib/python3.9/site-packages/pandas/core/indexes/base.py\", line 1936, in _get_level_number\n    self._validate_index_level(level)\n  File \"/home/liza/miniconda3/envs/DLC2Action/lib/python3.9/site-packages/pandas/core/indexes/base.py\", line 1931, in _validate_index_level\n    raise KeyError(\nKeyError: 'Requested level (scorer) does not match index name (None)'\n\"\"\"",
      "\nThe above exception was the direct cause of the following exception:\n",
      "\u001b[0;31mKeyError\u001b[0m                                  Traceback (most recent call last)",
      "Cell \u001b[0;32mIn [29], line 2\u001b[0m\n\u001b[1;32m      1\u001b[0m \u001b[39mfor\u001b[39;00m model \u001b[39min\u001b[39;00m [MODEL_NAME1, MODEL_NAME2]:\n\u001b[0;32m----> 2\u001b[0m     project\u001b[39m.\u001b[39;49mrun_default_hyperparameter_search(\n\u001b[1;32m      3\u001b[0m         \u001b[39mf\u001b[39;49m\u001b[39m\"\u001b[39;49m\u001b[39m{\u001b[39;49;00mmodel\u001b[39m}\u001b[39;49;00m\u001b[39m_search\u001b[39;49m\u001b[39m\"\u001b[39;49m,\n\u001b[1;32m      4\u001b[0m         model_name\u001b[39m=\u001b[39;49mmodel,\n\u001b[1;32m      5\u001b[0m         metric\u001b[39m=\u001b[39;49mMETRICS[\u001b[39m0\u001b[39;49m],\n\u001b[1;32m      6\u001b[0m         num_epochs\u001b[39m=\u001b[39;49m\u001b[39m10\u001b[39;49m,\n\u001b[1;32m      7\u001b[0m         n_trials\u001b[39m=\u001b[39;49m\u001b[39m5\u001b[39;49m,\n\u001b[1;32m      8\u001b[0m         prune\u001b[39m=\u001b[39;49m\u001b[39mTrue\u001b[39;49;00m,\n\u001b[1;32m      9\u001b[0m         best_n\u001b[39m=\u001b[39;49m\u001b[39m3\u001b[39;49m \u001b[39m# we will compare trials based on the average of three best epochs to account for noise\u001b[39;49;00m\n\u001b[1;32m     10\u001b[0m     )\n",
      "File \u001b[0;32m~/DLC2Action_minimal/dlc2action/project/project.py:1085\u001b[0m, in \u001b[0;36mProject.run_default_hyperparameter_search\u001b[0;34m(self, search_name, model_name, metric, best_n, direction, load_episode, load_epoch, load_strict, prune, force, delete_dataset, overlap, num_epochs, test_frac, n_trials, device)\u001b[0m\n\u001b[1;32m   1083\u001b[0m \u001b[39mif\u001b[39;00m device \u001b[39mis\u001b[39;00m \u001b[39mnot\u001b[39;00m \u001b[39mNone\u001b[39;00m:\n\u001b[1;32m   1084\u001b[0m     pars[\u001b[39m\"\u001b[39m\u001b[39mtraining\u001b[39m\u001b[39m\"\u001b[39m][\u001b[39m\"\u001b[39m\u001b[39mdevice\u001b[39m\u001b[39m\"\u001b[39m] \u001b[39m=\u001b[39m device\n\u001b[0;32m-> 1085\u001b[0m \u001b[39mreturn\u001b[39;00m \u001b[39mself\u001b[39;49m\u001b[39m.\u001b[39;49mrun_hyperparameter_search(\n\u001b[1;32m   1086\u001b[0m     search_name\u001b[39m=\u001b[39;49msearch_name,\n\u001b[1;32m   1087\u001b[0m     search_space\u001b[39m=\u001b[39;49moptions\u001b[39m.\u001b[39;49mmodel_hyperparameters[model_name],\n\u001b[1;32m   1088\u001b[0m     metric\u001b[39m=\u001b[39;49mmetric,\n\u001b[1;32m   1089\u001b[0m     n_trials\u001b[39m=\u001b[39;49mn_trials,\n\u001b[1;32m   1090\u001b[0m     best_n\u001b[39m=\u001b[39;49mbest_n,\n\u001b[1;32m   1091\u001b[0m     parameters_update\u001b[39m=\u001b[39;49mpars,\n\u001b[1;32m   1092\u001b[0m     direction\u001b[39m=\u001b[39;49mdirection,\n\u001b[1;32m   1093\u001b[0m     load_episode\u001b[39m=\u001b[39;49mload_episode,\n\u001b[1;32m   1094\u001b[0m     load_epoch\u001b[39m=\u001b[39;49mload_epoch,\n\u001b[1;32m   1095\u001b[0m     load_strict\u001b[39m=\u001b[39;49mload_strict,\n\u001b[1;32m   1096\u001b[0m     prune\u001b[39m=\u001b[39;49mprune,\n\u001b[1;32m   1097\u001b[0m     force\u001b[39m=\u001b[39;49mforce,\n\u001b[1;32m   1098\u001b[0m     delete_dataset\u001b[39m=\u001b[39;49mdelete_dataset,\n\u001b[1;32m   1099\u001b[0m )\n",
      "File \u001b[0;32m~/DLC2Action_minimal/dlc2action/project/project.py:1195\u001b[0m, in \u001b[0;36mProject.run_hyperparameter_search\u001b[0;34m(self, search_name, search_space, metric, n_trials, best_n, parameters_update, direction, load_episode, load_epoch, load_strict, prune, force, delete_dataset)\u001b[0m\n\u001b[1;32m   1183\u001b[0m study \u001b[39m=\u001b[39m optuna\u001b[39m.\u001b[39mcreate_study(direction\u001b[39m=\u001b[39mdirection, pruner\u001b[39m=\u001b[39mpruner)\n\u001b[1;32m   1184\u001b[0m runner \u001b[39m=\u001b[39m _Runner(\n\u001b[1;32m   1185\u001b[0m     search_space\u001b[39m=\u001b[39msearch_space,\n\u001b[1;32m   1186\u001b[0m     load_episode\u001b[39m=\u001b[39mload_episode,\n\u001b[0;32m   (...)\u001b[0m\n\u001b[1;32m   1193\u001b[0m     search_name\u001b[39m=\u001b[39msearch_name,\n\u001b[1;32m   1194\u001b[0m )\n\u001b[0;32m-> 1195\u001b[0m study\u001b[39m.\u001b[39;49moptimize(\u001b[39mlambda\u001b[39;49;00m trial: runner\u001b[39m.\u001b[39;49mrun(trial, parameters), n_trials\u001b[39m=\u001b[39;49mn_trials)\n\u001b[1;32m   1196\u001b[0m search_path \u001b[39m=\u001b[39m \u001b[39mself\u001b[39m\u001b[39m.\u001b[39m_search_path(search_name)\n\u001b[1;32m   1197\u001b[0m os\u001b[39m.\u001b[39mmkdir(search_path)\n",
      "File \u001b[0;32m~/miniconda3/envs/DLC2Action/lib/python3.9/site-packages/optuna/study/study.py:419\u001b[0m, in \u001b[0;36mStudy.optimize\u001b[0;34m(self, func, n_trials, timeout, n_jobs, catch, callbacks, gc_after_trial, show_progress_bar)\u001b[0m\n\u001b[1;32m    315\u001b[0m \u001b[39mdef\u001b[39;00m \u001b[39moptimize\u001b[39m(\n\u001b[1;32m    316\u001b[0m     \u001b[39mself\u001b[39m,\n\u001b[1;32m    317\u001b[0m     func: ObjectiveFuncType,\n\u001b[0;32m   (...)\u001b[0m\n\u001b[1;32m    324\u001b[0m     show_progress_bar: \u001b[39mbool\u001b[39m \u001b[39m=\u001b[39m \u001b[39mFalse\u001b[39;00m,\n\u001b[1;32m    325\u001b[0m ) \u001b[39m-\u001b[39m\u001b[39m>\u001b[39m \u001b[39mNone\u001b[39;00m:\n\u001b[1;32m    326\u001b[0m     \u001b[39m\"\"\"Optimize an objective function.\u001b[39;00m\n\u001b[1;32m    327\u001b[0m \n\u001b[1;32m    328\u001b[0m \u001b[39m    Optimization is done by choosing a suitable set of hyperparameter values from a given\u001b[39;00m\n\u001b[0;32m   (...)\u001b[0m\n\u001b[1;32m    416\u001b[0m \u001b[39m            If nested invocation of this method occurs.\u001b[39;00m\n\u001b[1;32m    417\u001b[0m \u001b[39m    \"\"\"\u001b[39;00m\n\u001b[0;32m--> 419\u001b[0m     _optimize(\n\u001b[1;32m    420\u001b[0m         study\u001b[39m=\u001b[39;49m\u001b[39mself\u001b[39;49m,\n\u001b[1;32m    421\u001b[0m         func\u001b[39m=\u001b[39;49mfunc,\n\u001b[1;32m    422\u001b[0m         n_trials\u001b[39m=\u001b[39;49mn_trials,\n\u001b[1;32m    423\u001b[0m         timeout\u001b[39m=\u001b[39;49mtimeout,\n\u001b[1;32m    424\u001b[0m         n_jobs\u001b[39m=\u001b[39;49mn_jobs,\n\u001b[1;32m    425\u001b[0m         catch\u001b[39m=\u001b[39;49mcatch,\n\u001b[1;32m    426\u001b[0m         callbacks\u001b[39m=\u001b[39;49mcallbacks,\n\u001b[1;32m    427\u001b[0m         gc_after_trial\u001b[39m=\u001b[39;49mgc_after_trial,\n\u001b[1;32m    428\u001b[0m         show_progress_bar\u001b[39m=\u001b[39;49mshow_progress_bar,\n\u001b[1;32m    429\u001b[0m     )\n",
      "File \u001b[0;32m~/miniconda3/envs/DLC2Action/lib/python3.9/site-packages/optuna/study/_optimize.py:66\u001b[0m, in \u001b[0;36m_optimize\u001b[0;34m(study, func, n_trials, timeout, n_jobs, catch, callbacks, gc_after_trial, show_progress_bar)\u001b[0m\n\u001b[1;32m     64\u001b[0m \u001b[39mtry\u001b[39;00m:\n\u001b[1;32m     65\u001b[0m     \u001b[39mif\u001b[39;00m n_jobs \u001b[39m==\u001b[39m \u001b[39m1\u001b[39m:\n\u001b[0;32m---> 66\u001b[0m         _optimize_sequential(\n\u001b[1;32m     67\u001b[0m             study,\n\u001b[1;32m     68\u001b[0m             func,\n\u001b[1;32m     69\u001b[0m             n_trials,\n\u001b[1;32m     70\u001b[0m             timeout,\n\u001b[1;32m     71\u001b[0m             catch,\n\u001b[1;32m     72\u001b[0m             callbacks,\n\u001b[1;32m     73\u001b[0m             gc_after_trial,\n\u001b[1;32m     74\u001b[0m             reseed_sampler_rng\u001b[39m=\u001b[39;49m\u001b[39mFalse\u001b[39;49;00m,\n\u001b[1;32m     75\u001b[0m             time_start\u001b[39m=\u001b[39;49m\u001b[39mNone\u001b[39;49;00m,\n\u001b[1;32m     76\u001b[0m             progress_bar\u001b[39m=\u001b[39;49mprogress_bar,\n\u001b[1;32m     77\u001b[0m         )\n\u001b[1;32m     78\u001b[0m     \u001b[39melse\u001b[39;00m:\n\u001b[1;32m     79\u001b[0m         \u001b[39mif\u001b[39;00m n_jobs \u001b[39m==\u001b[39m \u001b[39m-\u001b[39m\u001b[39m1\u001b[39m:\n",
      "File \u001b[0;32m~/miniconda3/envs/DLC2Action/lib/python3.9/site-packages/optuna/study/_optimize.py:160\u001b[0m, in \u001b[0;36m_optimize_sequential\u001b[0;34m(study, func, n_trials, timeout, catch, callbacks, gc_after_trial, reseed_sampler_rng, time_start, progress_bar)\u001b[0m\n\u001b[1;32m    157\u001b[0m         \u001b[39mbreak\u001b[39;00m\n\u001b[1;32m    159\u001b[0m \u001b[39mtry\u001b[39;00m:\n\u001b[0;32m--> 160\u001b[0m     frozen_trial \u001b[39m=\u001b[39m _run_trial(study, func, catch)\n\u001b[1;32m    161\u001b[0m \u001b[39mfinally\u001b[39;00m:\n\u001b[1;32m    162\u001b[0m     \u001b[39m# The following line mitigates memory problems that can be occurred in some\u001b[39;00m\n\u001b[1;32m    163\u001b[0m     \u001b[39m# environments (e.g., services that use computing containers such as CircleCI).\u001b[39;00m\n\u001b[1;32m    164\u001b[0m     \u001b[39m# Please refer to the following PR for further details:\u001b[39;00m\n\u001b[1;32m    165\u001b[0m     \u001b[39m# https://github.com/optuna/optuna/pull/325.\u001b[39;00m\n\u001b[1;32m    166\u001b[0m     \u001b[39mif\u001b[39;00m gc_after_trial:\n",
      "File \u001b[0;32m~/miniconda3/envs/DLC2Action/lib/python3.9/site-packages/optuna/study/_optimize.py:234\u001b[0m, in \u001b[0;36m_run_trial\u001b[0;34m(study, func, catch)\u001b[0m\n\u001b[1;32m    227\u001b[0m         \u001b[39massert\u001b[39;00m \u001b[39mFalse\u001b[39;00m, \u001b[39m\"\u001b[39m\u001b[39mShould not reach.\u001b[39m\u001b[39m\"\u001b[39m\n\u001b[1;32m    229\u001b[0m \u001b[39mif\u001b[39;00m (\n\u001b[1;32m    230\u001b[0m     frozen_trial\u001b[39m.\u001b[39mstate \u001b[39m==\u001b[39m TrialState\u001b[39m.\u001b[39mFAIL\n\u001b[1;32m    231\u001b[0m     \u001b[39mand\u001b[39;00m func_err \u001b[39mis\u001b[39;00m \u001b[39mnot\u001b[39;00m \u001b[39mNone\u001b[39;00m\n\u001b[1;32m    232\u001b[0m     \u001b[39mand\u001b[39;00m \u001b[39mnot\u001b[39;00m \u001b[39misinstance\u001b[39m(func_err, catch)\n\u001b[1;32m    233\u001b[0m ):\n\u001b[0;32m--> 234\u001b[0m     \u001b[39mraise\u001b[39;00m func_err\n\u001b[1;32m    235\u001b[0m \u001b[39mreturn\u001b[39;00m frozen_trial\n",
      "File \u001b[0;32m~/miniconda3/envs/DLC2Action/lib/python3.9/site-packages/optuna/study/_optimize.py:196\u001b[0m, in \u001b[0;36m_run_trial\u001b[0;34m(study, func, catch)\u001b[0m\n\u001b[1;32m    194\u001b[0m \u001b[39mwith\u001b[39;00m get_heartbeat_thread(trial\u001b[39m.\u001b[39m_trial_id, study\u001b[39m.\u001b[39m_storage):\n\u001b[1;32m    195\u001b[0m     \u001b[39mtry\u001b[39;00m:\n\u001b[0;32m--> 196\u001b[0m         value_or_values \u001b[39m=\u001b[39m func(trial)\n\u001b[1;32m    197\u001b[0m     \u001b[39mexcept\u001b[39;00m exceptions\u001b[39m.\u001b[39mTrialPruned \u001b[39mas\u001b[39;00m e:\n\u001b[1;32m    198\u001b[0m         \u001b[39m# TODO(mamu): Handle multi-objective cases.\u001b[39;00m\n\u001b[1;32m    199\u001b[0m         state \u001b[39m=\u001b[39m TrialState\u001b[39m.\u001b[39mPRUNED\n",
      "File \u001b[0;32m~/DLC2Action_minimal/dlc2action/project/project.py:1195\u001b[0m, in \u001b[0;36mProject.run_hyperparameter_search.<locals>.<lambda>\u001b[0;34m(trial)\u001b[0m\n\u001b[1;32m   1183\u001b[0m study \u001b[39m=\u001b[39m optuna\u001b[39m.\u001b[39mcreate_study(direction\u001b[39m=\u001b[39mdirection, pruner\u001b[39m=\u001b[39mpruner)\n\u001b[1;32m   1184\u001b[0m runner \u001b[39m=\u001b[39m _Runner(\n\u001b[1;32m   1185\u001b[0m     search_space\u001b[39m=\u001b[39msearch_space,\n\u001b[1;32m   1186\u001b[0m     load_episode\u001b[39m=\u001b[39mload_episode,\n\u001b[0;32m   (...)\u001b[0m\n\u001b[1;32m   1193\u001b[0m     search_name\u001b[39m=\u001b[39msearch_name,\n\u001b[1;32m   1194\u001b[0m )\n\u001b[0;32m-> 1195\u001b[0m study\u001b[39m.\u001b[39moptimize(\u001b[39mlambda\u001b[39;00m trial: runner\u001b[39m.\u001b[39;49mrun(trial, parameters), n_trials\u001b[39m=\u001b[39mn_trials)\n\u001b[1;32m   1196\u001b[0m search_path \u001b[39m=\u001b[39m \u001b[39mself\u001b[39m\u001b[39m.\u001b[39m_search_path(search_name)\n\u001b[1;32m   1197\u001b[0m os\u001b[39m.\u001b[39mmkdir(search_path)\n",
      "File \u001b[0;32m~/DLC2Action_minimal/dlc2action/project/project.py:4970\u001b[0m, in \u001b[0;36m_Runner.run\u001b[0;34m(self, trial, parameters)\u001b[0m\n\u001b[1;32m   4968\u001b[0m \u001b[39mself\u001b[39m\u001b[39m.\u001b[39msave_stores(params)\n\u001b[1;32m   4969\u001b[0m \u001b[39mif\u001b[39;00m \u001b[39mself\u001b[39m\u001b[39m.\u001b[39mtask \u001b[39mis\u001b[39;00m \u001b[39mNone\u001b[39;00m:\n\u001b[0;32m-> 4970\u001b[0m     \u001b[39mself\u001b[39m\u001b[39m.\u001b[39mtask \u001b[39m=\u001b[39m TaskDispatcher(deepcopy(params))\n\u001b[1;32m   4971\u001b[0m \u001b[39melse\u001b[39;00m:\n\u001b[1;32m   4972\u001b[0m     \u001b[39mself\u001b[39m\u001b[39m.\u001b[39mtask\u001b[39m.\u001b[39mupdate_task(params)\n",
      "File \u001b[0;32m~/DLC2Action_minimal/dlc2action/task/task_dispatcher.py:59\u001b[0m, in \u001b[0;36mTaskDispatcher.__init__\u001b[0;34m(self, parameters)\u001b[0m\n\u001b[1;32m     56\u001b[0m \u001b[39mself\u001b[39m\u001b[39m.\u001b[39mblanks \u001b[39m=\u001b[39m {blank: [] \u001b[39mfor\u001b[39;00m blank \u001b[39min\u001b[39;00m options\u001b[39m.\u001b[39mblanks}\n\u001b[1;32m     58\u001b[0m \u001b[39mself\u001b[39m\u001b[39m.\u001b[39mtask \u001b[39m=\u001b[39m \u001b[39mNone\u001b[39;00m\n\u001b[0;32m---> 59\u001b[0m \u001b[39mself\u001b[39;49m\u001b[39m.\u001b[39;49m_initialize_task()\n\u001b[1;32m     60\u001b[0m \u001b[39mself\u001b[39m\u001b[39m.\u001b[39m_print_behaviors()\n",
      "File \u001b[0;32m~/DLC2Action_minimal/dlc2action/task/task_dispatcher.py:627\u001b[0m, in \u001b[0;36mTaskDispatcher._initialize_task\u001b[0;34m(self)\u001b[0m\n\u001b[1;32m    622\u001b[0m \u001b[39mdef\u001b[39;00m \u001b[39m_initialize_task\u001b[39m(\u001b[39mself\u001b[39m):\n\u001b[1;32m    623\u001b[0m     \u001b[39m\"\"\"\u001b[39;00m\n\u001b[1;32m    624\u001b[0m \u001b[39m    Create a `dlc2action.task.universal_task.Task` instance\u001b[39;00m\n\u001b[1;32m    625\u001b[0m \u001b[39m    \"\"\"\u001b[39;00m\n\u001b[0;32m--> 627\u001b[0m     dataset \u001b[39m=\u001b[39m \u001b[39mself\u001b[39;49m\u001b[39m.\u001b[39;49m_construct_dataset()\n\u001b[1;32m    628\u001b[0m     \u001b[39mself\u001b[39m\u001b[39m.\u001b[39m_update_data_blanks(dataset)\n\u001b[1;32m    629\u001b[0m     model \u001b[39m=\u001b[39m \u001b[39mself\u001b[39m\u001b[39m.\u001b[39m_construct_model()\n",
      "File \u001b[0;32m~/DLC2Action_minimal/dlc2action/task/task_dispatcher.py:288\u001b[0m, in \u001b[0;36mTaskDispatcher._construct_dataset\u001b[0;34m(self)\u001b[0m\n\u001b[1;32m    281\u001b[0m pars \u001b[39m=\u001b[39m \u001b[39mself\u001b[39m\u001b[39m.\u001b[39mcomplete_dataset_parameters(\n\u001b[1;32m    282\u001b[0m     \u001b[39mself\u001b[39m\u001b[39m.\u001b[39mdata_parameters,\n\u001b[1;32m    283\u001b[0m     \u001b[39mself\u001b[39m\u001b[39m.\u001b[39mgeneral_parameters,\n\u001b[1;32m    284\u001b[0m     data_type\u001b[39m=\u001b[39mdata_type,\n\u001b[1;32m    285\u001b[0m     annotation_type\u001b[39m=\u001b[39mannotation_type,\n\u001b[1;32m    286\u001b[0m )\n\u001b[1;32m    287\u001b[0m pars[\u001b[39m\"\u001b[39m\u001b[39mfeature_extraction_pars\u001b[39m\u001b[39m\"\u001b[39m] \u001b[39m=\u001b[39m feature_extraction_pars\n\u001b[0;32m--> 288\u001b[0m dataset \u001b[39m=\u001b[39m BehaviorDataset(\u001b[39m*\u001b[39;49m\u001b[39m*\u001b[39;49mpars)\n\u001b[1;32m    290\u001b[0m \u001b[39mif\u001b[39;00m \u001b[39mself\u001b[39m\u001b[39m.\u001b[39mget(\u001b[39mself\u001b[39m\u001b[39m.\u001b[39mgeneral_parameters, \u001b[39m\"\u001b[39m\u001b[39msave_dataset\u001b[39m\u001b[39m\"\u001b[39m, default\u001b[39m=\u001b[39m\u001b[39mFalse\u001b[39;00m):\n\u001b[1;32m    291\u001b[0m     save_data_path \u001b[39m=\u001b[39m \u001b[39mself\u001b[39m\u001b[39m.\u001b[39mdata_parameters\u001b[39m.\u001b[39mget(\u001b[39m\"\u001b[39m\u001b[39msaved_data_path\u001b[39m\u001b[39m\"\u001b[39m, \u001b[39mNone\u001b[39;00m)\n",
      "File \u001b[0;32m~/DLC2Action_minimal/dlc2action/data/dataset.py:141\u001b[0m, in \u001b[0;36mBehaviorDataset.__init__\u001b[0;34m(self, data_type, annotation_type, ssl_transformations, saved_data_path, input_store, annotation_store, only_load_annotated, recompute_annotation, ids, **data_parameters)\u001b[0m\n\u001b[1;32m    139\u001b[0m         warnings\u001b[39m.\u001b[39mwarn(\u001b[39m\"\u001b[39m\u001b[39mLoading input store from key objects failed\u001b[39m\u001b[39m\"\u001b[39m)\n\u001b[1;32m    140\u001b[0m \u001b[39mif\u001b[39;00m \u001b[39mnot\u001b[39;00m ok:\n\u001b[0;32m--> 141\u001b[0m     \u001b[39mself\u001b[39m\u001b[39m.\u001b[39minput_store \u001b[39m=\u001b[39m \u001b[39mself\u001b[39;49m\u001b[39m.\u001b[39;49m_get_input_store(\n\u001b[1;32m    142\u001b[0m         data_type, deepcopy(data_parameters)\n\u001b[1;32m    143\u001b[0m     )\n\u001b[1;32m    144\u001b[0m \u001b[39m# get the objects needed to create the annotation store (like a clip length dictionary)\u001b[39;00m\n\u001b[1;32m    145\u001b[0m annotation_objects \u001b[39m=\u001b[39m \u001b[39mself\u001b[39m\u001b[39m.\u001b[39minput_store\u001b[39m.\u001b[39mget_annotation_objects()\n",
      "File \u001b[0;32m~/DLC2Action_minimal/dlc2action/data/dataset.py:950\u001b[0m, in \u001b[0;36mBehaviorDataset._get_input_store\u001b[0;34m(self, data_type, data_parameters)\u001b[0m\n\u001b[1;32m    945\u001b[0m \u001b[39m\"\"\"\u001b[39;00m\n\u001b[1;32m    946\u001b[0m \u001b[39mCreate input store from parameters\u001b[39;00m\n\u001b[1;32m    947\u001b[0m \u001b[39m\"\"\"\u001b[39;00m\n\u001b[1;32m    949\u001b[0m data_parameters[\u001b[39m\"\u001b[39m\u001b[39mkey_objects\u001b[39m\u001b[39m\"\u001b[39m] \u001b[39m=\u001b[39m \u001b[39mNone\u001b[39;00m\n\u001b[0;32m--> 950\u001b[0m input_store \u001b[39m=\u001b[39m options\u001b[39m.\u001b[39;49minput_stores[data_type](\u001b[39m*\u001b[39;49m\u001b[39m*\u001b[39;49mdata_parameters)\n\u001b[1;32m    951\u001b[0m \u001b[39mreturn\u001b[39;00m input_store\n",
      "File \u001b[0;32m~/DLC2Action_minimal/dlc2action/data/input_store.py:198\u001b[0m, in \u001b[0;36mGeneralInputStore.__init__\u001b[0;34m(self, video_order, data_path, file_paths, data_suffix, data_prefix, feature_suffix, convert_int_indices, feature_save_path, canvas_shape, len_segment, overlap, feature_extraction, ignored_clips, ignored_bodyparts, default_agent_name, key_objects, likelihood_threshold, num_cpus, frame_limit, normalize, feature_extraction_pars, centered, transpose_features, *args, **kwargs)\u001b[0m\n\u001b[1;32m    196\u001b[0m \u001b[39mif\u001b[39;00m key_objects \u001b[39mis\u001b[39;00m \u001b[39mNone\u001b[39;00m \u001b[39mand\u001b[39;00m \u001b[39mself\u001b[39m\u001b[39m.\u001b[39mvideo_order \u001b[39mis\u001b[39;00m \u001b[39mnot\u001b[39;00m \u001b[39mNone\u001b[39;00m:\n\u001b[1;32m    197\u001b[0m     \u001b[39mprint\u001b[39m(\u001b[39m\"\u001b[39m\u001b[39mComputing input features...\u001b[39m\u001b[39m\"\u001b[39m)\n\u001b[0;32m--> 198\u001b[0m     \u001b[39mself\u001b[39m\u001b[39m.\u001b[39mdata \u001b[39m=\u001b[39m \u001b[39mself\u001b[39;49m\u001b[39m.\u001b[39;49m_load_data()\n\u001b[1;32m    199\u001b[0m \u001b[39melif\u001b[39;00m key_objects \u001b[39mis\u001b[39;00m \u001b[39mnot\u001b[39;00m \u001b[39mNone\u001b[39;00m:\n\u001b[1;32m    200\u001b[0m     \u001b[39mself\u001b[39m\u001b[39m.\u001b[39mload_from_key_objects(key_objects)\n",
      "File \u001b[0;32m~/DLC2Action_minimal/dlc2action/data/input_store.py:1148\u001b[0m, in \u001b[0;36mFileInputStore._load_data\u001b[0;34m(self)\u001b[0m\n\u001b[1;32m   1145\u001b[0m     names, lengths, coords \u001b[39m=\u001b[39m \u001b[39mself\u001b[39m\u001b[39m.\u001b[39m_make_trimmed_data(data_dict)\n\u001b[1;32m   1146\u001b[0m     \u001b[39mreturn\u001b[39;00m names, lengths, coords, bp_dict, min_frames, max_frames, video_tag\n\u001b[0;32m-> 1148\u001b[0m dict_list \u001b[39m=\u001b[39m p_map(make_data_dictionary, files, num_cpus\u001b[39m=\u001b[39;49m\u001b[39mself\u001b[39;49m\u001b[39m.\u001b[39;49mnum_cpus)\n\u001b[1;32m   1149\u001b[0m \u001b[39m# dict_list = tqdm([make_data_dictionary(f) for f in files])\u001b[39;00m\n\u001b[1;32m   1151\u001b[0m \u001b[39mself\u001b[39m\u001b[39m.\u001b[39mvisibility \u001b[39m=\u001b[39m {}\n",
      "File \u001b[0;32m~/miniconda3/envs/DLC2Action/lib/python3.9/site-packages/p_tqdm/__init__.py:87\u001b[0m, in \u001b[0;36mp_map\u001b[0;34m(function, *arrays, **kwargs)\u001b[0m\n\u001b[1;32m     85\u001b[0m ordered \u001b[39m=\u001b[39m \u001b[39mTrue\u001b[39;00m\n\u001b[1;32m     86\u001b[0m iterator \u001b[39m=\u001b[39m _parallel(ordered, function, \u001b[39m*\u001b[39marrays, \u001b[39m*\u001b[39m\u001b[39m*\u001b[39mkwargs)\n\u001b[0;32m---> 87\u001b[0m result \u001b[39m=\u001b[39m \u001b[39mlist\u001b[39;49m(iterator)\n\u001b[1;32m     89\u001b[0m \u001b[39mreturn\u001b[39;00m result\n",
      "File \u001b[0;32m~/miniconda3/envs/DLC2Action/lib/python3.9/site-packages/tqdm/std.py:1195\u001b[0m, in \u001b[0;36mtqdm.__iter__\u001b[0;34m(self)\u001b[0m\n\u001b[1;32m   1192\u001b[0m time \u001b[39m=\u001b[39m \u001b[39mself\u001b[39m\u001b[39m.\u001b[39m_time\n\u001b[1;32m   1194\u001b[0m \u001b[39mtry\u001b[39;00m:\n\u001b[0;32m-> 1195\u001b[0m     \u001b[39mfor\u001b[39;00m obj \u001b[39min\u001b[39;00m iterable:\n\u001b[1;32m   1196\u001b[0m         \u001b[39myield\u001b[39;00m obj\n\u001b[1;32m   1197\u001b[0m         \u001b[39m# Update and possibly print the progressbar.\u001b[39;00m\n\u001b[1;32m   1198\u001b[0m         \u001b[39m# Note: does not call self.update(1) for speed optimisation.\u001b[39;00m\n",
      "File \u001b[0;32m~/miniconda3/envs/DLC2Action/lib/python3.9/site-packages/multiprocess/pool.py:870\u001b[0m, in \u001b[0;36mIMapIterator.next\u001b[0;34m(self, timeout)\u001b[0m\n\u001b[1;32m    868\u001b[0m \u001b[39mif\u001b[39;00m success:\n\u001b[1;32m    869\u001b[0m     \u001b[39mreturn\u001b[39;00m value\n\u001b[0;32m--> 870\u001b[0m \u001b[39mraise\u001b[39;00m value\n",
      "\u001b[0;31mKeyError\u001b[0m: 'Requested level (scorer) does not match index name (None)'"
     ]
    }
   ],
   "source": [
    "for model in [MODEL_NAME1, MODEL_NAME2]:\n",
    "    project.run_default_hyperparameter_search(\n",
    "        f\"{model}_search\",\n",
    "        model_name=model,\n",
    "        metric=\"f1\",\n",
    "        num_epochs=10,\n",
    "        n_trials=5,\n",
    "    )\n"
   ]
  },
  {
   "cell_type": "markdown",
   "metadata": {},
   "source": [
    "## Training models"
   ]
  },
  {
   "cell_type": "markdown",
   "metadata": {},
   "source": [
    "Now we can train models with the best hyperparameters."
   ]
  },
  {
   "cell_type": "code",
   "execution_count": 19,
   "metadata": {},
   "outputs": [
    {
     "name": "stdout",
     "output_type": "stream",
     "text": [
      "TRAINING c2f_tcn_best::0\n",
      "Computing input features...\n"
     ]
    },
    {
     "name": "stderr",
     "output_type": "stream",
     "text": [
      "100%|██████████| 12/12 [00:24<00:00,  2.06s/it]\n"
     ]
    },
    {
     "name": "stdout",
     "output_type": "stream",
     "text": [
      "Computing annotation arrays...\n"
     ]
    },
    {
     "name": "stderr",
     "output_type": "stream",
     "text": [
      "100%|██████████| 12/12 [00:09<00:00,  1.25it/s]\n"
     ]
    },
    {
     "name": "stdout",
     "output_type": "stream",
     "text": [
      "Number of samples:\n",
      "    validation:\n",
      "      {0: 10660, 1: 5414, 2: 1340, 3: 1816, 4: 500, 5: 2594, 6: 0, 7: 0}\n",
      "    training:\n",
      "      {0: 27747, 1: 16566, 2: 87393, 3: 10991, 4: 23594, 5: 45042, 6: 92, 7: 61104}\n",
      "    test:\n",
      "      {0: 0, 1: 0, 2: 0, 3: 0, 4: 0, 5: 0, 6: 0, 7: 0}\n",
      "Computing normalization statistics...\n"
     ]
    },
    {
     "name": "stderr",
     "output_type": "stream",
     "text": [
      "100%|██████████| 415/415 [00:01<00:00, 247.65it/s]\n",
      "100%|██████████| 415/415 [00:01<00:00, 261.54it/s]\n"
     ]
    },
    {
     "name": "stdout",
     "output_type": "stream",
     "text": [
      "Initializing class weights:\n",
      "     0: 0.001, 0.001, 0.002, 0.001, 0.001, 0.001, 0.001, 0.001 1: 0.015, 0.025, 0.005, 0.038, 0.018, 0.009, 4.511, 0.007\n",
      "Behavior indices:\n",
      "    0: anogenital\n",
      "    1: approach\n",
      "    2: attack\n",
      "    3: avoidance\n",
      "    4: boxing\n",
      "    5: lateralthreat\n",
      "    6: pursuit\n",
      "    7: submission\n",
      "[epoch 1]: loss 0.0003, f1 0.264, precision 0.182\n",
      "validation: loss 0.0005, f1 0.054, precision 0.069\n",
      "[epoch 2]: loss 0.0002, f1 0.380, precision 0.294\n",
      "validation: loss 0.0012, f1 0.064, precision 0.059\n",
      "[epoch 3]: loss 0.0002, f1 0.426, precision 0.329\n",
      "validation: loss 0.0018, f1 0.084, precision 0.069\n",
      "[epoch 4]: loss 0.0002, f1 0.464, precision 0.366\n",
      "validation: loss 0.0010, f1 0.077, precision 0.048\n",
      "[epoch 5]: loss 0.0001, f1 0.509, precision 0.404\n",
      "validation: loss 0.0014, f1 0.074, precision 0.043\n",
      "[epoch 6]: loss 0.0001, f1 0.529, precision 0.423\n",
      "validation: loss 0.0008, f1 0.076, precision 0.045\n",
      "[epoch 7]: loss 0.0001, f1 0.529, precision 0.425\n",
      "validation: loss 0.0004, f1 0.083, precision 0.047\n",
      "[epoch 8]: loss 0.0001, f1 0.556, precision 0.448\n",
      "validation: loss 0.0006, f1 0.088, precision 0.052\n",
      "[epoch 9]: loss 0.0001, f1 0.598, precision 0.486\n",
      "validation: loss 0.0005, f1 0.093, precision 0.053\n",
      "[epoch 10]: loss 0.0001, f1 0.604, precision 0.499\n",
      "validation: loss 0.0003, f1 0.095, precision 0.056\n",
      "[epoch 11]: loss 0.0001, f1 0.638, precision 0.527\n",
      "validation: loss 0.0005, f1 0.083, precision 0.051\n",
      "[epoch 12]: loss 0.0001, f1 0.652, precision 0.542\n",
      "validation: loss 0.0005, f1 0.089, precision 0.052\n",
      "[epoch 13]: loss 0.0001, f1 0.652, precision 0.544\n",
      "validation: loss 0.0005, f1 0.103, precision 0.061\n",
      "[epoch 14]: loss 0.0001, f1 0.645, precision 0.537\n",
      "validation: loss 0.0005, f1 0.098, precision 0.060\n",
      "[epoch 15]: loss 0.0001, f1 0.684, precision 0.569\n",
      "validation: loss 0.0004, f1 0.103, precision 0.061\n",
      "\n",
      "\n",
      "TRAINING c2f_tcn_best::1\n",
      "Number of samples:\n",
      "    validation:\n",
      "      {0: 10660, 1: 5414, 2: 1340, 3: 1816, 4: 500, 5: 2594, 6: 0, 7: 0}\n",
      "    training:\n",
      "      {0: 27747, 1: 16566, 2: 87393, 3: 10991, 4: 23594, 5: 45042, 6: 92, 7: 61104}\n",
      "    test:\n",
      "      {0: 0, 1: 0, 2: 0, 3: 0, 4: 0, 5: 0, 6: 0, 7: 0}\n",
      "Computing normalization statistics...\n"
     ]
    },
    {
     "name": "stderr",
     "output_type": "stream",
     "text": [
      "100%|██████████| 415/415 [00:01<00:00, 257.92it/s]\n",
      "100%|██████████| 415/415 [00:01<00:00, 277.67it/s]\n"
     ]
    },
    {
     "name": "stdout",
     "output_type": "stream",
     "text": [
      "Initializing class weights:\n",
      "     0: 0.001, 0.001, 0.002, 0.001, 0.001, 0.001, 0.001, 0.001 1: 0.015, 0.025, 0.005, 0.038, 0.018, 0.009, 4.511, 0.007\n",
      "Behavior indices:\n",
      "    0: anogenital\n",
      "    1: approach\n",
      "    2: attack\n",
      "    3: avoidance\n",
      "    4: boxing\n",
      "    5: lateralthreat\n",
      "    6: pursuit\n",
      "    7: submission\n",
      "[epoch 1]: loss 0.0004, f1 0.246, precision 0.166\n",
      "validation: loss 0.0006, f1 0.065, precision 0.053\n",
      "[epoch 2]: loss 0.0002, f1 0.359, precision 0.266\n",
      "validation: loss 0.0010, f1 0.075, precision 0.063\n",
      "[epoch 3]: loss 0.0002, f1 0.398, precision 0.294\n",
      "validation: loss 0.0009, f1 0.075, precision 0.052\n",
      "[epoch 4]: loss 0.0002, f1 0.465, precision 0.360\n",
      "validation: loss 0.0008, f1 0.086, precision 0.055\n",
      "[epoch 5]: loss 0.0001, f1 0.508, precision 0.398\n",
      "validation: loss 0.0007, f1 0.107, precision 0.069\n",
      "[epoch 6]: loss 0.0001, f1 0.552, precision 0.440\n",
      "validation: loss 0.0009, f1 0.093, precision 0.057\n",
      "[epoch 7]: loss 0.0001, f1 0.574, precision 0.459\n",
      "validation: loss 0.0006, f1 0.099, precision 0.063\n",
      "[epoch 8]: loss 0.0001, f1 0.550, precision 0.436\n",
      "validation: loss 0.0017, f1 0.083, precision 0.056\n",
      "[epoch 9]: loss 0.0001, f1 0.525, precision 0.405\n",
      "validation: loss 0.0013, f1 0.102, precision 0.072\n",
      "[epoch 10]: loss 0.0001, f1 0.551, precision 0.440\n",
      "validation: loss 0.0016, f1 0.088, precision 0.053\n",
      "[epoch 11]: loss 0.0001, f1 0.585, precision 0.465\n",
      "validation: loss 0.0010, f1 0.081, precision 0.050\n",
      "[epoch 12]: loss 0.0001, f1 0.620, precision 0.491\n",
      "validation: loss 0.0007, f1 0.078, precision 0.049\n",
      "[epoch 13]: loss 0.0001, f1 0.636, precision 0.521\n",
      "validation: loss 0.0006, f1 0.075, precision 0.047\n",
      "[epoch 14]: loss 0.0001, f1 0.651, precision 0.543\n",
      "validation: loss 0.0006, f1 0.090, precision 0.054\n",
      "[epoch 15]: loss 0.0001, f1 0.645, precision 0.535\n",
      "validation: loss 0.0005, f1 0.103, precision 0.072\n",
      "\n",
      "\n",
      "TRAINING c2f_tcn_best::2\n",
      "Initializing class weights:\n",
      "     0: 0.001, 0.001, 0.002, 0.001, 0.001, 0.001, 0.001, 0.001 1: 0.015, 0.025, 0.005, 0.038, 0.018, 0.009, 4.511, 0.007\n",
      "Behavior indices:\n",
      "    0: anogenital\n",
      "    1: approach\n",
      "    2: attack\n",
      "    3: avoidance\n",
      "    4: boxing\n",
      "    5: lateralthreat\n",
      "    6: pursuit\n",
      "    7: submission\n",
      "[epoch 1]: loss 0.0003, f1 0.279, precision 0.196\n",
      "validation: loss 0.0003, f1 0.088, precision 0.055\n",
      "[epoch 2]: loss 0.0002, f1 0.385, precision 0.291\n",
      "validation: loss 0.0012, f1 0.071, precision 0.061\n",
      "[epoch 3]: loss 0.0002, f1 0.419, precision 0.318\n",
      "validation: loss 0.0017, f1 0.069, precision 0.068\n",
      "[epoch 4]: loss 0.0002, f1 0.453, precision 0.354\n",
      "validation: loss 0.0010, f1 0.079, precision 0.063\n",
      "[epoch 5]: loss 0.0001, f1 0.491, precision 0.383\n",
      "validation: loss 0.0006, f1 0.109, precision 0.069\n",
      "[epoch 6]: loss 0.0001, f1 0.525, precision 0.416\n",
      "validation: loss 0.0005, f1 0.094, precision 0.064\n",
      "[epoch 7]: loss 0.0001, f1 0.562, precision 0.453\n",
      "validation: loss 0.0004, f1 0.101, precision 0.065\n",
      "[epoch 8]: loss 0.0001, f1 0.571, precision 0.461\n",
      "validation: loss 0.0006, f1 0.070, precision 0.046\n",
      "[epoch 9]: loss 0.0001, f1 0.570, precision 0.459\n",
      "validation: loss 0.0006, f1 0.098, precision 0.066\n",
      "[epoch 10]: loss 0.0001, f1 0.586, precision 0.476\n",
      "validation: loss 0.0011, f1 0.104, precision 0.067\n",
      "[epoch 11]: loss 0.0001, f1 0.617, precision 0.502\n",
      "validation: loss 0.0006, f1 0.100, precision 0.062\n",
      "[epoch 12]: loss 0.0001, f1 0.593, precision 0.480\n",
      "validation: loss 0.0005, f1 0.105, precision 0.064\n",
      "[epoch 13]: loss 0.0001, f1 0.657, precision 0.542\n",
      "validation: loss 0.0003, f1 0.120, precision 0.079\n",
      "[epoch 14]: loss 0.0001, f1 0.677, precision 0.563\n",
      "validation: loss 0.0006, f1 0.115, precision 0.079\n",
      "[epoch 15]: loss 0.0001, f1 0.660, precision 0.546\n",
      "validation: loss 0.0008, f1 0.090, precision 0.067\n",
      "\n",
      "\n",
      "TRAINING transformer_best::0\n",
      "Computing input features...\n"
     ]
    },
    {
     "name": "stderr",
     "output_type": "stream",
     "text": [
      "100%|██████████| 12/12 [00:29<00:00,  2.44s/it]\n"
     ]
    },
    {
     "name": "stdout",
     "output_type": "stream",
     "text": [
      "Computing annotation arrays...\n"
     ]
    },
    {
     "name": "stderr",
     "output_type": "stream",
     "text": [
      "100%|██████████| 12/12 [00:06<00:00,  1.76it/s]\n"
     ]
    },
    {
     "name": "stdout",
     "output_type": "stream",
     "text": [
      "Number of samples:\n",
      "    validation:\n",
      "      {0: 11136, 1: 5612, 2: 1340, 3: 1864, 4: 500, 5: 2808, 6: 0, 7: 0}\n",
      "    training:\n",
      "      {0: 29944, 1: 17585, 2: 88468, 3: 11668, 4: 24100, 5: 46886, 6: 92, 7: 61664}\n",
      "    test:\n",
      "      {0: 0, 1: 0, 2: 0, 3: 0, 4: 0, 5: 0, 6: 0, 7: 0}\n",
      "Computing normalization statistics...\n"
     ]
    },
    {
     "name": "stderr",
     "output_type": "stream",
     "text": [
      "100%|██████████| 6592/6592 [00:14<00:00, 468.13it/s]\n",
      "100%|██████████| 6592/6592 [00:12<00:00, 512.86it/s]\n"
     ]
    },
    {
     "name": "stdout",
     "output_type": "stream",
     "text": [
      "Initializing class weights:\n",
      "     0: 0.019, 0.016, 0.023, 0.016, 0.017, 0.02, 0.018, 0.021 1: 0.22, 0.375, 0.075, 0.565, 0.274, 0.141, 71.652, 0.107\n",
      "Behavior indices:\n",
      "    0: anogenital\n",
      "    1: approach\n",
      "    2: attack\n",
      "    3: avoidance\n",
      "    4: boxing\n",
      "    5: lateralthreat\n",
      "    6: pursuit\n",
      "    7: submission\n"
     ]
    },
    {
     "name": "stderr",
     "output_type": "stream",
     "text": [
      "/home/liza/DLC2Action_minimal/dlc2action/project/meta.py:665: FutureWarning:\n",
      "\n",
      "Behavior when concatenating bool-dtype and numeric-dtype arrays is deprecated; in a future version these will cast to object dtype (instead of coercing bools to numeric values). To retain the old behavior, explicitly cast bool-dtype arrays to numeric dtype.\n",
      "\n"
     ]
    },
    {
     "name": "stdout",
     "output_type": "stream",
     "text": [
      "[epoch 1]: loss 0.0003, f1 0.332, precision 0.247\n",
      "validation: loss 0.0004, f1 0.095, precision 0.057\n",
      "[epoch 2]: loss 0.0002, f1 0.417, precision 0.326\n",
      "validation: loss 0.0003, f1 0.091, precision 0.053\n",
      "[epoch 3]: loss 0.0002, f1 0.458, precision 0.361\n",
      "validation: loss 0.0004, f1 0.096, precision 0.057\n",
      "[epoch 4]: loss 0.0002, f1 0.433, precision 0.335\n",
      "validation: loss 0.0005, f1 0.072, precision 0.041\n",
      "[epoch 5]: loss 0.0002, f1 0.439, precision 0.340\n",
      "validation: loss 0.0004, f1 0.088, precision 0.053\n",
      "[epoch 6]: loss 0.0001, f1 0.487, precision 0.384\n",
      "validation: loss 0.0007, f1 0.090, precision 0.055\n",
      "[epoch 7]: loss 0.0001, f1 0.517, precision 0.410\n",
      "validation: loss 0.0005, f1 0.088, precision 0.052\n",
      "[epoch 8]: loss 0.0001, f1 0.545, precision 0.442\n",
      "validation: loss 0.0006, f1 0.094, precision 0.057\n",
      "[epoch 9]: loss 0.0001, f1 0.555, precision 0.449\n",
      "validation: loss 0.0007, f1 0.079, precision 0.047\n",
      "[epoch 10]: loss 0.0001, f1 0.578, precision 0.472\n",
      "validation: loss 0.0006, f1 0.087, precision 0.056\n",
      "[epoch 11]: loss 0.0001, f1 0.608, precision 0.498\n",
      "validation: loss 0.0009, f1 0.096, precision 0.058\n",
      "[epoch 12]: loss 0.0001, f1 0.615, precision 0.505\n",
      "validation: loss 0.0006, f1 0.088, precision 0.054\n",
      "[epoch 13]: loss 0.0001, f1 0.617, precision 0.508\n",
      "validation: loss 0.0007, f1 0.095, precision 0.060\n",
      "[epoch 14]: loss 0.0001, f1 0.562, precision 0.458\n",
      "validation: loss 0.0007, f1 0.083, precision 0.049\n",
      "[epoch 15]: loss 0.0003, f1 0.437, precision 0.337\n",
      "validation: loss 0.0004, f1 0.074, precision 0.048\n",
      "\n",
      "\n",
      "TRAINING transformer_best::1\n",
      "Number of samples:\n",
      "    validation:\n",
      "      {0: 11136, 1: 5612, 2: 1340, 3: 1864, 4: 500, 5: 2808, 6: 0, 7: 0}\n",
      "    training:\n",
      "      {0: 29944, 1: 17585, 2: 88468, 3: 11668, 4: 24100, 5: 46886, 6: 92, 7: 61664}\n",
      "    test:\n",
      "      {0: 0, 1: 0, 2: 0, 3: 0, 4: 0, 5: 0, 6: 0, 7: 0}\n",
      "Computing normalization statistics...\n"
     ]
    },
    {
     "name": "stderr",
     "output_type": "stream",
     "text": [
      "100%|██████████| 6592/6592 [00:14<00:00, 468.84it/s]\n",
      "100%|██████████| 6592/6592 [00:12<00:00, 507.76it/s]\n"
     ]
    },
    {
     "name": "stdout",
     "output_type": "stream",
     "text": [
      "Initializing class weights:\n",
      "     0: 0.019, 0.016, 0.023, 0.016, 0.017, 0.02, 0.018, 0.021 1: 0.22, 0.375, 0.075, 0.565, 0.274, 0.141, 71.652, 0.107\n",
      "Behavior indices:\n",
      "    0: anogenital\n",
      "    1: approach\n",
      "    2: attack\n",
      "    3: avoidance\n",
      "    4: boxing\n",
      "    5: lateralthreat\n",
      "    6: pursuit\n",
      "    7: submission\n",
      "[epoch 1]: loss 0.0003, f1 0.352, precision 0.261\n",
      "validation: loss 0.0005, f1 0.046, precision 0.038\n",
      "[epoch 2]: loss 0.0002, f1 0.395, precision 0.301\n",
      "validation: loss 0.0004, f1 0.101, precision 0.057\n",
      "[epoch 3]: loss 0.0001, f1 0.453, precision 0.354\n",
      "validation: loss 0.0006, f1 0.113, precision 0.065\n",
      "[epoch 4]: loss 0.0001, f1 0.472, precision 0.371\n",
      "validation: loss 0.0007, f1 0.072, precision 0.044\n",
      "[epoch 5]: loss 0.0001, f1 0.481, precision 0.379\n",
      "validation: loss 0.0005, f1 0.094, precision 0.056\n",
      "[epoch 6]: loss 0.0001, f1 0.547, precision 0.445\n",
      "validation: loss 0.0006, f1 0.092, precision 0.055\n",
      "[epoch 7]: loss 0.0001, f1 0.579, precision 0.475\n",
      "validation: loss 0.0008, f1 0.092, precision 0.053\n",
      "[epoch 8]: loss 0.0001, f1 0.593, precision 0.487\n",
      "validation: loss 0.0006, f1 0.079, precision 0.045\n",
      "[epoch 9]: loss 0.0001, f1 0.574, precision 0.471\n",
      "validation: loss 0.0009, f1 0.096, precision 0.060\n",
      "[epoch 10]: loss 0.0001, f1 0.592, precision 0.487\n",
      "validation: loss 0.0007, f1 0.096, precision 0.057\n",
      "[epoch 11]: loss 0.0001, f1 0.624, precision 0.520\n",
      "validation: loss 0.0006, f1 0.092, precision 0.057\n",
      "[epoch 12]: loss 0.0001, f1 0.644, precision 0.540\n",
      "validation: loss 0.0008, f1 0.092, precision 0.062\n",
      "[epoch 13]: loss 0.0000, f1 0.715, precision 0.604\n",
      "validation: loss 0.0011, f1 0.099, precision 0.064\n",
      "[epoch 14]: loss 0.0001, f1 0.694, precision 0.582\n",
      "validation: loss 0.0006, f1 0.099, precision 0.066\n",
      "[epoch 15]: loss 0.0000, f1 0.748, precision 0.639\n",
      "validation: loss 0.0008, f1 0.100, precision 0.072\n",
      "\n",
      "\n",
      "TRAINING transformer_best::2\n",
      "Initializing class weights:\n",
      "     0: 0.019, 0.016, 0.023, 0.016, 0.017, 0.02, 0.018, 0.021 1: 0.22, 0.375, 0.075, 0.565, 0.274, 0.141, 71.652, 0.107\n",
      "Behavior indices:\n",
      "    0: anogenital\n",
      "    1: approach\n",
      "    2: attack\n",
      "    3: avoidance\n",
      "    4: boxing\n",
      "    5: lateralthreat\n",
      "    6: pursuit\n",
      "    7: submission\n",
      "[epoch 1]: loss 0.0003, f1 0.337, precision 0.253\n",
      "validation: loss 0.0003, f1 0.071, precision 0.040\n",
      "[epoch 2]: loss 0.0002, f1 0.407, precision 0.314\n",
      "validation: loss 0.0005, f1 0.093, precision 0.054\n",
      "[epoch 3]: loss 0.0002, f1 0.440, precision 0.341\n",
      "validation: loss 0.0003, f1 0.080, precision 0.050\n",
      "[epoch 4]: loss 0.0001, f1 0.489, precision 0.389\n",
      "validation: loss 0.0004, f1 0.095, precision 0.056\n",
      "[epoch 5]: loss 0.0001, f1 0.512, precision 0.410\n",
      "validation: loss 0.0005, f1 0.084, precision 0.051\n",
      "[epoch 6]: loss 0.0001, f1 0.521, precision 0.418\n",
      "validation: loss 0.0004, f1 0.100, precision 0.060\n",
      "[epoch 7]: loss 0.0001, f1 0.575, precision 0.469\n",
      "validation: loss 0.0005, f1 0.099, precision 0.058\n",
      "[epoch 8]: loss 0.0001, f1 0.619, precision 0.508\n",
      "validation: loss 0.0007, f1 0.089, precision 0.053\n",
      "[epoch 9]: loss 0.0001, f1 0.615, precision 0.506\n",
      "validation: loss 0.0007, f1 0.091, precision 0.054\n",
      "[epoch 10]: loss 0.0001, f1 0.653, precision 0.536\n",
      "validation: loss 0.0007, f1 0.093, precision 0.056\n",
      "[epoch 11]: loss 0.0001, f1 0.703, precision 0.588\n",
      "validation: loss 0.0008, f1 0.099, precision 0.061\n",
      "[epoch 12]: loss 0.0000, f1 0.694, precision 0.591\n",
      "validation: loss 0.0007, f1 0.090, precision 0.056\n",
      "[epoch 13]: loss 0.0001, f1 0.663, precision 0.559\n",
      "validation: loss 0.0007, f1 0.083, precision 0.049\n",
      "[epoch 14]: loss 0.0000, f1 0.700, precision 0.598\n",
      "validation: loss 0.0011, f1 0.094, precision 0.062\n",
      "[epoch 15]: loss 0.0000, f1 0.730, precision 0.629\n",
      "validation: loss 0.0011, f1 0.090, precision 0.053\n",
      "\n",
      "\n"
     ]
    }
   ],
   "source": [
    "for model in [MODEL_NAME1, MODEL_NAME2]:\n",
    "    project.run_episode(\n",
    "        f\"{model}_best\",\n",
    "        load_search=f\"{model}_search\", # loading the search\n",
    "        force=True, # when force=True, if an episode with this name already exists it will be overwritten -> use with caution!\n",
    "        parameters_update={\n",
    "            \"general\": {\"model_name\": model} # note that you do need to set the model explicitly, it is not loaded with the search\n",
    "        },\n",
    "    )"
   ]
  },
  {
   "cell_type": "markdown",
   "metadata": {},
   "source": [
    "## Evaluation"
   ]
  },
  {
   "cell_type": "markdown",
   "metadata": {},
   "source": [
    "Now that we've trained our best models, we can analyze the results."
   ]
  },
  {
   "cell_type": "code",
   "execution_count": 5,
   "metadata": {},
   "outputs": [],
   "source": [
    "best_episodes = [f\"{model}_best\" for model in [MODEL_NAME1, MODEL_NAME2]]"
   ]
  },
  {
   "cell_type": "code",
   "execution_count": 21,
   "metadata": {},
   "outputs": [
    {
     "data": {
      "image/png": "[encoded data removed]",
      "text/plain": [
       "<Figure size 640x480 with 1 Axes>"
      ]
     },
     "metadata": {},
     "output_type": "display_data"
    }
   ],
   "source": [
    "project.plot_episodes(\n",
    "    best_episodes,\n",
    "    metrics=[\"f1\"], # F1 score\n",
    "    episode_labels=[\"model_1\", \"model_2\"], \n",
    "    title=\"Best model training curves\"\n",
    ")"
   ]
  },
  {
   "cell_type": "markdown",
   "metadata": {},
   "source": [
    "We can also check out more metrics now. See `project.help(\"metrics\")` to see other options."
   ]
  },
  {
   "cell_type": "code",
   "execution_count": 8,
   "metadata": {},
   "outputs": [
    {
     "name": "stdout",
     "output_type": "stream",
     "text": [
      "EVALUATION c2f_tcn_best\n",
      "episode c2f_tcn_best::0\n",
      "Computing input features...\n"
     ]
    },
    {
     "name": "stderr",
     "output_type": "stream",
     "text": [
      "100%|██████████| 12/12 [00:25<00:00,  2.16s/it]\n"
     ]
    },
    {
     "name": "stdout",
     "output_type": "stream",
     "text": [
      "Computing annotation arrays...\n"
     ]
    },
    {
     "name": "stderr",
     "output_type": "stream",
     "text": [
      "100%|██████████| 12/12 [00:07<00:00,  1.52it/s]\n"
     ]
    },
    {
     "name": "stdout",
     "output_type": "stream",
     "text": [
      "Number of samples:\n",
      "    validation:\n",
      "      {0: 10660, 1: 5414, 2: 1340, 3: 1816, 4: 500, 5: 2594, 6: 0, 7: 0}\n",
      "    training:\n",
      "      {0: 27747, 1: 16566, 2: 87393, 3: 10991, 4: 23594, 5: 45042, 6: 92, 7: 61104}\n",
      "    test:\n",
      "      {0: 0, 1: 0, 2: 0, 3: 0, 4: 0, 5: 0, 6: 0, 7: 0}\n",
      "Setting loaded normalization statistics...\n",
      "Initializing class weights:\n",
      "     0: 0.001, 0.001, 0.002, 0.001, 0.001, 0.001, 0.001, 0.001 1: 0.015, 0.025, 0.005, 0.038, 0.018, 0.009, 4.511, 0.007\n",
      "Behavior indices:\n",
      "    0: anogenital\n",
      "    1: approach\n",
      "    2: attack\n",
      "    3: avoidance\n",
      "    4: boxing\n",
      "    5: lateralthreat\n",
      "    6: pursuit\n",
      "    7: submission\n"
     ]
    },
    {
     "name": "stderr",
     "output_type": "stream",
     "text": [
      "100%|██████████| 2/2 [00:05<00:00,  2.83s/it]\n"
     ]
    },
    {
     "name": "stdout",
     "output_type": "stream",
     "text": [
      "f1_0 0.158, f1_1 0.183, f1_2 0.064, f1_3 0.190, f1_4 0.113, f1_5 0.115, f1_6 0.000, f1_7 0.000, mAP 0.041, pr-auc 0.063, segmental_f1 0.093\n",
      "\n",
      "\n",
      "AGGREGATED:\n",
      "f1_0 0.158, f1_1 0.183, f1_2 0.064, f1_3 0.190, f1_4 0.113, f1_5 0.115, f1_6 0.000, f1_7 0.000, mAP 0.041, pr-auc 0.063, segmental_f1 0.093\n",
      "Inference time: 0:00:05\n",
      "\n",
      "\n",
      "EVALUATION transformer_best\n",
      "episode transformer_best::0\n",
      "Number of samples:\n",
      "    validation:\n",
      "      {0: 11136, 1: 5612, 2: 1340, 3: 1864, 4: 500, 5: 2808, 6: 0, 7: 0}\n",
      "    training:\n",
      "      {0: 29944, 1: 17585, 2: 88468, 3: 11668, 4: 24100, 5: 46886, 6: 92, 7: 61664}\n",
      "    test:\n",
      "      {0: 0, 1: 0, 2: 0, 3: 0, 4: 0, 5: 0, 6: 0, 7: 0}\n",
      "Setting loaded normalization statistics...\n",
      "Initializing class weights:\n",
      "     0: 0.019, 0.016, 0.023, 0.016, 0.017, 0.02, 0.018, 0.021 1: 0.22, 0.375, 0.075, 0.565, 0.274, 0.141, 71.652, 0.107\n",
      "Behavior indices:\n",
      "    0: anogenital\n",
      "    1: approach\n",
      "    2: attack\n",
      "    3: avoidance\n",
      "    4: boxing\n",
      "    5: lateralthreat\n",
      "    6: pursuit\n",
      "    7: submission\n"
     ]
    },
    {
     "name": "stderr",
     "output_type": "stream",
     "text": [
      "100%|██████████| 31/31 [00:07<00:00,  4.25it/s]\n"
     ]
    },
    {
     "name": "stdout",
     "output_type": "stream",
     "text": [
      "f1_0 0.252, f1_1 0.131, f1_2 0.035, f1_3 0.101, f1_4 0.030, f1_5 0.040, f1_6 0.000, f1_7 0.000, mAP 0.018, pr-auc 0.041, segmental_f1 0.038\n",
      "\n",
      "\n",
      "AGGREGATED:\n",
      "f1_0 0.252, f1_1 0.131, f1_2 0.035, f1_3 0.101, f1_4 0.030, f1_5 0.040, f1_6 0.000, f1_7 0.000, mAP 0.018, pr-auc 0.041, segmental_f1 0.038\n",
      "Inference time: 0:00:07\n",
      "\n",
      "\n"
     ]
    }
   ],
   "source": [
    "for episode in best_episodes:\n",
    "    project.evaluate(\n",
    "        [episode],\n",
    "        parameters_update={\n",
    "            \"general\": {\"metric_functions\": [\"segmental_f1\", \"mAP\", \"pr-auc\", \"f1\"]},\n",
    "            \"metrics\": {\n",
    "                \"f1\": {\"average\": \"none\"}\n",
    "            }\n",
    "        }\n",
    "    )"
   ]
  },
  {
   "cell_type": "markdown",
   "metadata": {},
   "source": [
    "## Using trained models"
   ]
  },
  {
   "cell_type": "markdown",
   "metadata": {},
   "source": [
    "When you find that you are happy with the results, you can use the model to generate predictions for new data. \n",
    "\n",
    "Predictions here are probabilities of each behavior being seen in each frame while suggestions are suggested intervals generated from those probabilities."
   ]
  },
  {
   "cell_type": "markdown",
   "metadata": {},
   "source": [
    "Let's generate a prediction with one of our models and look at one of the resulting files. Note that you can use multiple models and average over their predictions."
   ]
  },
  {
   "cell_type": "code",
   "execution_count": 11,
   "metadata": {},
   "outputs": [
    {
     "name": "stdout",
     "output_type": "stream",
     "text": [
      "PREDICTION c2f_tcn_best_prediction\n",
      "episode c2f_tcn_best_lr1e-5::0\n",
      "Number of samples:\n",
      "    validation:\n",
      "      {0: 0, 1: 0, 2: 0, 3: 0, 4: 0, 5: 0, 6: 0, 7: 0}\n",
      "    training:\n",
      "      {0: 38407, 1: 21980, 2: 88733, 3: 12807, 4: 24094, 5: 47636, 6: 92, 7: 61104}\n",
      "    test:\n",
      "      {0: 0, 1: 0, 2: 0, 3: 0, 4: 0, 5: 0, 6: 0, 7: 0}\n",
      "Setting loaded normalization statistics...\n",
      "Initializing class weights:\n",
      "     0: 0.001, 0.001, 0.001, 0.001, 0.001, 0.001, 0.001, 0.001 1: 0.014, 0.025, 0.006, 0.042, 0.022, 0.011, 5.859, 0.009\n",
      "Behavior indices:\n",
      "    0: anogenital\n",
      "    1: approach\n",
      "    2: attack\n",
      "    3: avoidance\n",
      "    4: boxing\n",
      "    5: lateralthreat\n",
      "    6: pursuit\n",
      "    7: submission\n"
     ]
    },
    {
     "name": "stderr",
     "output_type": "stream",
     "text": [
      "100%|██████████| 9/9 [00:10<00:00,  1.18s/it]"
     ]
    },
    {
     "name": "stdout",
     "output_type": "stream",
     "text": [
      "\n",
      "\n",
      "\n",
      "\n"
     ]
    },
    {
     "name": "stderr",
     "output_type": "stream",
     "text": [
      "\n"
     ]
    }
   ],
   "source": [
    "project.run_prediction(\n",
    "    f\"{MODEL_NAME1}_best_prediction\",\n",
    "    episode_names=[f\"{MODEL_NAME1}_best\"],\n",
    "    force=True\n",
    ")"
   ]
  },
  {
   "cell_type": "code",
   "execution_count": 14,
   "metadata": {},
   "outputs": [
    {
     "name": "stdout",
     "output_type": "stream",
     "text": [
      "1+2: torch.Size([8, 18611])\n",
      "The mean probability of attack between frames 50 and 70 is 0.7315972447395325\n"
     ]
    }
   ],
   "source": [
    "import pickle\n",
    "import os\n",
    "\n",
    "\n",
    "# picking a random file from the prediction folder\n",
    "prediction_folder = project.prediction_path(f\"{MODEL_NAME1}_best_prediction\")\n",
    "prediction_file = os.listdir(prediction_folder)[0]\n",
    "prediction_file = os.path.join(prediction_folder, prediction_file)\n",
    "\n",
    "with open(prediction_file, \"rb\") as f: # open the file\n",
    "    prediction = pickle.load(f)\n",
    "\n",
    "for key, value in prediction.items(): # explore the contents\n",
    "    if key not in [\"max_frames\", \"min_frames\", \"video_tag\", \"behaviors\"]:\n",
    "        print(f'{key}: {value.shape}')\n",
    "    \n",
    "behaviors_order = prediction[\"behaviors\"]\n",
    "\n",
    "start = 50\n",
    "end = 70\n",
    "action = \"attack\"\n",
    "\n",
    "index = behaviors_order.index(action)\n",
    "\n",
    "print(f'The mean probability of {action} between frames {start} and {end} is {prediction[\"1+2\"][index, start: end].mean()}')"
   ]
  },
  {
   "cell_type": "markdown",
   "metadata": {},
   "source": [
    "We will now remove unnecessary data to clean the memory."
   ]
  },
  {
   "cell_type": "code",
   "execution_count": 15,
   "metadata": {},
   "outputs": [
    {
     "name": "stdout",
     "output_type": "stream",
     "text": [
      "Removing datasets...\n"
     ]
    },
    {
     "name": "stderr",
     "output_type": "stream",
     "text": [
      "100%|██████████| 7/7 [00:01<00:00,  4.47it/s]"
     ]
    },
    {
     "name": "stdout",
     "output_type": "stream",
     "text": [
      "\n",
      "\n"
     ]
    },
    {
     "name": "stderr",
     "output_type": "stream",
     "text": [
      "\n"
     ]
    }
   ],
   "source": [
    "project.remove_saved_features()\n",
    "project.remove_extra_checkpoints()"
   ]
  }
 ],
 "metadata": {
  "kernelspec": {
   "display_name": "Python 3.9.13 ('DLC2Action')",
   "language": "python",
   "name": "python3"
  },
  "language_info": {
   "codemirror_mode": {
    "name": "ipython",
    "version": 3
   },
   "file_extension": ".py",
   "mimetype": "text/x-python",
   "name": "python",
   "nbconvert_exporter": "python",
   "pygments_lexer": "ipython3",
   "version": "3.9.13"
  },
  "orig_nbformat": 4,
  "vscode": {
   "interpreter": {
    "hash": "3f5f7675fb80040f0ca1448b5f0ffd03eab1e03daeb908de054f4ee2164beb96"
   }
  }
 },
 "nbformat": 4,
 "nbformat_minor": 2
}
